{
  "nbformat": 4,
  "nbformat_minor": 0,
  "metadata": {
    "colab": {
      "provenance": [],
      "mount_file_id": "1-FIeoo7PnLUeBTgNczYgHNejvAFUddNg",
      "authorship_tag": "ABX9TyOVA+AV+NWYf78qb4R0Enu+",
      "include_colab_link": true
    },
    "kernelspec": {
      "name": "python3",
      "display_name": "Python 3"
    },
    "language_info": {
      "name": "python"
    }
  },
  "cells": [
    {
      "cell_type": "markdown",
      "metadata": {
        "id": "view-in-github",
        "colab_type": "text"
      },
      "source": [
        "<a href=\"https://colab.research.google.com/github/Satyam8484singh/music-genre-classification/blob/main/Untitled0.ipynb\" target=\"_parent\"><img src=\"https://colab.research.google.com/assets/colab-badge.svg\" alt=\"Open In Colab\"/></a>"
      ]
    },
    {
      "cell_type": "code",
      "execution_count": 73,
      "metadata": {
        "id": "x0bIDoSFucjR"
      },
      "outputs": [],
      "source": [
        "import numpy as np\n",
        "import pandas as pd\n",
        "import matplotlib.pyplot as plt\n",
        "import seaborn as sns\n",
        "import librosa.display\n",
        "import matplotlib as mpl"
      ]
    },
    {
      "cell_type": "code",
      "source": [
        "music_data = pd.read_csv('/content/music30s_trainin.csv')\n",
        "music_data\n",
        "# Remove column name 'A'\n",
        "music_data=music_data.drop(['Unnamed: 0'], axis=1)\n",
        "music_data"
      ],
      "metadata": {
        "colab": {
          "base_uri": "https://localhost:8080/",
          "height": 487
        },
        "id": "jTyMKMNTunsb",
        "outputId": "3490bfdb-aa41-4959-8c3d-16029cfe7910"
      },
      "execution_count": 74,
      "outputs": [
        {
          "output_type": "execute_result",
          "data": {
            "text/plain": [
              "     length  chroma_stft_mean  chroma_stft_var  rms_mean   rms_var  \\\n",
              "0    661504          0.432846         0.086019  0.142929  0.004758   \n",
              "1    661504          0.398761         0.090296  0.092221  0.001716   \n",
              "2    661794          0.375874         0.081557  0.099977  0.001147   \n",
              "3    661794          0.424385         0.085162  0.175975  0.003569   \n",
              "4    661794          0.456134         0.075901  0.097609  0.000364   \n",
              "..      ...               ...              ...       ...       ...   \n",
              "895  661504          0.469879         0.086839  0.144261  0.008266   \n",
              "896  661794          0.290960         0.091076  0.089215  0.003113   \n",
              "897  661504          0.454745         0.086461  0.223571  0.013054   \n",
              "898  661794          0.437934         0.094721  0.252890  0.013661   \n",
              "899  661794          0.487560         0.076298  0.207197  0.001459   \n",
              "\n",
              "     spectral_centroid_mean  spectral_centroid_var  spectral_bandwidth_mean  \\\n",
              "0               3089.637185           1.311379e+06              2973.703815   \n",
              "1               2170.544505           2.470449e+05              2054.465986   \n",
              "2               2321.871533           5.433791e+05              2545.325000   \n",
              "3               1886.954809           2.533910e+05              1913.258610   \n",
              "4               2269.128009           1.357942e+05              1928.953538   \n",
              "..                      ...                    ...                      ...   \n",
              "895             2868.233682           1.353624e+06              2676.125867   \n",
              "896             1109.352784           1.386997e+05              1463.217702   \n",
              "897             3123.151410           9.471130e+05              2970.246872   \n",
              "898             1821.519761           7.452975e+05              2522.060569   \n",
              "899             2718.609163           2.446342e+05              2271.378022   \n",
              "\n",
              "     spectral_bandwidth_var  rolloff_mean  ...  mfcc16_mean  mfcc16_var  \\\n",
              "0             271609.298651   6574.771380  ...    -4.922164  106.523758   \n",
              "1             111598.068567   4306.240937  ...     5.730653   62.366760   \n",
              "2             155899.829366   4580.418732  ...    -0.442143   51.811581   \n",
              "3             123441.419116   3828.288761  ...     0.975607   48.149387   \n",
              "4              88450.196573   4186.459372  ...     6.971109   40.836742   \n",
              "..                      ...           ...  ...          ...         ...   \n",
              "895           225551.708478   5796.886499  ...     1.998499   69.473038   \n",
              "896            37692.267055   2243.341758  ...    -0.187531  100.648956   \n",
              "897           221789.180783   6616.305648  ...    -1.443429   46.262592   \n",
              "898           309565.051070   4003.377184  ...    -0.989756   49.640724   \n",
              "899            97663.171031   5228.721360  ...     5.835316   33.647015   \n",
              "\n",
              "     mfcc17_mean  mfcc17_var  mfcc18_mean  mfcc18_var  mfcc19_mean  \\\n",
              "0      -5.005428   74.781494     1.383756   75.593880    -2.103029   \n",
              "1      -7.947048   57.781807     5.203198   71.078148    -1.486348   \n",
              "2      -3.584000   51.066288    -5.018315   47.032211    -2.522085   \n",
              "3      -6.554968   35.716187    -0.689079   46.263088    -2.127222   \n",
              "4     -12.668804   40.830875    -0.556885   31.079792   -11.754225   \n",
              "..           ...         ...          ...         ...          ...   \n",
              "895    -5.572653   90.371826     7.771932  123.477547    -1.518996   \n",
              "896    -2.823469   87.407570    -2.675381   77.598251     0.740614   \n",
              "897    -1.865332   50.931961    -0.019046   65.033195    -0.727255   \n",
              "898    -5.466094   51.848621    -1.297010   42.504318    -4.247594   \n",
              "899    -6.626670   38.411060     2.295352   33.630104    -7.489574   \n",
              "\n",
              "     mfcc19_var  mfcc20_mean  mfcc20_var  \n",
              "0     82.962410    -2.102471   56.383205  \n",
              "1     55.774078     0.463148   60.979748  \n",
              "2     35.879490    -4.752133   33.392231  \n",
              "3     47.571030    -1.508367   50.199821  \n",
              "4     37.405830    -1.540814   30.325340  \n",
              "..          ...          ...         ...  \n",
              "895   96.361115     5.007198   67.499344  \n",
              "896   76.061050    -0.530982   67.630028  \n",
              "897   73.956261    -0.986098   66.340393  \n",
              "898   39.925827    -5.021968   58.707275  \n",
              "899   29.581089     5.770881   31.850498  \n",
              "\n",
              "[900 rows x 58 columns]"
            ],
            "text/html": [
              "\n",
              "  <div id=\"df-21630c04-c014-40fd-b631-697c1625d27d\">\n",
              "    <div class=\"colab-df-container\">\n",
              "      <div>\n",
              "<style scoped>\n",
              "    .dataframe tbody tr th:only-of-type {\n",
              "        vertical-align: middle;\n",
              "    }\n",
              "\n",
              "    .dataframe tbody tr th {\n",
              "        vertical-align: top;\n",
              "    }\n",
              "\n",
              "    .dataframe thead th {\n",
              "        text-align: right;\n",
              "    }\n",
              "</style>\n",
              "<table border=\"1\" class=\"dataframe\">\n",
              "  <thead>\n",
              "    <tr style=\"text-align: right;\">\n",
              "      <th></th>\n",
              "      <th>length</th>\n",
              "      <th>chroma_stft_mean</th>\n",
              "      <th>chroma_stft_var</th>\n",
              "      <th>rms_mean</th>\n",
              "      <th>rms_var</th>\n",
              "      <th>spectral_centroid_mean</th>\n",
              "      <th>spectral_centroid_var</th>\n",
              "      <th>spectral_bandwidth_mean</th>\n",
              "      <th>spectral_bandwidth_var</th>\n",
              "      <th>rolloff_mean</th>\n",
              "      <th>...</th>\n",
              "      <th>mfcc16_mean</th>\n",
              "      <th>mfcc16_var</th>\n",
              "      <th>mfcc17_mean</th>\n",
              "      <th>mfcc17_var</th>\n",
              "      <th>mfcc18_mean</th>\n",
              "      <th>mfcc18_var</th>\n",
              "      <th>mfcc19_mean</th>\n",
              "      <th>mfcc19_var</th>\n",
              "      <th>mfcc20_mean</th>\n",
              "      <th>mfcc20_var</th>\n",
              "    </tr>\n",
              "  </thead>\n",
              "  <tbody>\n",
              "    <tr>\n",
              "      <th>0</th>\n",
              "      <td>661504</td>\n",
              "      <td>0.432846</td>\n",
              "      <td>0.086019</td>\n",
              "      <td>0.142929</td>\n",
              "      <td>0.004758</td>\n",
              "      <td>3089.637185</td>\n",
              "      <td>1.311379e+06</td>\n",
              "      <td>2973.703815</td>\n",
              "      <td>271609.298651</td>\n",
              "      <td>6574.771380</td>\n",
              "      <td>...</td>\n",
              "      <td>-4.922164</td>\n",
              "      <td>106.523758</td>\n",
              "      <td>-5.005428</td>\n",
              "      <td>74.781494</td>\n",
              "      <td>1.383756</td>\n",
              "      <td>75.593880</td>\n",
              "      <td>-2.103029</td>\n",
              "      <td>82.962410</td>\n",
              "      <td>-2.102471</td>\n",
              "      <td>56.383205</td>\n",
              "    </tr>\n",
              "    <tr>\n",
              "      <th>1</th>\n",
              "      <td>661504</td>\n",
              "      <td>0.398761</td>\n",
              "      <td>0.090296</td>\n",
              "      <td>0.092221</td>\n",
              "      <td>0.001716</td>\n",
              "      <td>2170.544505</td>\n",
              "      <td>2.470449e+05</td>\n",
              "      <td>2054.465986</td>\n",
              "      <td>111598.068567</td>\n",
              "      <td>4306.240937</td>\n",
              "      <td>...</td>\n",
              "      <td>5.730653</td>\n",
              "      <td>62.366760</td>\n",
              "      <td>-7.947048</td>\n",
              "      <td>57.781807</td>\n",
              "      <td>5.203198</td>\n",
              "      <td>71.078148</td>\n",
              "      <td>-1.486348</td>\n",
              "      <td>55.774078</td>\n",
              "      <td>0.463148</td>\n",
              "      <td>60.979748</td>\n",
              "    </tr>\n",
              "    <tr>\n",
              "      <th>2</th>\n",
              "      <td>661794</td>\n",
              "      <td>0.375874</td>\n",
              "      <td>0.081557</td>\n",
              "      <td>0.099977</td>\n",
              "      <td>0.001147</td>\n",
              "      <td>2321.871533</td>\n",
              "      <td>5.433791e+05</td>\n",
              "      <td>2545.325000</td>\n",
              "      <td>155899.829366</td>\n",
              "      <td>4580.418732</td>\n",
              "      <td>...</td>\n",
              "      <td>-0.442143</td>\n",
              "      <td>51.811581</td>\n",
              "      <td>-3.584000</td>\n",
              "      <td>51.066288</td>\n",
              "      <td>-5.018315</td>\n",
              "      <td>47.032211</td>\n",
              "      <td>-2.522085</td>\n",
              "      <td>35.879490</td>\n",
              "      <td>-4.752133</td>\n",
              "      <td>33.392231</td>\n",
              "    </tr>\n",
              "    <tr>\n",
              "      <th>3</th>\n",
              "      <td>661794</td>\n",
              "      <td>0.424385</td>\n",
              "      <td>0.085162</td>\n",
              "      <td>0.175975</td>\n",
              "      <td>0.003569</td>\n",
              "      <td>1886.954809</td>\n",
              "      <td>2.533910e+05</td>\n",
              "      <td>1913.258610</td>\n",
              "      <td>123441.419116</td>\n",
              "      <td>3828.288761</td>\n",
              "      <td>...</td>\n",
              "      <td>0.975607</td>\n",
              "      <td>48.149387</td>\n",
              "      <td>-6.554968</td>\n",
              "      <td>35.716187</td>\n",
              "      <td>-0.689079</td>\n",
              "      <td>46.263088</td>\n",
              "      <td>-2.127222</td>\n",
              "      <td>47.571030</td>\n",
              "      <td>-1.508367</td>\n",
              "      <td>50.199821</td>\n",
              "    </tr>\n",
              "    <tr>\n",
              "      <th>4</th>\n",
              "      <td>661794</td>\n",
              "      <td>0.456134</td>\n",
              "      <td>0.075901</td>\n",
              "      <td>0.097609</td>\n",
              "      <td>0.000364</td>\n",
              "      <td>2269.128009</td>\n",
              "      <td>1.357942e+05</td>\n",
              "      <td>1928.953538</td>\n",
              "      <td>88450.196573</td>\n",
              "      <td>4186.459372</td>\n",
              "      <td>...</td>\n",
              "      <td>6.971109</td>\n",
              "      <td>40.836742</td>\n",
              "      <td>-12.668804</td>\n",
              "      <td>40.830875</td>\n",
              "      <td>-0.556885</td>\n",
              "      <td>31.079792</td>\n",
              "      <td>-11.754225</td>\n",
              "      <td>37.405830</td>\n",
              "      <td>-1.540814</td>\n",
              "      <td>30.325340</td>\n",
              "    </tr>\n",
              "    <tr>\n",
              "      <th>...</th>\n",
              "      <td>...</td>\n",
              "      <td>...</td>\n",
              "      <td>...</td>\n",
              "      <td>...</td>\n",
              "      <td>...</td>\n",
              "      <td>...</td>\n",
              "      <td>...</td>\n",
              "      <td>...</td>\n",
              "      <td>...</td>\n",
              "      <td>...</td>\n",
              "      <td>...</td>\n",
              "      <td>...</td>\n",
              "      <td>...</td>\n",
              "      <td>...</td>\n",
              "      <td>...</td>\n",
              "      <td>...</td>\n",
              "      <td>...</td>\n",
              "      <td>...</td>\n",
              "      <td>...</td>\n",
              "      <td>...</td>\n",
              "      <td>...</td>\n",
              "    </tr>\n",
              "    <tr>\n",
              "      <th>895</th>\n",
              "      <td>661504</td>\n",
              "      <td>0.469879</td>\n",
              "      <td>0.086839</td>\n",
              "      <td>0.144261</td>\n",
              "      <td>0.008266</td>\n",
              "      <td>2868.233682</td>\n",
              "      <td>1.353624e+06</td>\n",
              "      <td>2676.125867</td>\n",
              "      <td>225551.708478</td>\n",
              "      <td>5796.886499</td>\n",
              "      <td>...</td>\n",
              "      <td>1.998499</td>\n",
              "      <td>69.473038</td>\n",
              "      <td>-5.572653</td>\n",
              "      <td>90.371826</td>\n",
              "      <td>7.771932</td>\n",
              "      <td>123.477547</td>\n",
              "      <td>-1.518996</td>\n",
              "      <td>96.361115</td>\n",
              "      <td>5.007198</td>\n",
              "      <td>67.499344</td>\n",
              "    </tr>\n",
              "    <tr>\n",
              "      <th>896</th>\n",
              "      <td>661794</td>\n",
              "      <td>0.290960</td>\n",
              "      <td>0.091076</td>\n",
              "      <td>0.089215</td>\n",
              "      <td>0.003113</td>\n",
              "      <td>1109.352784</td>\n",
              "      <td>1.386997e+05</td>\n",
              "      <td>1463.217702</td>\n",
              "      <td>37692.267055</td>\n",
              "      <td>2243.341758</td>\n",
              "      <td>...</td>\n",
              "      <td>-0.187531</td>\n",
              "      <td>100.648956</td>\n",
              "      <td>-2.823469</td>\n",
              "      <td>87.407570</td>\n",
              "      <td>-2.675381</td>\n",
              "      <td>77.598251</td>\n",
              "      <td>0.740614</td>\n",
              "      <td>76.061050</td>\n",
              "      <td>-0.530982</td>\n",
              "      <td>67.630028</td>\n",
              "    </tr>\n",
              "    <tr>\n",
              "      <th>897</th>\n",
              "      <td>661504</td>\n",
              "      <td>0.454745</td>\n",
              "      <td>0.086461</td>\n",
              "      <td>0.223571</td>\n",
              "      <td>0.013054</td>\n",
              "      <td>3123.151410</td>\n",
              "      <td>9.471130e+05</td>\n",
              "      <td>2970.246872</td>\n",
              "      <td>221789.180783</td>\n",
              "      <td>6616.305648</td>\n",
              "      <td>...</td>\n",
              "      <td>-1.443429</td>\n",
              "      <td>46.262592</td>\n",
              "      <td>-1.865332</td>\n",
              "      <td>50.931961</td>\n",
              "      <td>-0.019046</td>\n",
              "      <td>65.033195</td>\n",
              "      <td>-0.727255</td>\n",
              "      <td>73.956261</td>\n",
              "      <td>-0.986098</td>\n",
              "      <td>66.340393</td>\n",
              "    </tr>\n",
              "    <tr>\n",
              "      <th>898</th>\n",
              "      <td>661794</td>\n",
              "      <td>0.437934</td>\n",
              "      <td>0.094721</td>\n",
              "      <td>0.252890</td>\n",
              "      <td>0.013661</td>\n",
              "      <td>1821.519761</td>\n",
              "      <td>7.452975e+05</td>\n",
              "      <td>2522.060569</td>\n",
              "      <td>309565.051070</td>\n",
              "      <td>4003.377184</td>\n",
              "      <td>...</td>\n",
              "      <td>-0.989756</td>\n",
              "      <td>49.640724</td>\n",
              "      <td>-5.466094</td>\n",
              "      <td>51.848621</td>\n",
              "      <td>-1.297010</td>\n",
              "      <td>42.504318</td>\n",
              "      <td>-4.247594</td>\n",
              "      <td>39.925827</td>\n",
              "      <td>-5.021968</td>\n",
              "      <td>58.707275</td>\n",
              "    </tr>\n",
              "    <tr>\n",
              "      <th>899</th>\n",
              "      <td>661794</td>\n",
              "      <td>0.487560</td>\n",
              "      <td>0.076298</td>\n",
              "      <td>0.207197</td>\n",
              "      <td>0.001459</td>\n",
              "      <td>2718.609163</td>\n",
              "      <td>2.446342e+05</td>\n",
              "      <td>2271.378022</td>\n",
              "      <td>97663.171031</td>\n",
              "      <td>5228.721360</td>\n",
              "      <td>...</td>\n",
              "      <td>5.835316</td>\n",
              "      <td>33.647015</td>\n",
              "      <td>-6.626670</td>\n",
              "      <td>38.411060</td>\n",
              "      <td>2.295352</td>\n",
              "      <td>33.630104</td>\n",
              "      <td>-7.489574</td>\n",
              "      <td>29.581089</td>\n",
              "      <td>5.770881</td>\n",
              "      <td>31.850498</td>\n",
              "    </tr>\n",
              "  </tbody>\n",
              "</table>\n",
              "<p>900 rows × 58 columns</p>\n",
              "</div>\n",
              "      <button class=\"colab-df-convert\" onclick=\"convertToInteractive('df-21630c04-c014-40fd-b631-697c1625d27d')\"\n",
              "              title=\"Convert this dataframe to an interactive table.\"\n",
              "              style=\"display:none;\">\n",
              "        \n",
              "  <svg xmlns=\"http://www.w3.org/2000/svg\" height=\"24px\"viewBox=\"0 0 24 24\"\n",
              "       width=\"24px\">\n",
              "    <path d=\"M0 0h24v24H0V0z\" fill=\"none\"/>\n",
              "    <path d=\"M18.56 5.44l.94 2.06.94-2.06 2.06-.94-2.06-.94-.94-2.06-.94 2.06-2.06.94zm-11 1L8.5 8.5l.94-2.06 2.06-.94-2.06-.94L8.5 2.5l-.94 2.06-2.06.94zm10 10l.94 2.06.94-2.06 2.06-.94-2.06-.94-.94-2.06-.94 2.06-2.06.94z\"/><path d=\"M17.41 7.96l-1.37-1.37c-.4-.4-.92-.59-1.43-.59-.52 0-1.04.2-1.43.59L10.3 9.45l-7.72 7.72c-.78.78-.78 2.05 0 2.83L4 21.41c.39.39.9.59 1.41.59.51 0 1.02-.2 1.41-.59l7.78-7.78 2.81-2.81c.8-.78.8-2.07 0-2.86zM5.41 20L4 18.59l7.72-7.72 1.47 1.35L5.41 20z\"/>\n",
              "  </svg>\n",
              "      </button>\n",
              "      \n",
              "  <style>\n",
              "    .colab-df-container {\n",
              "      display:flex;\n",
              "      flex-wrap:wrap;\n",
              "      gap: 12px;\n",
              "    }\n",
              "\n",
              "    .colab-df-convert {\n",
              "      background-color: #E8F0FE;\n",
              "      border: none;\n",
              "      border-radius: 50%;\n",
              "      cursor: pointer;\n",
              "      display: none;\n",
              "      fill: #1967D2;\n",
              "      height: 32px;\n",
              "      padding: 0 0 0 0;\n",
              "      width: 32px;\n",
              "    }\n",
              "\n",
              "    .colab-df-convert:hover {\n",
              "      background-color: #E2EBFA;\n",
              "      box-shadow: 0px 1px 2px rgba(60, 64, 67, 0.3), 0px 1px 3px 1px rgba(60, 64, 67, 0.15);\n",
              "      fill: #174EA6;\n",
              "    }\n",
              "\n",
              "    [theme=dark] .colab-df-convert {\n",
              "      background-color: #3B4455;\n",
              "      fill: #D2E3FC;\n",
              "    }\n",
              "\n",
              "    [theme=dark] .colab-df-convert:hover {\n",
              "      background-color: #434B5C;\n",
              "      box-shadow: 0px 1px 3px 1px rgba(0, 0, 0, 0.15);\n",
              "      filter: drop-shadow(0px 1px 2px rgba(0, 0, 0, 0.3));\n",
              "      fill: #FFFFFF;\n",
              "    }\n",
              "  </style>\n",
              "\n",
              "      <script>\n",
              "        const buttonEl =\n",
              "          document.querySelector('#df-21630c04-c014-40fd-b631-697c1625d27d button.colab-df-convert');\n",
              "        buttonEl.style.display =\n",
              "          google.colab.kernel.accessAllowed ? 'block' : 'none';\n",
              "\n",
              "        async function convertToInteractive(key) {\n",
              "          const element = document.querySelector('#df-21630c04-c014-40fd-b631-697c1625d27d');\n",
              "          const dataTable =\n",
              "            await google.colab.kernel.invokeFunction('convertToInteractive',\n",
              "                                                     [key], {});\n",
              "          if (!dataTable) return;\n",
              "\n",
              "          const docLinkHtml = 'Like what you see? Visit the ' +\n",
              "            '<a target=\"_blank\" href=https://colab.research.google.com/notebooks/data_table.ipynb>data table notebook</a>'\n",
              "            + ' to learn more about interactive tables.';\n",
              "          element.innerHTML = '';\n",
              "          dataTable['output_type'] = 'display_data';\n",
              "          await google.colab.output.renderOutput(dataTable, element);\n",
              "          const docLink = document.createElement('div');\n",
              "          docLink.innerHTML = docLinkHtml;\n",
              "          element.appendChild(docLink);\n",
              "        }\n",
              "      </script>\n",
              "    </div>\n",
              "  </div>\n",
              "  "
            ]
          },
          "metadata": {},
          "execution_count": 74
        }
      ]
    },
    {
      "cell_type": "code",
      "source": [
        "music_labels = pd.read_csv(\"/content/music30s_trainlabel.csv\")\n",
        "# Remove column name 'A'\n",
        "music_labels=music_labels.drop(['Unnamed: 0'], axis=1)\n",
        "# music_labels"
      ],
      "metadata": {
        "id": "diWWivpRvscC"
      },
      "execution_count": 75,
      "outputs": []
    },
    {
      "cell_type": "code",
      "source": [
        "print(music_data.head(5))"
      ],
      "metadata": {
        "id": "LTYH1XMGLc6b",
        "colab": {
          "base_uri": "https://localhost:8080/"
        },
        "outputId": "ed20f359-a6d3-44be-d848-874a384d2df0"
      },
      "execution_count": 76,
      "outputs": [
        {
          "output_type": "stream",
          "name": "stdout",
          "text": [
            "   length  chroma_stft_mean  chroma_stft_var  rms_mean   rms_var  \\\n",
            "0  661504          0.432846         0.086019  0.142929  0.004758   \n",
            "1  661504          0.398761         0.090296  0.092221  0.001716   \n",
            "2  661794          0.375874         0.081557  0.099977  0.001147   \n",
            "3  661794          0.424385         0.085162  0.175975  0.003569   \n",
            "4  661794          0.456134         0.075901  0.097609  0.000364   \n",
            "\n",
            "   spectral_centroid_mean  spectral_centroid_var  spectral_bandwidth_mean  \\\n",
            "0             3089.637185           1.311379e+06              2973.703815   \n",
            "1             2170.544505           2.470449e+05              2054.465986   \n",
            "2             2321.871533           5.433791e+05              2545.325000   \n",
            "3             1886.954809           2.533910e+05              1913.258610   \n",
            "4             2269.128009           1.357942e+05              1928.953538   \n",
            "\n",
            "   spectral_bandwidth_var  rolloff_mean  ...  mfcc16_mean  mfcc16_var  \\\n",
            "0           271609.298651   6574.771380  ...    -4.922164  106.523758   \n",
            "1           111598.068567   4306.240937  ...     5.730653   62.366760   \n",
            "2           155899.829366   4580.418732  ...    -0.442143   51.811581   \n",
            "3           123441.419116   3828.288761  ...     0.975607   48.149387   \n",
            "4            88450.196573   4186.459372  ...     6.971109   40.836742   \n",
            "\n",
            "   mfcc17_mean  mfcc17_var  mfcc18_mean  mfcc18_var  mfcc19_mean  mfcc19_var  \\\n",
            "0    -5.005428   74.781494     1.383756   75.593880    -2.103029   82.962410   \n",
            "1    -7.947048   57.781807     5.203198   71.078148    -1.486348   55.774078   \n",
            "2    -3.584000   51.066288    -5.018315   47.032211    -2.522085   35.879490   \n",
            "3    -6.554968   35.716187    -0.689079   46.263088    -2.127222   47.571030   \n",
            "4   -12.668804   40.830875    -0.556885   31.079792   -11.754225   37.405830   \n",
            "\n",
            "   mfcc20_mean  mfcc20_var  \n",
            "0    -2.102471   56.383205  \n",
            "1     0.463148   60.979748  \n",
            "2    -4.752133   33.392231  \n",
            "3    -1.508367   50.199821  \n",
            "4    -1.540814   30.325340  \n",
            "\n",
            "[5 rows x 58 columns]\n"
          ]
        }
      ]
    },
    {
      "cell_type": "code",
      "source": [
        "music_data.isnull().sum()"
      ],
      "metadata": {
        "id": "qn13Q2KSw4Em",
        "colab": {
          "base_uri": "https://localhost:8080/"
        },
        "outputId": "1f06fdeb-02db-49bb-d3b8-7b6151b80e2f"
      },
      "execution_count": 77,
      "outputs": [
        {
          "output_type": "execute_result",
          "data": {
            "text/plain": [
              "length                     0\n",
              "chroma_stft_mean           0\n",
              "chroma_stft_var            0\n",
              "rms_mean                   0\n",
              "rms_var                    0\n",
              "spectral_centroid_mean     0\n",
              "spectral_centroid_var      0\n",
              "spectral_bandwidth_mean    0\n",
              "spectral_bandwidth_var     0\n",
              "rolloff_mean               0\n",
              "rolloff_var                0\n",
              "zero_crossing_rate_mean    0\n",
              "zero_crossing_rate_var     0\n",
              "harmony_mean               0\n",
              "harmony_var                0\n",
              "perceptr_mean              0\n",
              "perceptr_var               0\n",
              "tempo                      0\n",
              "mfcc1_mean                 0\n",
              "mfcc1_var                  0\n",
              "mfcc2_mean                 0\n",
              "mfcc2_var                  0\n",
              "mfcc3_mean                 0\n",
              "mfcc3_var                  0\n",
              "mfcc4_mean                 0\n",
              "mfcc4_var                  0\n",
              "mfcc5_mean                 0\n",
              "mfcc5_var                  0\n",
              "mfcc6_mean                 0\n",
              "mfcc6_var                  0\n",
              "mfcc7_mean                 0\n",
              "mfcc7_var                  0\n",
              "mfcc8_mean                 0\n",
              "mfcc8_var                  0\n",
              "mfcc9_mean                 0\n",
              "mfcc9_var                  0\n",
              "mfcc10_mean                0\n",
              "mfcc10_var                 0\n",
              "mfcc11_mean                0\n",
              "mfcc11_var                 0\n",
              "mfcc12_mean                0\n",
              "mfcc12_var                 0\n",
              "mfcc13_mean                0\n",
              "mfcc13_var                 0\n",
              "mfcc14_mean                0\n",
              "mfcc14_var                 0\n",
              "mfcc15_mean                0\n",
              "mfcc15_var                 0\n",
              "mfcc16_mean                0\n",
              "mfcc16_var                 0\n",
              "mfcc17_mean                0\n",
              "mfcc17_var                 0\n",
              "mfcc18_mean                0\n",
              "mfcc18_var                 0\n",
              "mfcc19_mean                0\n",
              "mfcc19_var                 0\n",
              "mfcc20_mean                0\n",
              "mfcc20_var                 0\n",
              "dtype: int64"
            ]
          },
          "metadata": {},
          "execution_count": 77
        }
      ]
    },
    {
      "cell_type": "code",
      "source": [
        "music_labels.shape\n"
      ],
      "metadata": {
        "colab": {
          "base_uri": "https://localhost:8080/"
        },
        "id": "LFeyWwF-2PkP",
        "outputId": "a5a3a2ae-c842-40eb-b53d-ccc84e27834e"
      },
      "execution_count": 78,
      "outputs": [
        {
          "output_type": "execute_result",
          "data": {
            "text/plain": [
              "(900, 1)"
            ]
          },
          "metadata": {},
          "execution_count": 78
        }
      ]
    },
    {
      "cell_type": "code",
      "source": [
        "music_data.shape"
      ],
      "metadata": {
        "colab": {
          "base_uri": "https://localhost:8080/"
        },
        "id": "r-6EbC5RxGXD",
        "outputId": "4fd4e3dc-9a51-4b25-ea02-17609bc01292"
      },
      "execution_count": 79,
      "outputs": [
        {
          "output_type": "execute_result",
          "data": {
            "text/plain": [
              "(900, 58)"
            ]
          },
          "metadata": {},
          "execution_count": 79
        }
      ]
    },
    {
      "cell_type": "code",
      "source": [
        "\n",
        "print(music_data.info())\n",
        "print(music_labels.info())\n",
        "print( )"
      ],
      "metadata": {
        "colab": {
          "base_uri": "https://localhost:8080/"
        },
        "id": "av_BDRo8RAE9",
        "outputId": "e0ebf749-dc73-4040-8035-225c63f7660c"
      },
      "execution_count": 80,
      "outputs": [
        {
          "output_type": "stream",
          "name": "stdout",
          "text": [
            "<class 'pandas.core.frame.DataFrame'>\n",
            "RangeIndex: 900 entries, 0 to 899\n",
            "Data columns (total 58 columns):\n",
            " #   Column                   Non-Null Count  Dtype  \n",
            "---  ------                   --------------  -----  \n",
            " 0   length                   900 non-null    int64  \n",
            " 1   chroma_stft_mean         900 non-null    float64\n",
            " 2   chroma_stft_var          900 non-null    float64\n",
            " 3   rms_mean                 900 non-null    float64\n",
            " 4   rms_var                  900 non-null    float64\n",
            " 5   spectral_centroid_mean   900 non-null    float64\n",
            " 6   spectral_centroid_var    900 non-null    float64\n",
            " 7   spectral_bandwidth_mean  900 non-null    float64\n",
            " 8   spectral_bandwidth_var   900 non-null    float64\n",
            " 9   rolloff_mean             900 non-null    float64\n",
            " 10  rolloff_var              900 non-null    float64\n",
            " 11  zero_crossing_rate_mean  900 non-null    float64\n",
            " 12  zero_crossing_rate_var   900 non-null    float64\n",
            " 13  harmony_mean             900 non-null    float64\n",
            " 14  harmony_var              900 non-null    float64\n",
            " 15  perceptr_mean            900 non-null    float64\n",
            " 16  perceptr_var             900 non-null    float64\n",
            " 17  tempo                    900 non-null    float64\n",
            " 18  mfcc1_mean               900 non-null    float64\n",
            " 19  mfcc1_var                900 non-null    float64\n",
            " 20  mfcc2_mean               900 non-null    float64\n",
            " 21  mfcc2_var                900 non-null    float64\n",
            " 22  mfcc3_mean               900 non-null    float64\n",
            " 23  mfcc3_var                900 non-null    float64\n",
            " 24  mfcc4_mean               900 non-null    float64\n",
            " 25  mfcc4_var                900 non-null    float64\n",
            " 26  mfcc5_mean               900 non-null    float64\n",
            " 27  mfcc5_var                900 non-null    float64\n",
            " 28  mfcc6_mean               900 non-null    float64\n",
            " 29  mfcc6_var                900 non-null    float64\n",
            " 30  mfcc7_mean               900 non-null    float64\n",
            " 31  mfcc7_var                900 non-null    float64\n",
            " 32  mfcc8_mean               900 non-null    float64\n",
            " 33  mfcc8_var                900 non-null    float64\n",
            " 34  mfcc9_mean               900 non-null    float64\n",
            " 35  mfcc9_var                900 non-null    float64\n",
            " 36  mfcc10_mean              900 non-null    float64\n",
            " 37  mfcc10_var               900 non-null    float64\n",
            " 38  mfcc11_mean              900 non-null    float64\n",
            " 39  mfcc11_var               900 non-null    float64\n",
            " 40  mfcc12_mean              900 non-null    float64\n",
            " 41  mfcc12_var               900 non-null    float64\n",
            " 42  mfcc13_mean              900 non-null    float64\n",
            " 43  mfcc13_var               900 non-null    float64\n",
            " 44  mfcc14_mean              900 non-null    float64\n",
            " 45  mfcc14_var               900 non-null    float64\n",
            " 46  mfcc15_mean              900 non-null    float64\n",
            " 47  mfcc15_var               900 non-null    float64\n",
            " 48  mfcc16_mean              900 non-null    float64\n",
            " 49  mfcc16_var               900 non-null    float64\n",
            " 50  mfcc17_mean              900 non-null    float64\n",
            " 51  mfcc17_var               900 non-null    float64\n",
            " 52  mfcc18_mean              900 non-null    float64\n",
            " 53  mfcc18_var               900 non-null    float64\n",
            " 54  mfcc19_mean              900 non-null    float64\n",
            " 55  mfcc19_var               900 non-null    float64\n",
            " 56  mfcc20_mean              900 non-null    float64\n",
            " 57  mfcc20_var               900 non-null    float64\n",
            "dtypes: float64(57), int64(1)\n",
            "memory usage: 407.9 KB\n",
            "None\n",
            "<class 'pandas.core.frame.DataFrame'>\n",
            "RangeIndex: 900 entries, 0 to 899\n",
            "Data columns (total 1 columns):\n",
            " #   Column  Non-Null Count  Dtype \n",
            "---  ------  --------------  ----- \n",
            " 0   label   900 non-null    object\n",
            "dtypes: object(1)\n",
            "memory usage: 7.2+ KB\n",
            "None\n",
            "\n"
          ]
        }
      ]
    },
    {
      "cell_type": "code",
      "source": [
        "print(music_data.nunique())\n",
        "print(music_labels.nunique())\n"
      ],
      "metadata": {
        "colab": {
          "base_uri": "https://localhost:8080/"
        },
        "id": "Sf1sYUSMRTme",
        "outputId": "fd8b6faf-f291-4734-a753-b55123d8c639"
      },
      "execution_count": 81,
      "outputs": [
        {
          "output_type": "stream",
          "name": "stdout",
          "text": [
            "length                      34\n",
            "chroma_stft_mean           887\n",
            "chroma_stft_var            887\n",
            "rms_mean                   887\n",
            "rms_var                    887\n",
            "spectral_centroid_mean     887\n",
            "spectral_centroid_var      887\n",
            "spectral_bandwidth_mean    887\n",
            "spectral_bandwidth_var     887\n",
            "rolloff_mean               887\n",
            "rolloff_var                887\n",
            "zero_crossing_rate_mean    885\n",
            "zero_crossing_rate_var     887\n",
            "harmony_mean               887\n",
            "harmony_var                887\n",
            "perceptr_mean              887\n",
            "perceptr_var               887\n",
            "tempo                       35\n",
            "mfcc1_mean                 887\n",
            "mfcc1_var                  887\n",
            "mfcc2_mean                 887\n",
            "mfcc2_var                  887\n",
            "mfcc3_mean                 887\n",
            "mfcc3_var                  887\n",
            "mfcc4_mean                 887\n",
            "mfcc4_var                  887\n",
            "mfcc5_mean                 887\n",
            "mfcc5_var                  887\n",
            "mfcc6_mean                 887\n",
            "mfcc6_var                  887\n",
            "mfcc7_mean                 887\n",
            "mfcc7_var                  887\n",
            "mfcc8_mean                 887\n",
            "mfcc8_var                  887\n",
            "mfcc9_mean                 887\n",
            "mfcc9_var                  887\n",
            "mfcc10_mean                887\n",
            "mfcc10_var                 887\n",
            "mfcc11_mean                887\n",
            "mfcc11_var                 887\n",
            "mfcc12_mean                887\n",
            "mfcc12_var                 887\n",
            "mfcc13_mean                887\n",
            "mfcc13_var                 887\n",
            "mfcc14_mean                887\n",
            "mfcc14_var                 887\n",
            "mfcc15_mean                887\n",
            "mfcc15_var                 887\n",
            "mfcc16_mean                887\n",
            "mfcc16_var                 887\n",
            "mfcc17_mean                887\n",
            "mfcc17_var                 887\n",
            "mfcc18_mean                887\n",
            "mfcc18_var                 887\n",
            "mfcc19_mean                887\n",
            "mfcc19_var                 887\n",
            "mfcc20_mean                887\n",
            "mfcc20_var                 887\n",
            "dtype: int64\n",
            "label    10\n",
            "dtype: int64\n"
          ]
        }
      ]
    },
    {
      "cell_type": "code",
      "source": [
        "music_data.describe().transpose()"
      ],
      "metadata": {
        "colab": {
          "base_uri": "https://localhost:8080/",
          "height": 1000
        },
        "id": "2ehH9-NzEgA1",
        "outputId": "a66f1329-366c-49ed-e825-eb895f4bccfa"
      },
      "execution_count": 82,
      "outputs": [
        {
          "output_type": "execute_result",
          "data": {
            "text/plain": [
              "                         count          mean           std           min  \\\n",
              "length                   900.0  6.620582e+05  1.857249e+03  6.600000e+05   \n",
              "chroma_stft_mean         900.0  3.800492e-01  8.224774e-02  1.719392e-01   \n",
              "chroma_stft_var          900.0  8.620211e-02  7.698534e-03  4.455525e-02   \n",
              "rms_mean                 900.0  1.313052e-01  6.568314e-02  6.629292e-03   \n",
              "rms_var                  900.0  3.022593e-03  3.609894e-03  4.294372e-06   \n",
              "spectral_centroid_mean   900.0  2.206388e+03  7.167180e+02  5.700404e+02   \n",
              "spectral_centroid_var    900.0  4.672791e+05  4.001082e+05  7.911251e+03   \n",
              "spectral_bandwidth_mean  900.0  2.245030e+03  5.259309e+02  8.980662e+02   \n",
              "spectral_bandwidth_var   900.0  1.363380e+05  9.597951e+04  1.078719e+04   \n",
              "rolloff_mean             900.0  4.581474e+03  1.575247e+03  7.491406e+02   \n",
              "rolloff_var              900.0  1.832092e+06  1.413402e+06  1.468612e+04   \n",
              "zero_crossing_rate_mean  900.0  1.039683e-01  4.212762e-02  2.169698e-02   \n",
              "zero_crossing_rate_var   900.0  2.976236e-03  3.020949e-03  4.408679e-05   \n",
              "harmony_mean             900.0 -3.735413e-04  1.758905e-03 -2.606458e-02   \n",
              "harmony_var              900.0  1.258831e-02  1.174042e-02  5.663914e-05   \n",
              "perceptr_mean            900.0 -3.985216e-04  1.080265e-03 -6.409733e-03   \n",
              "perceptr_var             900.0  5.640590e-03  6.427565e-03  8.299008e-07   \n",
              "tempo                    900.0  1.189220e+02  2.809928e+01  5.497839e+01   \n",
              "mfcc1_mean               900.0 -1.433405e+02  9.965632e+01 -5.521201e+02   \n",
              "mfcc1_var                900.0  3.725286e+03  2.809072e+03  1.745714e+02   \n",
              "mfcc2_mean               900.0  9.936410e+01  3.140463e+01 -1.461542e+00   \n",
              "mfcc2_var                900.0  7.015220e+02  4.340597e+02  9.310475e+01   \n",
              "mfcc3_mean               900.0 -8.880586e+00  2.166602e+01 -8.987019e+01   \n",
              "mfcc3_var                900.0  4.665274e+02  2.867663e+02  3.546775e+01   \n",
              "mfcc4_mean               900.0  3.638630e+01  1.660454e+01 -1.872755e+01   \n",
              "mfcc4_var                900.0  2.191525e+02  1.138184e+02  3.426315e+01   \n",
              "mfcc5_mean               900.0 -1.109198e+00  1.219396e+01 -3.889035e+01   \n",
              "mfcc5_var                900.0  1.743560e+02  1.013256e+02  2.991201e+01   \n",
              "mfcc6_mean               900.0  1.474550e+01  1.186674e+01 -2.841591e+01   \n",
              "mfcc6_var                900.0  1.267506e+02  6.695533e+01  2.369010e+01   \n",
              "mfcc7_mean               900.0 -5.100348e+00  9.974995e+00 -3.293043e+01   \n",
              "mfcc7_var                900.0  1.154587e+02  5.700415e+01  2.902733e+01   \n",
              "mfcc8_mean               900.0  1.031651e+01  1.047173e+01 -2.491582e+01   \n",
              "mfcc8_var                900.0  8.794326e+01  4.056309e+01  2.246423e+01   \n",
              "mfcc9_mean               900.0 -6.959616e+00  8.302225e+00 -3.164057e+01   \n",
              "mfcc9_var                900.0  8.889750e+01  4.012273e+01  2.582586e+01   \n",
              "mfcc10_mean              900.0  7.802261e+00  7.959966e+00 -1.205018e+01   \n",
              "mfcc10_var               900.0  8.187666e+01  3.702049e+01  1.927320e+01   \n",
              "mfcc11_mean              900.0 -6.025446e+00  6.739117e+00 -2.805750e+01   \n",
              "mfcc11_var               900.0  7.532306e+01  3.846334e+01  2.140276e+01   \n",
              "mfcc12_mean              900.0  4.579166e+00  6.743916e+00 -1.579645e+01   \n",
              "mfcc12_var               900.0  6.848344e+01  3.283983e+01  1.864252e+01   \n",
              "mfcc13_mean              900.0 -4.785261e+00  6.170879e+00 -2.752313e+01   \n",
              "mfcc13_var               900.0  6.758738e+01  3.307002e+01  2.120510e+01   \n",
              "mfcc14_mean              900.0  1.828000e+00  5.015706e+00 -1.259449e+01   \n",
              "mfcc14_var               900.0  6.509024e+01  3.539818e+01  1.425061e+01   \n",
              "mfcc15_mean              900.0 -3.889835e+00  4.867539e+00 -1.753913e+01   \n",
              "mfcc15_var               900.0  6.284964e+01  3.454182e+01  9.769691e+00   \n",
              "mfcc16_mean              900.0  1.214874e+00  4.510371e+00 -1.569384e+01   \n",
              "mfcc16_var               900.0  6.062906e+01  3.424326e+01  9.169314e+00   \n",
              "mfcc17_mean              900.0 -4.006116e+00  4.493173e+00 -1.723473e+01   \n",
              "mfcc17_var               900.0  6.252281e+01  3.379950e+01  1.500728e+01   \n",
              "mfcc18_mean              900.0  5.217771e-01  3.827148e+00 -1.196369e+01   \n",
              "mfcc18_var               900.0  6.379611e+01  3.452692e+01  1.656471e+01   \n",
              "mfcc19_mean              900.0 -2.325727e+00  3.728667e+00 -1.850196e+01   \n",
              "mfcc19_var               900.0  6.665429e+01  3.789385e+01  1.348762e+01   \n",
              "mfcc20_mean              900.0 -1.049838e+00  3.837944e+00 -1.992963e+01   \n",
              "mfcc20_var               900.0  7.027044e+01  4.589213e+01  7.956583e+00   \n",
              "\n",
              "                                   25%           50%           75%  \\\n",
              "length                   661504.000000  6.617940e+05  6.617940e+05   \n",
              "chroma_stft_mean              0.321153  3.858235e-01  4.377516e-01   \n",
              "chroma_stft_var               0.082263  8.653688e-02  9.119399e-02   \n",
              "rms_mean                      0.087418  1.207155e-01  1.757262e-01   \n",
              "rms_var                       0.000937  1.806273e-03  3.569671e-03   \n",
              "spectral_centroid_mean     1621.413022  2.224024e+03  2.702690e+03   \n",
              "spectral_centroid_var    187496.474079  3.381147e+05  6.001169e+05   \n",
              "spectral_bandwidth_mean    1924.396266  2.221393e+03  2.578470e+03   \n",
              "spectral_bandwidth_var    67468.932262  1.116790e+05  1.802823e+05   \n",
              "rolloff_mean               3398.197169  4.681107e+03  5.537472e+03   \n",
              "rolloff_var              776975.094154  1.489777e+06  2.513349e+06   \n",
              "zero_crossing_rate_mean       0.070139  9.963033e-02  1.336145e-01   \n",
              "zero_crossing_rate_var        0.001078  2.021951e-03  3.577323e-03   \n",
              "harmony_mean                 -0.000104 -3.006705e-06  7.376172e-07   \n",
              "harmony_var                   0.004448  8.768287e-03  1.693629e-02   \n",
              "perceptr_mean                -0.000594 -3.647078e-05 -3.966247e-06   \n",
              "perceptr_var                  0.001350  3.466390e-03  7.624014e-03   \n",
              "tempo                        99.384014  1.174538e+02  1.359992e+02   \n",
              "mfcc1_mean                 -201.156059 -1.188981e+02 -7.223347e+01   \n",
              "mfcc1_var                  1824.903595  3.088326e+03  4.961071e+03   \n",
              "mfcc2_mean                   76.115782  9.815734e+01  1.202178e+02   \n",
              "mfcc2_var                   397.932762  6.071805e+02  8.734715e+02   \n",
              "mfcc3_mean                  -24.207898 -1.033436e+01  5.018961e+00   \n",
              "mfcc3_var                   272.311798  4.054166e+02  5.884139e+02   \n",
              "mfcc4_mean                   24.130392  3.721185e+01  4.818968e+01   \n",
              "mfcc4_var                   129.397377  1.976805e+02  2.868297e+02   \n",
              "mfcc5_mean                   -9.832956 -1.255568e-01  8.076232e+00   \n",
              "mfcc5_var                   101.195854  1.526830e+02  2.274373e+02   \n",
              "mfcc6_mean                    5.189464  1.519730e+01  2.389818e+01   \n",
              "mfcc6_var                    76.947271  1.139226e+02  1.587735e+02   \n",
              "mfcc7_mean                  -12.848787 -5.671597e+00  2.996995e+00   \n",
              "mfcc7_var                    73.340647  1.045529e+02  1.445790e+02   \n",
              "mfcc8_mean                    1.916302  9.816930e+00  1.879440e+01   \n",
              "mfcc8_var                    57.349496  8.033165e+01  1.096847e+02   \n",
              "mfcc9_mean                  -13.246939 -7.517393e+00 -3.804870e-01   \n",
              "mfcc9_var                    59.694317  7.977357e+01  1.098649e+02   \n",
              "mfcc10_mean                   1.606290  7.468184e+00  1.452471e+01   \n",
              "mfcc10_var                   55.466006  7.407996e+01  9.912455e+01   \n",
              "mfcc11_mean                 -10.897995 -6.047151e+00 -1.029847e+00   \n",
              "mfcc11_var                   51.128520  6.805644e+01  9.071413e+01   \n",
              "mfcc12_mean                  -0.500151  4.123533e+00  9.740633e+00   \n",
              "mfcc12_var                   46.840459  6.195356e+01  8.178798e+01   \n",
              "mfcc13_mean                  -9.357906 -4.124249e+00 -1.518350e-01   \n",
              "mfcc13_var                   46.213769  6.065340e+01  7.948004e+01   \n",
              "mfcc14_mean                  -1.612691  1.994686e+00  5.200963e+00   \n",
              "mfcc14_var                   43.416593  5.824765e+01  7.593646e+01   \n",
              "mfcc15_mean                  -7.256116 -3.623084e+00 -3.606811e-01   \n",
              "mfcc15_var                   42.087472  5.514887e+01  7.405614e+01   \n",
              "mfcc16_mean                  -1.691719  1.381382e+00  4.395688e+00   \n",
              "mfcc16_var                   40.286901  5.220992e+01  7.071544e+01   \n",
              "mfcc17_mean                  -7.207225 -4.128582e+00 -9.051985e-01   \n",
              "mfcc17_var                   40.449431  5.470827e+01  7.410955e+01   \n",
              "mfcc18_mean                  -1.878786  6.806302e-01  3.077287e+00   \n",
              "mfcc18_var                   41.930823  5.427678e+01  7.565315e+01   \n",
              "mfcc19_mean                  -4.623938 -2.393862e+00  1.407506e-01   \n",
              "mfcc19_var                   41.816311  5.745491e+01  7.873114e+01   \n",
              "mfcc20_mean                  -3.375378 -1.125176e+00  1.335365e+00   \n",
              "mfcc20_var                   42.372865  5.918612e+01  8.521619e+01   \n",
              "\n",
              "                                  max  \n",
              "length                   6.758080e+05  \n",
              "chroma_stft_mean         6.636847e-01  \n",
              "chroma_stft_var          1.040773e-01  \n",
              "rms_mean                 3.979734e-01  \n",
              "rms_var                  2.767948e-02  \n",
              "spectral_centroid_mean   4.435244e+03  \n",
              "spectral_centroid_var    3.036843e+06  \n",
              "spectral_bandwidth_mean  3.509646e+03  \n",
              "spectral_bandwidth_var   6.947848e+05  \n",
              "rolloff_mean             8.677673e+03  \n",
              "rolloff_var              8.660900e+06  \n",
              "zero_crossing_rate_mean  2.746308e-01  \n",
              "zero_crossing_rate_var   2.871840e-02  \n",
              "harmony_mean             1.505448e-02  \n",
              "harmony_var              8.565789e-02  \n",
              "perceptr_mean            5.786965e-03  \n",
              "perceptr_var             4.744598e-02  \n",
              "tempo                    2.349077e+02  \n",
              "mfcc1_mean               4.203943e+01  \n",
              "mfcc1_var                2.824344e+04  \n",
              "mfcc2_mean               1.930974e+02  \n",
              "mfcc2_var                4.025973e+03  \n",
              "mfcc3_mean               5.668280e+01  \n",
              "mfcc3_var                2.924435e+03  \n",
              "mfcc4_mean               8.070230e+01  \n",
              "mfcc4_var                6.708793e+02  \n",
              "mfcc5_mean               3.144058e+01  \n",
              "mfcc5_var                1.083649e+03  \n",
              "mfcc6_mean               4.517318e+01  \n",
              "mfcc6_var                4.272341e+02  \n",
              "mfcc7_mean               2.182734e+01  \n",
              "mfcc7_var                4.036031e+02  \n",
              "mfcc8_mean               4.901136e+01  \n",
              "mfcc8_var                3.852897e+02  \n",
              "mfcc9_mean               1.913301e+01  \n",
              "mfcc9_var                3.183811e+02  \n",
              "mfcc10_mean              2.721244e+01  \n",
              "mfcc10_var               3.542410e+02  \n",
              "mfcc11_mean              1.742156e+01  \n",
              "mfcc11_var               5.904864e+02  \n",
              "mfcc12_mean              2.303486e+01  \n",
              "mfcc12_var               2.952503e+02  \n",
              "mfcc13_mean              1.305131e+01  \n",
              "mfcc13_var               2.891725e+02  \n",
              "mfcc14_mean              1.817650e+01  \n",
              "mfcc14_var               4.958355e+02  \n",
              "mfcc15_mean              1.235600e+01  \n",
              "mfcc15_var               4.263570e+02  \n",
              "mfcc16_mean              1.301684e+01  \n",
              "mfcc16_var               3.929324e+02  \n",
              "mfcc17_mean              1.148295e+01  \n",
              "mfcc17_var               4.060589e+02  \n",
              "mfcc18_mean              1.538839e+01  \n",
              "mfcc18_var               3.329054e+02  \n",
              "mfcc19_mean              1.469492e+01  \n",
              "mfcc19_var               3.931620e+02  \n",
              "mfcc20_mean              1.536963e+01  \n",
              "mfcc20_var               5.060652e+02  "
            ],
            "text/html": [
              "\n",
              "  <div id=\"df-efd1b187-1035-4ece-a315-0d72603b00aa\">\n",
              "    <div class=\"colab-df-container\">\n",
              "      <div>\n",
              "<style scoped>\n",
              "    .dataframe tbody tr th:only-of-type {\n",
              "        vertical-align: middle;\n",
              "    }\n",
              "\n",
              "    .dataframe tbody tr th {\n",
              "        vertical-align: top;\n",
              "    }\n",
              "\n",
              "    .dataframe thead th {\n",
              "        text-align: right;\n",
              "    }\n",
              "</style>\n",
              "<table border=\"1\" class=\"dataframe\">\n",
              "  <thead>\n",
              "    <tr style=\"text-align: right;\">\n",
              "      <th></th>\n",
              "      <th>count</th>\n",
              "      <th>mean</th>\n",
              "      <th>std</th>\n",
              "      <th>min</th>\n",
              "      <th>25%</th>\n",
              "      <th>50%</th>\n",
              "      <th>75%</th>\n",
              "      <th>max</th>\n",
              "    </tr>\n",
              "  </thead>\n",
              "  <tbody>\n",
              "    <tr>\n",
              "      <th>length</th>\n",
              "      <td>900.0</td>\n",
              "      <td>6.620582e+05</td>\n",
              "      <td>1.857249e+03</td>\n",
              "      <td>6.600000e+05</td>\n",
              "      <td>661504.000000</td>\n",
              "      <td>6.617940e+05</td>\n",
              "      <td>6.617940e+05</td>\n",
              "      <td>6.758080e+05</td>\n",
              "    </tr>\n",
              "    <tr>\n",
              "      <th>chroma_stft_mean</th>\n",
              "      <td>900.0</td>\n",
              "      <td>3.800492e-01</td>\n",
              "      <td>8.224774e-02</td>\n",
              "      <td>1.719392e-01</td>\n",
              "      <td>0.321153</td>\n",
              "      <td>3.858235e-01</td>\n",
              "      <td>4.377516e-01</td>\n",
              "      <td>6.636847e-01</td>\n",
              "    </tr>\n",
              "    <tr>\n",
              "      <th>chroma_stft_var</th>\n",
              "      <td>900.0</td>\n",
              "      <td>8.620211e-02</td>\n",
              "      <td>7.698534e-03</td>\n",
              "      <td>4.455525e-02</td>\n",
              "      <td>0.082263</td>\n",
              "      <td>8.653688e-02</td>\n",
              "      <td>9.119399e-02</td>\n",
              "      <td>1.040773e-01</td>\n",
              "    </tr>\n",
              "    <tr>\n",
              "      <th>rms_mean</th>\n",
              "      <td>900.0</td>\n",
              "      <td>1.313052e-01</td>\n",
              "      <td>6.568314e-02</td>\n",
              "      <td>6.629292e-03</td>\n",
              "      <td>0.087418</td>\n",
              "      <td>1.207155e-01</td>\n",
              "      <td>1.757262e-01</td>\n",
              "      <td>3.979734e-01</td>\n",
              "    </tr>\n",
              "    <tr>\n",
              "      <th>rms_var</th>\n",
              "      <td>900.0</td>\n",
              "      <td>3.022593e-03</td>\n",
              "      <td>3.609894e-03</td>\n",
              "      <td>4.294372e-06</td>\n",
              "      <td>0.000937</td>\n",
              "      <td>1.806273e-03</td>\n",
              "      <td>3.569671e-03</td>\n",
              "      <td>2.767948e-02</td>\n",
              "    </tr>\n",
              "    <tr>\n",
              "      <th>spectral_centroid_mean</th>\n",
              "      <td>900.0</td>\n",
              "      <td>2.206388e+03</td>\n",
              "      <td>7.167180e+02</td>\n",
              "      <td>5.700404e+02</td>\n",
              "      <td>1621.413022</td>\n",
              "      <td>2.224024e+03</td>\n",
              "      <td>2.702690e+03</td>\n",
              "      <td>4.435244e+03</td>\n",
              "    </tr>\n",
              "    <tr>\n",
              "      <th>spectral_centroid_var</th>\n",
              "      <td>900.0</td>\n",
              "      <td>4.672791e+05</td>\n",
              "      <td>4.001082e+05</td>\n",
              "      <td>7.911251e+03</td>\n",
              "      <td>187496.474079</td>\n",
              "      <td>3.381147e+05</td>\n",
              "      <td>6.001169e+05</td>\n",
              "      <td>3.036843e+06</td>\n",
              "    </tr>\n",
              "    <tr>\n",
              "      <th>spectral_bandwidth_mean</th>\n",
              "      <td>900.0</td>\n",
              "      <td>2.245030e+03</td>\n",
              "      <td>5.259309e+02</td>\n",
              "      <td>8.980662e+02</td>\n",
              "      <td>1924.396266</td>\n",
              "      <td>2.221393e+03</td>\n",
              "      <td>2.578470e+03</td>\n",
              "      <td>3.509646e+03</td>\n",
              "    </tr>\n",
              "    <tr>\n",
              "      <th>spectral_bandwidth_var</th>\n",
              "      <td>900.0</td>\n",
              "      <td>1.363380e+05</td>\n",
              "      <td>9.597951e+04</td>\n",
              "      <td>1.078719e+04</td>\n",
              "      <td>67468.932262</td>\n",
              "      <td>1.116790e+05</td>\n",
              "      <td>1.802823e+05</td>\n",
              "      <td>6.947848e+05</td>\n",
              "    </tr>\n",
              "    <tr>\n",
              "      <th>rolloff_mean</th>\n",
              "      <td>900.0</td>\n",
              "      <td>4.581474e+03</td>\n",
              "      <td>1.575247e+03</td>\n",
              "      <td>7.491406e+02</td>\n",
              "      <td>3398.197169</td>\n",
              "      <td>4.681107e+03</td>\n",
              "      <td>5.537472e+03</td>\n",
              "      <td>8.677673e+03</td>\n",
              "    </tr>\n",
              "    <tr>\n",
              "      <th>rolloff_var</th>\n",
              "      <td>900.0</td>\n",
              "      <td>1.832092e+06</td>\n",
              "      <td>1.413402e+06</td>\n",
              "      <td>1.468612e+04</td>\n",
              "      <td>776975.094154</td>\n",
              "      <td>1.489777e+06</td>\n",
              "      <td>2.513349e+06</td>\n",
              "      <td>8.660900e+06</td>\n",
              "    </tr>\n",
              "    <tr>\n",
              "      <th>zero_crossing_rate_mean</th>\n",
              "      <td>900.0</td>\n",
              "      <td>1.039683e-01</td>\n",
              "      <td>4.212762e-02</td>\n",
              "      <td>2.169698e-02</td>\n",
              "      <td>0.070139</td>\n",
              "      <td>9.963033e-02</td>\n",
              "      <td>1.336145e-01</td>\n",
              "      <td>2.746308e-01</td>\n",
              "    </tr>\n",
              "    <tr>\n",
              "      <th>zero_crossing_rate_var</th>\n",
              "      <td>900.0</td>\n",
              "      <td>2.976236e-03</td>\n",
              "      <td>3.020949e-03</td>\n",
              "      <td>4.408679e-05</td>\n",
              "      <td>0.001078</td>\n",
              "      <td>2.021951e-03</td>\n",
              "      <td>3.577323e-03</td>\n",
              "      <td>2.871840e-02</td>\n",
              "    </tr>\n",
              "    <tr>\n",
              "      <th>harmony_mean</th>\n",
              "      <td>900.0</td>\n",
              "      <td>-3.735413e-04</td>\n",
              "      <td>1.758905e-03</td>\n",
              "      <td>-2.606458e-02</td>\n",
              "      <td>-0.000104</td>\n",
              "      <td>-3.006705e-06</td>\n",
              "      <td>7.376172e-07</td>\n",
              "      <td>1.505448e-02</td>\n",
              "    </tr>\n",
              "    <tr>\n",
              "      <th>harmony_var</th>\n",
              "      <td>900.0</td>\n",
              "      <td>1.258831e-02</td>\n",
              "      <td>1.174042e-02</td>\n",
              "      <td>5.663914e-05</td>\n",
              "      <td>0.004448</td>\n",
              "      <td>8.768287e-03</td>\n",
              "      <td>1.693629e-02</td>\n",
              "      <td>8.565789e-02</td>\n",
              "    </tr>\n",
              "    <tr>\n",
              "      <th>perceptr_mean</th>\n",
              "      <td>900.0</td>\n",
              "      <td>-3.985216e-04</td>\n",
              "      <td>1.080265e-03</td>\n",
              "      <td>-6.409733e-03</td>\n",
              "      <td>-0.000594</td>\n",
              "      <td>-3.647078e-05</td>\n",
              "      <td>-3.966247e-06</td>\n",
              "      <td>5.786965e-03</td>\n",
              "    </tr>\n",
              "    <tr>\n",
              "      <th>perceptr_var</th>\n",
              "      <td>900.0</td>\n",
              "      <td>5.640590e-03</td>\n",
              "      <td>6.427565e-03</td>\n",
              "      <td>8.299008e-07</td>\n",
              "      <td>0.001350</td>\n",
              "      <td>3.466390e-03</td>\n",
              "      <td>7.624014e-03</td>\n",
              "      <td>4.744598e-02</td>\n",
              "    </tr>\n",
              "    <tr>\n",
              "      <th>tempo</th>\n",
              "      <td>900.0</td>\n",
              "      <td>1.189220e+02</td>\n",
              "      <td>2.809928e+01</td>\n",
              "      <td>5.497839e+01</td>\n",
              "      <td>99.384014</td>\n",
              "      <td>1.174538e+02</td>\n",
              "      <td>1.359992e+02</td>\n",
              "      <td>2.349077e+02</td>\n",
              "    </tr>\n",
              "    <tr>\n",
              "      <th>mfcc1_mean</th>\n",
              "      <td>900.0</td>\n",
              "      <td>-1.433405e+02</td>\n",
              "      <td>9.965632e+01</td>\n",
              "      <td>-5.521201e+02</td>\n",
              "      <td>-201.156059</td>\n",
              "      <td>-1.188981e+02</td>\n",
              "      <td>-7.223347e+01</td>\n",
              "      <td>4.203943e+01</td>\n",
              "    </tr>\n",
              "    <tr>\n",
              "      <th>mfcc1_var</th>\n",
              "      <td>900.0</td>\n",
              "      <td>3.725286e+03</td>\n",
              "      <td>2.809072e+03</td>\n",
              "      <td>1.745714e+02</td>\n",
              "      <td>1824.903595</td>\n",
              "      <td>3.088326e+03</td>\n",
              "      <td>4.961071e+03</td>\n",
              "      <td>2.824344e+04</td>\n",
              "    </tr>\n",
              "    <tr>\n",
              "      <th>mfcc2_mean</th>\n",
              "      <td>900.0</td>\n",
              "      <td>9.936410e+01</td>\n",
              "      <td>3.140463e+01</td>\n",
              "      <td>-1.461542e+00</td>\n",
              "      <td>76.115782</td>\n",
              "      <td>9.815734e+01</td>\n",
              "      <td>1.202178e+02</td>\n",
              "      <td>1.930974e+02</td>\n",
              "    </tr>\n",
              "    <tr>\n",
              "      <th>mfcc2_var</th>\n",
              "      <td>900.0</td>\n",
              "      <td>7.015220e+02</td>\n",
              "      <td>4.340597e+02</td>\n",
              "      <td>9.310475e+01</td>\n",
              "      <td>397.932762</td>\n",
              "      <td>6.071805e+02</td>\n",
              "      <td>8.734715e+02</td>\n",
              "      <td>4.025973e+03</td>\n",
              "    </tr>\n",
              "    <tr>\n",
              "      <th>mfcc3_mean</th>\n",
              "      <td>900.0</td>\n",
              "      <td>-8.880586e+00</td>\n",
              "      <td>2.166602e+01</td>\n",
              "      <td>-8.987019e+01</td>\n",
              "      <td>-24.207898</td>\n",
              "      <td>-1.033436e+01</td>\n",
              "      <td>5.018961e+00</td>\n",
              "      <td>5.668280e+01</td>\n",
              "    </tr>\n",
              "    <tr>\n",
              "      <th>mfcc3_var</th>\n",
              "      <td>900.0</td>\n",
              "      <td>4.665274e+02</td>\n",
              "      <td>2.867663e+02</td>\n",
              "      <td>3.546775e+01</td>\n",
              "      <td>272.311798</td>\n",
              "      <td>4.054166e+02</td>\n",
              "      <td>5.884139e+02</td>\n",
              "      <td>2.924435e+03</td>\n",
              "    </tr>\n",
              "    <tr>\n",
              "      <th>mfcc4_mean</th>\n",
              "      <td>900.0</td>\n",
              "      <td>3.638630e+01</td>\n",
              "      <td>1.660454e+01</td>\n",
              "      <td>-1.872755e+01</td>\n",
              "      <td>24.130392</td>\n",
              "      <td>3.721185e+01</td>\n",
              "      <td>4.818968e+01</td>\n",
              "      <td>8.070230e+01</td>\n",
              "    </tr>\n",
              "    <tr>\n",
              "      <th>mfcc4_var</th>\n",
              "      <td>900.0</td>\n",
              "      <td>2.191525e+02</td>\n",
              "      <td>1.138184e+02</td>\n",
              "      <td>3.426315e+01</td>\n",
              "      <td>129.397377</td>\n",
              "      <td>1.976805e+02</td>\n",
              "      <td>2.868297e+02</td>\n",
              "      <td>6.708793e+02</td>\n",
              "    </tr>\n",
              "    <tr>\n",
              "      <th>mfcc5_mean</th>\n",
              "      <td>900.0</td>\n",
              "      <td>-1.109198e+00</td>\n",
              "      <td>1.219396e+01</td>\n",
              "      <td>-3.889035e+01</td>\n",
              "      <td>-9.832956</td>\n",
              "      <td>-1.255568e-01</td>\n",
              "      <td>8.076232e+00</td>\n",
              "      <td>3.144058e+01</td>\n",
              "    </tr>\n",
              "    <tr>\n",
              "      <th>mfcc5_var</th>\n",
              "      <td>900.0</td>\n",
              "      <td>1.743560e+02</td>\n",
              "      <td>1.013256e+02</td>\n",
              "      <td>2.991201e+01</td>\n",
              "      <td>101.195854</td>\n",
              "      <td>1.526830e+02</td>\n",
              "      <td>2.274373e+02</td>\n",
              "      <td>1.083649e+03</td>\n",
              "    </tr>\n",
              "    <tr>\n",
              "      <th>mfcc6_mean</th>\n",
              "      <td>900.0</td>\n",
              "      <td>1.474550e+01</td>\n",
              "      <td>1.186674e+01</td>\n",
              "      <td>-2.841591e+01</td>\n",
              "      <td>5.189464</td>\n",
              "      <td>1.519730e+01</td>\n",
              "      <td>2.389818e+01</td>\n",
              "      <td>4.517318e+01</td>\n",
              "    </tr>\n",
              "    <tr>\n",
              "      <th>mfcc6_var</th>\n",
              "      <td>900.0</td>\n",
              "      <td>1.267506e+02</td>\n",
              "      <td>6.695533e+01</td>\n",
              "      <td>2.369010e+01</td>\n",
              "      <td>76.947271</td>\n",
              "      <td>1.139226e+02</td>\n",
              "      <td>1.587735e+02</td>\n",
              "      <td>4.272341e+02</td>\n",
              "    </tr>\n",
              "    <tr>\n",
              "      <th>mfcc7_mean</th>\n",
              "      <td>900.0</td>\n",
              "      <td>-5.100348e+00</td>\n",
              "      <td>9.974995e+00</td>\n",
              "      <td>-3.293043e+01</td>\n",
              "      <td>-12.848787</td>\n",
              "      <td>-5.671597e+00</td>\n",
              "      <td>2.996995e+00</td>\n",
              "      <td>2.182734e+01</td>\n",
              "    </tr>\n",
              "    <tr>\n",
              "      <th>mfcc7_var</th>\n",
              "      <td>900.0</td>\n",
              "      <td>1.154587e+02</td>\n",
              "      <td>5.700415e+01</td>\n",
              "      <td>2.902733e+01</td>\n",
              "      <td>73.340647</td>\n",
              "      <td>1.045529e+02</td>\n",
              "      <td>1.445790e+02</td>\n",
              "      <td>4.036031e+02</td>\n",
              "    </tr>\n",
              "    <tr>\n",
              "      <th>mfcc8_mean</th>\n",
              "      <td>900.0</td>\n",
              "      <td>1.031651e+01</td>\n",
              "      <td>1.047173e+01</td>\n",
              "      <td>-2.491582e+01</td>\n",
              "      <td>1.916302</td>\n",
              "      <td>9.816930e+00</td>\n",
              "      <td>1.879440e+01</td>\n",
              "      <td>4.901136e+01</td>\n",
              "    </tr>\n",
              "    <tr>\n",
              "      <th>mfcc8_var</th>\n",
              "      <td>900.0</td>\n",
              "      <td>8.794326e+01</td>\n",
              "      <td>4.056309e+01</td>\n",
              "      <td>2.246423e+01</td>\n",
              "      <td>57.349496</td>\n",
              "      <td>8.033165e+01</td>\n",
              "      <td>1.096847e+02</td>\n",
              "      <td>3.852897e+02</td>\n",
              "    </tr>\n",
              "    <tr>\n",
              "      <th>mfcc9_mean</th>\n",
              "      <td>900.0</td>\n",
              "      <td>-6.959616e+00</td>\n",
              "      <td>8.302225e+00</td>\n",
              "      <td>-3.164057e+01</td>\n",
              "      <td>-13.246939</td>\n",
              "      <td>-7.517393e+00</td>\n",
              "      <td>-3.804870e-01</td>\n",
              "      <td>1.913301e+01</td>\n",
              "    </tr>\n",
              "    <tr>\n",
              "      <th>mfcc9_var</th>\n",
              "      <td>900.0</td>\n",
              "      <td>8.889750e+01</td>\n",
              "      <td>4.012273e+01</td>\n",
              "      <td>2.582586e+01</td>\n",
              "      <td>59.694317</td>\n",
              "      <td>7.977357e+01</td>\n",
              "      <td>1.098649e+02</td>\n",
              "      <td>3.183811e+02</td>\n",
              "    </tr>\n",
              "    <tr>\n",
              "      <th>mfcc10_mean</th>\n",
              "      <td>900.0</td>\n",
              "      <td>7.802261e+00</td>\n",
              "      <td>7.959966e+00</td>\n",
              "      <td>-1.205018e+01</td>\n",
              "      <td>1.606290</td>\n",
              "      <td>7.468184e+00</td>\n",
              "      <td>1.452471e+01</td>\n",
              "      <td>2.721244e+01</td>\n",
              "    </tr>\n",
              "    <tr>\n",
              "      <th>mfcc10_var</th>\n",
              "      <td>900.0</td>\n",
              "      <td>8.187666e+01</td>\n",
              "      <td>3.702049e+01</td>\n",
              "      <td>1.927320e+01</td>\n",
              "      <td>55.466006</td>\n",
              "      <td>7.407996e+01</td>\n",
              "      <td>9.912455e+01</td>\n",
              "      <td>3.542410e+02</td>\n",
              "    </tr>\n",
              "    <tr>\n",
              "      <th>mfcc11_mean</th>\n",
              "      <td>900.0</td>\n",
              "      <td>-6.025446e+00</td>\n",
              "      <td>6.739117e+00</td>\n",
              "      <td>-2.805750e+01</td>\n",
              "      <td>-10.897995</td>\n",
              "      <td>-6.047151e+00</td>\n",
              "      <td>-1.029847e+00</td>\n",
              "      <td>1.742156e+01</td>\n",
              "    </tr>\n",
              "    <tr>\n",
              "      <th>mfcc11_var</th>\n",
              "      <td>900.0</td>\n",
              "      <td>7.532306e+01</td>\n",
              "      <td>3.846334e+01</td>\n",
              "      <td>2.140276e+01</td>\n",
              "      <td>51.128520</td>\n",
              "      <td>6.805644e+01</td>\n",
              "      <td>9.071413e+01</td>\n",
              "      <td>5.904864e+02</td>\n",
              "    </tr>\n",
              "    <tr>\n",
              "      <th>mfcc12_mean</th>\n",
              "      <td>900.0</td>\n",
              "      <td>4.579166e+00</td>\n",
              "      <td>6.743916e+00</td>\n",
              "      <td>-1.579645e+01</td>\n",
              "      <td>-0.500151</td>\n",
              "      <td>4.123533e+00</td>\n",
              "      <td>9.740633e+00</td>\n",
              "      <td>2.303486e+01</td>\n",
              "    </tr>\n",
              "    <tr>\n",
              "      <th>mfcc12_var</th>\n",
              "      <td>900.0</td>\n",
              "      <td>6.848344e+01</td>\n",
              "      <td>3.283983e+01</td>\n",
              "      <td>1.864252e+01</td>\n",
              "      <td>46.840459</td>\n",
              "      <td>6.195356e+01</td>\n",
              "      <td>8.178798e+01</td>\n",
              "      <td>2.952503e+02</td>\n",
              "    </tr>\n",
              "    <tr>\n",
              "      <th>mfcc13_mean</th>\n",
              "      <td>900.0</td>\n",
              "      <td>-4.785261e+00</td>\n",
              "      <td>6.170879e+00</td>\n",
              "      <td>-2.752313e+01</td>\n",
              "      <td>-9.357906</td>\n",
              "      <td>-4.124249e+00</td>\n",
              "      <td>-1.518350e-01</td>\n",
              "      <td>1.305131e+01</td>\n",
              "    </tr>\n",
              "    <tr>\n",
              "      <th>mfcc13_var</th>\n",
              "      <td>900.0</td>\n",
              "      <td>6.758738e+01</td>\n",
              "      <td>3.307002e+01</td>\n",
              "      <td>2.120510e+01</td>\n",
              "      <td>46.213769</td>\n",
              "      <td>6.065340e+01</td>\n",
              "      <td>7.948004e+01</td>\n",
              "      <td>2.891725e+02</td>\n",
              "    </tr>\n",
              "    <tr>\n",
              "      <th>mfcc14_mean</th>\n",
              "      <td>900.0</td>\n",
              "      <td>1.828000e+00</td>\n",
              "      <td>5.015706e+00</td>\n",
              "      <td>-1.259449e+01</td>\n",
              "      <td>-1.612691</td>\n",
              "      <td>1.994686e+00</td>\n",
              "      <td>5.200963e+00</td>\n",
              "      <td>1.817650e+01</td>\n",
              "    </tr>\n",
              "    <tr>\n",
              "      <th>mfcc14_var</th>\n",
              "      <td>900.0</td>\n",
              "      <td>6.509024e+01</td>\n",
              "      <td>3.539818e+01</td>\n",
              "      <td>1.425061e+01</td>\n",
              "      <td>43.416593</td>\n",
              "      <td>5.824765e+01</td>\n",
              "      <td>7.593646e+01</td>\n",
              "      <td>4.958355e+02</td>\n",
              "    </tr>\n",
              "    <tr>\n",
              "      <th>mfcc15_mean</th>\n",
              "      <td>900.0</td>\n",
              "      <td>-3.889835e+00</td>\n",
              "      <td>4.867539e+00</td>\n",
              "      <td>-1.753913e+01</td>\n",
              "      <td>-7.256116</td>\n",
              "      <td>-3.623084e+00</td>\n",
              "      <td>-3.606811e-01</td>\n",
              "      <td>1.235600e+01</td>\n",
              "    </tr>\n",
              "    <tr>\n",
              "      <th>mfcc15_var</th>\n",
              "      <td>900.0</td>\n",
              "      <td>6.284964e+01</td>\n",
              "      <td>3.454182e+01</td>\n",
              "      <td>9.769691e+00</td>\n",
              "      <td>42.087472</td>\n",
              "      <td>5.514887e+01</td>\n",
              "      <td>7.405614e+01</td>\n",
              "      <td>4.263570e+02</td>\n",
              "    </tr>\n",
              "    <tr>\n",
              "      <th>mfcc16_mean</th>\n",
              "      <td>900.0</td>\n",
              "      <td>1.214874e+00</td>\n",
              "      <td>4.510371e+00</td>\n",
              "      <td>-1.569384e+01</td>\n",
              "      <td>-1.691719</td>\n",
              "      <td>1.381382e+00</td>\n",
              "      <td>4.395688e+00</td>\n",
              "      <td>1.301684e+01</td>\n",
              "    </tr>\n",
              "    <tr>\n",
              "      <th>mfcc16_var</th>\n",
              "      <td>900.0</td>\n",
              "      <td>6.062906e+01</td>\n",
              "      <td>3.424326e+01</td>\n",
              "      <td>9.169314e+00</td>\n",
              "      <td>40.286901</td>\n",
              "      <td>5.220992e+01</td>\n",
              "      <td>7.071544e+01</td>\n",
              "      <td>3.929324e+02</td>\n",
              "    </tr>\n",
              "    <tr>\n",
              "      <th>mfcc17_mean</th>\n",
              "      <td>900.0</td>\n",
              "      <td>-4.006116e+00</td>\n",
              "      <td>4.493173e+00</td>\n",
              "      <td>-1.723473e+01</td>\n",
              "      <td>-7.207225</td>\n",
              "      <td>-4.128582e+00</td>\n",
              "      <td>-9.051985e-01</td>\n",
              "      <td>1.148295e+01</td>\n",
              "    </tr>\n",
              "    <tr>\n",
              "      <th>mfcc17_var</th>\n",
              "      <td>900.0</td>\n",
              "      <td>6.252281e+01</td>\n",
              "      <td>3.379950e+01</td>\n",
              "      <td>1.500728e+01</td>\n",
              "      <td>40.449431</td>\n",
              "      <td>5.470827e+01</td>\n",
              "      <td>7.410955e+01</td>\n",
              "      <td>4.060589e+02</td>\n",
              "    </tr>\n",
              "    <tr>\n",
              "      <th>mfcc18_mean</th>\n",
              "      <td>900.0</td>\n",
              "      <td>5.217771e-01</td>\n",
              "      <td>3.827148e+00</td>\n",
              "      <td>-1.196369e+01</td>\n",
              "      <td>-1.878786</td>\n",
              "      <td>6.806302e-01</td>\n",
              "      <td>3.077287e+00</td>\n",
              "      <td>1.538839e+01</td>\n",
              "    </tr>\n",
              "    <tr>\n",
              "      <th>mfcc18_var</th>\n",
              "      <td>900.0</td>\n",
              "      <td>6.379611e+01</td>\n",
              "      <td>3.452692e+01</td>\n",
              "      <td>1.656471e+01</td>\n",
              "      <td>41.930823</td>\n",
              "      <td>5.427678e+01</td>\n",
              "      <td>7.565315e+01</td>\n",
              "      <td>3.329054e+02</td>\n",
              "    </tr>\n",
              "    <tr>\n",
              "      <th>mfcc19_mean</th>\n",
              "      <td>900.0</td>\n",
              "      <td>-2.325727e+00</td>\n",
              "      <td>3.728667e+00</td>\n",
              "      <td>-1.850196e+01</td>\n",
              "      <td>-4.623938</td>\n",
              "      <td>-2.393862e+00</td>\n",
              "      <td>1.407506e-01</td>\n",
              "      <td>1.469492e+01</td>\n",
              "    </tr>\n",
              "    <tr>\n",
              "      <th>mfcc19_var</th>\n",
              "      <td>900.0</td>\n",
              "      <td>6.665429e+01</td>\n",
              "      <td>3.789385e+01</td>\n",
              "      <td>1.348762e+01</td>\n",
              "      <td>41.816311</td>\n",
              "      <td>5.745491e+01</td>\n",
              "      <td>7.873114e+01</td>\n",
              "      <td>3.931620e+02</td>\n",
              "    </tr>\n",
              "    <tr>\n",
              "      <th>mfcc20_mean</th>\n",
              "      <td>900.0</td>\n",
              "      <td>-1.049838e+00</td>\n",
              "      <td>3.837944e+00</td>\n",
              "      <td>-1.992963e+01</td>\n",
              "      <td>-3.375378</td>\n",
              "      <td>-1.125176e+00</td>\n",
              "      <td>1.335365e+00</td>\n",
              "      <td>1.536963e+01</td>\n",
              "    </tr>\n",
              "    <tr>\n",
              "      <th>mfcc20_var</th>\n",
              "      <td>900.0</td>\n",
              "      <td>7.027044e+01</td>\n",
              "      <td>4.589213e+01</td>\n",
              "      <td>7.956583e+00</td>\n",
              "      <td>42.372865</td>\n",
              "      <td>5.918612e+01</td>\n",
              "      <td>8.521619e+01</td>\n",
              "      <td>5.060652e+02</td>\n",
              "    </tr>\n",
              "  </tbody>\n",
              "</table>\n",
              "</div>\n",
              "      <button class=\"colab-df-convert\" onclick=\"convertToInteractive('df-efd1b187-1035-4ece-a315-0d72603b00aa')\"\n",
              "              title=\"Convert this dataframe to an interactive table.\"\n",
              "              style=\"display:none;\">\n",
              "        \n",
              "  <svg xmlns=\"http://www.w3.org/2000/svg\" height=\"24px\"viewBox=\"0 0 24 24\"\n",
              "       width=\"24px\">\n",
              "    <path d=\"M0 0h24v24H0V0z\" fill=\"none\"/>\n",
              "    <path d=\"M18.56 5.44l.94 2.06.94-2.06 2.06-.94-2.06-.94-.94-2.06-.94 2.06-2.06.94zm-11 1L8.5 8.5l.94-2.06 2.06-.94-2.06-.94L8.5 2.5l-.94 2.06-2.06.94zm10 10l.94 2.06.94-2.06 2.06-.94-2.06-.94-.94-2.06-.94 2.06-2.06.94z\"/><path d=\"M17.41 7.96l-1.37-1.37c-.4-.4-.92-.59-1.43-.59-.52 0-1.04.2-1.43.59L10.3 9.45l-7.72 7.72c-.78.78-.78 2.05 0 2.83L4 21.41c.39.39.9.59 1.41.59.51 0 1.02-.2 1.41-.59l7.78-7.78 2.81-2.81c.8-.78.8-2.07 0-2.86zM5.41 20L4 18.59l7.72-7.72 1.47 1.35L5.41 20z\"/>\n",
              "  </svg>\n",
              "      </button>\n",
              "      \n",
              "  <style>\n",
              "    .colab-df-container {\n",
              "      display:flex;\n",
              "      flex-wrap:wrap;\n",
              "      gap: 12px;\n",
              "    }\n",
              "\n",
              "    .colab-df-convert {\n",
              "      background-color: #E8F0FE;\n",
              "      border: none;\n",
              "      border-radius: 50%;\n",
              "      cursor: pointer;\n",
              "      display: none;\n",
              "      fill: #1967D2;\n",
              "      height: 32px;\n",
              "      padding: 0 0 0 0;\n",
              "      width: 32px;\n",
              "    }\n",
              "\n",
              "    .colab-df-convert:hover {\n",
              "      background-color: #E2EBFA;\n",
              "      box-shadow: 0px 1px 2px rgba(60, 64, 67, 0.3), 0px 1px 3px 1px rgba(60, 64, 67, 0.15);\n",
              "      fill: #174EA6;\n",
              "    }\n",
              "\n",
              "    [theme=dark] .colab-df-convert {\n",
              "      background-color: #3B4455;\n",
              "      fill: #D2E3FC;\n",
              "    }\n",
              "\n",
              "    [theme=dark] .colab-df-convert:hover {\n",
              "      background-color: #434B5C;\n",
              "      box-shadow: 0px 1px 3px 1px rgba(0, 0, 0, 0.15);\n",
              "      filter: drop-shadow(0px 1px 2px rgba(0, 0, 0, 0.3));\n",
              "      fill: #FFFFFF;\n",
              "    }\n",
              "  </style>\n",
              "\n",
              "      <script>\n",
              "        const buttonEl =\n",
              "          document.querySelector('#df-efd1b187-1035-4ece-a315-0d72603b00aa button.colab-df-convert');\n",
              "        buttonEl.style.display =\n",
              "          google.colab.kernel.accessAllowed ? 'block' : 'none';\n",
              "\n",
              "        async function convertToInteractive(key) {\n",
              "          const element = document.querySelector('#df-efd1b187-1035-4ece-a315-0d72603b00aa');\n",
              "          const dataTable =\n",
              "            await google.colab.kernel.invokeFunction('convertToInteractive',\n",
              "                                                     [key], {});\n",
              "          if (!dataTable) return;\n",
              "\n",
              "          const docLinkHtml = 'Like what you see? Visit the ' +\n",
              "            '<a target=\"_blank\" href=https://colab.research.google.com/notebooks/data_table.ipynb>data table notebook</a>'\n",
              "            + ' to learn more about interactive tables.';\n",
              "          element.innerHTML = '';\n",
              "          dataTable['output_type'] = 'display_data';\n",
              "          await google.colab.output.renderOutput(dataTable, element);\n",
              "          const docLink = document.createElement('div');\n",
              "          docLink.innerHTML = docLinkHtml;\n",
              "          element.appendChild(docLink);\n",
              "        }\n",
              "      </script>\n",
              "    </div>\n",
              "  </div>\n",
              "  "
            ]
          },
          "metadata": {},
          "execution_count": 82
        }
      ]
    },
    {
      "cell_type": "code",
      "source": [
        "music_labels['label'].value_counts()"
      ],
      "metadata": {
        "colab": {
          "base_uri": "https://localhost:8080/"
        },
        "id": "7qvi9IbnBIld",
        "outputId": "0f73aeaa-ce2f-4f94-cc45-c0f12d47f0f7"
      },
      "execution_count": 83,
      "outputs": [
        {
          "output_type": "execute_result",
          "data": {
            "text/plain": [
              "rock         95\n",
              "reggae       91\n",
              "country      91\n",
              "metal        91\n",
              "hiphop       91\n",
              "jazz         89\n",
              "classical    89\n",
              "disco        89\n",
              "pop          88\n",
              "blues        86\n",
              "Name: label, dtype: int64"
            ]
          },
          "metadata": {},
          "execution_count": 83
        }
      ]
    },
    {
      "cell_type": "code",
      "source": [
        "import seaborn as sns\n",
        "import matplotlib.pyplot as plt\n",
        "plt.figure(figsize=(12, 5))\n",
        "ax=sns.countplot(x='label',data=music_labels)\n",
        "ax.set_xlabel('Genre',fontweight='bold')\n",
        "ax.set_ylabel('Count',fontweight='bold')\n",
        "plt.title('Count PLot for Music Genre')\n",
        "plt.show()"
      ],
      "metadata": {
        "colab": {
          "base_uri": "https://localhost:8080/",
          "height": 422
        },
        "id": "0LlV_CLMR63t",
        "outputId": "dfe95c48-12c2-416f-da06-5ebac0c1ecc6"
      },
      "execution_count": 84,
      "outputs": [
        {
          "output_type": "display_data",
          "data": {
            "text/plain": [
              "<Figure size 1200x500 with 1 Axes>"
            ],
            "image/png": "[encoded data removed]"
          },
          "metadata": {}
        }
      ]
    },
    {
      "cell_type": "code",
      "source": [
        "# from sklearn.model_selection import train_test_split\n",
        "\n",
        "# # splitting dataset into train, test and validation sets\n",
        "# music_data, test_data, music_labels, test_label = train_test_split(music_data, music_labels, \n",
        "#                                                       test_size = 0.1, \n",
        "#                                                       random_state = 66, stratify = music_labels)"
      ],
      "metadata": {
        "id": "c_q1pgIrhZCp"
      },
      "execution_count": 85,
      "outputs": []
    },
    {
      "cell_type": "code",
      "source": [
        "# # splitting dataset into train, test and validation sets\n",
        "# train_music_data, valid_data, train_music_labels, valid_label = train_test_split(music_data, music_labels, \n",
        "#                                                                   test_size = 0.1, \n",
        "#                                                                   random_state = 35, \n",
        "#                                                                   stratify = music_labels)"
      ],
      "metadata": {
        "id": "nE9ys79ChY_P"
      },
      "execution_count": 86,
      "outputs": []
    },
    {
      "cell_type": "code",
      "source": [],
      "metadata": {
        "id": "lI9_KPrvhY8O"
      },
      "execution_count": 86,
      "outputs": []
    },
    {
      "cell_type": "code",
      "source": [],
      "metadata": {
        "id": "bjQ1H_JfhvzV"
      },
      "execution_count": 86,
      "outputs": []
    },
    {
      "cell_type": "code",
      "source": [
        "# print(train_music_data.shape)\n",
        "# print(valid_data.shape)\n",
        "# print(test_data.shape)\n",
        "\n",
        "# print(train_music_labels.shape)\n",
        "# print(valid_label.shape)\n",
        "# print(test_label.shape)"
      ],
      "metadata": {
        "id": "66JppBHVhY58"
      },
      "execution_count": 87,
      "outputs": []
    },
    {
      "cell_type": "code",
      "source": [
        "# music_data\n"
      ],
      "metadata": {
        "id": "QvPVTyeil0vG"
      },
      "execution_count": 88,
      "outputs": []
    },
    {
      "cell_type": "code",
      "source": [
        "import numpy as np\n",
        "import seaborn as sns\n",
        "  \n",
        "# Computing the Correlation Matrix\n",
        "spike_cols = [col for col in music_data.columns if 'mean' in col]\n",
        "  \n",
        "# Set up the matplotlib figure\n",
        "f, ax = plt.subplots(figsize=(16, 11));\n",
        "  \n",
        "# Draw the heatmap with the mask and correct aspect ratio\n",
        "sns.heatmap(music_data[spike_cols].corr(), cmap='coolwarm')\n",
        "  \n",
        "plt.title('Heatmap for MEAN variables', fontsize = 20)\n",
        "plt.xticks(fontsize = 10)\n",
        "plt.yticks(fontsize = 10);"
      ],
      "metadata": {
        "colab": {
          "base_uri": "https://localhost:8080/",
          "height": 704
        },
        "id": "pXtrD4bWFMaL",
        "outputId": "24a0d0c1-c759-45bc-dc91-031891885270"
      },
      "execution_count": 89,
      "outputs": [
        {
          "output_type": "display_data",
          "data": {
            "text/plain": [
              "<Figure size 1600x1100 with 2 Axes>"
            ],
            "image/png": "[encoded data removed]"
          },
          "metadata": {}
        }
      ]
    },
    {
      "cell_type": "code",
      "source": [
        "# # Preprocessing the data\n",
        "# from sklearn.preprocessing import MinMaxScaler\n",
        "\n",
        "# # Scaling the Data\n",
        "# scaler = MinMaxScaler(feature_range=(0, 1), copy=True, clip=False)\n",
        "# music_data = scaler.fit_transform(music_data)"
      ],
      "metadata": {
        "id": "0KJa62b_4-Xf"
      },
      "execution_count": 90,
      "outputs": []
    },
    {
      "cell_type": "code",
      "source": [
        "# Preprocessing the data\n",
        "\n",
        "from sklearn import preprocessing\n",
        "label_encoder = preprocessing.LabelEncoder()\n",
        "music_labels['label'] = label_encoder.fit_transform(music_labels['label'])"
      ],
      "metadata": {
        "id": "v0idqn_eFKmR"
      },
      "execution_count": 91,
      "outputs": []
    },
    {
      "cell_type": "code",
      "source": [
        "cols = music_data.columns\n",
        "minmax = preprocessing.MinMaxScaler()\n",
        "np_scaled = minmax.fit_transform(music_data)\n",
        "\n",
        "# new data frame with the new scaled data.\n",
        "music_data = pd.DataFrame(np_scaled, columns = cols)"
      ],
      "metadata": {
        "id": "r3wN4RltLAmx"
      },
      "execution_count": 92,
      "outputs": []
    },
    {
      "cell_type": "code",
      "source": [
        "from sklearn.model_selection import train_test_split"
      ],
      "metadata": {
        "id": "dZAImgwoQdI0"
      },
      "execution_count": 93,
      "outputs": []
    },
    {
      "cell_type": "code",
      "source": [
        "# splitting dataset into train, test and validation sets\n",
        "train_data, valid_data, train_label, valid_label = train_test_split(music_data, music_labels, \n",
        "                                                                  test_size = 0.2, \n",
        "                                                                  random_state = 42, \n",
        "                                                                  stratify = music_labels)"
      ],
      "metadata": {
        "id": "lHOMGCoZSfU9"
      },
      "execution_count": 94,
      "outputs": []
    },
    {
      "cell_type": "code",
      "source": [
        "# splitting dataset into train, test and validation sets\n",
        "train_data, test_data, train_label, test_label = train_test_split(train_data, train_label, \n",
        "                                                                  test_size = 0.2, \n",
        "                                                                  random_state = 42, \n",
        "                                                                  stratify = train_label)"
      ],
      "metadata": {
        "id": "LUbX4sFtiRJt"
      },
      "execution_count": 95,
      "outputs": []
    },
    {
      "cell_type": "code",
      "source": [
        "print(train_data.shape)\n",
        "print(valid_data.shape)\n",
        "\n",
        "print(train_label.shape)\n",
        "print(valid_label.shape)"
      ],
      "metadata": {
        "colab": {
          "base_uri": "https://localhost:8080/"
        },
        "id": "S0u01NqfS0eK",
        "outputId": "b37223ee-2bd4-48c7-eedf-c284d36bfc44"
      },
      "execution_count": 96,
      "outputs": [
        {
          "output_type": "stream",
          "name": "stdout",
          "text": [
            "(576, 58)\n",
            "(180, 58)\n",
            "(576, 1)\n",
            "(180, 1)\n"
          ]
        }
      ]
    },
    {
      "cell_type": "code",
      "source": [
        "from sklearn import svm\n",
        "from sklearn.svm import SVC\n",
        "from sklearn.tree import DecisionTreeClassifier\n",
        "from sklearn.linear_model import LogisticRegression\n",
        "from sklearn.ensemble import RandomForestClassifier\n",
        "from sklearn.neighbors import KNeighborsClassifier\n",
        "from sklearn import linear_model"
      ],
      "metadata": {
        "id": "aZp_OBRpeAj5"
      },
      "execution_count": 97,
      "outputs": []
    },
    {
      "cell_type": "code",
      "source": [
        "from sklearn.model_selection import GridSearchCV\n",
        "from sklearn.pipeline import Pipeline\n",
        "from sklearn.feature_selection import SelectKBest, chi2"
      ],
      "metadata": {
        "id": "cNL9Uhx9eB1h"
      },
      "execution_count": 98,
      "outputs": []
    },
    {
      "cell_type": "code",
      "source": [
        "from sklearn.metrics import accuracy_score, precision_score, recall_score, f1_score, confusion_matrix\n",
        "from sklearn.metrics import classification_report"
      ],
      "metadata": {
        "id": "a-uloHO8eJ61"
      },
      "execution_count": 99,
      "outputs": []
    },
    {
      "cell_type": "code",
      "source": [
        "# KNN\n",
        "knn = KNeighborsClassifier()\n",
        "knn.fit(train_data, train_label)\n",
        "knn_pred_wo_tune = knn.predict(valid_data)\n",
        "print(\"--------KNN-------\")\n",
        "print('\\nConfusion Matrix:\\n', confusion_matrix(valid_label, knn_pred_wo_tune))\n",
        "print('\\nClassification Report:\\n', classification_report(valid_label, knn_pred_wo_tune))\n",
        "print('\\nAccuracy Score:\\n', accuracy_score(valid_label, knn_pred_wo_tune))\n",
        "print('\\nPresicion Score:\\n', precision_score(valid_label, knn_pred_wo_tune, average= 'macro'))\n",
        "print('\\nRecall Score:\\n', recall_score(valid_label, knn_pred_wo_tune, average= 'macro'))\n",
        "print('\\nF1_Score Score:\\n', f1_score(valid_label, knn_pred_wo_tune,  average= 'macro'))"
      ],
      "metadata": {
        "colab": {
          "base_uri": "https://localhost:8080/"
        },
        "id": "9NB45OYjXUya",
        "outputId": "6593708f-268f-4e33-e09b-8355b548a393"
      },
      "execution_count": 100,
      "outputs": [
        {
          "output_type": "stream",
          "name": "stdout",
          "text": [
            "--------KNN-------\n",
            "\n",
            "Confusion Matrix:\n",
            " [[ 8  0  4  0  0  0  2  0  2  1]\n",
            " [ 0 17  0  1  0  0  0  0  0  0]\n",
            " [ 1  1 10  0  0  1  0  1  2  2]\n",
            " [ 0  0  2 12  1  0  1  0  0  2]\n",
            " [ 0  0  2  1  8  0  1  4  1  1]\n",
            " [ 1  3  3  1  0  9  0  0  0  1]\n",
            " [ 0  0  1  2  1  0 12  0  0  2]\n",
            " [ 0  0  1  1  0  0  0 14  1  1]\n",
            " [ 1  1  1  0  1  0  0  3 10  1]\n",
            " [ 1  1  6  2  0  0  0  1  2  6]]\n",
            "\n",
            "Classification Report:\n",
            "               precision    recall  f1-score   support\n",
            "\n",
            "           0       0.67      0.47      0.55        17\n",
            "           1       0.74      0.94      0.83        18\n",
            "           2       0.33      0.56      0.42        18\n",
            "           3       0.60      0.67      0.63        18\n",
            "           4       0.73      0.44      0.55        18\n",
            "           5       0.90      0.50      0.64        18\n",
            "           6       0.75      0.67      0.71        18\n",
            "           7       0.61      0.78      0.68        18\n",
            "           8       0.56      0.56      0.56        18\n",
            "           9       0.35      0.32      0.33        19\n",
            "\n",
            "    accuracy                           0.59       180\n",
            "   macro avg       0.62      0.59      0.59       180\n",
            "weighted avg       0.62      0.59      0.59       180\n",
            "\n",
            "\n",
            "Accuracy Score:\n",
            " 0.5888888888888889\n",
            "\n",
            "Presicion Score:\n",
            " 0.6233595546255393\n",
            "\n",
            "Recall Score:\n",
            " 0.5897488820089439\n",
            "\n",
            "F1_Score Score:\n",
            " 0.5901517396535584\n"
          ]
        },
        {
          "output_type": "stream",
          "name": "stderr",
          "text": [
            "/usr/local/lib/python3.9/dist-packages/sklearn/neighbors/_classification.py:215: DataConversionWarning: A column-vector y was passed when a 1d array was expected. Please change the shape of y to (n_samples,), for example using ravel().\n",
            "  return self._fit(X, y)\n"
          ]
        }
      ]
    },
    {
      "cell_type": "code",
      "source": [
        "# Random Forest\n",
        "\n",
        "rf = RandomForestClassifier()\n",
        "rf.fit(train_data, train_label) \n",
        "rf_pred_wo_tune = rf.predict(valid_data)\n",
        "print(\"--------Random Forest-------\")\n",
        "print('\\nConfusion Matrix:\\n', confusion_matrix(valid_label, rf_pred_wo_tune))\n",
        "print('\\nClassification Report:\\n', classification_report(valid_label,rf_pred_wo_tune))\n",
        "print('\\nAccuracy Score:\\n', accuracy_score(valid_label, rf_pred_wo_tune))\n",
        "print('\\nPresicion Score:\\n', precision_score(valid_label, knn_pred_wo_tune, average= 'macro'))\n",
        "print('\\nRecall Score:\\n', recall_score(valid_label, knn_pred_wo_tune, average= 'macro'))\n",
        "print('\\nF1_Score Score:\\n', f1_score(valid_label, knn_pred_wo_tune, average= 'macro'))"
      ],
      "metadata": {
        "id": "shFYdcovpKaA",
        "colab": {
          "base_uri": "https://localhost:8080/"
        },
        "outputId": "b516a49a-80d6-42fd-e55e-eab282edd559"
      },
      "execution_count": 101,
      "outputs": [
        {
          "output_type": "stream",
          "name": "stderr",
          "text": [
            "<ipython-input-101-fe8130e75d40>:4: DataConversionWarning: A column-vector y was passed when a 1d array was expected. Please change the shape of y to (n_samples,), for example using ravel().\n",
            "  rf.fit(train_data, train_label)\n"
          ]
        },
        {
          "output_type": "stream",
          "name": "stdout",
          "text": [
            "--------Random Forest-------\n",
            "\n",
            "Confusion Matrix:\n",
            " [[ 7  0  3  0  0  1  2  0  3  1]\n",
            " [ 1 16  1  0  0  0  0  0  0  0]\n",
            " [ 1  0 10  2  0  3  0  0  1  1]\n",
            " [ 0  0  0 13  2  0  2  0  0  1]\n",
            " [ 0  0  0  2 12  0  1  1  1  1]\n",
            " [ 1  1  0  1  0 14  0  0  0  1]\n",
            " [ 0  0  0  0  0  0 16  1  0  1]\n",
            " [ 0  0  0  0  0  0  0 17  1  0]\n",
            " [ 0  0  0  0  1  1  0  3 13  0]\n",
            " [ 0  0  4  1  0  1  0  0  1 12]]\n",
            "\n",
            "Classification Report:\n",
            "               precision    recall  f1-score   support\n",
            "\n",
            "           0       0.70      0.41      0.52        17\n",
            "           1       0.94      0.89      0.91        18\n",
            "           2       0.56      0.56      0.56        18\n",
            "           3       0.68      0.72      0.70        18\n",
            "           4       0.80      0.67      0.73        18\n",
            "           5       0.70      0.78      0.74        18\n",
            "           6       0.76      0.89      0.82        18\n",
            "           7       0.77      0.94      0.85        18\n",
            "           8       0.65      0.72      0.68        18\n",
            "           9       0.67      0.63      0.65        19\n",
            "\n",
            "    accuracy                           0.72       180\n",
            "   macro avg       0.72      0.72      0.72       180\n",
            "weighted avg       0.72      0.72      0.72       180\n",
            "\n",
            "\n",
            "Accuracy Score:\n",
            " 0.7222222222222222\n",
            "\n",
            "Presicion Score:\n",
            " 0.6233595546255393\n",
            "\n",
            "Recall Score:\n",
            " 0.5897488820089439\n",
            "\n",
            "F1_Score Score:\n",
            " 0.5901517396535584\n"
          ]
        }
      ]
    },
    {
      "cell_type": "code",
      "source": [
        "# SVM\n",
        "\n",
        "svm = SVC()\n",
        "svm.fit(train_data, train_label)\n",
        "svm_pred_wo_tune = svm.predict(valid_data)\n",
        "print(\"--------SVM-------\")\n",
        "print('\\nConfusion Matrix:\\n', confusion_matrix(valid_label, svm_pred_wo_tune))\n",
        "print('\\nClassification Report:\\n', classification_report(valid_label, svm_pred_wo_tune))\n",
        "print('\\nAccuracy Score:\\n', accuracy_score(valid_label, svm_pred_wo_tune))\n",
        "print('\\nPresicion Score:\\n', precision_score(valid_label, knn_pred_wo_tune, average= 'macro'))\n",
        "print('\\nRecall Score:\\n', recall_score(valid_label, knn_pred_wo_tune, average= 'macro'))\n",
        "print('\\nF1_Score Score:\\n', f1_score(valid_label, knn_pred_wo_tune, average= 'macro'))"
      ],
      "metadata": {
        "colab": {
          "base_uri": "https://localhost:8080/"
        },
        "id": "NzQOzZDUeRW5",
        "outputId": "103a20d1-1f4d-48a7-9109-3a38ba763aef"
      },
      "execution_count": 102,
      "outputs": [
        {
          "output_type": "stream",
          "name": "stdout",
          "text": [
            "--------SVM-------\n",
            "\n",
            "Confusion Matrix:\n",
            " [[ 3  0  5  0  0  0  4  0  2  3]\n",
            " [ 1 16  0  0  0  0  0  0  0  1]\n",
            " [ 0  0 13  2  0  1  0  0  2  0]\n",
            " [ 0  0  0 10  1  0  2  0  0  5]\n",
            " [ 0  0  0  1  8  0  1  4  2  2]\n",
            " [ 0  1  2  2  0 11  0  1  0  1]\n",
            " [ 0  0  0  2  0  0 15  0  0  1]\n",
            " [ 0  0  1  1  0  0  0 15  0  1]\n",
            " [ 2  1  1  0  1  0  0  3 10  0]\n",
            " [ 0  0  4  2  0  1  1  0  1 10]]\n",
            "\n",
            "Classification Report:\n",
            "               precision    recall  f1-score   support\n",
            "\n",
            "           0       0.50      0.18      0.26        17\n",
            "           1       0.89      0.89      0.89        18\n",
            "           2       0.50      0.72      0.59        18\n",
            "           3       0.50      0.56      0.53        18\n",
            "           4       0.80      0.44      0.57        18\n",
            "           5       0.85      0.61      0.71        18\n",
            "           6       0.65      0.83      0.73        18\n",
            "           7       0.65      0.83      0.73        18\n",
            "           8       0.59      0.56      0.57        18\n",
            "           9       0.42      0.53      0.47        19\n",
            "\n",
            "    accuracy                           0.62       180\n",
            "   macro avg       0.63      0.61      0.60       180\n",
            "weighted avg       0.63      0.62      0.61       180\n",
            "\n",
            "\n",
            "Accuracy Score:\n",
            " 0.6166666666666667\n",
            "\n",
            "Presicion Score:\n",
            " 0.6233595546255393\n",
            "\n",
            "Recall Score:\n",
            " 0.5897488820089439\n",
            "\n",
            "F1_Score Score:\n",
            " 0.5901517396535584\n"
          ]
        },
        {
          "output_type": "stream",
          "name": "stderr",
          "text": [
            "/usr/local/lib/python3.9/dist-packages/sklearn/utils/validation.py:1143: DataConversionWarning: A column-vector y was passed when a 1d array was expected. Please change the shape of y to (n_samples, ), for example using ravel().\n",
            "  y = column_or_1d(y, warn=True)\n"
          ]
        }
      ]
    },
    {
      "cell_type": "code",
      "source": [
        "# Logistic Regression\n",
        "\n",
        "log_reg = LogisticRegression()\n",
        "log_reg.fit(train_data, train_label)\n",
        "log_reg_pred_wo_tune = log_reg.predict(valid_data)\n",
        "print(\"--------Logistic Regression-------\")\n",
        "print('\\nConfusion Matrix:\\n', confusion_matrix(valid_label, log_reg_pred_wo_tune))\n",
        "print('\\nClassification Report:\\n', classification_report(valid_label, log_reg_pred_wo_tune))\n",
        "print('\\nAccuracy Score:\\n', accuracy_score(valid_label, log_reg_pred_wo_tune))\n",
        "print('\\nPresicion Score:\\n', precision_score(valid_label, knn_pred_wo_tune, average= 'macro'))\n",
        "print('\\nRecall Score:\\n', recall_score(valid_label, knn_pred_wo_tune, average= 'macro'))\n",
        "print('\\nF1_Score Score:\\n', f1_score(valid_label, knn_pred_wo_tune, average= 'macro'))\n"
      ],
      "metadata": {
        "id": "ltR27c7keZ7T",
        "colab": {
          "base_uri": "https://localhost:8080/"
        },
        "outputId": "2d97d287-684c-444a-bb0b-a79abdebca1b"
      },
      "execution_count": 103,
      "outputs": [
        {
          "output_type": "stream",
          "name": "stderr",
          "text": [
            "/usr/local/lib/python3.9/dist-packages/sklearn/utils/validation.py:1143: DataConversionWarning: A column-vector y was passed when a 1d array was expected. Please change the shape of y to (n_samples, ), for example using ravel().\n",
            "  y = column_or_1d(y, warn=True)\n"
          ]
        },
        {
          "output_type": "stream",
          "name": "stdout",
          "text": [
            "--------Logistic Regression-------\n",
            "\n",
            "Confusion Matrix:\n",
            " [[ 4  0  4  0  0  0  5  0  3  1]\n",
            " [ 0 17  1  0  0  0  0  0  0  0]\n",
            " [ 0  1 11  1  0  1  0  1  1  2]\n",
            " [ 0  0  1  8  2  0  2  0  0  5]\n",
            " [ 0  0  0  1  9  0  1  4  2  1]\n",
            " [ 2  1  0  1  0 13  0  0  0  1]\n",
            " [ 0  0  0  2  0  0 14  0  0  2]\n",
            " [ 0  0  1  1  0  0  0 15  0  1]\n",
            " [ 1  1  0  0  2  0  0  2 12  0]\n",
            " [ 1  0  4  1  0  0  1  2  1  9]]\n",
            "\n",
            "Classification Report:\n",
            "               precision    recall  f1-score   support\n",
            "\n",
            "           0       0.50      0.24      0.32        17\n",
            "           1       0.85      0.94      0.89        18\n",
            "           2       0.50      0.61      0.55        18\n",
            "           3       0.53      0.44      0.48        18\n",
            "           4       0.69      0.50      0.58        18\n",
            "           5       0.93      0.72      0.81        18\n",
            "           6       0.61      0.78      0.68        18\n",
            "           7       0.62      0.83      0.71        18\n",
            "           8       0.63      0.67      0.65        18\n",
            "           9       0.41      0.47      0.44        19\n",
            "\n",
            "    accuracy                           0.62       180\n",
            "   macro avg       0.63      0.62      0.61       180\n",
            "weighted avg       0.63      0.62      0.61       180\n",
            "\n",
            "\n",
            "Accuracy Score:\n",
            " 0.6222222222222222\n",
            "\n",
            "Presicion Score:\n",
            " 0.6233595546255393\n",
            "\n",
            "Recall Score:\n",
            " 0.5897488820089439\n",
            "\n",
            "F1_Score Score:\n",
            " 0.5901517396535584\n"
          ]
        },
        {
          "output_type": "stream",
          "name": "stderr",
          "text": [
            "/usr/local/lib/python3.9/dist-packages/sklearn/linear_model/_logistic.py:458: ConvergenceWarning: lbfgs failed to converge (status=1):\n",
            "STOP: TOTAL NO. of ITERATIONS REACHED LIMIT.\n",
            "\n",
            "Increase the number of iterations (max_iter) or scale the data as shown in:\n",
            "    https://scikit-learn.org/stable/modules/preprocessing.html\n",
            "Please also refer to the documentation for alternative solver options:\n",
            "    https://scikit-learn.org/stable/modules/linear_model.html#logistic-regression\n",
            "  n_iter_i = _check_optimize_result(\n"
          ]
        }
      ]
    },
    {
      "cell_type": "code",
      "source": [
        "# pipeline parameter grid    \n",
        "parameters=[\n",
        "     {\n",
        "        'clf': LogisticRegression(),\n",
        "        'clf__penalty': ['l2', 'none'],\n",
        "        'clf__multi_class': ['ovr', 'multinomial'],\n",
        "        'clf__C': np.linspace(0.0001, 30, 2),\n",
        "\n",
        "    },\n",
        "    {\n",
        "        'clf': RandomForestClassifier(),\n",
        "        'clf__criterion': ['gini', 'entropy'],\n",
        "        'clf__n_estimators': [30, 200],\n",
        "        'clf__max_depth': [10, 20],\n",
        "    },\n",
        "\n",
        "    {   'clf': SVC(),\n",
        "        'clf__max_iter': [1, 10, 50],\n",
        "        'clf__C': [0.1,1,2,5, 10, 5,100],\n",
        "        'clf__kernel': ['linear', 'sigmoid'],\n",
        "    },\n",
        "    {\n",
        "        'clf': KNeighborsClassifier(),\n",
        "        'clf__n_neighbors': list(range(1, 50)),\n",
        "        'clf__metric': ['euclidean', 'manhattan', 'minkowski']\n",
        "    }\n",
        "]"
      ],
      "metadata": {
        "id": "0MsiZrw6efr-"
      },
      "execution_count": 104,
      "outputs": []
    },
    {
      "cell_type": "code",
      "source": [
        "train_label.T#. shape"
      ],
      "metadata": {
        "colab": {
          "base_uri": "https://localhost:8080/",
          "height": 154
        },
        "id": "BEP3KVP1gop6",
        "outputId": "1b03b04f-8fbd-4d7a-bfd5-62b832497d81"
      },
      "execution_count": 105,
      "outputs": [
        {
          "output_type": "execute_result",
          "data": {
            "text/plain": [
              "       672  836  644  665  25   651  892  236  768  619  ...  147  529  791  \\\n",
              "label    0    9    8    4    5    8    3    1    0    2  ...    4    3    4   \n",
              "\n",
              "       106  728  213  508  105  680  584  \n",
              "label    3    2    1    6    2    0    4  \n",
              "\n",
              "[1 rows x 576 columns]"
            ],
            "text/html": [
              "\n",
              "  <div id=\"df-2d9ea1d2-3b86-44ec-9c4c-04bbbc999a45\">\n",
              "    <div class=\"colab-df-container\">\n",
              "      <div>\n",
              "<style scoped>\n",
              "    .dataframe tbody tr th:only-of-type {\n",
              "        vertical-align: middle;\n",
              "    }\n",
              "\n",
              "    .dataframe tbody tr th {\n",
              "        vertical-align: top;\n",
              "    }\n",
              "\n",
              "    .dataframe thead th {\n",
              "        text-align: right;\n",
              "    }\n",
              "</style>\n",
              "<table border=\"1\" class=\"dataframe\">\n",
              "  <thead>\n",
              "    <tr style=\"text-align: right;\">\n",
              "      <th></th>\n",
              "      <th>672</th>\n",
              "      <th>836</th>\n",
              "      <th>644</th>\n",
              "      <th>665</th>\n",
              "      <th>25</th>\n",
              "      <th>651</th>\n",
              "      <th>892</th>\n",
              "      <th>236</th>\n",
              "      <th>768</th>\n",
              "      <th>619</th>\n",
              "      <th>...</th>\n",
              "      <th>147</th>\n",
              "      <th>529</th>\n",
              "      <th>791</th>\n",
              "      <th>106</th>\n",
              "      <th>728</th>\n",
              "      <th>213</th>\n",
              "      <th>508</th>\n",
              "      <th>105</th>\n",
              "      <th>680</th>\n",
              "      <th>584</th>\n",
              "    </tr>\n",
              "  </thead>\n",
              "  <tbody>\n",
              "    <tr>\n",
              "      <th>label</th>\n",
              "      <td>0</td>\n",
              "      <td>9</td>\n",
              "      <td>8</td>\n",
              "      <td>4</td>\n",
              "      <td>5</td>\n",
              "      <td>8</td>\n",
              "      <td>3</td>\n",
              "      <td>1</td>\n",
              "      <td>0</td>\n",
              "      <td>2</td>\n",
              "      <td>...</td>\n",
              "      <td>4</td>\n",
              "      <td>3</td>\n",
              "      <td>4</td>\n",
              "      <td>3</td>\n",
              "      <td>2</td>\n",
              "      <td>1</td>\n",
              "      <td>6</td>\n",
              "      <td>2</td>\n",
              "      <td>0</td>\n",
              "      <td>4</td>\n",
              "    </tr>\n",
              "  </tbody>\n",
              "</table>\n",
              "<p>1 rows × 576 columns</p>\n",
              "</div>\n",
              "      <button class=\"colab-df-convert\" onclick=\"convertToInteractive('df-2d9ea1d2-3b86-44ec-9c4c-04bbbc999a45')\"\n",
              "              title=\"Convert this dataframe to an interactive table.\"\n",
              "              style=\"display:none;\">\n",
              "        \n",
              "  <svg xmlns=\"http://www.w3.org/2000/svg\" height=\"24px\"viewBox=\"0 0 24 24\"\n",
              "       width=\"24px\">\n",
              "    <path d=\"M0 0h24v24H0V0z\" fill=\"none\"/>\n",
              "    <path d=\"M18.56 5.44l.94 2.06.94-2.06 2.06-.94-2.06-.94-.94-2.06-.94 2.06-2.06.94zm-11 1L8.5 8.5l.94-2.06 2.06-.94-2.06-.94L8.5 2.5l-.94 2.06-2.06.94zm10 10l.94 2.06.94-2.06 2.06-.94-2.06-.94-.94-2.06-.94 2.06-2.06.94z\"/><path d=\"M17.41 7.96l-1.37-1.37c-.4-.4-.92-.59-1.43-.59-.52 0-1.04.2-1.43.59L10.3 9.45l-7.72 7.72c-.78.78-.78 2.05 0 2.83L4 21.41c.39.39.9.59 1.41.59.51 0 1.02-.2 1.41-.59l7.78-7.78 2.81-2.81c.8-.78.8-2.07 0-2.86zM5.41 20L4 18.59l7.72-7.72 1.47 1.35L5.41 20z\"/>\n",
              "  </svg>\n",
              "      </button>\n",
              "      \n",
              "  <style>\n",
              "    .colab-df-container {\n",
              "      display:flex;\n",
              "      flex-wrap:wrap;\n",
              "      gap: 12px;\n",
              "    }\n",
              "\n",
              "    .colab-df-convert {\n",
              "      background-color: #E8F0FE;\n",
              "      border: none;\n",
              "      border-radius: 50%;\n",
              "      cursor: pointer;\n",
              "      display: none;\n",
              "      fill: #1967D2;\n",
              "      height: 32px;\n",
              "      padding: 0 0 0 0;\n",
              "      width: 32px;\n",
              "    }\n",
              "\n",
              "    .colab-df-convert:hover {\n",
              "      background-color: #E2EBFA;\n",
              "      box-shadow: 0px 1px 2px rgba(60, 64, 67, 0.3), 0px 1px 3px 1px rgba(60, 64, 67, 0.15);\n",
              "      fill: #174EA6;\n",
              "    }\n",
              "\n",
              "    [theme=dark] .colab-df-convert {\n",
              "      background-color: #3B4455;\n",
              "      fill: #D2E3FC;\n",
              "    }\n",
              "\n",
              "    [theme=dark] .colab-df-convert:hover {\n",
              "      background-color: #434B5C;\n",
              "      box-shadow: 0px 1px 3px 1px rgba(0, 0, 0, 0.15);\n",
              "      filter: drop-shadow(0px 1px 2px rgba(0, 0, 0, 0.3));\n",
              "      fill: #FFFFFF;\n",
              "    }\n",
              "  </style>\n",
              "\n",
              "      <script>\n",
              "        const buttonEl =\n",
              "          document.querySelector('#df-2d9ea1d2-3b86-44ec-9c4c-04bbbc999a45 button.colab-df-convert');\n",
              "        buttonEl.style.display =\n",
              "          google.colab.kernel.accessAllowed ? 'block' : 'none';\n",
              "\n",
              "        async function convertToInteractive(key) {\n",
              "          const element = document.querySelector('#df-2d9ea1d2-3b86-44ec-9c4c-04bbbc999a45');\n",
              "          const dataTable =\n",
              "            await google.colab.kernel.invokeFunction('convertToInteractive',\n",
              "                                                     [key], {});\n",
              "          if (!dataTable) return;\n",
              "\n",
              "          const docLinkHtml = 'Like what you see? Visit the ' +\n",
              "            '<a target=\"_blank\" href=https://colab.research.google.com/notebooks/data_table.ipynb>data table notebook</a>'\n",
              "            + ' to learn more about interactive tables.';\n",
              "          element.innerHTML = '';\n",
              "          dataTable['output_type'] = 'display_data';\n",
              "          await google.colab.output.renderOutput(dataTable, element);\n",
              "          const docLink = document.createElement('div');\n",
              "          docLink.innerHTML = docLinkHtml;\n",
              "          element.appendChild(docLink);\n",
              "        }\n",
              "      </script>\n",
              "    </div>\n",
              "  </div>\n",
              "  "
            ]
          },
          "metadata": {},
          "execution_count": 105
        }
      ]
    },
    {
      "cell_type": "code",
      "source": [
        "# storing the best hyperparameters for all the combinations\n",
        "results = []\n",
        "\n",
        "for model in parameters: \n",
        "    clf = model.pop('clf')\n",
        "    # print(f\"\\nStarted {str(clf)}\")\n",
        "    # print(\"-------------------------------------------\")\n",
        "    pipeline = Pipeline([\n",
        "    (\"select\", SelectKBest(score_func = chi2, k=2)),\n",
        "    (\"clf\", clf)])\n",
        "    print(\"\\nStarted GridSearchCV\")\n",
        "    print(\"-------------------------------------------\")\n",
        "    grid_model = GridSearchCV(pipeline, model, verbose=2, cv=5\n",
        "                                  , scoring='f1_macro', error_score='raise')\n",
        "    grid_model.fit(train_data, train_label)\n",
        "    print(\"Done\")\n",
        "    print(f\"Training Score: {grid_model.best_score_}\")\n",
        "    print(f\"Parameters: {grid_model.best_params_}\") \n",
        "    print(f\"Best Classifier: {grid_model.best_estimator_}\")        \n",
        "    results.append({\n",
        "            'Model': clf,\n",
        "            'Best_Score': grid_model.best_score_,\n",
        "            'Best_Params': grid_model.best_params_\n",
        "    })\n",
        "\n",
        "print(results)  "
      ],
      "metadata": {
        "id": "Nx01fHiYegOD",
        "colab": {
          "base_uri": "https://localhost:8080/"
        },
        "outputId": "658eb042-5d5d-4957-fa43-1689af706b6e"
      },
      "execution_count": 106,
      "outputs": [
        {
          "output_type": "stream",
          "name": "stderr",
          "text": [
            "/usr/local/lib/python3.9/dist-packages/sklearn/utils/validation.py:1143: DataConversionWarning: A column-vector y was passed when a 1d array was expected. Please change the shape of y to (n_samples, ), for example using ravel().\n",
            "  y = column_or_1d(y, warn=True)\n"
          ]
        },
        {
          "output_type": "stream",
          "name": "stdout",
          "text": [
            "\n",
            "Started GridSearchCV\n",
            "-------------------------------------------\n",
            "Fitting 5 folds for each of 8 candidates, totalling 40 fits\n",
            "[CV] END clf__C=0.0001, clf__multi_class=ovr, clf__penalty=l2; total time=   0.1s\n",
            "[CV] END clf__C=0.0001, clf__multi_class=ovr, clf__penalty=l2; total time=   0.0s\n",
            "[CV] END clf__C=0.0001, clf__multi_class=ovr, clf__penalty=l2; total time=   0.0s\n"
          ]
        },
        {
          "output_type": "stream",
          "name": "stderr",
          "text": [
            "/usr/local/lib/python3.9/dist-packages/sklearn/utils/validation.py:1143: DataConversionWarning: A column-vector y was passed when a 1d array was expected. Please change the shape of y to (n_samples, ), for example using ravel().\n",
            "  y = column_or_1d(y, warn=True)\n",
            "/usr/local/lib/python3.9/dist-packages/sklearn/utils/validation.py:1143: DataConversionWarning: A column-vector y was passed when a 1d array was expected. Please change the shape of y to (n_samples, ), for example using ravel().\n",
            "  y = column_or_1d(y, warn=True)\n",
            "/usr/local/lib/python3.9/dist-packages/sklearn/utils/validation.py:1143: DataConversionWarning: A column-vector y was passed when a 1d array was expected. Please change the shape of y to (n_samples, ), for example using ravel().\n",
            "  y = column_or_1d(y, warn=True)\n",
            "/usr/local/lib/python3.9/dist-packages/sklearn/utils/validation.py:1143: DataConversionWarning: A column-vector y was passed when a 1d array was expected. Please change the shape of y to (n_samples, ), for example using ravel().\n",
            "  y = column_or_1d(y, warn=True)\n",
            "/usr/local/lib/python3.9/dist-packages/sklearn/linear_model/_logistic.py:1173: FutureWarning: `penalty='none'`has been deprecated in 1.2 and will be removed in 1.4. To keep the past behaviour, set `penalty=None`.\n",
            "  warnings.warn(\n",
            "/usr/local/lib/python3.9/dist-packages/sklearn/linear_model/_logistic.py:1181: UserWarning: Setting penalty=None will ignore the C and l1_ratio parameters\n",
            "  warnings.warn(\n",
            "/usr/local/lib/python3.9/dist-packages/sklearn/utils/validation.py:1143: DataConversionWarning: A column-vector y was passed when a 1d array was expected. Please change the shape of y to (n_samples, ), for example using ravel().\n",
            "  y = column_or_1d(y, warn=True)\n"
          ]
        },
        {
          "output_type": "stream",
          "name": "stdout",
          "text": [
            "[CV] END clf__C=0.0001, clf__multi_class=ovr, clf__penalty=l2; total time=   0.1s\n",
            "[CV] END clf__C=0.0001, clf__multi_class=ovr, clf__penalty=l2; total time=   0.1s\n",
            "[CV] END clf__C=0.0001, clf__multi_class=ovr, clf__penalty=none; total time=   0.1s\n",
            "[CV] END clf__C=0.0001, clf__multi_class=ovr, clf__penalty=none; total time=   0.1s\n"
          ]
        },
        {
          "output_type": "stream",
          "name": "stderr",
          "text": [
            "/usr/local/lib/python3.9/dist-packages/sklearn/linear_model/_logistic.py:1173: FutureWarning: `penalty='none'`has been deprecated in 1.2 and will be removed in 1.4. To keep the past behaviour, set `penalty=None`.\n",
            "  warnings.warn(\n",
            "/usr/local/lib/python3.9/dist-packages/sklearn/linear_model/_logistic.py:1181: UserWarning: Setting penalty=None will ignore the C and l1_ratio parameters\n",
            "  warnings.warn(\n",
            "/usr/local/lib/python3.9/dist-packages/sklearn/utils/validation.py:1143: DataConversionWarning: A column-vector y was passed when a 1d array was expected. Please change the shape of y to (n_samples, ), for example using ravel().\n",
            "  y = column_or_1d(y, warn=True)\n",
            "/usr/local/lib/python3.9/dist-packages/sklearn/linear_model/_logistic.py:1173: FutureWarning: `penalty='none'`has been deprecated in 1.2 and will be removed in 1.4. To keep the past behaviour, set `penalty=None`.\n",
            "  warnings.warn(\n",
            "/usr/local/lib/python3.9/dist-packages/sklearn/linear_model/_logistic.py:1181: UserWarning: Setting penalty=None will ignore the C and l1_ratio parameters\n",
            "  warnings.warn(\n",
            "/usr/local/lib/python3.9/dist-packages/sklearn/utils/validation.py:1143: DataConversionWarning: A column-vector y was passed when a 1d array was expected. Please change the shape of y to (n_samples, ), for example using ravel().\n",
            "  y = column_or_1d(y, warn=True)\n"
          ]
        },
        {
          "output_type": "stream",
          "name": "stdout",
          "text": [
            "[CV] END clf__C=0.0001, clf__multi_class=ovr, clf__penalty=none; total time=   0.1s\n",
            "[CV] END clf__C=0.0001, clf__multi_class=ovr, clf__penalty=none; total time=   0.0s\n"
          ]
        },
        {
          "output_type": "stream",
          "name": "stderr",
          "text": [
            "/usr/local/lib/python3.9/dist-packages/sklearn/linear_model/_logistic.py:1173: FutureWarning: `penalty='none'`has been deprecated in 1.2 and will be removed in 1.4. To keep the past behaviour, set `penalty=None`.\n",
            "  warnings.warn(\n",
            "/usr/local/lib/python3.9/dist-packages/sklearn/linear_model/_logistic.py:1181: UserWarning: Setting penalty=None will ignore the C and l1_ratio parameters\n",
            "  warnings.warn(\n",
            "/usr/local/lib/python3.9/dist-packages/sklearn/utils/validation.py:1143: DataConversionWarning: A column-vector y was passed when a 1d array was expected. Please change the shape of y to (n_samples, ), for example using ravel().\n",
            "  y = column_or_1d(y, warn=True)\n",
            "/usr/local/lib/python3.9/dist-packages/sklearn/linear_model/_logistic.py:1173: FutureWarning: `penalty='none'`has been deprecated in 1.2 and will be removed in 1.4. To keep the past behaviour, set `penalty=None`.\n",
            "  warnings.warn(\n",
            "/usr/local/lib/python3.9/dist-packages/sklearn/linear_model/_logistic.py:1181: UserWarning: Setting penalty=None will ignore the C and l1_ratio parameters\n",
            "  warnings.warn(\n",
            "/usr/local/lib/python3.9/dist-packages/sklearn/utils/validation.py:1143: DataConversionWarning: A column-vector y was passed when a 1d array was expected. Please change the shape of y to (n_samples, ), for example using ravel().\n",
            "  y = column_or_1d(y, warn=True)\n"
          ]
        },
        {
          "output_type": "stream",
          "name": "stdout",
          "text": [
            "[CV] END clf__C=0.0001, clf__multi_class=ovr, clf__penalty=none; total time=   0.1s\n",
            "[CV] END clf__C=0.0001, clf__multi_class=multinomial, clf__penalty=l2; total time=   0.0s\n",
            "[CV] END clf__C=0.0001, clf__multi_class=multinomial, clf__penalty=l2; total time=   0.0s\n",
            "[CV] END clf__C=0.0001, clf__multi_class=multinomial, clf__penalty=l2; total time=   0.0s\n"
          ]
        },
        {
          "output_type": "stream",
          "name": "stderr",
          "text": [
            "/usr/local/lib/python3.9/dist-packages/sklearn/utils/validation.py:1143: DataConversionWarning: A column-vector y was passed when a 1d array was expected. Please change the shape of y to (n_samples, ), for example using ravel().\n",
            "  y = column_or_1d(y, warn=True)\n",
            "/usr/local/lib/python3.9/dist-packages/sklearn/utils/validation.py:1143: DataConversionWarning: A column-vector y was passed when a 1d array was expected. Please change the shape of y to (n_samples, ), for example using ravel().\n",
            "  y = column_or_1d(y, warn=True)\n",
            "/usr/local/lib/python3.9/dist-packages/sklearn/utils/validation.py:1143: DataConversionWarning: A column-vector y was passed when a 1d array was expected. Please change the shape of y to (n_samples, ), for example using ravel().\n",
            "  y = column_or_1d(y, warn=True)\n",
            "/usr/local/lib/python3.9/dist-packages/sklearn/utils/validation.py:1143: DataConversionWarning: A column-vector y was passed when a 1d array was expected. Please change the shape of y to (n_samples, ), for example using ravel().\n",
            "  y = column_or_1d(y, warn=True)\n"
          ]
        },
        {
          "output_type": "stream",
          "name": "stdout",
          "text": [
            "[CV] END clf__C=0.0001, clf__multi_class=multinomial, clf__penalty=l2; total time=   0.0s\n",
            "[CV] END clf__C=0.0001, clf__multi_class=multinomial, clf__penalty=l2; total time=   0.0s\n",
            "[CV] END clf__C=0.0001, clf__multi_class=multinomial, clf__penalty=none; total time=   0.0s\n"
          ]
        },
        {
          "output_type": "stream",
          "name": "stderr",
          "text": [
            "/usr/local/lib/python3.9/dist-packages/sklearn/utils/validation.py:1143: DataConversionWarning: A column-vector y was passed when a 1d array was expected. Please change the shape of y to (n_samples, ), for example using ravel().\n",
            "  y = column_or_1d(y, warn=True)\n",
            "/usr/local/lib/python3.9/dist-packages/sklearn/linear_model/_logistic.py:1173: FutureWarning: `penalty='none'`has been deprecated in 1.2 and will be removed in 1.4. To keep the past behaviour, set `penalty=None`.\n",
            "  warnings.warn(\n",
            "/usr/local/lib/python3.9/dist-packages/sklearn/linear_model/_logistic.py:1181: UserWarning: Setting penalty=None will ignore the C and l1_ratio parameters\n",
            "  warnings.warn(\n",
            "/usr/local/lib/python3.9/dist-packages/sklearn/utils/validation.py:1143: DataConversionWarning: A column-vector y was passed when a 1d array was expected. Please change the shape of y to (n_samples, ), for example using ravel().\n",
            "  y = column_or_1d(y, warn=True)\n",
            "/usr/local/lib/python3.9/dist-packages/sklearn/linear_model/_logistic.py:458: ConvergenceWarning: lbfgs failed to converge (status=1):\n",
            "STOP: TOTAL NO. of ITERATIONS REACHED LIMIT.\n",
            "\n",
            "Increase the number of iterations (max_iter) or scale the data as shown in:\n",
            "    https://scikit-learn.org/stable/modules/preprocessing.html\n",
            "Please also refer to the documentation for alternative solver options:\n",
            "    https://scikit-learn.org/stable/modules/linear_model.html#logistic-regression\n",
            "  n_iter_i = _check_optimize_result(\n",
            "/usr/local/lib/python3.9/dist-packages/sklearn/linear_model/_logistic.py:1173: FutureWarning: `penalty='none'`has been deprecated in 1.2 and will be removed in 1.4. To keep the past behaviour, set `penalty=None`.\n",
            "  warnings.warn(\n",
            "/usr/local/lib/python3.9/dist-packages/sklearn/linear_model/_logistic.py:1181: UserWarning: Setting penalty=None will ignore the C and l1_ratio parameters\n",
            "  warnings.warn(\n",
            "/usr/local/lib/python3.9/dist-packages/sklearn/utils/validation.py:1143: DataConversionWarning: A column-vector y was passed when a 1d array was expected. Please change the shape of y to (n_samples, ), for example using ravel().\n",
            "  y = column_or_1d(y, warn=True)\n"
          ]
        },
        {
          "output_type": "stream",
          "name": "stdout",
          "text": [
            "[CV] END clf__C=0.0001, clf__multi_class=multinomial, clf__penalty=none; total time=   0.1s\n"
          ]
        },
        {
          "output_type": "stream",
          "name": "stderr",
          "text": [
            "/usr/local/lib/python3.9/dist-packages/sklearn/linear_model/_logistic.py:458: ConvergenceWarning: lbfgs failed to converge (status=1):\n",
            "STOP: TOTAL NO. of ITERATIONS REACHED LIMIT.\n",
            "\n",
            "Increase the number of iterations (max_iter) or scale the data as shown in:\n",
            "    https://scikit-learn.org/stable/modules/preprocessing.html\n",
            "Please also refer to the documentation for alternative solver options:\n",
            "    https://scikit-learn.org/stable/modules/linear_model.html#logistic-regression\n",
            "  n_iter_i = _check_optimize_result(\n",
            "/usr/local/lib/python3.9/dist-packages/sklearn/linear_model/_logistic.py:1173: FutureWarning: `penalty='none'`has been deprecated in 1.2 and will be removed in 1.4. To keep the past behaviour, set `penalty=None`.\n",
            "  warnings.warn(\n",
            "/usr/local/lib/python3.9/dist-packages/sklearn/linear_model/_logistic.py:1181: UserWarning: Setting penalty=None will ignore the C and l1_ratio parameters\n",
            "  warnings.warn(\n",
            "/usr/local/lib/python3.9/dist-packages/sklearn/utils/validation.py:1143: DataConversionWarning: A column-vector y was passed when a 1d array was expected. Please change the shape of y to (n_samples, ), for example using ravel().\n",
            "  y = column_or_1d(y, warn=True)\n",
            "/usr/local/lib/python3.9/dist-packages/sklearn/linear_model/_logistic.py:458: ConvergenceWarning: lbfgs failed to converge (status=1):\n",
            "STOP: TOTAL NO. of ITERATIONS REACHED LIMIT.\n",
            "\n",
            "Increase the number of iterations (max_iter) or scale the data as shown in:\n",
            "    https://scikit-learn.org/stable/modules/preprocessing.html\n",
            "Please also refer to the documentation for alternative solver options:\n",
            "    https://scikit-learn.org/stable/modules/linear_model.html#logistic-regression\n",
            "  n_iter_i = _check_optimize_result(\n",
            "/usr/local/lib/python3.9/dist-packages/sklearn/linear_model/_logistic.py:1173: FutureWarning: `penalty='none'`has been deprecated in 1.2 and will be removed in 1.4. To keep the past behaviour, set `penalty=None`.\n",
            "  warnings.warn(\n",
            "/usr/local/lib/python3.9/dist-packages/sklearn/linear_model/_logistic.py:1181: UserWarning: Setting penalty=None will ignore the C and l1_ratio parameters\n",
            "  warnings.warn(\n",
            "/usr/local/lib/python3.9/dist-packages/sklearn/utils/validation.py:1143: DataConversionWarning: A column-vector y was passed when a 1d array was expected. Please change the shape of y to (n_samples, ), for example using ravel().\n",
            "  y = column_or_1d(y, warn=True)\n",
            "/usr/local/lib/python3.9/dist-packages/sklearn/linear_model/_logistic.py:458: ConvergenceWarning: lbfgs failed to converge (status=1):\n",
            "STOP: TOTAL NO. of ITERATIONS REACHED LIMIT.\n",
            "\n",
            "Increase the number of iterations (max_iter) or scale the data as shown in:\n",
            "    https://scikit-learn.org/stable/modules/preprocessing.html\n",
            "Please also refer to the documentation for alternative solver options:\n",
            "    https://scikit-learn.org/stable/modules/linear_model.html#logistic-regression\n",
            "  n_iter_i = _check_optimize_result(\n",
            "/usr/local/lib/python3.9/dist-packages/sklearn/linear_model/_logistic.py:1173: FutureWarning: `penalty='none'`has been deprecated in 1.2 and will be removed in 1.4. To keep the past behaviour, set `penalty=None`.\n",
            "  warnings.warn(\n",
            "/usr/local/lib/python3.9/dist-packages/sklearn/linear_model/_logistic.py:1181: UserWarning: Setting penalty=None will ignore the C and l1_ratio parameters\n",
            "  warnings.warn(\n",
            "/usr/local/lib/python3.9/dist-packages/sklearn/utils/validation.py:1143: DataConversionWarning: A column-vector y was passed when a 1d array was expected. Please change the shape of y to (n_samples, ), for example using ravel().\n",
            "  y = column_or_1d(y, warn=True)\n",
            "/usr/local/lib/python3.9/dist-packages/sklearn/linear_model/_logistic.py:458: ConvergenceWarning: lbfgs failed to converge (status=1):\n",
            "STOP: TOTAL NO. of ITERATIONS REACHED LIMIT.\n",
            "\n",
            "Increase the number of iterations (max_iter) or scale the data as shown in:\n",
            "    https://scikit-learn.org/stable/modules/preprocessing.html\n",
            "Please also refer to the documentation for alternative solver options:\n",
            "    https://scikit-learn.org/stable/modules/linear_model.html#logistic-regression\n",
            "  n_iter_i = _check_optimize_result(\n"
          ]
        },
        {
          "output_type": "stream",
          "name": "stdout",
          "text": [
            "[CV] END clf__C=0.0001, clf__multi_class=multinomial, clf__penalty=none; total time=   0.1s\n",
            "[CV] END clf__C=0.0001, clf__multi_class=multinomial, clf__penalty=none; total time=   0.1s\n",
            "[CV] END clf__C=0.0001, clf__multi_class=multinomial, clf__penalty=none; total time=   0.1s\n",
            "[CV] END .clf__C=30.0, clf__multi_class=ovr, clf__penalty=l2; total time=   0.1s\n"
          ]
        },
        {
          "output_type": "stream",
          "name": "stderr",
          "text": [
            "/usr/local/lib/python3.9/dist-packages/sklearn/utils/validation.py:1143: DataConversionWarning: A column-vector y was passed when a 1d array was expected. Please change the shape of y to (n_samples, ), for example using ravel().\n",
            "  y = column_or_1d(y, warn=True)\n",
            "/usr/local/lib/python3.9/dist-packages/sklearn/utils/validation.py:1143: DataConversionWarning: A column-vector y was passed when a 1d array was expected. Please change the shape of y to (n_samples, ), for example using ravel().\n",
            "  y = column_or_1d(y, warn=True)\n",
            "/usr/local/lib/python3.9/dist-packages/sklearn/utils/validation.py:1143: DataConversionWarning: A column-vector y was passed when a 1d array was expected. Please change the shape of y to (n_samples, ), for example using ravel().\n",
            "  y = column_or_1d(y, warn=True)\n",
            "/usr/local/lib/python3.9/dist-packages/sklearn/utils/validation.py:1143: DataConversionWarning: A column-vector y was passed when a 1d array was expected. Please change the shape of y to (n_samples, ), for example using ravel().\n",
            "  y = column_or_1d(y, warn=True)\n"
          ]
        },
        {
          "output_type": "stream",
          "name": "stdout",
          "text": [
            "[CV] END .clf__C=30.0, clf__multi_class=ovr, clf__penalty=l2; total time=   0.1s\n",
            "[CV] END .clf__C=30.0, clf__multi_class=ovr, clf__penalty=l2; total time=   0.1s\n",
            "[CV] END .clf__C=30.0, clf__multi_class=ovr, clf__penalty=l2; total time=   0.1s\n",
            "[CV] END .clf__C=30.0, clf__multi_class=ovr, clf__penalty=l2; total time=   0.1s\n"
          ]
        },
        {
          "output_type": "stream",
          "name": "stderr",
          "text": [
            "/usr/local/lib/python3.9/dist-packages/sklearn/utils/validation.py:1143: DataConversionWarning: A column-vector y was passed when a 1d array was expected. Please change the shape of y to (n_samples, ), for example using ravel().\n",
            "  y = column_or_1d(y, warn=True)\n",
            "/usr/local/lib/python3.9/dist-packages/sklearn/linear_model/_logistic.py:1173: FutureWarning: `penalty='none'`has been deprecated in 1.2 and will be removed in 1.4. To keep the past behaviour, set `penalty=None`.\n",
            "  warnings.warn(\n",
            "/usr/local/lib/python3.9/dist-packages/sklearn/linear_model/_logistic.py:1181: UserWarning: Setting penalty=None will ignore the C and l1_ratio parameters\n",
            "  warnings.warn(\n",
            "/usr/local/lib/python3.9/dist-packages/sklearn/utils/validation.py:1143: DataConversionWarning: A column-vector y was passed when a 1d array was expected. Please change the shape of y to (n_samples, ), for example using ravel().\n",
            "  y = column_or_1d(y, warn=True)\n",
            "/usr/local/lib/python3.9/dist-packages/sklearn/linear_model/_logistic.py:1173: FutureWarning: `penalty='none'`has been deprecated in 1.2 and will be removed in 1.4. To keep the past behaviour, set `penalty=None`.\n",
            "  warnings.warn(\n",
            "/usr/local/lib/python3.9/dist-packages/sklearn/linear_model/_logistic.py:1181: UserWarning: Setting penalty=None will ignore the C and l1_ratio parameters\n",
            "  warnings.warn(\n",
            "/usr/local/lib/python3.9/dist-packages/sklearn/utils/validation.py:1143: DataConversionWarning: A column-vector y was passed when a 1d array was expected. Please change the shape of y to (n_samples, ), for example using ravel().\n",
            "  y = column_or_1d(y, warn=True)\n",
            "/usr/local/lib/python3.9/dist-packages/sklearn/linear_model/_logistic.py:1173: FutureWarning: `penalty='none'`has been deprecated in 1.2 and will be removed in 1.4. To keep the past behaviour, set `penalty=None`.\n",
            "  warnings.warn(\n",
            "/usr/local/lib/python3.9/dist-packages/sklearn/linear_model/_logistic.py:1181: UserWarning: Setting penalty=None will ignore the C and l1_ratio parameters\n",
            "  warnings.warn(\n",
            "/usr/local/lib/python3.9/dist-packages/sklearn/utils/validation.py:1143: DataConversionWarning: A column-vector y was passed when a 1d array was expected. Please change the shape of y to (n_samples, ), for example using ravel().\n",
            "  y = column_or_1d(y, warn=True)\n"
          ]
        },
        {
          "output_type": "stream",
          "name": "stdout",
          "text": [
            "[CV] END clf__C=30.0, clf__multi_class=ovr, clf__penalty=none; total time=   0.1s\n",
            "[CV] END clf__C=30.0, clf__multi_class=ovr, clf__penalty=none; total time=   0.1s\n",
            "[CV] END clf__C=30.0, clf__multi_class=ovr, clf__penalty=none; total time=   0.1s\n",
            "[CV] END clf__C=30.0, clf__multi_class=ovr, clf__penalty=none; total time=   0.1s\n"
          ]
        },
        {
          "output_type": "stream",
          "name": "stderr",
          "text": [
            "/usr/local/lib/python3.9/dist-packages/sklearn/linear_model/_logistic.py:1173: FutureWarning: `penalty='none'`has been deprecated in 1.2 and will be removed in 1.4. To keep the past behaviour, set `penalty=None`.\n",
            "  warnings.warn(\n",
            "/usr/local/lib/python3.9/dist-packages/sklearn/linear_model/_logistic.py:1181: UserWarning: Setting penalty=None will ignore the C and l1_ratio parameters\n",
            "  warnings.warn(\n",
            "/usr/local/lib/python3.9/dist-packages/sklearn/utils/validation.py:1143: DataConversionWarning: A column-vector y was passed when a 1d array was expected. Please change the shape of y to (n_samples, ), for example using ravel().\n",
            "  y = column_or_1d(y, warn=True)\n",
            "/usr/local/lib/python3.9/dist-packages/sklearn/linear_model/_logistic.py:1173: FutureWarning: `penalty='none'`has been deprecated in 1.2 and will be removed in 1.4. To keep the past behaviour, set `penalty=None`.\n",
            "  warnings.warn(\n",
            "/usr/local/lib/python3.9/dist-packages/sklearn/linear_model/_logistic.py:1181: UserWarning: Setting penalty=None will ignore the C and l1_ratio parameters\n",
            "  warnings.warn(\n",
            "/usr/local/lib/python3.9/dist-packages/sklearn/utils/validation.py:1143: DataConversionWarning: A column-vector y was passed when a 1d array was expected. Please change the shape of y to (n_samples, ), for example using ravel().\n",
            "  y = column_or_1d(y, warn=True)\n",
            "/usr/local/lib/python3.9/dist-packages/sklearn/utils/validation.py:1143: DataConversionWarning: A column-vector y was passed when a 1d array was expected. Please change the shape of y to (n_samples, ), for example using ravel().\n",
            "  y = column_or_1d(y, warn=True)\n",
            "/usr/local/lib/python3.9/dist-packages/sklearn/linear_model/_logistic.py:458: ConvergenceWarning: lbfgs failed to converge (status=1):\n",
            "STOP: TOTAL NO. of ITERATIONS REACHED LIMIT.\n",
            "\n",
            "Increase the number of iterations (max_iter) or scale the data as shown in:\n",
            "    https://scikit-learn.org/stable/modules/preprocessing.html\n",
            "Please also refer to the documentation for alternative solver options:\n",
            "    https://scikit-learn.org/stable/modules/linear_model.html#logistic-regression\n",
            "  n_iter_i = _check_optimize_result(\n"
          ]
        },
        {
          "output_type": "stream",
          "name": "stdout",
          "text": [
            "[CV] END clf__C=30.0, clf__multi_class=ovr, clf__penalty=none; total time=   0.1s\n",
            "[CV] END clf__C=30.0, clf__multi_class=multinomial, clf__penalty=l2; total time=   0.1s\n",
            "[CV] END clf__C=30.0, clf__multi_class=multinomial, clf__penalty=l2; total time=   0.1s\n"
          ]
        },
        {
          "output_type": "stream",
          "name": "stderr",
          "text": [
            "/usr/local/lib/python3.9/dist-packages/sklearn/utils/validation.py:1143: DataConversionWarning: A column-vector y was passed when a 1d array was expected. Please change the shape of y to (n_samples, ), for example using ravel().\n",
            "  y = column_or_1d(y, warn=True)\n",
            "/usr/local/lib/python3.9/dist-packages/sklearn/linear_model/_logistic.py:458: ConvergenceWarning: lbfgs failed to converge (status=1):\n",
            "STOP: TOTAL NO. of ITERATIONS REACHED LIMIT.\n",
            "\n",
            "Increase the number of iterations (max_iter) or scale the data as shown in:\n",
            "    https://scikit-learn.org/stable/modules/preprocessing.html\n",
            "Please also refer to the documentation for alternative solver options:\n",
            "    https://scikit-learn.org/stable/modules/linear_model.html#logistic-regression\n",
            "  n_iter_i = _check_optimize_result(\n",
            "/usr/local/lib/python3.9/dist-packages/sklearn/utils/validation.py:1143: DataConversionWarning: A column-vector y was passed when a 1d array was expected. Please change the shape of y to (n_samples, ), for example using ravel().\n",
            "  y = column_or_1d(y, warn=True)\n"
          ]
        },
        {
          "output_type": "stream",
          "name": "stdout",
          "text": [
            "[CV] END clf__C=30.0, clf__multi_class=multinomial, clf__penalty=l2; total time=   0.1s\n"
          ]
        },
        {
          "output_type": "stream",
          "name": "stderr",
          "text": [
            "/usr/local/lib/python3.9/dist-packages/sklearn/linear_model/_logistic.py:458: ConvergenceWarning: lbfgs failed to converge (status=1):\n",
            "STOP: TOTAL NO. of ITERATIONS REACHED LIMIT.\n",
            "\n",
            "Increase the number of iterations (max_iter) or scale the data as shown in:\n",
            "    https://scikit-learn.org/stable/modules/preprocessing.html\n",
            "Please also refer to the documentation for alternative solver options:\n",
            "    https://scikit-learn.org/stable/modules/linear_model.html#logistic-regression\n",
            "  n_iter_i = _check_optimize_result(\n",
            "/usr/local/lib/python3.9/dist-packages/sklearn/utils/validation.py:1143: DataConversionWarning: A column-vector y was passed when a 1d array was expected. Please change the shape of y to (n_samples, ), for example using ravel().\n",
            "  y = column_or_1d(y, warn=True)\n",
            "/usr/local/lib/python3.9/dist-packages/sklearn/linear_model/_logistic.py:458: ConvergenceWarning: lbfgs failed to converge (status=1):\n",
            "STOP: TOTAL NO. of ITERATIONS REACHED LIMIT.\n",
            "\n",
            "Increase the number of iterations (max_iter) or scale the data as shown in:\n",
            "    https://scikit-learn.org/stable/modules/preprocessing.html\n",
            "Please also refer to the documentation for alternative solver options:\n",
            "    https://scikit-learn.org/stable/modules/linear_model.html#logistic-regression\n",
            "  n_iter_i = _check_optimize_result(\n",
            "/usr/local/lib/python3.9/dist-packages/sklearn/utils/validation.py:1143: DataConversionWarning: A column-vector y was passed when a 1d array was expected. Please change the shape of y to (n_samples, ), for example using ravel().\n",
            "  y = column_or_1d(y, warn=True)\n",
            "/usr/local/lib/python3.9/dist-packages/sklearn/linear_model/_logistic.py:458: ConvergenceWarning: lbfgs failed to converge (status=1):\n",
            "STOP: TOTAL NO. of ITERATIONS REACHED LIMIT.\n",
            "\n",
            "Increase the number of iterations (max_iter) or scale the data as shown in:\n",
            "    https://scikit-learn.org/stable/modules/preprocessing.html\n",
            "Please also refer to the documentation for alternative solver options:\n",
            "    https://scikit-learn.org/stable/modules/linear_model.html#logistic-regression\n",
            "  n_iter_i = _check_optimize_result(\n",
            "/usr/local/lib/python3.9/dist-packages/sklearn/linear_model/_logistic.py:1173: FutureWarning: `penalty='none'`has been deprecated in 1.2 and will be removed in 1.4. To keep the past behaviour, set `penalty=None`.\n",
            "  warnings.warn(\n",
            "/usr/local/lib/python3.9/dist-packages/sklearn/linear_model/_logistic.py:1181: UserWarning: Setting penalty=None will ignore the C and l1_ratio parameters\n",
            "  warnings.warn(\n",
            "/usr/local/lib/python3.9/dist-packages/sklearn/utils/validation.py:1143: DataConversionWarning: A column-vector y was passed when a 1d array was expected. Please change the shape of y to (n_samples, ), for example using ravel().\n",
            "  y = column_or_1d(y, warn=True)\n"
          ]
        },
        {
          "output_type": "stream",
          "name": "stdout",
          "text": [
            "[CV] END clf__C=30.0, clf__multi_class=multinomial, clf__penalty=l2; total time=   0.1s\n",
            "[CV] END clf__C=30.0, clf__multi_class=multinomial, clf__penalty=l2; total time=   0.1s\n",
            "[CV] END clf__C=30.0, clf__multi_class=multinomial, clf__penalty=none; total time=   0.1s\n"
          ]
        },
        {
          "output_type": "stream",
          "name": "stderr",
          "text": [
            "/usr/local/lib/python3.9/dist-packages/sklearn/linear_model/_logistic.py:458: ConvergenceWarning: lbfgs failed to converge (status=1):\n",
            "STOP: TOTAL NO. of ITERATIONS REACHED LIMIT.\n",
            "\n",
            "Increase the number of iterations (max_iter) or scale the data as shown in:\n",
            "    https://scikit-learn.org/stable/modules/preprocessing.html\n",
            "Please also refer to the documentation for alternative solver options:\n",
            "    https://scikit-learn.org/stable/modules/linear_model.html#logistic-regression\n",
            "  n_iter_i = _check_optimize_result(\n",
            "/usr/local/lib/python3.9/dist-packages/sklearn/linear_model/_logistic.py:1173: FutureWarning: `penalty='none'`has been deprecated in 1.2 and will be removed in 1.4. To keep the past behaviour, set `penalty=None`.\n",
            "  warnings.warn(\n",
            "/usr/local/lib/python3.9/dist-packages/sklearn/linear_model/_logistic.py:1181: UserWarning: Setting penalty=None will ignore the C and l1_ratio parameters\n",
            "  warnings.warn(\n",
            "/usr/local/lib/python3.9/dist-packages/sklearn/utils/validation.py:1143: DataConversionWarning: A column-vector y was passed when a 1d array was expected. Please change the shape of y to (n_samples, ), for example using ravel().\n",
            "  y = column_or_1d(y, warn=True)\n",
            "/usr/local/lib/python3.9/dist-packages/sklearn/linear_model/_logistic.py:458: ConvergenceWarning: lbfgs failed to converge (status=1):\n",
            "STOP: TOTAL NO. of ITERATIONS REACHED LIMIT.\n",
            "\n",
            "Increase the number of iterations (max_iter) or scale the data as shown in:\n",
            "    https://scikit-learn.org/stable/modules/preprocessing.html\n",
            "Please also refer to the documentation for alternative solver options:\n",
            "    https://scikit-learn.org/stable/modules/linear_model.html#logistic-regression\n",
            "  n_iter_i = _check_optimize_result(\n",
            "/usr/local/lib/python3.9/dist-packages/sklearn/linear_model/_logistic.py:1173: FutureWarning: `penalty='none'`has been deprecated in 1.2 and will be removed in 1.4. To keep the past behaviour, set `penalty=None`.\n",
            "  warnings.warn(\n",
            "/usr/local/lib/python3.9/dist-packages/sklearn/linear_model/_logistic.py:1181: UserWarning: Setting penalty=None will ignore the C and l1_ratio parameters\n",
            "  warnings.warn(\n",
            "/usr/local/lib/python3.9/dist-packages/sklearn/utils/validation.py:1143: DataConversionWarning: A column-vector y was passed when a 1d array was expected. Please change the shape of y to (n_samples, ), for example using ravel().\n",
            "  y = column_or_1d(y, warn=True)\n",
            "/usr/local/lib/python3.9/dist-packages/sklearn/linear_model/_logistic.py:458: ConvergenceWarning: lbfgs failed to converge (status=1):\n",
            "STOP: TOTAL NO. of ITERATIONS REACHED LIMIT.\n",
            "\n",
            "Increase the number of iterations (max_iter) or scale the data as shown in:\n",
            "    https://scikit-learn.org/stable/modules/preprocessing.html\n",
            "Please also refer to the documentation for alternative solver options:\n",
            "    https://scikit-learn.org/stable/modules/linear_model.html#logistic-regression\n",
            "  n_iter_i = _check_optimize_result(\n",
            "/usr/local/lib/python3.9/dist-packages/sklearn/linear_model/_logistic.py:1173: FutureWarning: `penalty='none'`has been deprecated in 1.2 and will be removed in 1.4. To keep the past behaviour, set `penalty=None`.\n",
            "  warnings.warn(\n",
            "/usr/local/lib/python3.9/dist-packages/sklearn/linear_model/_logistic.py:1181: UserWarning: Setting penalty=None will ignore the C and l1_ratio parameters\n",
            "  warnings.warn(\n",
            "/usr/local/lib/python3.9/dist-packages/sklearn/utils/validation.py:1143: DataConversionWarning: A column-vector y was passed when a 1d array was expected. Please change the shape of y to (n_samples, ), for example using ravel().\n",
            "  y = column_or_1d(y, warn=True)\n",
            "/usr/local/lib/python3.9/dist-packages/sklearn/linear_model/_logistic.py:458: ConvergenceWarning: lbfgs failed to converge (status=1):\n",
            "STOP: TOTAL NO. of ITERATIONS REACHED LIMIT.\n",
            "\n",
            "Increase the number of iterations (max_iter) or scale the data as shown in:\n",
            "    https://scikit-learn.org/stable/modules/preprocessing.html\n",
            "Please also refer to the documentation for alternative solver options:\n",
            "    https://scikit-learn.org/stable/modules/linear_model.html#logistic-regression\n",
            "  n_iter_i = _check_optimize_result(\n",
            "/usr/local/lib/python3.9/dist-packages/sklearn/linear_model/_logistic.py:1173: FutureWarning: `penalty='none'`has been deprecated in 1.2 and will be removed in 1.4. To keep the past behaviour, set `penalty=None`.\n",
            "  warnings.warn(\n",
            "/usr/local/lib/python3.9/dist-packages/sklearn/linear_model/_logistic.py:1181: UserWarning: Setting penalty=None will ignore the C and l1_ratio parameters\n",
            "  warnings.warn(\n",
            "/usr/local/lib/python3.9/dist-packages/sklearn/utils/validation.py:1143: DataConversionWarning: A column-vector y was passed when a 1d array was expected. Please change the shape of y to (n_samples, ), for example using ravel().\n",
            "  y = column_or_1d(y, warn=True)\n"
          ]
        },
        {
          "output_type": "stream",
          "name": "stdout",
          "text": [
            "[CV] END clf__C=30.0, clf__multi_class=multinomial, clf__penalty=none; total time=   0.1s\n",
            "[CV] END clf__C=30.0, clf__multi_class=multinomial, clf__penalty=none; total time=   0.0s\n",
            "[CV] END clf__C=30.0, clf__multi_class=multinomial, clf__penalty=none; total time=   0.1s\n",
            "[CV] END clf__C=30.0, clf__multi_class=multinomial, clf__penalty=none; total time=   0.1s\n"
          ]
        },
        {
          "output_type": "stream",
          "name": "stderr",
          "text": [
            "/usr/local/lib/python3.9/dist-packages/sklearn/linear_model/_logistic.py:458: ConvergenceWarning: lbfgs failed to converge (status=1):\n",
            "STOP: TOTAL NO. of ITERATIONS REACHED LIMIT.\n",
            "\n",
            "Increase the number of iterations (max_iter) or scale the data as shown in:\n",
            "    https://scikit-learn.org/stable/modules/preprocessing.html\n",
            "Please also refer to the documentation for alternative solver options:\n",
            "    https://scikit-learn.org/stable/modules/linear_model.html#logistic-regression\n",
            "  n_iter_i = _check_optimize_result(\n",
            "/usr/local/lib/python3.9/dist-packages/sklearn/linear_model/_logistic.py:1173: FutureWarning: `penalty='none'`has been deprecated in 1.2 and will be removed in 1.4. To keep the past behaviour, set `penalty=None`.\n",
            "  warnings.warn(\n",
            "/usr/local/lib/python3.9/dist-packages/sklearn/linear_model/_logistic.py:1181: UserWarning: Setting penalty=None will ignore the C and l1_ratio parameters\n",
            "  warnings.warn(\n",
            "/usr/local/lib/python3.9/dist-packages/sklearn/utils/validation.py:1143: DataConversionWarning: A column-vector y was passed when a 1d array was expected. Please change the shape of y to (n_samples, ), for example using ravel().\n",
            "  y = column_or_1d(y, warn=True)\n",
            "/usr/local/lib/python3.9/dist-packages/sklearn/pipeline.py:405: DataConversionWarning: A column-vector y was passed when a 1d array was expected. Please change the shape of y to (n_samples,), for example using ravel().\n",
            "  self._final_estimator.fit(Xt, y, **fit_params_last_step)\n",
            "/usr/local/lib/python3.9/dist-packages/sklearn/pipeline.py:405: DataConversionWarning: A column-vector y was passed when a 1d array was expected. Please change the shape of y to (n_samples,), for example using ravel().\n",
            "  self._final_estimator.fit(Xt, y, **fit_params_last_step)\n"
          ]
        },
        {
          "output_type": "stream",
          "name": "stdout",
          "text": [
            "Done\n",
            "Training Score: 0.29721123960412993\n",
            "Parameters: {'clf__C': 0.0001, 'clf__multi_class': 'ovr', 'clf__penalty': 'none'}\n",
            "Best Classifier: Pipeline(steps=[('select',\n",
            "                 SelectKBest(k=2,\n",
            "                             score_func=<function chi2 at 0x7f2295ba6310>)),\n",
            "                ('clf',\n",
            "                 LogisticRegression(C=0.0001, multi_class='ovr',\n",
            "                                    penalty='none'))])\n",
            "\n",
            "Started GridSearchCV\n",
            "-------------------------------------------\n",
            "Fitting 5 folds for each of 8 candidates, totalling 40 fits\n",
            "[CV] END clf__criterion=gini, clf__max_depth=10, clf__n_estimators=30; total time=   0.1s\n",
            "[CV] END clf__criterion=gini, clf__max_depth=10, clf__n_estimators=30; total time=   0.1s\n"
          ]
        },
        {
          "output_type": "stream",
          "name": "stderr",
          "text": [
            "/usr/local/lib/python3.9/dist-packages/sklearn/pipeline.py:405: DataConversionWarning: A column-vector y was passed when a 1d array was expected. Please change the shape of y to (n_samples,), for example using ravel().\n",
            "  self._final_estimator.fit(Xt, y, **fit_params_last_step)\n",
            "/usr/local/lib/python3.9/dist-packages/sklearn/pipeline.py:405: DataConversionWarning: A column-vector y was passed when a 1d array was expected. Please change the shape of y to (n_samples,), for example using ravel().\n",
            "  self._final_estimator.fit(Xt, y, **fit_params_last_step)\n"
          ]
        },
        {
          "output_type": "stream",
          "name": "stdout",
          "text": [
            "[CV] END clf__criterion=gini, clf__max_depth=10, clf__n_estimators=30; total time=   0.1s\n",
            "[CV] END clf__criterion=gini, clf__max_depth=10, clf__n_estimators=30; total time=   0.1s\n"
          ]
        },
        {
          "output_type": "stream",
          "name": "stderr",
          "text": [
            "/usr/local/lib/python3.9/dist-packages/sklearn/pipeline.py:405: DataConversionWarning: A column-vector y was passed when a 1d array was expected. Please change the shape of y to (n_samples,), for example using ravel().\n",
            "  self._final_estimator.fit(Xt, y, **fit_params_last_step)\n"
          ]
        },
        {
          "output_type": "stream",
          "name": "stdout",
          "text": [
            "[CV] END clf__criterion=gini, clf__max_depth=10, clf__n_estimators=30; total time=   0.1s"
          ]
        },
        {
          "output_type": "stream",
          "name": "stderr",
          "text": [
            "/usr/local/lib/python3.9/dist-packages/sklearn/pipeline.py:405: DataConversionWarning: A column-vector y was passed when a 1d array was expected. Please change the shape of y to (n_samples,), for example using ravel().\n",
            "  self._final_estimator.fit(Xt, y, **fit_params_last_step)\n"
          ]
        },
        {
          "output_type": "stream",
          "name": "stdout",
          "text": [
            "\n",
            "[CV] END clf__criterion=gini, clf__max_depth=10, clf__n_estimators=200; total time=   0.5s\n"
          ]
        },
        {
          "output_type": "stream",
          "name": "stderr",
          "text": [
            "/usr/local/lib/python3.9/dist-packages/sklearn/pipeline.py:405: DataConversionWarning: A column-vector y was passed when a 1d array was expected. Please change the shape of y to (n_samples,), for example using ravel().\n",
            "  self._final_estimator.fit(Xt, y, **fit_params_last_step)\n"
          ]
        },
        {
          "output_type": "stream",
          "name": "stdout",
          "text": [
            "[CV] END clf__criterion=gini, clf__max_depth=10, clf__n_estimators=200; total time=   0.5s\n"
          ]
        },
        {
          "output_type": "stream",
          "name": "stderr",
          "text": [
            "/usr/local/lib/python3.9/dist-packages/sklearn/pipeline.py:405: DataConversionWarning: A column-vector y was passed when a 1d array was expected. Please change the shape of y to (n_samples,), for example using ravel().\n",
            "  self._final_estimator.fit(Xt, y, **fit_params_last_step)\n"
          ]
        },
        {
          "output_type": "stream",
          "name": "stdout",
          "text": [
            "[CV] END clf__criterion=gini, clf__max_depth=10, clf__n_estimators=200; total time=   0.5s\n"
          ]
        },
        {
          "output_type": "stream",
          "name": "stderr",
          "text": [
            "/usr/local/lib/python3.9/dist-packages/sklearn/pipeline.py:405: DataConversionWarning: A column-vector y was passed when a 1d array was expected. Please change the shape of y to (n_samples,), for example using ravel().\n",
            "  self._final_estimator.fit(Xt, y, **fit_params_last_step)\n"
          ]
        },
        {
          "output_type": "stream",
          "name": "stdout",
          "text": [
            "[CV] END clf__criterion=gini, clf__max_depth=10, clf__n_estimators=200; total time=   0.5s\n"
          ]
        },
        {
          "output_type": "stream",
          "name": "stderr",
          "text": [
            "/usr/local/lib/python3.9/dist-packages/sklearn/pipeline.py:405: DataConversionWarning: A column-vector y was passed when a 1d array was expected. Please change the shape of y to (n_samples,), for example using ravel().\n",
            "  self._final_estimator.fit(Xt, y, **fit_params_last_step)\n"
          ]
        },
        {
          "output_type": "stream",
          "name": "stdout",
          "text": [
            "[CV] END clf__criterion=gini, clf__max_depth=10, clf__n_estimators=200; total time=   0.5s\n",
            "[CV] END clf__criterion=gini, clf__max_depth=20, clf__n_estimators=30; total time=   0.1s\n"
          ]
        },
        {
          "output_type": "stream",
          "name": "stderr",
          "text": [
            "/usr/local/lib/python3.9/dist-packages/sklearn/pipeline.py:405: DataConversionWarning: A column-vector y was passed when a 1d array was expected. Please change the shape of y to (n_samples,), for example using ravel().\n",
            "  self._final_estimator.fit(Xt, y, **fit_params_last_step)\n",
            "/usr/local/lib/python3.9/dist-packages/sklearn/pipeline.py:405: DataConversionWarning: A column-vector y was passed when a 1d array was expected. Please change the shape of y to (n_samples,), for example using ravel().\n",
            "  self._final_estimator.fit(Xt, y, **fit_params_last_step)\n"
          ]
        },
        {
          "output_type": "stream",
          "name": "stdout",
          "text": [
            "[CV] END clf__criterion=gini, clf__max_depth=20, clf__n_estimators=30; total time=   0.1s\n",
            "[CV] END clf__criterion=gini, clf__max_depth=20, clf__n_estimators=30; total time=   0.1s\n"
          ]
        },
        {
          "output_type": "stream",
          "name": "stderr",
          "text": [
            "/usr/local/lib/python3.9/dist-packages/sklearn/pipeline.py:405: DataConversionWarning: A column-vector y was passed when a 1d array was expected. Please change the shape of y to (n_samples,), for example using ravel().\n",
            "  self._final_estimator.fit(Xt, y, **fit_params_last_step)\n",
            "/usr/local/lib/python3.9/dist-packages/sklearn/pipeline.py:405: DataConversionWarning: A column-vector y was passed when a 1d array was expected. Please change the shape of y to (n_samples,), for example using ravel().\n",
            "  self._final_estimator.fit(Xt, y, **fit_params_last_step)\n"
          ]
        },
        {
          "output_type": "stream",
          "name": "stdout",
          "text": [
            "[CV] END clf__criterion=gini, clf__max_depth=20, clf__n_estimators=30; total time=   0.1s\n",
            "[CV] END clf__criterion=gini, clf__max_depth=20, clf__n_estimators=30; total time=   0.1s\n"
          ]
        },
        {
          "output_type": "stream",
          "name": "stderr",
          "text": [
            "/usr/local/lib/python3.9/dist-packages/sklearn/pipeline.py:405: DataConversionWarning: A column-vector y was passed when a 1d array was expected. Please change the shape of y to (n_samples,), for example using ravel().\n",
            "  self._final_estimator.fit(Xt, y, **fit_params_last_step)\n",
            "/usr/local/lib/python3.9/dist-packages/sklearn/pipeline.py:405: DataConversionWarning: A column-vector y was passed when a 1d array was expected. Please change the shape of y to (n_samples,), for example using ravel().\n",
            "  self._final_estimator.fit(Xt, y, **fit_params_last_step)\n"
          ]
        },
        {
          "output_type": "stream",
          "name": "stdout",
          "text": [
            "[CV] END clf__criterion=gini, clf__max_depth=20, clf__n_estimators=200; total time=   0.8s\n"
          ]
        },
        {
          "output_type": "stream",
          "name": "stderr",
          "text": [
            "/usr/local/lib/python3.9/dist-packages/sklearn/pipeline.py:405: DataConversionWarning: A column-vector y was passed when a 1d array was expected. Please change the shape of y to (n_samples,), for example using ravel().\n",
            "  self._final_estimator.fit(Xt, y, **fit_params_last_step)\n"
          ]
        },
        {
          "output_type": "stream",
          "name": "stdout",
          "text": [
            "[CV] END clf__criterion=gini, clf__max_depth=20, clf__n_estimators=200; total time=   0.7s\n"
          ]
        },
        {
          "output_type": "stream",
          "name": "stderr",
          "text": [
            "/usr/local/lib/python3.9/dist-packages/sklearn/pipeline.py:405: DataConversionWarning: A column-vector y was passed when a 1d array was expected. Please change the shape of y to (n_samples,), for example using ravel().\n",
            "  self._final_estimator.fit(Xt, y, **fit_params_last_step)\n"
          ]
        },
        {
          "output_type": "stream",
          "name": "stdout",
          "text": [
            "[CV] END clf__criterion=gini, clf__max_depth=20, clf__n_estimators=200; total time=   0.7s\n"
          ]
        },
        {
          "output_type": "stream",
          "name": "stderr",
          "text": [
            "/usr/local/lib/python3.9/dist-packages/sklearn/pipeline.py:405: DataConversionWarning: A column-vector y was passed when a 1d array was expected. Please change the shape of y to (n_samples,), for example using ravel().\n",
            "  self._final_estimator.fit(Xt, y, **fit_params_last_step)\n"
          ]
        },
        {
          "output_type": "stream",
          "name": "stdout",
          "text": [
            "[CV] END clf__criterion=gini, clf__max_depth=20, clf__n_estimators=200; total time=   0.8s\n"
          ]
        },
        {
          "output_type": "stream",
          "name": "stderr",
          "text": [
            "/usr/local/lib/python3.9/dist-packages/sklearn/pipeline.py:405: DataConversionWarning: A column-vector y was passed when a 1d array was expected. Please change the shape of y to (n_samples,), for example using ravel().\n",
            "  self._final_estimator.fit(Xt, y, **fit_params_last_step)\n"
          ]
        },
        {
          "output_type": "stream",
          "name": "stdout",
          "text": [
            "[CV] END clf__criterion=gini, clf__max_depth=20, clf__n_estimators=200; total time=   0.8s\n",
            "[CV] END clf__criterion=entropy, clf__max_depth=10, clf__n_estimators=30; total time=   0.2s\n"
          ]
        },
        {
          "output_type": "stream",
          "name": "stderr",
          "text": [
            "/usr/local/lib/python3.9/dist-packages/sklearn/pipeline.py:405: DataConversionWarning: A column-vector y was passed when a 1d array was expected. Please change the shape of y to (n_samples,), for example using ravel().\n",
            "  self._final_estimator.fit(Xt, y, **fit_params_last_step)\n",
            "/usr/local/lib/python3.9/dist-packages/sklearn/pipeline.py:405: DataConversionWarning: A column-vector y was passed when a 1d array was expected. Please change the shape of y to (n_samples,), for example using ravel().\n",
            "  self._final_estimator.fit(Xt, y, **fit_params_last_step)\n"
          ]
        },
        {
          "output_type": "stream",
          "name": "stdout",
          "text": [
            "[CV] END clf__criterion=entropy, clf__max_depth=10, clf__n_estimators=30; total time=   0.2s\n",
            "[CV] END clf__criterion=entropy, clf__max_depth=10, clf__n_estimators=30; total time=   0.1s\n"
          ]
        },
        {
          "output_type": "stream",
          "name": "stderr",
          "text": [
            "/usr/local/lib/python3.9/dist-packages/sklearn/pipeline.py:405: DataConversionWarning: A column-vector y was passed when a 1d array was expected. Please change the shape of y to (n_samples,), for example using ravel().\n",
            "  self._final_estimator.fit(Xt, y, **fit_params_last_step)\n",
            "/usr/local/lib/python3.9/dist-packages/sklearn/pipeline.py:405: DataConversionWarning: A column-vector y was passed when a 1d array was expected. Please change the shape of y to (n_samples,), for example using ravel().\n",
            "  self._final_estimator.fit(Xt, y, **fit_params_last_step)\n"
          ]
        },
        {
          "output_type": "stream",
          "name": "stdout",
          "text": [
            "[CV] END clf__criterion=entropy, clf__max_depth=10, clf__n_estimators=30; total time=   0.1s\n",
            "[CV] END clf__criterion=entropy, clf__max_depth=10, clf__n_estimators=30; total time=   0.1s\n"
          ]
        },
        {
          "output_type": "stream",
          "name": "stderr",
          "text": [
            "/usr/local/lib/python3.9/dist-packages/sklearn/pipeline.py:405: DataConversionWarning: A column-vector y was passed when a 1d array was expected. Please change the shape of y to (n_samples,), for example using ravel().\n",
            "  self._final_estimator.fit(Xt, y, **fit_params_last_step)\n",
            "/usr/local/lib/python3.9/dist-packages/sklearn/pipeline.py:405: DataConversionWarning: A column-vector y was passed when a 1d array was expected. Please change the shape of y to (n_samples,), for example using ravel().\n",
            "  self._final_estimator.fit(Xt, y, **fit_params_last_step)\n"
          ]
        },
        {
          "output_type": "stream",
          "name": "stdout",
          "text": [
            "[CV] END clf__criterion=entropy, clf__max_depth=10, clf__n_estimators=200; total time=   0.5s\n"
          ]
        },
        {
          "output_type": "stream",
          "name": "stderr",
          "text": [
            "/usr/local/lib/python3.9/dist-packages/sklearn/pipeline.py:405: DataConversionWarning: A column-vector y was passed when a 1d array was expected. Please change the shape of y to (n_samples,), for example using ravel().\n",
            "  self._final_estimator.fit(Xt, y, **fit_params_last_step)\n"
          ]
        },
        {
          "output_type": "stream",
          "name": "stdout",
          "text": [
            "[CV] END clf__criterion=entropy, clf__max_depth=10, clf__n_estimators=200; total time=   0.6s\n"
          ]
        },
        {
          "output_type": "stream",
          "name": "stderr",
          "text": [
            "/usr/local/lib/python3.9/dist-packages/sklearn/pipeline.py:405: DataConversionWarning: A column-vector y was passed when a 1d array was expected. Please change the shape of y to (n_samples,), for example using ravel().\n",
            "  self._final_estimator.fit(Xt, y, **fit_params_last_step)\n"
          ]
        },
        {
          "output_type": "stream",
          "name": "stdout",
          "text": [
            "[CV] END clf__criterion=entropy, clf__max_depth=10, clf__n_estimators=200; total time=   0.6s\n"
          ]
        },
        {
          "output_type": "stream",
          "name": "stderr",
          "text": [
            "/usr/local/lib/python3.9/dist-packages/sklearn/pipeline.py:405: DataConversionWarning: A column-vector y was passed when a 1d array was expected. Please change the shape of y to (n_samples,), for example using ravel().\n",
            "  self._final_estimator.fit(Xt, y, **fit_params_last_step)\n"
          ]
        },
        {
          "output_type": "stream",
          "name": "stdout",
          "text": [
            "[CV] END clf__criterion=entropy, clf__max_depth=10, clf__n_estimators=200; total time=   0.5s\n"
          ]
        },
        {
          "output_type": "stream",
          "name": "stderr",
          "text": [
            "/usr/local/lib/python3.9/dist-packages/sklearn/pipeline.py:405: DataConversionWarning: A column-vector y was passed when a 1d array was expected. Please change the shape of y to (n_samples,), for example using ravel().\n",
            "  self._final_estimator.fit(Xt, y, **fit_params_last_step)\n"
          ]
        },
        {
          "output_type": "stream",
          "name": "stdout",
          "text": [
            "[CV] END clf__criterion=entropy, clf__max_depth=10, clf__n_estimators=200; total time=   0.5s\n",
            "[CV] END clf__criterion=entropy, clf__max_depth=20, clf__n_estimators=30; total time=   0.1s\n",
            "[CV] END clf__criterion=entropy, clf__max_depth=20, clf__n_estimators=30; total time=   0.1s\n"
          ]
        },
        {
          "output_type": "stream",
          "name": "stderr",
          "text": [
            "/usr/local/lib/python3.9/dist-packages/sklearn/pipeline.py:405: DataConversionWarning: A column-vector y was passed when a 1d array was expected. Please change the shape of y to (n_samples,), for example using ravel().\n",
            "  self._final_estimator.fit(Xt, y, **fit_params_last_step)\n",
            "/usr/local/lib/python3.9/dist-packages/sklearn/pipeline.py:405: DataConversionWarning: A column-vector y was passed when a 1d array was expected. Please change the shape of y to (n_samples,), for example using ravel().\n",
            "  self._final_estimator.fit(Xt, y, **fit_params_last_step)\n",
            "/usr/local/lib/python3.9/dist-packages/sklearn/pipeline.py:405: DataConversionWarning: A column-vector y was passed when a 1d array was expected. Please change the shape of y to (n_samples,), for example using ravel().\n",
            "  self._final_estimator.fit(Xt, y, **fit_params_last_step)\n"
          ]
        },
        {
          "output_type": "stream",
          "name": "stdout",
          "text": [
            "[CV] END clf__criterion=entropy, clf__max_depth=20, clf__n_estimators=30; total time=   0.1s\n",
            "[CV] END clf__criterion=entropy, clf__max_depth=20, clf__n_estimators=30; total time=   0.1s\n",
            "[CV] END clf__criterion=entropy, clf__max_depth=20, clf__n_estimators=30; total time=   0.1s\n"
          ]
        },
        {
          "output_type": "stream",
          "name": "stderr",
          "text": [
            "/usr/local/lib/python3.9/dist-packages/sklearn/pipeline.py:405: DataConversionWarning: A column-vector y was passed when a 1d array was expected. Please change the shape of y to (n_samples,), for example using ravel().\n",
            "  self._final_estimator.fit(Xt, y, **fit_params_last_step)\n",
            "/usr/local/lib/python3.9/dist-packages/sklearn/pipeline.py:405: DataConversionWarning: A column-vector y was passed when a 1d array was expected. Please change the shape of y to (n_samples,), for example using ravel().\n",
            "  self._final_estimator.fit(Xt, y, **fit_params_last_step)\n",
            "/usr/local/lib/python3.9/dist-packages/sklearn/pipeline.py:405: DataConversionWarning: A column-vector y was passed when a 1d array was expected. Please change the shape of y to (n_samples,), for example using ravel().\n",
            "  self._final_estimator.fit(Xt, y, **fit_params_last_step)\n"
          ]
        },
        {
          "output_type": "stream",
          "name": "stdout",
          "text": [
            "[CV] END clf__criterion=entropy, clf__max_depth=20, clf__n_estimators=200; total time=   0.6s\n"
          ]
        },
        {
          "output_type": "stream",
          "name": "stderr",
          "text": [
            "/usr/local/lib/python3.9/dist-packages/sklearn/pipeline.py:405: DataConversionWarning: A column-vector y was passed when a 1d array was expected. Please change the shape of y to (n_samples,), for example using ravel().\n",
            "  self._final_estimator.fit(Xt, y, **fit_params_last_step)\n"
          ]
        },
        {
          "output_type": "stream",
          "name": "stdout",
          "text": [
            "[CV] END clf__criterion=entropy, clf__max_depth=20, clf__n_estimators=200; total time=   0.6s\n"
          ]
        },
        {
          "output_type": "stream",
          "name": "stderr",
          "text": [
            "/usr/local/lib/python3.9/dist-packages/sklearn/pipeline.py:405: DataConversionWarning: A column-vector y was passed when a 1d array was expected. Please change the shape of y to (n_samples,), for example using ravel().\n",
            "  self._final_estimator.fit(Xt, y, **fit_params_last_step)\n"
          ]
        },
        {
          "output_type": "stream",
          "name": "stdout",
          "text": [
            "[CV] END clf__criterion=entropy, clf__max_depth=20, clf__n_estimators=200; total time=   0.6s\n"
          ]
        },
        {
          "output_type": "stream",
          "name": "stderr",
          "text": [
            "/usr/local/lib/python3.9/dist-packages/sklearn/pipeline.py:405: DataConversionWarning: A column-vector y was passed when a 1d array was expected. Please change the shape of y to (n_samples,), for example using ravel().\n",
            "  self._final_estimator.fit(Xt, y, **fit_params_last_step)\n"
          ]
        },
        {
          "output_type": "stream",
          "name": "stdout",
          "text": [
            "[CV] END clf__criterion=entropy, clf__max_depth=20, clf__n_estimators=200; total time=   0.6s\n"
          ]
        },
        {
          "output_type": "stream",
          "name": "stderr",
          "text": [
            "/usr/local/lib/python3.9/dist-packages/sklearn/pipeline.py:405: DataConversionWarning: A column-vector y was passed when a 1d array was expected. Please change the shape of y to (n_samples,), for example using ravel().\n",
            "  self._final_estimator.fit(Xt, y, **fit_params_last_step)\n"
          ]
        },
        {
          "output_type": "stream",
          "name": "stdout",
          "text": [
            "[CV] END clf__criterion=entropy, clf__max_depth=20, clf__n_estimators=200; total time=   0.6s\n"
          ]
        },
        {
          "output_type": "stream",
          "name": "stderr",
          "text": [
            "/usr/local/lib/python3.9/dist-packages/sklearn/pipeline.py:405: DataConversionWarning: A column-vector y was passed when a 1d array was expected. Please change the shape of y to (n_samples,), for example using ravel().\n",
            "  self._final_estimator.fit(Xt, y, **fit_params_last_step)\n"
          ]
        },
        {
          "output_type": "stream",
          "name": "stdout",
          "text": [
            "Done\n",
            "Training Score: 0.36524233463666433\n",
            "Parameters: {'clf__criterion': 'gini', 'clf__max_depth': 10, 'clf__n_estimators': 200}\n",
            "Best Classifier: Pipeline(steps=[('select',\n",
            "                 SelectKBest(k=2,\n",
            "                             score_func=<function chi2 at 0x7f2295ba6310>)),\n",
            "                ('clf',\n",
            "                 RandomForestClassifier(max_depth=10, n_estimators=200))])\n",
            "\n",
            "Started GridSearchCV\n",
            "-------------------------------------------\n",
            "Fitting 5 folds for each of 42 candidates, totalling 210 fits\n",
            "[CV] END ....clf__C=0.1, clf__kernel=linear, clf__max_iter=1; total time=   0.0s\n",
            "[CV] END ....clf__C=0.1, clf__kernel=linear, clf__max_iter=1; total time=   0.0s\n",
            "[CV] END ....clf__C=0.1, clf__kernel=linear, clf__max_iter=1; total time=   0.0s\n",
            "[CV] END ....clf__C=0.1, clf__kernel=linear, clf__max_iter=1; total time=   0.0s\n",
            "[CV] END ....clf__C=0.1, clf__kernel=linear, clf__max_iter=1; total time=   0.0s\n",
            "[CV] END ...clf__C=0.1, clf__kernel=linear, clf__max_iter=10; total time=   0.0s\n",
            "[CV] END ...clf__C=0.1, clf__kernel=linear, clf__max_iter=10; total time=   0.0s\n",
            "[CV] END ...clf__C=0.1, clf__kernel=linear, clf__max_iter=10; total time=   0.0s\n"
          ]
        },
        {
          "output_type": "stream",
          "name": "stderr",
          "text": [
            "/usr/local/lib/python3.9/dist-packages/sklearn/utils/validation.py:1143: DataConversionWarning: A column-vector y was passed when a 1d array was expected. Please change the shape of y to (n_samples, ), for example using ravel().\n",
            "  y = column_or_1d(y, warn=True)\n",
            "/usr/local/lib/python3.9/dist-packages/sklearn/svm/_base.py:299: ConvergenceWarning: Solver terminated early (max_iter=1).  Consider pre-processing your data with StandardScaler or MinMaxScaler.\n",
            "  warnings.warn(\n",
            "/usr/local/lib/python3.9/dist-packages/sklearn/utils/validation.py:1143: DataConversionWarning: A column-vector y was passed when a 1d array was expected. Please change the shape of y to (n_samples, ), for example using ravel().\n",
            "  y = column_or_1d(y, warn=True)\n",
            "/usr/local/lib/python3.9/dist-packages/sklearn/svm/_base.py:299: ConvergenceWarning: Solver terminated early (max_iter=1).  Consider pre-processing your data with StandardScaler or MinMaxScaler.\n",
            "  warnings.warn(\n",
            "/usr/local/lib/python3.9/dist-packages/sklearn/utils/validation.py:1143: DataConversionWarning: A column-vector y was passed when a 1d array was expected. Please change the shape of y to (n_samples, ), for example using ravel().\n",
            "  y = column_or_1d(y, warn=True)\n",
            "/usr/local/lib/python3.9/dist-packages/sklearn/svm/_base.py:299: ConvergenceWarning: Solver terminated early (max_iter=1).  Consider pre-processing your data with StandardScaler or MinMaxScaler.\n",
            "  warnings.warn(\n",
            "/usr/local/lib/python3.9/dist-packages/sklearn/utils/validation.py:1143: DataConversionWarning: A column-vector y was passed when a 1d array was expected. Please change the shape of y to (n_samples, ), for example using ravel().\n",
            "  y = column_or_1d(y, warn=True)\n",
            "/usr/local/lib/python3.9/dist-packages/sklearn/svm/_base.py:299: ConvergenceWarning: Solver terminated early (max_iter=1).  Consider pre-processing your data with StandardScaler or MinMaxScaler.\n",
            "  warnings.warn(\n",
            "/usr/local/lib/python3.9/dist-packages/sklearn/utils/validation.py:1143: DataConversionWarning: A column-vector y was passed when a 1d array was expected. Please change the shape of y to (n_samples, ), for example using ravel().\n",
            "  y = column_or_1d(y, warn=True)\n",
            "/usr/local/lib/python3.9/dist-packages/sklearn/svm/_base.py:299: ConvergenceWarning: Solver terminated early (max_iter=1).  Consider pre-processing your data with StandardScaler or MinMaxScaler.\n",
            "  warnings.warn(\n",
            "/usr/local/lib/python3.9/dist-packages/sklearn/utils/validation.py:1143: DataConversionWarning: A column-vector y was passed when a 1d array was expected. Please change the shape of y to (n_samples, ), for example using ravel().\n",
            "  y = column_or_1d(y, warn=True)\n",
            "/usr/local/lib/python3.9/dist-packages/sklearn/svm/_base.py:299: ConvergenceWarning: Solver terminated early (max_iter=10).  Consider pre-processing your data with StandardScaler or MinMaxScaler.\n",
            "  warnings.warn(\n",
            "/usr/local/lib/python3.9/dist-packages/sklearn/utils/validation.py:1143: DataConversionWarning: A column-vector y was passed when a 1d array was expected. Please change the shape of y to (n_samples, ), for example using ravel().\n",
            "  y = column_or_1d(y, warn=True)\n",
            "/usr/local/lib/python3.9/dist-packages/sklearn/svm/_base.py:299: ConvergenceWarning: Solver terminated early (max_iter=10).  Consider pre-processing your data with StandardScaler or MinMaxScaler.\n",
            "  warnings.warn(\n",
            "/usr/local/lib/python3.9/dist-packages/sklearn/utils/validation.py:1143: DataConversionWarning: A column-vector y was passed when a 1d array was expected. Please change the shape of y to (n_samples, ), for example using ravel().\n",
            "  y = column_or_1d(y, warn=True)\n",
            "/usr/local/lib/python3.9/dist-packages/sklearn/svm/_base.py:299: ConvergenceWarning: Solver terminated early (max_iter=10).  Consider pre-processing your data with StandardScaler or MinMaxScaler.\n",
            "  warnings.warn(\n",
            "/usr/local/lib/python3.9/dist-packages/sklearn/utils/validation.py:1143: DataConversionWarning: A column-vector y was passed when a 1d array was expected. Please change the shape of y to (n_samples, ), for example using ravel().\n",
            "  y = column_or_1d(y, warn=True)\n",
            "/usr/local/lib/python3.9/dist-packages/sklearn/svm/_base.py:299: ConvergenceWarning: Solver terminated early (max_iter=10).  Consider pre-processing your data with StandardScaler or MinMaxScaler.\n",
            "  warnings.warn(\n"
          ]
        },
        {
          "output_type": "stream",
          "name": "stdout",
          "text": [
            "[CV] END ...clf__C=0.1, clf__kernel=linear, clf__max_iter=10; total time=   0.0s\n",
            "[CV] END ...clf__C=0.1, clf__kernel=linear, clf__max_iter=10; total time=   0.0s\n",
            "[CV] END ...clf__C=0.1, clf__kernel=linear, clf__max_iter=50; total time=   0.0s\n",
            "[CV] END ...clf__C=0.1, clf__kernel=linear, clf__max_iter=50; total time=   0.0s\n",
            "[CV] END ...clf__C=0.1, clf__kernel=linear, clf__max_iter=50; total time=   0.0s\n",
            "[CV] END ...clf__C=0.1, clf__kernel=linear, clf__max_iter=50; total time=   0.0s\n",
            "[CV] END ...clf__C=0.1, clf__kernel=linear, clf__max_iter=50; total time=   0.0s\n"
          ]
        },
        {
          "output_type": "stream",
          "name": "stderr",
          "text": [
            "/usr/local/lib/python3.9/dist-packages/sklearn/utils/validation.py:1143: DataConversionWarning: A column-vector y was passed when a 1d array was expected. Please change the shape of y to (n_samples, ), for example using ravel().\n",
            "  y = column_or_1d(y, warn=True)\n",
            "/usr/local/lib/python3.9/dist-packages/sklearn/svm/_base.py:299: ConvergenceWarning: Solver terminated early (max_iter=10).  Consider pre-processing your data with StandardScaler or MinMaxScaler.\n",
            "  warnings.warn(\n",
            "/usr/local/lib/python3.9/dist-packages/sklearn/utils/validation.py:1143: DataConversionWarning: A column-vector y was passed when a 1d array was expected. Please change the shape of y to (n_samples, ), for example using ravel().\n",
            "  y = column_or_1d(y, warn=True)\n",
            "/usr/local/lib/python3.9/dist-packages/sklearn/utils/validation.py:1143: DataConversionWarning: A column-vector y was passed when a 1d array was expected. Please change the shape of y to (n_samples, ), for example using ravel().\n",
            "  y = column_or_1d(y, warn=True)\n",
            "/usr/local/lib/python3.9/dist-packages/sklearn/utils/validation.py:1143: DataConversionWarning: A column-vector y was passed when a 1d array was expected. Please change the shape of y to (n_samples, ), for example using ravel().\n",
            "  y = column_or_1d(y, warn=True)\n",
            "/usr/local/lib/python3.9/dist-packages/sklearn/svm/_base.py:299: ConvergenceWarning: Solver terminated early (max_iter=50).  Consider pre-processing your data with StandardScaler or MinMaxScaler.\n",
            "  warnings.warn(\n",
            "/usr/local/lib/python3.9/dist-packages/sklearn/utils/validation.py:1143: DataConversionWarning: A column-vector y was passed when a 1d array was expected. Please change the shape of y to (n_samples, ), for example using ravel().\n",
            "  y = column_or_1d(y, warn=True)\n",
            "/usr/local/lib/python3.9/dist-packages/sklearn/svm/_base.py:299: ConvergenceWarning: Solver terminated early (max_iter=50).  Consider pre-processing your data with StandardScaler or MinMaxScaler.\n",
            "  warnings.warn(\n",
            "/usr/local/lib/python3.9/dist-packages/sklearn/utils/validation.py:1143: DataConversionWarning: A column-vector y was passed when a 1d array was expected. Please change the shape of y to (n_samples, ), for example using ravel().\n",
            "  y = column_or_1d(y, warn=True)\n",
            "/usr/local/lib/python3.9/dist-packages/sklearn/svm/_base.py:299: ConvergenceWarning: Solver terminated early (max_iter=50).  Consider pre-processing your data with StandardScaler or MinMaxScaler.\n",
            "  warnings.warn(\n",
            "/usr/local/lib/python3.9/dist-packages/sklearn/utils/validation.py:1143: DataConversionWarning: A column-vector y was passed when a 1d array was expected. Please change the shape of y to (n_samples, ), for example using ravel().\n",
            "  y = column_or_1d(y, warn=True)\n",
            "/usr/local/lib/python3.9/dist-packages/sklearn/svm/_base.py:299: ConvergenceWarning: Solver terminated early (max_iter=1).  Consider pre-processing your data with StandardScaler or MinMaxScaler.\n",
            "  warnings.warn(\n"
          ]
        },
        {
          "output_type": "stream",
          "name": "stdout",
          "text": [
            "[CV] END ...clf__C=0.1, clf__kernel=sigmoid, clf__max_iter=1; total time=   0.0s\n",
            "[CV] END ...clf__C=0.1, clf__kernel=sigmoid, clf__max_iter=1; total time=   0.0s\n",
            "[CV] END ...clf__C=0.1, clf__kernel=sigmoid, clf__max_iter=1; total time=   0.0s\n",
            "[CV] END ...clf__C=0.1, clf__kernel=sigmoid, clf__max_iter=1; total time=   0.0s\n",
            "[CV] END ...clf__C=0.1, clf__kernel=sigmoid, clf__max_iter=1; total time=   0.0s\n",
            "[CV] END ..clf__C=0.1, clf__kernel=sigmoid, clf__max_iter=10; total time=   0.0s\n",
            "[CV] END ..clf__C=0.1, clf__kernel=sigmoid, clf__max_iter=10; total time=   0.0s\n",
            "[CV] END ..clf__C=0.1, clf__kernel=sigmoid, clf__max_iter=10; total time=   0.0s\n",
            "[CV] END ..clf__C=0.1, clf__kernel=sigmoid, clf__max_iter=10; total time=   0.0s\n"
          ]
        },
        {
          "output_type": "stream",
          "name": "stderr",
          "text": [
            "/usr/local/lib/python3.9/dist-packages/sklearn/utils/validation.py:1143: DataConversionWarning: A column-vector y was passed when a 1d array was expected. Please change the shape of y to (n_samples, ), for example using ravel().\n",
            "  y = column_or_1d(y, warn=True)\n",
            "/usr/local/lib/python3.9/dist-packages/sklearn/svm/_base.py:299: ConvergenceWarning: Solver terminated early (max_iter=1).  Consider pre-processing your data with StandardScaler or MinMaxScaler.\n",
            "  warnings.warn(\n",
            "/usr/local/lib/python3.9/dist-packages/sklearn/utils/validation.py:1143: DataConversionWarning: A column-vector y was passed when a 1d array was expected. Please change the shape of y to (n_samples, ), for example using ravel().\n",
            "  y = column_or_1d(y, warn=True)\n",
            "/usr/local/lib/python3.9/dist-packages/sklearn/svm/_base.py:299: ConvergenceWarning: Solver terminated early (max_iter=1).  Consider pre-processing your data with StandardScaler or MinMaxScaler.\n",
            "  warnings.warn(\n",
            "/usr/local/lib/python3.9/dist-packages/sklearn/utils/validation.py:1143: DataConversionWarning: A column-vector y was passed when a 1d array was expected. Please change the shape of y to (n_samples, ), for example using ravel().\n",
            "  y = column_or_1d(y, warn=True)\n",
            "/usr/local/lib/python3.9/dist-packages/sklearn/svm/_base.py:299: ConvergenceWarning: Solver terminated early (max_iter=1).  Consider pre-processing your data with StandardScaler or MinMaxScaler.\n",
            "  warnings.warn(\n",
            "/usr/local/lib/python3.9/dist-packages/sklearn/utils/validation.py:1143: DataConversionWarning: A column-vector y was passed when a 1d array was expected. Please change the shape of y to (n_samples, ), for example using ravel().\n",
            "  y = column_or_1d(y, warn=True)\n",
            "/usr/local/lib/python3.9/dist-packages/sklearn/svm/_base.py:299: ConvergenceWarning: Solver terminated early (max_iter=1).  Consider pre-processing your data with StandardScaler or MinMaxScaler.\n",
            "  warnings.warn(\n",
            "/usr/local/lib/python3.9/dist-packages/sklearn/utils/validation.py:1143: DataConversionWarning: A column-vector y was passed when a 1d array was expected. Please change the shape of y to (n_samples, ), for example using ravel().\n",
            "  y = column_or_1d(y, warn=True)\n",
            "/usr/local/lib/python3.9/dist-packages/sklearn/svm/_base.py:299: ConvergenceWarning: Solver terminated early (max_iter=10).  Consider pre-processing your data with StandardScaler or MinMaxScaler.\n",
            "  warnings.warn(\n",
            "/usr/local/lib/python3.9/dist-packages/sklearn/utils/validation.py:1143: DataConversionWarning: A column-vector y was passed when a 1d array was expected. Please change the shape of y to (n_samples, ), for example using ravel().\n",
            "  y = column_or_1d(y, warn=True)\n",
            "/usr/local/lib/python3.9/dist-packages/sklearn/svm/_base.py:299: ConvergenceWarning: Solver terminated early (max_iter=10).  Consider pre-processing your data with StandardScaler or MinMaxScaler.\n",
            "  warnings.warn(\n",
            "/usr/local/lib/python3.9/dist-packages/sklearn/utils/validation.py:1143: DataConversionWarning: A column-vector y was passed when a 1d array was expected. Please change the shape of y to (n_samples, ), for example using ravel().\n",
            "  y = column_or_1d(y, warn=True)\n",
            "/usr/local/lib/python3.9/dist-packages/sklearn/svm/_base.py:299: ConvergenceWarning: Solver terminated early (max_iter=10).  Consider pre-processing your data with StandardScaler or MinMaxScaler.\n",
            "  warnings.warn(\n",
            "/usr/local/lib/python3.9/dist-packages/sklearn/utils/validation.py:1143: DataConversionWarning: A column-vector y was passed when a 1d array was expected. Please change the shape of y to (n_samples, ), for example using ravel().\n",
            "  y = column_or_1d(y, warn=True)\n",
            "/usr/local/lib/python3.9/dist-packages/sklearn/svm/_base.py:299: ConvergenceWarning: Solver terminated early (max_iter=10).  Consider pre-processing your data with StandardScaler or MinMaxScaler.\n",
            "  warnings.warn(\n",
            "/usr/local/lib/python3.9/dist-packages/sklearn/utils/validation.py:1143: DataConversionWarning: A column-vector y was passed when a 1d array was expected. Please change the shape of y to (n_samples, ), for example using ravel().\n",
            "  y = column_or_1d(y, warn=True)\n",
            "/usr/local/lib/python3.9/dist-packages/sklearn/svm/_base.py:299: ConvergenceWarning: Solver terminated early (max_iter=10).  Consider pre-processing your data with StandardScaler or MinMaxScaler.\n",
            "  warnings.warn(\n",
            "/usr/local/lib/python3.9/dist-packages/sklearn/utils/validation.py:1143: DataConversionWarning: A column-vector y was passed when a 1d array was expected. Please change the shape of y to (n_samples, ), for example using ravel().\n",
            "  y = column_or_1d(y, warn=True)\n",
            "/usr/local/lib/python3.9/dist-packages/sklearn/svm/_base.py:299: ConvergenceWarning: Solver terminated early (max_iter=50).  Consider pre-processing your data with StandardScaler or MinMaxScaler.\n",
            "  warnings.warn(\n",
            "/usr/local/lib/python3.9/dist-packages/sklearn/utils/validation.py:1143: DataConversionWarning: A column-vector y was passed when a 1d array was expected. Please change the shape of y to (n_samples, ), for example using ravel().\n",
            "  y = column_or_1d(y, warn=True)\n",
            "/usr/local/lib/python3.9/dist-packages/sklearn/svm/_base.py:299: ConvergenceWarning: Solver terminated early (max_iter=50).  Consider pre-processing your data with StandardScaler or MinMaxScaler.\n",
            "  warnings.warn(\n",
            "/usr/local/lib/python3.9/dist-packages/sklearn/utils/validation.py:1143: DataConversionWarning: A column-vector y was passed when a 1d array was expected. Please change the shape of y to (n_samples, ), for example using ravel().\n",
            "  y = column_or_1d(y, warn=True)\n",
            "/usr/local/lib/python3.9/dist-packages/sklearn/svm/_base.py:299: ConvergenceWarning: Solver terminated early (max_iter=50).  Consider pre-processing your data with StandardScaler or MinMaxScaler.\n",
            "  warnings.warn(\n",
            "/usr/local/lib/python3.9/dist-packages/sklearn/utils/validation.py:1143: DataConversionWarning: A column-vector y was passed when a 1d array was expected. Please change the shape of y to (n_samples, ), for example using ravel().\n",
            "  y = column_or_1d(y, warn=True)\n",
            "/usr/local/lib/python3.9/dist-packages/sklearn/svm/_base.py:299: ConvergenceWarning: Solver terminated early (max_iter=50).  Consider pre-processing your data with StandardScaler or MinMaxScaler.\n",
            "  warnings.warn(\n"
          ]
        },
        {
          "output_type": "stream",
          "name": "stdout",
          "text": [
            "[CV] END ..clf__C=0.1, clf__kernel=sigmoid, clf__max_iter=10; total time=   0.0s\n",
            "[CV] END ..clf__C=0.1, clf__kernel=sigmoid, clf__max_iter=50; total time=   0.1s\n",
            "[CV] END ..clf__C=0.1, clf__kernel=sigmoid, clf__max_iter=50; total time=   0.0s\n",
            "[CV] END ..clf__C=0.1, clf__kernel=sigmoid, clf__max_iter=50; total time=   0.0s\n",
            "[CV] END ..clf__C=0.1, clf__kernel=sigmoid, clf__max_iter=50; total time=   0.1s\n",
            "[CV] END ..clf__C=0.1, clf__kernel=sigmoid, clf__max_iter=50; total time=   0.0s\n",
            "[CV] END ......clf__C=1, clf__kernel=linear, clf__max_iter=1; total time=   0.0s\n",
            "[CV] END ......clf__C=1, clf__kernel=linear, clf__max_iter=1; total time=   0.0s\n",
            "[CV] END ......clf__C=1, clf__kernel=linear, clf__max_iter=1; total time=   0.0s\n",
            "[CV] END ......clf__C=1, clf__kernel=linear, clf__max_iter=1; total time=   0.0s\n",
            "[CV] END ......clf__C=1, clf__kernel=linear, clf__max_iter=1; total time=   0.0s\n",
            "[CV] END .....clf__C=1, clf__kernel=linear, clf__max_iter=10; total time=   0.0s\n",
            "[CV] END .....clf__C=1, clf__kernel=linear, clf__max_iter=10; total time=   0.0s\n"
          ]
        },
        {
          "output_type": "stream",
          "name": "stderr",
          "text": [
            "/usr/local/lib/python3.9/dist-packages/sklearn/utils/validation.py:1143: DataConversionWarning: A column-vector y was passed when a 1d array was expected. Please change the shape of y to (n_samples, ), for example using ravel().\n",
            "  y = column_or_1d(y, warn=True)\n",
            "/usr/local/lib/python3.9/dist-packages/sklearn/svm/_base.py:299: ConvergenceWarning: Solver terminated early (max_iter=50).  Consider pre-processing your data with StandardScaler or MinMaxScaler.\n",
            "  warnings.warn(\n",
            "/usr/local/lib/python3.9/dist-packages/sklearn/utils/validation.py:1143: DataConversionWarning: A column-vector y was passed when a 1d array was expected. Please change the shape of y to (n_samples, ), for example using ravel().\n",
            "  y = column_or_1d(y, warn=True)\n",
            "/usr/local/lib/python3.9/dist-packages/sklearn/svm/_base.py:299: ConvergenceWarning: Solver terminated early (max_iter=1).  Consider pre-processing your data with StandardScaler or MinMaxScaler.\n",
            "  warnings.warn(\n",
            "/usr/local/lib/python3.9/dist-packages/sklearn/utils/validation.py:1143: DataConversionWarning: A column-vector y was passed when a 1d array was expected. Please change the shape of y to (n_samples, ), for example using ravel().\n",
            "  y = column_or_1d(y, warn=True)\n",
            "/usr/local/lib/python3.9/dist-packages/sklearn/svm/_base.py:299: ConvergenceWarning: Solver terminated early (max_iter=1).  Consider pre-processing your data with StandardScaler or MinMaxScaler.\n",
            "  warnings.warn(\n",
            "/usr/local/lib/python3.9/dist-packages/sklearn/utils/validation.py:1143: DataConversionWarning: A column-vector y was passed when a 1d array was expected. Please change the shape of y to (n_samples, ), for example using ravel().\n",
            "  y = column_or_1d(y, warn=True)\n",
            "/usr/local/lib/python3.9/dist-packages/sklearn/svm/_base.py:299: ConvergenceWarning: Solver terminated early (max_iter=1).  Consider pre-processing your data with StandardScaler or MinMaxScaler.\n",
            "  warnings.warn(\n",
            "/usr/local/lib/python3.9/dist-packages/sklearn/utils/validation.py:1143: DataConversionWarning: A column-vector y was passed when a 1d array was expected. Please change the shape of y to (n_samples, ), for example using ravel().\n",
            "  y = column_or_1d(y, warn=True)\n",
            "/usr/local/lib/python3.9/dist-packages/sklearn/svm/_base.py:299: ConvergenceWarning: Solver terminated early (max_iter=1).  Consider pre-processing your data with StandardScaler or MinMaxScaler.\n",
            "  warnings.warn(\n",
            "/usr/local/lib/python3.9/dist-packages/sklearn/utils/validation.py:1143: DataConversionWarning: A column-vector y was passed when a 1d array was expected. Please change the shape of y to (n_samples, ), for example using ravel().\n",
            "  y = column_or_1d(y, warn=True)\n",
            "/usr/local/lib/python3.9/dist-packages/sklearn/svm/_base.py:299: ConvergenceWarning: Solver terminated early (max_iter=1).  Consider pre-processing your data with StandardScaler or MinMaxScaler.\n",
            "  warnings.warn(\n",
            "/usr/local/lib/python3.9/dist-packages/sklearn/utils/validation.py:1143: DataConversionWarning: A column-vector y was passed when a 1d array was expected. Please change the shape of y to (n_samples, ), for example using ravel().\n",
            "  y = column_or_1d(y, warn=True)\n",
            "/usr/local/lib/python3.9/dist-packages/sklearn/svm/_base.py:299: ConvergenceWarning: Solver terminated early (max_iter=10).  Consider pre-processing your data with StandardScaler or MinMaxScaler.\n",
            "  warnings.warn(\n",
            "/usr/local/lib/python3.9/dist-packages/sklearn/utils/validation.py:1143: DataConversionWarning: A column-vector y was passed when a 1d array was expected. Please change the shape of y to (n_samples, ), for example using ravel().\n",
            "  y = column_or_1d(y, warn=True)\n",
            "/usr/local/lib/python3.9/dist-packages/sklearn/svm/_base.py:299: ConvergenceWarning: Solver terminated early (max_iter=10).  Consider pre-processing your data with StandardScaler or MinMaxScaler.\n",
            "  warnings.warn(\n",
            "/usr/local/lib/python3.9/dist-packages/sklearn/utils/validation.py:1143: DataConversionWarning: A column-vector y was passed when a 1d array was expected. Please change the shape of y to (n_samples, ), for example using ravel().\n",
            "  y = column_or_1d(y, warn=True)\n",
            "/usr/local/lib/python3.9/dist-packages/sklearn/svm/_base.py:299: ConvergenceWarning: Solver terminated early (max_iter=10).  Consider pre-processing your data with StandardScaler or MinMaxScaler.\n",
            "  warnings.warn(\n",
            "/usr/local/lib/python3.9/dist-packages/sklearn/utils/validation.py:1143: DataConversionWarning: A column-vector y was passed when a 1d array was expected. Please change the shape of y to (n_samples, ), for example using ravel().\n",
            "  y = column_or_1d(y, warn=True)\n",
            "/usr/local/lib/python3.9/dist-packages/sklearn/svm/_base.py:299: ConvergenceWarning: Solver terminated early (max_iter=10).  Consider pre-processing your data with StandardScaler or MinMaxScaler.\n",
            "  warnings.warn(\n",
            "/usr/local/lib/python3.9/dist-packages/sklearn/utils/validation.py:1143: DataConversionWarning: A column-vector y was passed when a 1d array was expected. Please change the shape of y to (n_samples, ), for example using ravel().\n",
            "  y = column_or_1d(y, warn=True)\n",
            "/usr/local/lib/python3.9/dist-packages/sklearn/svm/_base.py:299: ConvergenceWarning: Solver terminated early (max_iter=10).  Consider pre-processing your data with StandardScaler or MinMaxScaler.\n",
            "  warnings.warn(\n",
            "/usr/local/lib/python3.9/dist-packages/sklearn/utils/validation.py:1143: DataConversionWarning: A column-vector y was passed when a 1d array was expected. Please change the shape of y to (n_samples, ), for example using ravel().\n",
            "  y = column_or_1d(y, warn=True)\n",
            "/usr/local/lib/python3.9/dist-packages/sklearn/svm/_base.py:299: ConvergenceWarning: Solver terminated early (max_iter=50).  Consider pre-processing your data with StandardScaler or MinMaxScaler.\n",
            "  warnings.warn(\n",
            "/usr/local/lib/python3.9/dist-packages/sklearn/utils/validation.py:1143: DataConversionWarning: A column-vector y was passed when a 1d array was expected. Please change the shape of y to (n_samples, ), for example using ravel().\n",
            "  y = column_or_1d(y, warn=True)\n",
            "/usr/local/lib/python3.9/dist-packages/sklearn/svm/_base.py:299: ConvergenceWarning: Solver terminated early (max_iter=50).  Consider pre-processing your data with StandardScaler or MinMaxScaler.\n",
            "  warnings.warn(\n",
            "/usr/local/lib/python3.9/dist-packages/sklearn/utils/validation.py:1143: DataConversionWarning: A column-vector y was passed when a 1d array was expected. Please change the shape of y to (n_samples, ), for example using ravel().\n",
            "  y = column_or_1d(y, warn=True)\n",
            "/usr/local/lib/python3.9/dist-packages/sklearn/svm/_base.py:299: ConvergenceWarning: Solver terminated early (max_iter=50).  Consider pre-processing your data with StandardScaler or MinMaxScaler.\n",
            "  warnings.warn(\n",
            "/usr/local/lib/python3.9/dist-packages/sklearn/utils/validation.py:1143: DataConversionWarning: A column-vector y was passed when a 1d array was expected. Please change the shape of y to (n_samples, ), for example using ravel().\n",
            "  y = column_or_1d(y, warn=True)\n",
            "/usr/local/lib/python3.9/dist-packages/sklearn/svm/_base.py:299: ConvergenceWarning: Solver terminated early (max_iter=50).  Consider pre-processing your data with StandardScaler or MinMaxScaler.\n",
            "  warnings.warn(\n"
          ]
        },
        {
          "output_type": "stream",
          "name": "stdout",
          "text": [
            "[CV] END .....clf__C=1, clf__kernel=linear, clf__max_iter=10; total time=   0.0s\n",
            "[CV] END .....clf__C=1, clf__kernel=linear, clf__max_iter=10; total time=   0.0s\n",
            "[CV] END .....clf__C=1, clf__kernel=linear, clf__max_iter=10; total time=   0.0s\n",
            "[CV] END .....clf__C=1, clf__kernel=linear, clf__max_iter=50; total time=   0.0s\n",
            "[CV] END .....clf__C=1, clf__kernel=linear, clf__max_iter=50; total time=   0.0s\n",
            "[CV] END .....clf__C=1, clf__kernel=linear, clf__max_iter=50; total time=   0.0s\n",
            "[CV] END .....clf__C=1, clf__kernel=linear, clf__max_iter=50; total time=   0.0s\n"
          ]
        },
        {
          "output_type": "stream",
          "name": "stderr",
          "text": [
            "/usr/local/lib/python3.9/dist-packages/sklearn/utils/validation.py:1143: DataConversionWarning: A column-vector y was passed when a 1d array was expected. Please change the shape of y to (n_samples, ), for example using ravel().\n",
            "  y = column_or_1d(y, warn=True)\n",
            "/usr/local/lib/python3.9/dist-packages/sklearn/svm/_base.py:299: ConvergenceWarning: Solver terminated early (max_iter=50).  Consider pre-processing your data with StandardScaler or MinMaxScaler.\n",
            "  warnings.warn(\n",
            "/usr/local/lib/python3.9/dist-packages/sklearn/utils/validation.py:1143: DataConversionWarning: A column-vector y was passed when a 1d array was expected. Please change the shape of y to (n_samples, ), for example using ravel().\n",
            "  y = column_or_1d(y, warn=True)\n",
            "/usr/local/lib/python3.9/dist-packages/sklearn/svm/_base.py:299: ConvergenceWarning: Solver terminated early (max_iter=1).  Consider pre-processing your data with StandardScaler or MinMaxScaler.\n",
            "  warnings.warn(\n",
            "/usr/local/lib/python3.9/dist-packages/sklearn/utils/validation.py:1143: DataConversionWarning: A column-vector y was passed when a 1d array was expected. Please change the shape of y to (n_samples, ), for example using ravel().\n",
            "  y = column_or_1d(y, warn=True)\n",
            "/usr/local/lib/python3.9/dist-packages/sklearn/svm/_base.py:299: ConvergenceWarning: Solver terminated early (max_iter=1).  Consider pre-processing your data with StandardScaler or MinMaxScaler.\n",
            "  warnings.warn(\n",
            "/usr/local/lib/python3.9/dist-packages/sklearn/utils/validation.py:1143: DataConversionWarning: A column-vector y was passed when a 1d array was expected. Please change the shape of y to (n_samples, ), for example using ravel().\n",
            "  y = column_or_1d(y, warn=True)\n",
            "/usr/local/lib/python3.9/dist-packages/sklearn/svm/_base.py:299: ConvergenceWarning: Solver terminated early (max_iter=1).  Consider pre-processing your data with StandardScaler or MinMaxScaler.\n",
            "  warnings.warn(\n",
            "/usr/local/lib/python3.9/dist-packages/sklearn/utils/validation.py:1143: DataConversionWarning: A column-vector y was passed when a 1d array was expected. Please change the shape of y to (n_samples, ), for example using ravel().\n",
            "  y = column_or_1d(y, warn=True)\n",
            "/usr/local/lib/python3.9/dist-packages/sklearn/svm/_base.py:299: ConvergenceWarning: Solver terminated early (max_iter=1).  Consider pre-processing your data with StandardScaler or MinMaxScaler.\n",
            "  warnings.warn(\n",
            "/usr/local/lib/python3.9/dist-packages/sklearn/utils/validation.py:1143: DataConversionWarning: A column-vector y was passed when a 1d array was expected. Please change the shape of y to (n_samples, ), for example using ravel().\n",
            "  y = column_or_1d(y, warn=True)\n",
            "/usr/local/lib/python3.9/dist-packages/sklearn/svm/_base.py:299: ConvergenceWarning: Solver terminated early (max_iter=1).  Consider pre-processing your data with StandardScaler or MinMaxScaler.\n",
            "  warnings.warn(\n",
            "/usr/local/lib/python3.9/dist-packages/sklearn/utils/validation.py:1143: DataConversionWarning: A column-vector y was passed when a 1d array was expected. Please change the shape of y to (n_samples, ), for example using ravel().\n",
            "  y = column_or_1d(y, warn=True)\n",
            "/usr/local/lib/python3.9/dist-packages/sklearn/svm/_base.py:299: ConvergenceWarning: Solver terminated early (max_iter=10).  Consider pre-processing your data with StandardScaler or MinMaxScaler.\n",
            "  warnings.warn(\n",
            "/usr/local/lib/python3.9/dist-packages/sklearn/utils/validation.py:1143: DataConversionWarning: A column-vector y was passed when a 1d array was expected. Please change the shape of y to (n_samples, ), for example using ravel().\n",
            "  y = column_or_1d(y, warn=True)\n",
            "/usr/local/lib/python3.9/dist-packages/sklearn/svm/_base.py:299: ConvergenceWarning: Solver terminated early (max_iter=10).  Consider pre-processing your data with StandardScaler or MinMaxScaler.\n",
            "  warnings.warn(\n"
          ]
        },
        {
          "output_type": "stream",
          "name": "stdout",
          "text": [
            "[CV] END .....clf__C=1, clf__kernel=linear, clf__max_iter=50; total time=   0.1s\n",
            "[CV] END .....clf__C=1, clf__kernel=sigmoid, clf__max_iter=1; total time=   0.0s\n",
            "[CV] END .....clf__C=1, clf__kernel=sigmoid, clf__max_iter=1; total time=   0.0s\n",
            "[CV] END .....clf__C=1, clf__kernel=sigmoid, clf__max_iter=1; total time=   0.0s\n",
            "[CV] END .....clf__C=1, clf__kernel=sigmoid, clf__max_iter=1; total time=   0.0s\n",
            "[CV] END .....clf__C=1, clf__kernel=sigmoid, clf__max_iter=1; total time=   0.0s\n",
            "[CV] END ....clf__C=1, clf__kernel=sigmoid, clf__max_iter=10; total time=   0.0s\n",
            "[CV] END ....clf__C=1, clf__kernel=sigmoid, clf__max_iter=10; total time=   0.0s\n",
            "[CV] END ....clf__C=1, clf__kernel=sigmoid, clf__max_iter=10; total time=   0.0s\n"
          ]
        },
        {
          "output_type": "stream",
          "name": "stderr",
          "text": [
            "/usr/local/lib/python3.9/dist-packages/sklearn/utils/validation.py:1143: DataConversionWarning: A column-vector y was passed when a 1d array was expected. Please change the shape of y to (n_samples, ), for example using ravel().\n",
            "  y = column_or_1d(y, warn=True)\n",
            "/usr/local/lib/python3.9/dist-packages/sklearn/svm/_base.py:299: ConvergenceWarning: Solver terminated early (max_iter=10).  Consider pre-processing your data with StandardScaler or MinMaxScaler.\n",
            "  warnings.warn(\n",
            "/usr/local/lib/python3.9/dist-packages/sklearn/utils/validation.py:1143: DataConversionWarning: A column-vector y was passed when a 1d array was expected. Please change the shape of y to (n_samples, ), for example using ravel().\n",
            "  y = column_or_1d(y, warn=True)\n",
            "/usr/local/lib/python3.9/dist-packages/sklearn/svm/_base.py:299: ConvergenceWarning: Solver terminated early (max_iter=10).  Consider pre-processing your data with StandardScaler or MinMaxScaler.\n",
            "  warnings.warn(\n",
            "/usr/local/lib/python3.9/dist-packages/sklearn/utils/validation.py:1143: DataConversionWarning: A column-vector y was passed when a 1d array was expected. Please change the shape of y to (n_samples, ), for example using ravel().\n",
            "  y = column_or_1d(y, warn=True)\n",
            "/usr/local/lib/python3.9/dist-packages/sklearn/svm/_base.py:299: ConvergenceWarning: Solver terminated early (max_iter=10).  Consider pre-processing your data with StandardScaler or MinMaxScaler.\n",
            "  warnings.warn(\n",
            "/usr/local/lib/python3.9/dist-packages/sklearn/utils/validation.py:1143: DataConversionWarning: A column-vector y was passed when a 1d array was expected. Please change the shape of y to (n_samples, ), for example using ravel().\n",
            "  y = column_or_1d(y, warn=True)\n",
            "/usr/local/lib/python3.9/dist-packages/sklearn/svm/_base.py:299: ConvergenceWarning: Solver terminated early (max_iter=50).  Consider pre-processing your data with StandardScaler or MinMaxScaler.\n",
            "  warnings.warn(\n",
            "/usr/local/lib/python3.9/dist-packages/sklearn/utils/validation.py:1143: DataConversionWarning: A column-vector y was passed when a 1d array was expected. Please change the shape of y to (n_samples, ), for example using ravel().\n",
            "  y = column_or_1d(y, warn=True)\n",
            "/usr/local/lib/python3.9/dist-packages/sklearn/svm/_base.py:299: ConvergenceWarning: Solver terminated early (max_iter=50).  Consider pre-processing your data with StandardScaler or MinMaxScaler.\n",
            "  warnings.warn(\n",
            "/usr/local/lib/python3.9/dist-packages/sklearn/utils/validation.py:1143: DataConversionWarning: A column-vector y was passed when a 1d array was expected. Please change the shape of y to (n_samples, ), for example using ravel().\n",
            "  y = column_or_1d(y, warn=True)\n",
            "/usr/local/lib/python3.9/dist-packages/sklearn/svm/_base.py:299: ConvergenceWarning: Solver terminated early (max_iter=50).  Consider pre-processing your data with StandardScaler or MinMaxScaler.\n",
            "  warnings.warn(\n"
          ]
        },
        {
          "output_type": "stream",
          "name": "stdout",
          "text": [
            "[CV] END ....clf__C=1, clf__kernel=sigmoid, clf__max_iter=10; total time=   0.0s\n",
            "[CV] END ....clf__C=1, clf__kernel=sigmoid, clf__max_iter=10; total time=   0.0s\n",
            "[CV] END ....clf__C=1, clf__kernel=sigmoid, clf__max_iter=50; total time=   0.0s\n",
            "[CV] END ....clf__C=1, clf__kernel=sigmoid, clf__max_iter=50; total time=   0.0s\n",
            "[CV] END ....clf__C=1, clf__kernel=sigmoid, clf__max_iter=50; total time=   0.0s\n",
            "[CV] END ....clf__C=1, clf__kernel=sigmoid, clf__max_iter=50; total time=   0.0s\n"
          ]
        },
        {
          "output_type": "stream",
          "name": "stderr",
          "text": [
            "/usr/local/lib/python3.9/dist-packages/sklearn/utils/validation.py:1143: DataConversionWarning: A column-vector y was passed when a 1d array was expected. Please change the shape of y to (n_samples, ), for example using ravel().\n",
            "  y = column_or_1d(y, warn=True)\n",
            "/usr/local/lib/python3.9/dist-packages/sklearn/svm/_base.py:299: ConvergenceWarning: Solver terminated early (max_iter=50).  Consider pre-processing your data with StandardScaler or MinMaxScaler.\n",
            "  warnings.warn(\n",
            "/usr/local/lib/python3.9/dist-packages/sklearn/utils/validation.py:1143: DataConversionWarning: A column-vector y was passed when a 1d array was expected. Please change the shape of y to (n_samples, ), for example using ravel().\n",
            "  y = column_or_1d(y, warn=True)\n",
            "/usr/local/lib/python3.9/dist-packages/sklearn/svm/_base.py:299: ConvergenceWarning: Solver terminated early (max_iter=50).  Consider pre-processing your data with StandardScaler or MinMaxScaler.\n",
            "  warnings.warn(\n",
            "/usr/local/lib/python3.9/dist-packages/sklearn/utils/validation.py:1143: DataConversionWarning: A column-vector y was passed when a 1d array was expected. Please change the shape of y to (n_samples, ), for example using ravel().\n",
            "  y = column_or_1d(y, warn=True)\n",
            "/usr/local/lib/python3.9/dist-packages/sklearn/svm/_base.py:299: ConvergenceWarning: Solver terminated early (max_iter=1).  Consider pre-processing your data with StandardScaler or MinMaxScaler.\n",
            "  warnings.warn(\n",
            "/usr/local/lib/python3.9/dist-packages/sklearn/utils/validation.py:1143: DataConversionWarning: A column-vector y was passed when a 1d array was expected. Please change the shape of y to (n_samples, ), for example using ravel().\n",
            "  y = column_or_1d(y, warn=True)\n",
            "/usr/local/lib/python3.9/dist-packages/sklearn/svm/_base.py:299: ConvergenceWarning: Solver terminated early (max_iter=1).  Consider pre-processing your data with StandardScaler or MinMaxScaler.\n",
            "  warnings.warn(\n",
            "/usr/local/lib/python3.9/dist-packages/sklearn/utils/validation.py:1143: DataConversionWarning: A column-vector y was passed when a 1d array was expected. Please change the shape of y to (n_samples, ), for example using ravel().\n",
            "  y = column_or_1d(y, warn=True)\n",
            "/usr/local/lib/python3.9/dist-packages/sklearn/svm/_base.py:299: ConvergenceWarning: Solver terminated early (max_iter=1).  Consider pre-processing your data with StandardScaler or MinMaxScaler.\n",
            "  warnings.warn(\n",
            "/usr/local/lib/python3.9/dist-packages/sklearn/utils/validation.py:1143: DataConversionWarning: A column-vector y was passed when a 1d array was expected. Please change the shape of y to (n_samples, ), for example using ravel().\n",
            "  y = column_or_1d(y, warn=True)\n",
            "/usr/local/lib/python3.9/dist-packages/sklearn/svm/_base.py:299: ConvergenceWarning: Solver terminated early (max_iter=1).  Consider pre-processing your data with StandardScaler or MinMaxScaler.\n",
            "  warnings.warn(\n",
            "/usr/local/lib/python3.9/dist-packages/sklearn/utils/validation.py:1143: DataConversionWarning: A column-vector y was passed when a 1d array was expected. Please change the shape of y to (n_samples, ), for example using ravel().\n",
            "  y = column_or_1d(y, warn=True)\n",
            "/usr/local/lib/python3.9/dist-packages/sklearn/svm/_base.py:299: ConvergenceWarning: Solver terminated early (max_iter=1).  Consider pre-processing your data with StandardScaler or MinMaxScaler.\n",
            "  warnings.warn(\n",
            "/usr/local/lib/python3.9/dist-packages/sklearn/utils/validation.py:1143: DataConversionWarning: A column-vector y was passed when a 1d array was expected. Please change the shape of y to (n_samples, ), for example using ravel().\n",
            "  y = column_or_1d(y, warn=True)\n",
            "/usr/local/lib/python3.9/dist-packages/sklearn/svm/_base.py:299: ConvergenceWarning: Solver terminated early (max_iter=10).  Consider pre-processing your data with StandardScaler or MinMaxScaler.\n",
            "  warnings.warn(\n"
          ]
        },
        {
          "output_type": "stream",
          "name": "stdout",
          "text": [
            "[CV] END ....clf__C=1, clf__kernel=sigmoid, clf__max_iter=50; total time=   0.0s\n",
            "[CV] END ......clf__C=2, clf__kernel=linear, clf__max_iter=1; total time=   0.0s\n",
            "[CV] END ......clf__C=2, clf__kernel=linear, clf__max_iter=1; total time=   0.0s\n",
            "[CV] END ......clf__C=2, clf__kernel=linear, clf__max_iter=1; total time=   0.0s\n",
            "[CV] END ......clf__C=2, clf__kernel=linear, clf__max_iter=1; total time=   0.0s\n",
            "[CV] END ......clf__C=2, clf__kernel=linear, clf__max_iter=1; total time=   0.0s\n",
            "[CV] END .....clf__C=2, clf__kernel=linear, clf__max_iter=10; total time=   0.0s\n",
            "[CV] END .....clf__C=2, clf__kernel=linear, clf__max_iter=10; total time=   0.0s\n",
            "[CV] END .....clf__C=2, clf__kernel=linear, clf__max_iter=10; total time=   0.0s\n",
            "[CV] END .....clf__C=2, clf__kernel=linear, clf__max_iter=10; total time=   0.0s\n"
          ]
        },
        {
          "output_type": "stream",
          "name": "stderr",
          "text": [
            "/usr/local/lib/python3.9/dist-packages/sklearn/utils/validation.py:1143: DataConversionWarning: A column-vector y was passed when a 1d array was expected. Please change the shape of y to (n_samples, ), for example using ravel().\n",
            "  y = column_or_1d(y, warn=True)\n",
            "/usr/local/lib/python3.9/dist-packages/sklearn/svm/_base.py:299: ConvergenceWarning: Solver terminated early (max_iter=10).  Consider pre-processing your data with StandardScaler or MinMaxScaler.\n",
            "  warnings.warn(\n",
            "/usr/local/lib/python3.9/dist-packages/sklearn/utils/validation.py:1143: DataConversionWarning: A column-vector y was passed when a 1d array was expected. Please change the shape of y to (n_samples, ), for example using ravel().\n",
            "  y = column_or_1d(y, warn=True)\n",
            "/usr/local/lib/python3.9/dist-packages/sklearn/svm/_base.py:299: ConvergenceWarning: Solver terminated early (max_iter=10).  Consider pre-processing your data with StandardScaler or MinMaxScaler.\n",
            "  warnings.warn(\n",
            "/usr/local/lib/python3.9/dist-packages/sklearn/utils/validation.py:1143: DataConversionWarning: A column-vector y was passed when a 1d array was expected. Please change the shape of y to (n_samples, ), for example using ravel().\n",
            "  y = column_or_1d(y, warn=True)\n",
            "/usr/local/lib/python3.9/dist-packages/sklearn/svm/_base.py:299: ConvergenceWarning: Solver terminated early (max_iter=10).  Consider pre-processing your data with StandardScaler or MinMaxScaler.\n",
            "  warnings.warn(\n",
            "/usr/local/lib/python3.9/dist-packages/sklearn/utils/validation.py:1143: DataConversionWarning: A column-vector y was passed when a 1d array was expected. Please change the shape of y to (n_samples, ), for example using ravel().\n",
            "  y = column_or_1d(y, warn=True)\n",
            "/usr/local/lib/python3.9/dist-packages/sklearn/svm/_base.py:299: ConvergenceWarning: Solver terminated early (max_iter=10).  Consider pre-processing your data with StandardScaler or MinMaxScaler.\n",
            "  warnings.warn(\n",
            "/usr/local/lib/python3.9/dist-packages/sklearn/utils/validation.py:1143: DataConversionWarning: A column-vector y was passed when a 1d array was expected. Please change the shape of y to (n_samples, ), for example using ravel().\n",
            "  y = column_or_1d(y, warn=True)\n",
            "/usr/local/lib/python3.9/dist-packages/sklearn/svm/_base.py:299: ConvergenceWarning: Solver terminated early (max_iter=50).  Consider pre-processing your data with StandardScaler or MinMaxScaler.\n",
            "  warnings.warn(\n",
            "/usr/local/lib/python3.9/dist-packages/sklearn/utils/validation.py:1143: DataConversionWarning: A column-vector y was passed when a 1d array was expected. Please change the shape of y to (n_samples, ), for example using ravel().\n",
            "  y = column_or_1d(y, warn=True)\n",
            "/usr/local/lib/python3.9/dist-packages/sklearn/svm/_base.py:299: ConvergenceWarning: Solver terminated early (max_iter=50).  Consider pre-processing your data with StandardScaler or MinMaxScaler.\n",
            "  warnings.warn(\n",
            "/usr/local/lib/python3.9/dist-packages/sklearn/utils/validation.py:1143: DataConversionWarning: A column-vector y was passed when a 1d array was expected. Please change the shape of y to (n_samples, ), for example using ravel().\n",
            "  y = column_or_1d(y, warn=True)\n",
            "/usr/local/lib/python3.9/dist-packages/sklearn/svm/_base.py:299: ConvergenceWarning: Solver terminated early (max_iter=50).  Consider pre-processing your data with StandardScaler or MinMaxScaler.\n",
            "  warnings.warn(\n",
            "/usr/local/lib/python3.9/dist-packages/sklearn/utils/validation.py:1143: DataConversionWarning: A column-vector y was passed when a 1d array was expected. Please change the shape of y to (n_samples, ), for example using ravel().\n",
            "  y = column_or_1d(y, warn=True)\n",
            "/usr/local/lib/python3.9/dist-packages/sklearn/svm/_base.py:299: ConvergenceWarning: Solver terminated early (max_iter=50).  Consider pre-processing your data with StandardScaler or MinMaxScaler.\n",
            "  warnings.warn(\n"
          ]
        },
        {
          "output_type": "stream",
          "name": "stdout",
          "text": [
            "[CV] END .....clf__C=2, clf__kernel=linear, clf__max_iter=10; total time=   0.0s\n",
            "[CV] END .....clf__C=2, clf__kernel=linear, clf__max_iter=50; total time=   0.0s\n",
            "[CV] END .....clf__C=2, clf__kernel=linear, clf__max_iter=50; total time=   0.0s\n",
            "[CV] END .....clf__C=2, clf__kernel=linear, clf__max_iter=50; total time=   0.0s\n",
            "[CV] END .....clf__C=2, clf__kernel=linear, clf__max_iter=50; total time=   0.0s\n",
            "[CV] END .....clf__C=2, clf__kernel=linear, clf__max_iter=50; total time=   0.0s\n",
            "[CV] END .....clf__C=2, clf__kernel=sigmoid, clf__max_iter=1; total time=   0.0s\n",
            "[CV] END .....clf__C=2, clf__kernel=sigmoid, clf__max_iter=1; total time=   0.0s\n"
          ]
        },
        {
          "output_type": "stream",
          "name": "stderr",
          "text": [
            "/usr/local/lib/python3.9/dist-packages/sklearn/utils/validation.py:1143: DataConversionWarning: A column-vector y was passed when a 1d array was expected. Please change the shape of y to (n_samples, ), for example using ravel().\n",
            "  y = column_or_1d(y, warn=True)\n",
            "/usr/local/lib/python3.9/dist-packages/sklearn/svm/_base.py:299: ConvergenceWarning: Solver terminated early (max_iter=50).  Consider pre-processing your data with StandardScaler or MinMaxScaler.\n",
            "  warnings.warn(\n",
            "/usr/local/lib/python3.9/dist-packages/sklearn/utils/validation.py:1143: DataConversionWarning: A column-vector y was passed when a 1d array was expected. Please change the shape of y to (n_samples, ), for example using ravel().\n",
            "  y = column_or_1d(y, warn=True)\n",
            "/usr/local/lib/python3.9/dist-packages/sklearn/svm/_base.py:299: ConvergenceWarning: Solver terminated early (max_iter=1).  Consider pre-processing your data with StandardScaler or MinMaxScaler.\n",
            "  warnings.warn(\n",
            "/usr/local/lib/python3.9/dist-packages/sklearn/utils/validation.py:1143: DataConversionWarning: A column-vector y was passed when a 1d array was expected. Please change the shape of y to (n_samples, ), for example using ravel().\n",
            "  y = column_or_1d(y, warn=True)\n",
            "/usr/local/lib/python3.9/dist-packages/sklearn/svm/_base.py:299: ConvergenceWarning: Solver terminated early (max_iter=1).  Consider pre-processing your data with StandardScaler or MinMaxScaler.\n",
            "  warnings.warn(\n",
            "/usr/local/lib/python3.9/dist-packages/sklearn/utils/validation.py:1143: DataConversionWarning: A column-vector y was passed when a 1d array was expected. Please change the shape of y to (n_samples, ), for example using ravel().\n",
            "  y = column_or_1d(y, warn=True)\n",
            "/usr/local/lib/python3.9/dist-packages/sklearn/svm/_base.py:299: ConvergenceWarning: Solver terminated early (max_iter=1).  Consider pre-processing your data with StandardScaler or MinMaxScaler.\n",
            "  warnings.warn(\n",
            "/usr/local/lib/python3.9/dist-packages/sklearn/utils/validation.py:1143: DataConversionWarning: A column-vector y was passed when a 1d array was expected. Please change the shape of y to (n_samples, ), for example using ravel().\n",
            "  y = column_or_1d(y, warn=True)\n",
            "/usr/local/lib/python3.9/dist-packages/sklearn/svm/_base.py:299: ConvergenceWarning: Solver terminated early (max_iter=1).  Consider pre-processing your data with StandardScaler or MinMaxScaler.\n",
            "  warnings.warn(\n",
            "/usr/local/lib/python3.9/dist-packages/sklearn/utils/validation.py:1143: DataConversionWarning: A column-vector y was passed when a 1d array was expected. Please change the shape of y to (n_samples, ), for example using ravel().\n",
            "  y = column_or_1d(y, warn=True)\n",
            "/usr/local/lib/python3.9/dist-packages/sklearn/svm/_base.py:299: ConvergenceWarning: Solver terminated early (max_iter=1).  Consider pre-processing your data with StandardScaler or MinMaxScaler.\n",
            "  warnings.warn(\n",
            "/usr/local/lib/python3.9/dist-packages/sklearn/utils/validation.py:1143: DataConversionWarning: A column-vector y was passed when a 1d array was expected. Please change the shape of y to (n_samples, ), for example using ravel().\n",
            "  y = column_or_1d(y, warn=True)\n",
            "/usr/local/lib/python3.9/dist-packages/sklearn/svm/_base.py:299: ConvergenceWarning: Solver terminated early (max_iter=10).  Consider pre-processing your data with StandardScaler or MinMaxScaler.\n",
            "  warnings.warn(\n",
            "/usr/local/lib/python3.9/dist-packages/sklearn/utils/validation.py:1143: DataConversionWarning: A column-vector y was passed when a 1d array was expected. Please change the shape of y to (n_samples, ), for example using ravel().\n",
            "  y = column_or_1d(y, warn=True)\n",
            "/usr/local/lib/python3.9/dist-packages/sklearn/svm/_base.py:299: ConvergenceWarning: Solver terminated early (max_iter=10).  Consider pre-processing your data with StandardScaler or MinMaxScaler.\n",
            "  warnings.warn(\n"
          ]
        },
        {
          "output_type": "stream",
          "name": "stdout",
          "text": [
            "[CV] END .....clf__C=2, clf__kernel=sigmoid, clf__max_iter=1; total time=   0.0s\n",
            "[CV] END .....clf__C=2, clf__kernel=sigmoid, clf__max_iter=1; total time=   0.0s\n",
            "[CV] END .....clf__C=2, clf__kernel=sigmoid, clf__max_iter=1; total time=   0.0s\n",
            "[CV] END ....clf__C=2, clf__kernel=sigmoid, clf__max_iter=10; total time=   0.0s\n",
            "[CV] END ....clf__C=2, clf__kernel=sigmoid, clf__max_iter=10; total time=   0.0s\n",
            "[CV] END ....clf__C=2, clf__kernel=sigmoid, clf__max_iter=10; total time=   0.0s\n",
            "[CV] END ....clf__C=2, clf__kernel=sigmoid, clf__max_iter=10; total time=   0.0s\n",
            "[CV] END ....clf__C=2, clf__kernel=sigmoid, clf__max_iter=10; total time=   0.0s\n"
          ]
        },
        {
          "output_type": "stream",
          "name": "stderr",
          "text": [
            "/usr/local/lib/python3.9/dist-packages/sklearn/utils/validation.py:1143: DataConversionWarning: A column-vector y was passed when a 1d array was expected. Please change the shape of y to (n_samples, ), for example using ravel().\n",
            "  y = column_or_1d(y, warn=True)\n",
            "/usr/local/lib/python3.9/dist-packages/sklearn/svm/_base.py:299: ConvergenceWarning: Solver terminated early (max_iter=10).  Consider pre-processing your data with StandardScaler or MinMaxScaler.\n",
            "  warnings.warn(\n",
            "/usr/local/lib/python3.9/dist-packages/sklearn/utils/validation.py:1143: DataConversionWarning: A column-vector y was passed when a 1d array was expected. Please change the shape of y to (n_samples, ), for example using ravel().\n",
            "  y = column_or_1d(y, warn=True)\n",
            "/usr/local/lib/python3.9/dist-packages/sklearn/svm/_base.py:299: ConvergenceWarning: Solver terminated early (max_iter=10).  Consider pre-processing your data with StandardScaler or MinMaxScaler.\n",
            "  warnings.warn(\n",
            "/usr/local/lib/python3.9/dist-packages/sklearn/utils/validation.py:1143: DataConversionWarning: A column-vector y was passed when a 1d array was expected. Please change the shape of y to (n_samples, ), for example using ravel().\n",
            "  y = column_or_1d(y, warn=True)\n",
            "/usr/local/lib/python3.9/dist-packages/sklearn/svm/_base.py:299: ConvergenceWarning: Solver terminated early (max_iter=10).  Consider pre-processing your data with StandardScaler or MinMaxScaler.\n",
            "  warnings.warn(\n",
            "/usr/local/lib/python3.9/dist-packages/sklearn/utils/validation.py:1143: DataConversionWarning: A column-vector y was passed when a 1d array was expected. Please change the shape of y to (n_samples, ), for example using ravel().\n",
            "  y = column_or_1d(y, warn=True)\n",
            "/usr/local/lib/python3.9/dist-packages/sklearn/svm/_base.py:299: ConvergenceWarning: Solver terminated early (max_iter=50).  Consider pre-processing your data with StandardScaler or MinMaxScaler.\n",
            "  warnings.warn(\n",
            "/usr/local/lib/python3.9/dist-packages/sklearn/utils/validation.py:1143: DataConversionWarning: A column-vector y was passed when a 1d array was expected. Please change the shape of y to (n_samples, ), for example using ravel().\n",
            "  y = column_or_1d(y, warn=True)\n",
            "/usr/local/lib/python3.9/dist-packages/sklearn/svm/_base.py:299: ConvergenceWarning: Solver terminated early (max_iter=50).  Consider pre-processing your data with StandardScaler or MinMaxScaler.\n",
            "  warnings.warn(\n",
            "/usr/local/lib/python3.9/dist-packages/sklearn/utils/validation.py:1143: DataConversionWarning: A column-vector y was passed when a 1d array was expected. Please change the shape of y to (n_samples, ), for example using ravel().\n",
            "  y = column_or_1d(y, warn=True)\n",
            "/usr/local/lib/python3.9/dist-packages/sklearn/svm/_base.py:299: ConvergenceWarning: Solver terminated early (max_iter=50).  Consider pre-processing your data with StandardScaler or MinMaxScaler.\n",
            "  warnings.warn(\n",
            "/usr/local/lib/python3.9/dist-packages/sklearn/utils/validation.py:1143: DataConversionWarning: A column-vector y was passed when a 1d array was expected. Please change the shape of y to (n_samples, ), for example using ravel().\n",
            "  y = column_or_1d(y, warn=True)\n"
          ]
        },
        {
          "output_type": "stream",
          "name": "stdout",
          "text": [
            "[CV] END ....clf__C=2, clf__kernel=sigmoid, clf__max_iter=50; total time=   0.0s\n",
            "[CV] END ....clf__C=2, clf__kernel=sigmoid, clf__max_iter=50; total time=   0.0s\n",
            "[CV] END ....clf__C=2, clf__kernel=sigmoid, clf__max_iter=50; total time=   0.0s\n",
            "[CV] END ....clf__C=2, clf__kernel=sigmoid, clf__max_iter=50; total time=   0.0s\n",
            "[CV] END ....clf__C=2, clf__kernel=sigmoid, clf__max_iter=50; total time=   0.0s\n",
            "[CV] END ......clf__C=5, clf__kernel=linear, clf__max_iter=1; total time=   0.0s\n"
          ]
        },
        {
          "output_type": "stream",
          "name": "stderr",
          "text": [
            "/usr/local/lib/python3.9/dist-packages/sklearn/svm/_base.py:299: ConvergenceWarning: Solver terminated early (max_iter=50).  Consider pre-processing your data with StandardScaler or MinMaxScaler.\n",
            "  warnings.warn(\n",
            "/usr/local/lib/python3.9/dist-packages/sklearn/utils/validation.py:1143: DataConversionWarning: A column-vector y was passed when a 1d array was expected. Please change the shape of y to (n_samples, ), for example using ravel().\n",
            "  y = column_or_1d(y, warn=True)\n",
            "/usr/local/lib/python3.9/dist-packages/sklearn/svm/_base.py:299: ConvergenceWarning: Solver terminated early (max_iter=50).  Consider pre-processing your data with StandardScaler or MinMaxScaler.\n",
            "  warnings.warn(\n",
            "/usr/local/lib/python3.9/dist-packages/sklearn/utils/validation.py:1143: DataConversionWarning: A column-vector y was passed when a 1d array was expected. Please change the shape of y to (n_samples, ), for example using ravel().\n",
            "  y = column_or_1d(y, warn=True)\n",
            "/usr/local/lib/python3.9/dist-packages/sklearn/svm/_base.py:299: ConvergenceWarning: Solver terminated early (max_iter=1).  Consider pre-processing your data with StandardScaler or MinMaxScaler.\n",
            "  warnings.warn(\n",
            "/usr/local/lib/python3.9/dist-packages/sklearn/utils/validation.py:1143: DataConversionWarning: A column-vector y was passed when a 1d array was expected. Please change the shape of y to (n_samples, ), for example using ravel().\n",
            "  y = column_or_1d(y, warn=True)\n",
            "/usr/local/lib/python3.9/dist-packages/sklearn/svm/_base.py:299: ConvergenceWarning: Solver terminated early (max_iter=1).  Consider pre-processing your data with StandardScaler or MinMaxScaler.\n",
            "  warnings.warn(\n",
            "/usr/local/lib/python3.9/dist-packages/sklearn/utils/validation.py:1143: DataConversionWarning: A column-vector y was passed when a 1d array was expected. Please change the shape of y to (n_samples, ), for example using ravel().\n",
            "  y = column_or_1d(y, warn=True)\n",
            "/usr/local/lib/python3.9/dist-packages/sklearn/svm/_base.py:299: ConvergenceWarning: Solver terminated early (max_iter=1).  Consider pre-processing your data with StandardScaler or MinMaxScaler.\n",
            "  warnings.warn(\n",
            "/usr/local/lib/python3.9/dist-packages/sklearn/utils/validation.py:1143: DataConversionWarning: A column-vector y was passed when a 1d array was expected. Please change the shape of y to (n_samples, ), for example using ravel().\n",
            "  y = column_or_1d(y, warn=True)\n",
            "/usr/local/lib/python3.9/dist-packages/sklearn/svm/_base.py:299: ConvergenceWarning: Solver terminated early (max_iter=1).  Consider pre-processing your data with StandardScaler or MinMaxScaler.\n",
            "  warnings.warn(\n",
            "/usr/local/lib/python3.9/dist-packages/sklearn/utils/validation.py:1143: DataConversionWarning: A column-vector y was passed when a 1d array was expected. Please change the shape of y to (n_samples, ), for example using ravel().\n",
            "  y = column_or_1d(y, warn=True)\n",
            "/usr/local/lib/python3.9/dist-packages/sklearn/svm/_base.py:299: ConvergenceWarning: Solver terminated early (max_iter=1).  Consider pre-processing your data with StandardScaler or MinMaxScaler.\n",
            "  warnings.warn(\n",
            "/usr/local/lib/python3.9/dist-packages/sklearn/utils/validation.py:1143: DataConversionWarning: A column-vector y was passed when a 1d array was expected. Please change the shape of y to (n_samples, ), for example using ravel().\n",
            "  y = column_or_1d(y, warn=True)\n",
            "/usr/local/lib/python3.9/dist-packages/sklearn/svm/_base.py:299: ConvergenceWarning: Solver terminated early (max_iter=10).  Consider pre-processing your data with StandardScaler or MinMaxScaler.\n",
            "  warnings.warn(\n",
            "/usr/local/lib/python3.9/dist-packages/sklearn/utils/validation.py:1143: DataConversionWarning: A column-vector y was passed when a 1d array was expected. Please change the shape of y to (n_samples, ), for example using ravel().\n",
            "  y = column_or_1d(y, warn=True)\n"
          ]
        },
        {
          "output_type": "stream",
          "name": "stdout",
          "text": [
            "[CV] END ......clf__C=5, clf__kernel=linear, clf__max_iter=1; total time=   0.0s\n",
            "[CV] END ......clf__C=5, clf__kernel=linear, clf__max_iter=1; total time=   0.0s\n",
            "[CV] END ......clf__C=5, clf__kernel=linear, clf__max_iter=1; total time=   0.0s\n",
            "[CV] END ......clf__C=5, clf__kernel=linear, clf__max_iter=1; total time=   0.0s\n",
            "[CV] END .....clf__C=5, clf__kernel=linear, clf__max_iter=10; total time=   0.0s\n",
            "[CV] END .....clf__C=5, clf__kernel=linear, clf__max_iter=10; total time=   0.0s\n",
            "[CV] END .....clf__C=5, clf__kernel=linear, clf__max_iter=10; total time=   0.0s\n",
            "[CV] END .....clf__C=5, clf__kernel=linear, clf__max_iter=10; total time=   0.0s\n",
            "[CV] END .....clf__C=5, clf__kernel=linear, clf__max_iter=10; total time=   0.0s\n"
          ]
        },
        {
          "output_type": "stream",
          "name": "stderr",
          "text": [
            "/usr/local/lib/python3.9/dist-packages/sklearn/svm/_base.py:299: ConvergenceWarning: Solver terminated early (max_iter=10).  Consider pre-processing your data with StandardScaler or MinMaxScaler.\n",
            "  warnings.warn(\n",
            "/usr/local/lib/python3.9/dist-packages/sklearn/utils/validation.py:1143: DataConversionWarning: A column-vector y was passed when a 1d array was expected. Please change the shape of y to (n_samples, ), for example using ravel().\n",
            "  y = column_or_1d(y, warn=True)\n",
            "/usr/local/lib/python3.9/dist-packages/sklearn/svm/_base.py:299: ConvergenceWarning: Solver terminated early (max_iter=10).  Consider pre-processing your data with StandardScaler or MinMaxScaler.\n",
            "  warnings.warn(\n",
            "/usr/local/lib/python3.9/dist-packages/sklearn/utils/validation.py:1143: DataConversionWarning: A column-vector y was passed when a 1d array was expected. Please change the shape of y to (n_samples, ), for example using ravel().\n",
            "  y = column_or_1d(y, warn=True)\n",
            "/usr/local/lib/python3.9/dist-packages/sklearn/svm/_base.py:299: ConvergenceWarning: Solver terminated early (max_iter=10).  Consider pre-processing your data with StandardScaler or MinMaxScaler.\n",
            "  warnings.warn(\n",
            "/usr/local/lib/python3.9/dist-packages/sklearn/utils/validation.py:1143: DataConversionWarning: A column-vector y was passed when a 1d array was expected. Please change the shape of y to (n_samples, ), for example using ravel().\n",
            "  y = column_or_1d(y, warn=True)\n",
            "/usr/local/lib/python3.9/dist-packages/sklearn/svm/_base.py:299: ConvergenceWarning: Solver terminated early (max_iter=10).  Consider pre-processing your data with StandardScaler or MinMaxScaler.\n",
            "  warnings.warn(\n",
            "/usr/local/lib/python3.9/dist-packages/sklearn/utils/validation.py:1143: DataConversionWarning: A column-vector y was passed when a 1d array was expected. Please change the shape of y to (n_samples, ), for example using ravel().\n",
            "  y = column_or_1d(y, warn=True)\n",
            "/usr/local/lib/python3.9/dist-packages/sklearn/svm/_base.py:299: ConvergenceWarning: Solver terminated early (max_iter=50).  Consider pre-processing your data with StandardScaler or MinMaxScaler.\n",
            "  warnings.warn(\n",
            "/usr/local/lib/python3.9/dist-packages/sklearn/utils/validation.py:1143: DataConversionWarning: A column-vector y was passed when a 1d array was expected. Please change the shape of y to (n_samples, ), for example using ravel().\n",
            "  y = column_or_1d(y, warn=True)\n",
            "/usr/local/lib/python3.9/dist-packages/sklearn/svm/_base.py:299: ConvergenceWarning: Solver terminated early (max_iter=50).  Consider pre-processing your data with StandardScaler or MinMaxScaler.\n",
            "  warnings.warn(\n",
            "/usr/local/lib/python3.9/dist-packages/sklearn/utils/validation.py:1143: DataConversionWarning: A column-vector y was passed when a 1d array was expected. Please change the shape of y to (n_samples, ), for example using ravel().\n",
            "  y = column_or_1d(y, warn=True)\n",
            "/usr/local/lib/python3.9/dist-packages/sklearn/svm/_base.py:299: ConvergenceWarning: Solver terminated early (max_iter=50).  Consider pre-processing your data with StandardScaler or MinMaxScaler.\n",
            "  warnings.warn(\n",
            "/usr/local/lib/python3.9/dist-packages/sklearn/utils/validation.py:1143: DataConversionWarning: A column-vector y was passed when a 1d array was expected. Please change the shape of y to (n_samples, ), for example using ravel().\n",
            "  y = column_or_1d(y, warn=True)\n",
            "/usr/local/lib/python3.9/dist-packages/sklearn/svm/_base.py:299: ConvergenceWarning: Solver terminated early (max_iter=50).  Consider pre-processing your data with StandardScaler or MinMaxScaler.\n",
            "  warnings.warn(\n"
          ]
        },
        {
          "output_type": "stream",
          "name": "stdout",
          "text": [
            "[CV] END .....clf__C=5, clf__kernel=linear, clf__max_iter=50; total time=   0.0s\n",
            "[CV] END .....clf__C=5, clf__kernel=linear, clf__max_iter=50; total time=   0.0s\n",
            "[CV] END .....clf__C=5, clf__kernel=linear, clf__max_iter=50; total time=   0.0s\n",
            "[CV] END .....clf__C=5, clf__kernel=linear, clf__max_iter=50; total time=   0.0s\n",
            "[CV] END .....clf__C=5, clf__kernel=linear, clf__max_iter=50; total time=   0.0s\n",
            "[CV] END .....clf__C=5, clf__kernel=sigmoid, clf__max_iter=1; total time=   0.0s\n",
            "[CV] END .....clf__C=5, clf__kernel=sigmoid, clf__max_iter=1; total time=   0.0s\n",
            "[CV] END .....clf__C=5, clf__kernel=sigmoid, clf__max_iter=1; total time=   0.0s\n"
          ]
        },
        {
          "output_type": "stream",
          "name": "stderr",
          "text": [
            "/usr/local/lib/python3.9/dist-packages/sklearn/utils/validation.py:1143: DataConversionWarning: A column-vector y was passed when a 1d array was expected. Please change the shape of y to (n_samples, ), for example using ravel().\n",
            "  y = column_or_1d(y, warn=True)\n",
            "/usr/local/lib/python3.9/dist-packages/sklearn/svm/_base.py:299: ConvergenceWarning: Solver terminated early (max_iter=50).  Consider pre-processing your data with StandardScaler or MinMaxScaler.\n",
            "  warnings.warn(\n",
            "/usr/local/lib/python3.9/dist-packages/sklearn/utils/validation.py:1143: DataConversionWarning: A column-vector y was passed when a 1d array was expected. Please change the shape of y to (n_samples, ), for example using ravel().\n",
            "  y = column_or_1d(y, warn=True)\n",
            "/usr/local/lib/python3.9/dist-packages/sklearn/svm/_base.py:299: ConvergenceWarning: Solver terminated early (max_iter=1).  Consider pre-processing your data with StandardScaler or MinMaxScaler.\n",
            "  warnings.warn(\n",
            "/usr/local/lib/python3.9/dist-packages/sklearn/utils/validation.py:1143: DataConversionWarning: A column-vector y was passed when a 1d array was expected. Please change the shape of y to (n_samples, ), for example using ravel().\n",
            "  y = column_or_1d(y, warn=True)\n",
            "/usr/local/lib/python3.9/dist-packages/sklearn/svm/_base.py:299: ConvergenceWarning: Solver terminated early (max_iter=1).  Consider pre-processing your data with StandardScaler or MinMaxScaler.\n",
            "  warnings.warn(\n",
            "/usr/local/lib/python3.9/dist-packages/sklearn/utils/validation.py:1143: DataConversionWarning: A column-vector y was passed when a 1d array was expected. Please change the shape of y to (n_samples, ), for example using ravel().\n",
            "  y = column_or_1d(y, warn=True)\n",
            "/usr/local/lib/python3.9/dist-packages/sklearn/svm/_base.py:299: ConvergenceWarning: Solver terminated early (max_iter=1).  Consider pre-processing your data with StandardScaler or MinMaxScaler.\n",
            "  warnings.warn(\n",
            "/usr/local/lib/python3.9/dist-packages/sklearn/utils/validation.py:1143: DataConversionWarning: A column-vector y was passed when a 1d array was expected. Please change the shape of y to (n_samples, ), for example using ravel().\n",
            "  y = column_or_1d(y, warn=True)\n",
            "/usr/local/lib/python3.9/dist-packages/sklearn/svm/_base.py:299: ConvergenceWarning: Solver terminated early (max_iter=1).  Consider pre-processing your data with StandardScaler or MinMaxScaler.\n",
            "  warnings.warn(\n",
            "/usr/local/lib/python3.9/dist-packages/sklearn/utils/validation.py:1143: DataConversionWarning: A column-vector y was passed when a 1d array was expected. Please change the shape of y to (n_samples, ), for example using ravel().\n",
            "  y = column_or_1d(y, warn=True)\n",
            "/usr/local/lib/python3.9/dist-packages/sklearn/svm/_base.py:299: ConvergenceWarning: Solver terminated early (max_iter=1).  Consider pre-processing your data with StandardScaler or MinMaxScaler.\n",
            "  warnings.warn(\n",
            "/usr/local/lib/python3.9/dist-packages/sklearn/utils/validation.py:1143: DataConversionWarning: A column-vector y was passed when a 1d array was expected. Please change the shape of y to (n_samples, ), for example using ravel().\n",
            "  y = column_or_1d(y, warn=True)\n",
            "/usr/local/lib/python3.9/dist-packages/sklearn/svm/_base.py:299: ConvergenceWarning: Solver terminated early (max_iter=10).  Consider pre-processing your data with StandardScaler or MinMaxScaler.\n",
            "  warnings.warn(\n",
            "/usr/local/lib/python3.9/dist-packages/sklearn/utils/validation.py:1143: DataConversionWarning: A column-vector y was passed when a 1d array was expected. Please change the shape of y to (n_samples, ), for example using ravel().\n",
            "  y = column_or_1d(y, warn=True)\n",
            "/usr/local/lib/python3.9/dist-packages/sklearn/svm/_base.py:299: ConvergenceWarning: Solver terminated early (max_iter=10).  Consider pre-processing your data with StandardScaler or MinMaxScaler.\n",
            "  warnings.warn(\n",
            "/usr/local/lib/python3.9/dist-packages/sklearn/utils/validation.py:1143: DataConversionWarning: A column-vector y was passed when a 1d array was expected. Please change the shape of y to (n_samples, ), for example using ravel().\n",
            "  y = column_or_1d(y, warn=True)\n"
          ]
        },
        {
          "output_type": "stream",
          "name": "stdout",
          "text": [
            "[CV] END .....clf__C=5, clf__kernel=sigmoid, clf__max_iter=1; total time=   0.0s\n",
            "[CV] END .....clf__C=5, clf__kernel=sigmoid, clf__max_iter=1; total time=   0.0s\n",
            "[CV] END ....clf__C=5, clf__kernel=sigmoid, clf__max_iter=10; total time=   0.0s\n",
            "[CV] END ....clf__C=5, clf__kernel=sigmoid, clf__max_iter=10; total time=   0.0s\n",
            "[CV] END ....clf__C=5, clf__kernel=sigmoid, clf__max_iter=10; total time=   0.0s\n",
            "[CV] END ....clf__C=5, clf__kernel=sigmoid, clf__max_iter=10; total time=   0.0s\n",
            "[CV] END ....clf__C=5, clf__kernel=sigmoid, clf__max_iter=10; total time=   0.1s\n"
          ]
        },
        {
          "output_type": "stream",
          "name": "stderr",
          "text": [
            "/usr/local/lib/python3.9/dist-packages/sklearn/svm/_base.py:299: ConvergenceWarning: Solver terminated early (max_iter=10).  Consider pre-processing your data with StandardScaler or MinMaxScaler.\n",
            "  warnings.warn(\n",
            "/usr/local/lib/python3.9/dist-packages/sklearn/utils/validation.py:1143: DataConversionWarning: A column-vector y was passed when a 1d array was expected. Please change the shape of y to (n_samples, ), for example using ravel().\n",
            "  y = column_or_1d(y, warn=True)\n",
            "/usr/local/lib/python3.9/dist-packages/sklearn/svm/_base.py:299: ConvergenceWarning: Solver terminated early (max_iter=10).  Consider pre-processing your data with StandardScaler or MinMaxScaler.\n",
            "  warnings.warn(\n",
            "/usr/local/lib/python3.9/dist-packages/sklearn/utils/validation.py:1143: DataConversionWarning: A column-vector y was passed when a 1d array was expected. Please change the shape of y to (n_samples, ), for example using ravel().\n",
            "  y = column_or_1d(y, warn=True)\n",
            "/usr/local/lib/python3.9/dist-packages/sklearn/svm/_base.py:299: ConvergenceWarning: Solver terminated early (max_iter=10).  Consider pre-processing your data with StandardScaler or MinMaxScaler.\n",
            "  warnings.warn(\n",
            "/usr/local/lib/python3.9/dist-packages/sklearn/utils/validation.py:1143: DataConversionWarning: A column-vector y was passed when a 1d array was expected. Please change the shape of y to (n_samples, ), for example using ravel().\n",
            "  y = column_or_1d(y, warn=True)\n",
            "/usr/local/lib/python3.9/dist-packages/sklearn/svm/_base.py:299: ConvergenceWarning: Solver terminated early (max_iter=50).  Consider pre-processing your data with StandardScaler or MinMaxScaler.\n",
            "  warnings.warn(\n",
            "/usr/local/lib/python3.9/dist-packages/sklearn/utils/validation.py:1143: DataConversionWarning: A column-vector y was passed when a 1d array was expected. Please change the shape of y to (n_samples, ), for example using ravel().\n",
            "  y = column_or_1d(y, warn=True)\n"
          ]
        },
        {
          "output_type": "stream",
          "name": "stdout",
          "text": [
            "[CV] END ....clf__C=5, clf__kernel=sigmoid, clf__max_iter=50; total time=   0.1s\n",
            "[CV] END ....clf__C=5, clf__kernel=sigmoid, clf__max_iter=50; total time=   0.1s\n",
            "[CV] END ....clf__C=5, clf__kernel=sigmoid, clf__max_iter=50; total time=   0.1s\n",
            "[CV] END ....clf__C=5, clf__kernel=sigmoid, clf__max_iter=50; total time=   0.1s\n"
          ]
        },
        {
          "output_type": "stream",
          "name": "stderr",
          "text": [
            "/usr/local/lib/python3.9/dist-packages/sklearn/svm/_base.py:299: ConvergenceWarning: Solver terminated early (max_iter=50).  Consider pre-processing your data with StandardScaler or MinMaxScaler.\n",
            "  warnings.warn(\n",
            "/usr/local/lib/python3.9/dist-packages/sklearn/utils/validation.py:1143: DataConversionWarning: A column-vector y was passed when a 1d array was expected. Please change the shape of y to (n_samples, ), for example using ravel().\n",
            "  y = column_or_1d(y, warn=True)\n",
            "/usr/local/lib/python3.9/dist-packages/sklearn/svm/_base.py:299: ConvergenceWarning: Solver terminated early (max_iter=50).  Consider pre-processing your data with StandardScaler or MinMaxScaler.\n",
            "  warnings.warn(\n",
            "/usr/local/lib/python3.9/dist-packages/sklearn/utils/validation.py:1143: DataConversionWarning: A column-vector y was passed when a 1d array was expected. Please change the shape of y to (n_samples, ), for example using ravel().\n",
            "  y = column_or_1d(y, warn=True)\n",
            "/usr/local/lib/python3.9/dist-packages/sklearn/svm/_base.py:299: ConvergenceWarning: Solver terminated early (max_iter=50).  Consider pre-processing your data with StandardScaler or MinMaxScaler.\n",
            "  warnings.warn(\n",
            "/usr/local/lib/python3.9/dist-packages/sklearn/utils/validation.py:1143: DataConversionWarning: A column-vector y was passed when a 1d array was expected. Please change the shape of y to (n_samples, ), for example using ravel().\n",
            "  y = column_or_1d(y, warn=True)\n",
            "/usr/local/lib/python3.9/dist-packages/sklearn/svm/_base.py:299: ConvergenceWarning: Solver terminated early (max_iter=50).  Consider pre-processing your data with StandardScaler or MinMaxScaler.\n",
            "  warnings.warn(\n"
          ]
        },
        {
          "output_type": "stream",
          "name": "stdout",
          "text": [
            "[CV] END ....clf__C=5, clf__kernel=sigmoid, clf__max_iter=50; total time=   0.1s\n",
            "[CV] END .....clf__C=10, clf__kernel=linear, clf__max_iter=1; total time=   0.0s\n",
            "[CV] END .....clf__C=10, clf__kernel=linear, clf__max_iter=1; total time=   0.0s\n",
            "[CV] END .....clf__C=10, clf__kernel=linear, clf__max_iter=1; total time=   0.0s\n",
            "[CV] END .....clf__C=10, clf__kernel=linear, clf__max_iter=1; total time=   0.0s\n",
            "[CV] END .....clf__C=10, clf__kernel=linear, clf__max_iter=1; total time=   0.0s\n",
            "[CV] END ....clf__C=10, clf__kernel=linear, clf__max_iter=10; total time=   0.0s\n"
          ]
        },
        {
          "output_type": "stream",
          "name": "stderr",
          "text": [
            "/usr/local/lib/python3.9/dist-packages/sklearn/utils/validation.py:1143: DataConversionWarning: A column-vector y was passed when a 1d array was expected. Please change the shape of y to (n_samples, ), for example using ravel().\n",
            "  y = column_or_1d(y, warn=True)\n",
            "/usr/local/lib/python3.9/dist-packages/sklearn/svm/_base.py:299: ConvergenceWarning: Solver terminated early (max_iter=1).  Consider pre-processing your data with StandardScaler or MinMaxScaler.\n",
            "  warnings.warn(\n",
            "/usr/local/lib/python3.9/dist-packages/sklearn/utils/validation.py:1143: DataConversionWarning: A column-vector y was passed when a 1d array was expected. Please change the shape of y to (n_samples, ), for example using ravel().\n",
            "  y = column_or_1d(y, warn=True)\n",
            "/usr/local/lib/python3.9/dist-packages/sklearn/svm/_base.py:299: ConvergenceWarning: Solver terminated early (max_iter=1).  Consider pre-processing your data with StandardScaler or MinMaxScaler.\n",
            "  warnings.warn(\n",
            "/usr/local/lib/python3.9/dist-packages/sklearn/utils/validation.py:1143: DataConversionWarning: A column-vector y was passed when a 1d array was expected. Please change the shape of y to (n_samples, ), for example using ravel().\n",
            "  y = column_or_1d(y, warn=True)\n",
            "/usr/local/lib/python3.9/dist-packages/sklearn/svm/_base.py:299: ConvergenceWarning: Solver terminated early (max_iter=1).  Consider pre-processing your data with StandardScaler or MinMaxScaler.\n",
            "  warnings.warn(\n",
            "/usr/local/lib/python3.9/dist-packages/sklearn/utils/validation.py:1143: DataConversionWarning: A column-vector y was passed when a 1d array was expected. Please change the shape of y to (n_samples, ), for example using ravel().\n",
            "  y = column_or_1d(y, warn=True)\n",
            "/usr/local/lib/python3.9/dist-packages/sklearn/svm/_base.py:299: ConvergenceWarning: Solver terminated early (max_iter=1).  Consider pre-processing your data with StandardScaler or MinMaxScaler.\n",
            "  warnings.warn(\n",
            "/usr/local/lib/python3.9/dist-packages/sklearn/utils/validation.py:1143: DataConversionWarning: A column-vector y was passed when a 1d array was expected. Please change the shape of y to (n_samples, ), for example using ravel().\n",
            "  y = column_or_1d(y, warn=True)\n",
            "/usr/local/lib/python3.9/dist-packages/sklearn/svm/_base.py:299: ConvergenceWarning: Solver terminated early (max_iter=1).  Consider pre-processing your data with StandardScaler or MinMaxScaler.\n",
            "  warnings.warn(\n",
            "/usr/local/lib/python3.9/dist-packages/sklearn/utils/validation.py:1143: DataConversionWarning: A column-vector y was passed when a 1d array was expected. Please change the shape of y to (n_samples, ), for example using ravel().\n",
            "  y = column_or_1d(y, warn=True)\n",
            "/usr/local/lib/python3.9/dist-packages/sklearn/svm/_base.py:299: ConvergenceWarning: Solver terminated early (max_iter=10).  Consider pre-processing your data with StandardScaler or MinMaxScaler.\n",
            "  warnings.warn(\n",
            "/usr/local/lib/python3.9/dist-packages/sklearn/utils/validation.py:1143: DataConversionWarning: A column-vector y was passed when a 1d array was expected. Please change the shape of y to (n_samples, ), for example using ravel().\n",
            "  y = column_or_1d(y, warn=True)\n",
            "/usr/local/lib/python3.9/dist-packages/sklearn/svm/_base.py:299: ConvergenceWarning: Solver terminated early (max_iter=10).  Consider pre-processing your data with StandardScaler or MinMaxScaler.\n",
            "  warnings.warn(\n"
          ]
        },
        {
          "output_type": "stream",
          "name": "stdout",
          "text": [
            "[CV] END ....clf__C=10, clf__kernel=linear, clf__max_iter=10; total time=   0.0s\n",
            "[CV] END ....clf__C=10, clf__kernel=linear, clf__max_iter=10; total time=   0.0s\n",
            "[CV] END ....clf__C=10, clf__kernel=linear, clf__max_iter=10; total time=   0.0s\n",
            "[CV] END ....clf__C=10, clf__kernel=linear, clf__max_iter=10; total time=   0.0s\n",
            "[CV] END ....clf__C=10, clf__kernel=linear, clf__max_iter=50; total time=   0.0s\n",
            "[CV] END ....clf__C=10, clf__kernel=linear, clf__max_iter=50; total time=   0.0s\n"
          ]
        },
        {
          "output_type": "stream",
          "name": "stderr",
          "text": [
            "/usr/local/lib/python3.9/dist-packages/sklearn/utils/validation.py:1143: DataConversionWarning: A column-vector y was passed when a 1d array was expected. Please change the shape of y to (n_samples, ), for example using ravel().\n",
            "  y = column_or_1d(y, warn=True)\n",
            "/usr/local/lib/python3.9/dist-packages/sklearn/svm/_base.py:299: ConvergenceWarning: Solver terminated early (max_iter=10).  Consider pre-processing your data with StandardScaler or MinMaxScaler.\n",
            "  warnings.warn(\n",
            "/usr/local/lib/python3.9/dist-packages/sklearn/utils/validation.py:1143: DataConversionWarning: A column-vector y was passed when a 1d array was expected. Please change the shape of y to (n_samples, ), for example using ravel().\n",
            "  y = column_or_1d(y, warn=True)\n",
            "/usr/local/lib/python3.9/dist-packages/sklearn/svm/_base.py:299: ConvergenceWarning: Solver terminated early (max_iter=10).  Consider pre-processing your data with StandardScaler or MinMaxScaler.\n",
            "  warnings.warn(\n",
            "/usr/local/lib/python3.9/dist-packages/sklearn/utils/validation.py:1143: DataConversionWarning: A column-vector y was passed when a 1d array was expected. Please change the shape of y to (n_samples, ), for example using ravel().\n",
            "  y = column_or_1d(y, warn=True)\n",
            "/usr/local/lib/python3.9/dist-packages/sklearn/svm/_base.py:299: ConvergenceWarning: Solver terminated early (max_iter=10).  Consider pre-processing your data with StandardScaler or MinMaxScaler.\n",
            "  warnings.warn(\n",
            "/usr/local/lib/python3.9/dist-packages/sklearn/utils/validation.py:1143: DataConversionWarning: A column-vector y was passed when a 1d array was expected. Please change the shape of y to (n_samples, ), for example using ravel().\n",
            "  y = column_or_1d(y, warn=True)\n",
            "/usr/local/lib/python3.9/dist-packages/sklearn/svm/_base.py:299: ConvergenceWarning: Solver terminated early (max_iter=50).  Consider pre-processing your data with StandardScaler or MinMaxScaler.\n",
            "  warnings.warn(\n",
            "/usr/local/lib/python3.9/dist-packages/sklearn/utils/validation.py:1143: DataConversionWarning: A column-vector y was passed when a 1d array was expected. Please change the shape of y to (n_samples, ), for example using ravel().\n",
            "  y = column_or_1d(y, warn=True)\n",
            "/usr/local/lib/python3.9/dist-packages/sklearn/svm/_base.py:299: ConvergenceWarning: Solver terminated early (max_iter=50).  Consider pre-processing your data with StandardScaler or MinMaxScaler.\n",
            "  warnings.warn(\n",
            "/usr/local/lib/python3.9/dist-packages/sklearn/utils/validation.py:1143: DataConversionWarning: A column-vector y was passed when a 1d array was expected. Please change the shape of y to (n_samples, ), for example using ravel().\n",
            "  y = column_or_1d(y, warn=True)\n",
            "/usr/local/lib/python3.9/dist-packages/sklearn/svm/_base.py:299: ConvergenceWarning: Solver terminated early (max_iter=50).  Consider pre-processing your data with StandardScaler or MinMaxScaler.\n",
            "  warnings.warn(\n",
            "/usr/local/lib/python3.9/dist-packages/sklearn/utils/validation.py:1143: DataConversionWarning: A column-vector y was passed when a 1d array was expected. Please change the shape of y to (n_samples, ), for example using ravel().\n",
            "  y = column_or_1d(y, warn=True)\n",
            "/usr/local/lib/python3.9/dist-packages/sklearn/svm/_base.py:299: ConvergenceWarning: Solver terminated early (max_iter=50).  Consider pre-processing your data with StandardScaler or MinMaxScaler.\n",
            "  warnings.warn(\n",
            "/usr/local/lib/python3.9/dist-packages/sklearn/utils/validation.py:1143: DataConversionWarning: A column-vector y was passed when a 1d array was expected. Please change the shape of y to (n_samples, ), for example using ravel().\n",
            "  y = column_or_1d(y, warn=True)\n",
            "/usr/local/lib/python3.9/dist-packages/sklearn/svm/_base.py:299: ConvergenceWarning: Solver terminated early (max_iter=50).  Consider pre-processing your data with StandardScaler or MinMaxScaler.\n",
            "  warnings.warn(\n",
            "/usr/local/lib/python3.9/dist-packages/sklearn/utils/validation.py:1143: DataConversionWarning: A column-vector y was passed when a 1d array was expected. Please change the shape of y to (n_samples, ), for example using ravel().\n",
            "  y = column_or_1d(y, warn=True)\n",
            "/usr/local/lib/python3.9/dist-packages/sklearn/svm/_base.py:299: ConvergenceWarning: Solver terminated early (max_iter=1).  Consider pre-processing your data with StandardScaler or MinMaxScaler.\n",
            "  warnings.warn(\n",
            "/usr/local/lib/python3.9/dist-packages/sklearn/utils/validation.py:1143: DataConversionWarning: A column-vector y was passed when a 1d array was expected. Please change the shape of y to (n_samples, ), for example using ravel().\n",
            "  y = column_or_1d(y, warn=True)\n",
            "/usr/local/lib/python3.9/dist-packages/sklearn/svm/_base.py:299: ConvergenceWarning: Solver terminated early (max_iter=1).  Consider pre-processing your data with StandardScaler or MinMaxScaler.\n",
            "  warnings.warn(\n",
            "/usr/local/lib/python3.9/dist-packages/sklearn/utils/validation.py:1143: DataConversionWarning: A column-vector y was passed when a 1d array was expected. Please change the shape of y to (n_samples, ), for example using ravel().\n",
            "  y = column_or_1d(y, warn=True)\n",
            "/usr/local/lib/python3.9/dist-packages/sklearn/svm/_base.py:299: ConvergenceWarning: Solver terminated early (max_iter=1).  Consider pre-processing your data with StandardScaler or MinMaxScaler.\n",
            "  warnings.warn(\n"
          ]
        },
        {
          "output_type": "stream",
          "name": "stdout",
          "text": [
            "[CV] END ....clf__C=10, clf__kernel=linear, clf__max_iter=50; total time=   0.0s\n",
            "[CV] END ....clf__C=10, clf__kernel=linear, clf__max_iter=50; total time=   0.0s\n",
            "[CV] END ....clf__C=10, clf__kernel=linear, clf__max_iter=50; total time=   0.0s\n",
            "[CV] END ....clf__C=10, clf__kernel=sigmoid, clf__max_iter=1; total time=   0.0s\n",
            "[CV] END ....clf__C=10, clf__kernel=sigmoid, clf__max_iter=1; total time=   0.0s\n",
            "[CV] END ....clf__C=10, clf__kernel=sigmoid, clf__max_iter=1; total time=   0.0s\n"
          ]
        },
        {
          "output_type": "stream",
          "name": "stderr",
          "text": [
            "/usr/local/lib/python3.9/dist-packages/sklearn/utils/validation.py:1143: DataConversionWarning: A column-vector y was passed when a 1d array was expected. Please change the shape of y to (n_samples, ), for example using ravel().\n",
            "  y = column_or_1d(y, warn=True)\n",
            "/usr/local/lib/python3.9/dist-packages/sklearn/svm/_base.py:299: ConvergenceWarning: Solver terminated early (max_iter=1).  Consider pre-processing your data with StandardScaler or MinMaxScaler.\n",
            "  warnings.warn(\n",
            "/usr/local/lib/python3.9/dist-packages/sklearn/utils/validation.py:1143: DataConversionWarning: A column-vector y was passed when a 1d array was expected. Please change the shape of y to (n_samples, ), for example using ravel().\n",
            "  y = column_or_1d(y, warn=True)\n",
            "/usr/local/lib/python3.9/dist-packages/sklearn/svm/_base.py:299: ConvergenceWarning: Solver terminated early (max_iter=1).  Consider pre-processing your data with StandardScaler or MinMaxScaler.\n",
            "  warnings.warn(\n",
            "/usr/local/lib/python3.9/dist-packages/sklearn/utils/validation.py:1143: DataConversionWarning: A column-vector y was passed when a 1d array was expected. Please change the shape of y to (n_samples, ), for example using ravel().\n",
            "  y = column_or_1d(y, warn=True)\n",
            "/usr/local/lib/python3.9/dist-packages/sklearn/svm/_base.py:299: ConvergenceWarning: Solver terminated early (max_iter=10).  Consider pre-processing your data with StandardScaler or MinMaxScaler.\n",
            "  warnings.warn(\n",
            "/usr/local/lib/python3.9/dist-packages/sklearn/utils/validation.py:1143: DataConversionWarning: A column-vector y was passed when a 1d array was expected. Please change the shape of y to (n_samples, ), for example using ravel().\n",
            "  y = column_or_1d(y, warn=True)\n",
            "/usr/local/lib/python3.9/dist-packages/sklearn/svm/_base.py:299: ConvergenceWarning: Solver terminated early (max_iter=10).  Consider pre-processing your data with StandardScaler or MinMaxScaler.\n",
            "  warnings.warn(\n",
            "/usr/local/lib/python3.9/dist-packages/sklearn/utils/validation.py:1143: DataConversionWarning: A column-vector y was passed when a 1d array was expected. Please change the shape of y to (n_samples, ), for example using ravel().\n",
            "  y = column_or_1d(y, warn=True)\n",
            "/usr/local/lib/python3.9/dist-packages/sklearn/svm/_base.py:299: ConvergenceWarning: Solver terminated early (max_iter=10).  Consider pre-processing your data with StandardScaler or MinMaxScaler.\n",
            "  warnings.warn(\n"
          ]
        },
        {
          "output_type": "stream",
          "name": "stdout",
          "text": [
            "[CV] END ....clf__C=10, clf__kernel=sigmoid, clf__max_iter=1; total time=   0.0s\n",
            "[CV] END ....clf__C=10, clf__kernel=sigmoid, clf__max_iter=1; total time=   0.0s\n",
            "[CV] END ...clf__C=10, clf__kernel=sigmoid, clf__max_iter=10; total time=   0.0s\n",
            "[CV] END ...clf__C=10, clf__kernel=sigmoid, clf__max_iter=10; total time=   0.0s\n",
            "[CV] END ...clf__C=10, clf__kernel=sigmoid, clf__max_iter=10; total time=   0.0s\n"
          ]
        },
        {
          "output_type": "stream",
          "name": "stderr",
          "text": [
            "/usr/local/lib/python3.9/dist-packages/sklearn/utils/validation.py:1143: DataConversionWarning: A column-vector y was passed when a 1d array was expected. Please change the shape of y to (n_samples, ), for example using ravel().\n",
            "  y = column_or_1d(y, warn=True)\n",
            "/usr/local/lib/python3.9/dist-packages/sklearn/svm/_base.py:299: ConvergenceWarning: Solver terminated early (max_iter=10).  Consider pre-processing your data with StandardScaler or MinMaxScaler.\n",
            "  warnings.warn(\n",
            "/usr/local/lib/python3.9/dist-packages/sklearn/utils/validation.py:1143: DataConversionWarning: A column-vector y was passed when a 1d array was expected. Please change the shape of y to (n_samples, ), for example using ravel().\n",
            "  y = column_or_1d(y, warn=True)\n",
            "/usr/local/lib/python3.9/dist-packages/sklearn/svm/_base.py:299: ConvergenceWarning: Solver terminated early (max_iter=10).  Consider pre-processing your data with StandardScaler or MinMaxScaler.\n",
            "  warnings.warn(\n",
            "/usr/local/lib/python3.9/dist-packages/sklearn/utils/validation.py:1143: DataConversionWarning: A column-vector y was passed when a 1d array was expected. Please change the shape of y to (n_samples, ), for example using ravel().\n",
            "  y = column_or_1d(y, warn=True)\n",
            "/usr/local/lib/python3.9/dist-packages/sklearn/svm/_base.py:299: ConvergenceWarning: Solver terminated early (max_iter=50).  Consider pre-processing your data with StandardScaler or MinMaxScaler.\n",
            "  warnings.warn(\n",
            "/usr/local/lib/python3.9/dist-packages/sklearn/utils/validation.py:1143: DataConversionWarning: A column-vector y was passed when a 1d array was expected. Please change the shape of y to (n_samples, ), for example using ravel().\n",
            "  y = column_or_1d(y, warn=True)\n",
            "/usr/local/lib/python3.9/dist-packages/sklearn/svm/_base.py:299: ConvergenceWarning: Solver terminated early (max_iter=50).  Consider pre-processing your data with StandardScaler or MinMaxScaler.\n",
            "  warnings.warn(\n",
            "/usr/local/lib/python3.9/dist-packages/sklearn/utils/validation.py:1143: DataConversionWarning: A column-vector y was passed when a 1d array was expected. Please change the shape of y to (n_samples, ), for example using ravel().\n",
            "  y = column_or_1d(y, warn=True)\n"
          ]
        },
        {
          "output_type": "stream",
          "name": "stdout",
          "text": [
            "[CV] END ...clf__C=10, clf__kernel=sigmoid, clf__max_iter=10; total time=   0.0s\n",
            "[CV] END ...clf__C=10, clf__kernel=sigmoid, clf__max_iter=10; total time=   0.0s\n",
            "[CV] END ...clf__C=10, clf__kernel=sigmoid, clf__max_iter=50; total time=   0.1s\n",
            "[CV] END ...clf__C=10, clf__kernel=sigmoid, clf__max_iter=50; total time=   0.1s\n"
          ]
        },
        {
          "output_type": "stream",
          "name": "stderr",
          "text": [
            "/usr/local/lib/python3.9/dist-packages/sklearn/svm/_base.py:299: ConvergenceWarning: Solver terminated early (max_iter=50).  Consider pre-processing your data with StandardScaler or MinMaxScaler.\n",
            "  warnings.warn(\n",
            "/usr/local/lib/python3.9/dist-packages/sklearn/utils/validation.py:1143: DataConversionWarning: A column-vector y was passed when a 1d array was expected. Please change the shape of y to (n_samples, ), for example using ravel().\n",
            "  y = column_or_1d(y, warn=True)\n",
            "/usr/local/lib/python3.9/dist-packages/sklearn/svm/_base.py:299: ConvergenceWarning: Solver terminated early (max_iter=50).  Consider pre-processing your data with StandardScaler or MinMaxScaler.\n",
            "  warnings.warn(\n",
            "/usr/local/lib/python3.9/dist-packages/sklearn/utils/validation.py:1143: DataConversionWarning: A column-vector y was passed when a 1d array was expected. Please change the shape of y to (n_samples, ), for example using ravel().\n",
            "  y = column_or_1d(y, warn=True)\n",
            "/usr/local/lib/python3.9/dist-packages/sklearn/svm/_base.py:299: ConvergenceWarning: Solver terminated early (max_iter=50).  Consider pre-processing your data with StandardScaler or MinMaxScaler.\n",
            "  warnings.warn(\n",
            "/usr/local/lib/python3.9/dist-packages/sklearn/utils/validation.py:1143: DataConversionWarning: A column-vector y was passed when a 1d array was expected. Please change the shape of y to (n_samples, ), for example using ravel().\n",
            "  y = column_or_1d(y, warn=True)\n",
            "/usr/local/lib/python3.9/dist-packages/sklearn/svm/_base.py:299: ConvergenceWarning: Solver terminated early (max_iter=1).  Consider pre-processing your data with StandardScaler or MinMaxScaler.\n",
            "  warnings.warn(\n",
            "/usr/local/lib/python3.9/dist-packages/sklearn/utils/validation.py:1143: DataConversionWarning: A column-vector y was passed when a 1d array was expected. Please change the shape of y to (n_samples, ), for example using ravel().\n",
            "  y = column_or_1d(y, warn=True)\n",
            "/usr/local/lib/python3.9/dist-packages/sklearn/svm/_base.py:299: ConvergenceWarning: Solver terminated early (max_iter=1).  Consider pre-processing your data with StandardScaler or MinMaxScaler.\n",
            "  warnings.warn(\n"
          ]
        },
        {
          "output_type": "stream",
          "name": "stdout",
          "text": [
            "[CV] END ...clf__C=10, clf__kernel=sigmoid, clf__max_iter=50; total time=   0.1s\n",
            "[CV] END ...clf__C=10, clf__kernel=sigmoid, clf__max_iter=50; total time=   0.1s\n",
            "[CV] END ...clf__C=10, clf__kernel=sigmoid, clf__max_iter=50; total time=   0.1s\n",
            "[CV] END ......clf__C=5, clf__kernel=linear, clf__max_iter=1; total time=   0.0s\n",
            "[CV] END ......clf__C=5, clf__kernel=linear, clf__max_iter=1; total time=   0.0s\n",
            "[CV] END ......clf__C=5, clf__kernel=linear, clf__max_iter=1; total time=   0.0s\n"
          ]
        },
        {
          "output_type": "stream",
          "name": "stderr",
          "text": [
            "/usr/local/lib/python3.9/dist-packages/sklearn/utils/validation.py:1143: DataConversionWarning: A column-vector y was passed when a 1d array was expected. Please change the shape of y to (n_samples, ), for example using ravel().\n",
            "  y = column_or_1d(y, warn=True)\n",
            "/usr/local/lib/python3.9/dist-packages/sklearn/svm/_base.py:299: ConvergenceWarning: Solver terminated early (max_iter=1).  Consider pre-processing your data with StandardScaler or MinMaxScaler.\n",
            "  warnings.warn(\n",
            "/usr/local/lib/python3.9/dist-packages/sklearn/utils/validation.py:1143: DataConversionWarning: A column-vector y was passed when a 1d array was expected. Please change the shape of y to (n_samples, ), for example using ravel().\n",
            "  y = column_or_1d(y, warn=True)\n",
            "/usr/local/lib/python3.9/dist-packages/sklearn/svm/_base.py:299: ConvergenceWarning: Solver terminated early (max_iter=1).  Consider pre-processing your data with StandardScaler or MinMaxScaler.\n",
            "  warnings.warn(\n",
            "/usr/local/lib/python3.9/dist-packages/sklearn/utils/validation.py:1143: DataConversionWarning: A column-vector y was passed when a 1d array was expected. Please change the shape of y to (n_samples, ), for example using ravel().\n",
            "  y = column_or_1d(y, warn=True)\n",
            "/usr/local/lib/python3.9/dist-packages/sklearn/svm/_base.py:299: ConvergenceWarning: Solver terminated early (max_iter=1).  Consider pre-processing your data with StandardScaler or MinMaxScaler.\n",
            "  warnings.warn(\n",
            "/usr/local/lib/python3.9/dist-packages/sklearn/utils/validation.py:1143: DataConversionWarning: A column-vector y was passed when a 1d array was expected. Please change the shape of y to (n_samples, ), for example using ravel().\n",
            "  y = column_or_1d(y, warn=True)\n",
            "/usr/local/lib/python3.9/dist-packages/sklearn/svm/_base.py:299: ConvergenceWarning: Solver terminated early (max_iter=10).  Consider pre-processing your data with StandardScaler or MinMaxScaler.\n",
            "  warnings.warn(\n",
            "/usr/local/lib/python3.9/dist-packages/sklearn/utils/validation.py:1143: DataConversionWarning: A column-vector y was passed when a 1d array was expected. Please change the shape of y to (n_samples, ), for example using ravel().\n",
            "  y = column_or_1d(y, warn=True)\n",
            "/usr/local/lib/python3.9/dist-packages/sklearn/svm/_base.py:299: ConvergenceWarning: Solver terminated early (max_iter=10).  Consider pre-processing your data with StandardScaler or MinMaxScaler.\n",
            "  warnings.warn(\n",
            "/usr/local/lib/python3.9/dist-packages/sklearn/utils/validation.py:1143: DataConversionWarning: A column-vector y was passed when a 1d array was expected. Please change the shape of y to (n_samples, ), for example using ravel().\n",
            "  y = column_or_1d(y, warn=True)\n",
            "/usr/local/lib/python3.9/dist-packages/sklearn/svm/_base.py:299: ConvergenceWarning: Solver terminated early (max_iter=10).  Consider pre-processing your data with StandardScaler or MinMaxScaler.\n",
            "  warnings.warn(\n",
            "/usr/local/lib/python3.9/dist-packages/sklearn/utils/validation.py:1143: DataConversionWarning: A column-vector y was passed when a 1d array was expected. Please change the shape of y to (n_samples, ), for example using ravel().\n",
            "  y = column_or_1d(y, warn=True)\n",
            "/usr/local/lib/python3.9/dist-packages/sklearn/svm/_base.py:299: ConvergenceWarning: Solver terminated early (max_iter=10).  Consider pre-processing your data with StandardScaler or MinMaxScaler.\n",
            "  warnings.warn(\n"
          ]
        },
        {
          "output_type": "stream",
          "name": "stdout",
          "text": [
            "[CV] END ......clf__C=5, clf__kernel=linear, clf__max_iter=1; total time=   0.0s\n",
            "[CV] END ......clf__C=5, clf__kernel=linear, clf__max_iter=1; total time=   0.0s\n",
            "[CV] END .....clf__C=5, clf__kernel=linear, clf__max_iter=10; total time=   0.0s\n",
            "[CV] END .....clf__C=5, clf__kernel=linear, clf__max_iter=10; total time=   0.0s\n",
            "[CV] END .....clf__C=5, clf__kernel=linear, clf__max_iter=10; total time=   0.0s\n",
            "[CV] END .....clf__C=5, clf__kernel=linear, clf__max_iter=10; total time=   0.0s\n"
          ]
        },
        {
          "output_type": "stream",
          "name": "stderr",
          "text": [
            "/usr/local/lib/python3.9/dist-packages/sklearn/utils/validation.py:1143: DataConversionWarning: A column-vector y was passed when a 1d array was expected. Please change the shape of y to (n_samples, ), for example using ravel().\n",
            "  y = column_or_1d(y, warn=True)\n",
            "/usr/local/lib/python3.9/dist-packages/sklearn/svm/_base.py:299: ConvergenceWarning: Solver terminated early (max_iter=10).  Consider pre-processing your data with StandardScaler or MinMaxScaler.\n",
            "  warnings.warn(\n",
            "/usr/local/lib/python3.9/dist-packages/sklearn/utils/validation.py:1143: DataConversionWarning: A column-vector y was passed when a 1d array was expected. Please change the shape of y to (n_samples, ), for example using ravel().\n",
            "  y = column_or_1d(y, warn=True)\n",
            "/usr/local/lib/python3.9/dist-packages/sklearn/svm/_base.py:299: ConvergenceWarning: Solver terminated early (max_iter=50).  Consider pre-processing your data with StandardScaler or MinMaxScaler.\n",
            "  warnings.warn(\n",
            "/usr/local/lib/python3.9/dist-packages/sklearn/utils/validation.py:1143: DataConversionWarning: A column-vector y was passed when a 1d array was expected. Please change the shape of y to (n_samples, ), for example using ravel().\n",
            "  y = column_or_1d(y, warn=True)\n",
            "/usr/local/lib/python3.9/dist-packages/sklearn/svm/_base.py:299: ConvergenceWarning: Solver terminated early (max_iter=50).  Consider pre-processing your data with StandardScaler or MinMaxScaler.\n",
            "  warnings.warn(\n",
            "/usr/local/lib/python3.9/dist-packages/sklearn/utils/validation.py:1143: DataConversionWarning: A column-vector y was passed when a 1d array was expected. Please change the shape of y to (n_samples, ), for example using ravel().\n",
            "  y = column_or_1d(y, warn=True)\n",
            "/usr/local/lib/python3.9/dist-packages/sklearn/svm/_base.py:299: ConvergenceWarning: Solver terminated early (max_iter=50).  Consider pre-processing your data with StandardScaler or MinMaxScaler.\n",
            "  warnings.warn(\n"
          ]
        },
        {
          "output_type": "stream",
          "name": "stdout",
          "text": [
            "[CV] END .....clf__C=5, clf__kernel=linear, clf__max_iter=10; total time=   0.0s\n",
            "[CV] END .....clf__C=5, clf__kernel=linear, clf__max_iter=50; total time=   0.0s\n",
            "[CV] END .....clf__C=5, clf__kernel=linear, clf__max_iter=50; total time=   0.0s\n",
            "[CV] END .....clf__C=5, clf__kernel=linear, clf__max_iter=50; total time=   0.0s\n"
          ]
        },
        {
          "output_type": "stream",
          "name": "stderr",
          "text": [
            "/usr/local/lib/python3.9/dist-packages/sklearn/utils/validation.py:1143: DataConversionWarning: A column-vector y was passed when a 1d array was expected. Please change the shape of y to (n_samples, ), for example using ravel().\n",
            "  y = column_or_1d(y, warn=True)\n",
            "/usr/local/lib/python3.9/dist-packages/sklearn/svm/_base.py:299: ConvergenceWarning: Solver terminated early (max_iter=50).  Consider pre-processing your data with StandardScaler or MinMaxScaler.\n",
            "  warnings.warn(\n",
            "/usr/local/lib/python3.9/dist-packages/sklearn/utils/validation.py:1143: DataConversionWarning: A column-vector y was passed when a 1d array was expected. Please change the shape of y to (n_samples, ), for example using ravel().\n",
            "  y = column_or_1d(y, warn=True)\n",
            "/usr/local/lib/python3.9/dist-packages/sklearn/svm/_base.py:299: ConvergenceWarning: Solver terminated early (max_iter=50).  Consider pre-processing your data with StandardScaler or MinMaxScaler.\n",
            "  warnings.warn(\n",
            "/usr/local/lib/python3.9/dist-packages/sklearn/utils/validation.py:1143: DataConversionWarning: A column-vector y was passed when a 1d array was expected. Please change the shape of y to (n_samples, ), for example using ravel().\n",
            "  y = column_or_1d(y, warn=True)\n",
            "/usr/local/lib/python3.9/dist-packages/sklearn/svm/_base.py:299: ConvergenceWarning: Solver terminated early (max_iter=1).  Consider pre-processing your data with StandardScaler or MinMaxScaler.\n",
            "  warnings.warn(\n",
            "/usr/local/lib/python3.9/dist-packages/sklearn/utils/validation.py:1143: DataConversionWarning: A column-vector y was passed when a 1d array was expected. Please change the shape of y to (n_samples, ), for example using ravel().\n",
            "  y = column_or_1d(y, warn=True)\n",
            "/usr/local/lib/python3.9/dist-packages/sklearn/svm/_base.py:299: ConvergenceWarning: Solver terminated early (max_iter=1).  Consider pre-processing your data with StandardScaler or MinMaxScaler.\n",
            "  warnings.warn(\n",
            "/usr/local/lib/python3.9/dist-packages/sklearn/utils/validation.py:1143: DataConversionWarning: A column-vector y was passed when a 1d array was expected. Please change the shape of y to (n_samples, ), for example using ravel().\n",
            "  y = column_or_1d(y, warn=True)\n",
            "/usr/local/lib/python3.9/dist-packages/sklearn/svm/_base.py:299: ConvergenceWarning: Solver terminated early (max_iter=1).  Consider pre-processing your data with StandardScaler or MinMaxScaler.\n",
            "  warnings.warn(\n",
            "/usr/local/lib/python3.9/dist-packages/sklearn/utils/validation.py:1143: DataConversionWarning: A column-vector y was passed when a 1d array was expected. Please change the shape of y to (n_samples, ), for example using ravel().\n",
            "  y = column_or_1d(y, warn=True)\n",
            "/usr/local/lib/python3.9/dist-packages/sklearn/svm/_base.py:299: ConvergenceWarning: Solver terminated early (max_iter=1).  Consider pre-processing your data with StandardScaler or MinMaxScaler.\n",
            "  warnings.warn(\n"
          ]
        },
        {
          "output_type": "stream",
          "name": "stdout",
          "text": [
            "[CV] END .....clf__C=5, clf__kernel=linear, clf__max_iter=50; total time=   0.1s\n",
            "[CV] END .....clf__C=5, clf__kernel=linear, clf__max_iter=50; total time=   0.0s\n",
            "[CV] END .....clf__C=5, clf__kernel=sigmoid, clf__max_iter=1; total time=   0.0s\n",
            "[CV] END .....clf__C=5, clf__kernel=sigmoid, clf__max_iter=1; total time=   0.0s\n",
            "[CV] END .....clf__C=5, clf__kernel=sigmoid, clf__max_iter=1; total time=   0.0s\n",
            "[CV] END .....clf__C=5, clf__kernel=sigmoid, clf__max_iter=1; total time=   0.0s\n",
            "[CV] END .....clf__C=5, clf__kernel=sigmoid, clf__max_iter=1; total time=   0.0s\n"
          ]
        },
        {
          "output_type": "stream",
          "name": "stderr",
          "text": [
            "/usr/local/lib/python3.9/dist-packages/sklearn/utils/validation.py:1143: DataConversionWarning: A column-vector y was passed when a 1d array was expected. Please change the shape of y to (n_samples, ), for example using ravel().\n",
            "  y = column_or_1d(y, warn=True)\n",
            "/usr/local/lib/python3.9/dist-packages/sklearn/svm/_base.py:299: ConvergenceWarning: Solver terminated early (max_iter=1).  Consider pre-processing your data with StandardScaler or MinMaxScaler.\n",
            "  warnings.warn(\n",
            "/usr/local/lib/python3.9/dist-packages/sklearn/utils/validation.py:1143: DataConversionWarning: A column-vector y was passed when a 1d array was expected. Please change the shape of y to (n_samples, ), for example using ravel().\n",
            "  y = column_or_1d(y, warn=True)\n",
            "/usr/local/lib/python3.9/dist-packages/sklearn/svm/_base.py:299: ConvergenceWarning: Solver terminated early (max_iter=10).  Consider pre-processing your data with StandardScaler or MinMaxScaler.\n",
            "  warnings.warn(\n",
            "/usr/local/lib/python3.9/dist-packages/sklearn/utils/validation.py:1143: DataConversionWarning: A column-vector y was passed when a 1d array was expected. Please change the shape of y to (n_samples, ), for example using ravel().\n",
            "  y = column_or_1d(y, warn=True)\n",
            "/usr/local/lib/python3.9/dist-packages/sklearn/svm/_base.py:299: ConvergenceWarning: Solver terminated early (max_iter=10).  Consider pre-processing your data with StandardScaler or MinMaxScaler.\n",
            "  warnings.warn(\n",
            "/usr/local/lib/python3.9/dist-packages/sklearn/utils/validation.py:1143: DataConversionWarning: A column-vector y was passed when a 1d array was expected. Please change the shape of y to (n_samples, ), for example using ravel().\n",
            "  y = column_or_1d(y, warn=True)\n",
            "/usr/local/lib/python3.9/dist-packages/sklearn/svm/_base.py:299: ConvergenceWarning: Solver terminated early (max_iter=10).  Consider pre-processing your data with StandardScaler or MinMaxScaler.\n",
            "  warnings.warn(\n",
            "/usr/local/lib/python3.9/dist-packages/sklearn/utils/validation.py:1143: DataConversionWarning: A column-vector y was passed when a 1d array was expected. Please change the shape of y to (n_samples, ), for example using ravel().\n",
            "  y = column_or_1d(y, warn=True)\n",
            "/usr/local/lib/python3.9/dist-packages/sklearn/svm/_base.py:299: ConvergenceWarning: Solver terminated early (max_iter=10).  Consider pre-processing your data with StandardScaler or MinMaxScaler.\n",
            "  warnings.warn(\n",
            "/usr/local/lib/python3.9/dist-packages/sklearn/utils/validation.py:1143: DataConversionWarning: A column-vector y was passed when a 1d array was expected. Please change the shape of y to (n_samples, ), for example using ravel().\n",
            "  y = column_or_1d(y, warn=True)\n"
          ]
        },
        {
          "output_type": "stream",
          "name": "stdout",
          "text": [
            "[CV] END ....clf__C=5, clf__kernel=sigmoid, clf__max_iter=10; total time=   0.0s\n",
            "[CV] END ....clf__C=5, clf__kernel=sigmoid, clf__max_iter=10; total time=   0.0s\n",
            "[CV] END ....clf__C=5, clf__kernel=sigmoid, clf__max_iter=10; total time=   0.0s\n",
            "[CV] END ....clf__C=5, clf__kernel=sigmoid, clf__max_iter=10; total time=   0.0s\n",
            "[CV] END ....clf__C=5, clf__kernel=sigmoid, clf__max_iter=10; total time=   0.0s\n"
          ]
        },
        {
          "output_type": "stream",
          "name": "stderr",
          "text": [
            "/usr/local/lib/python3.9/dist-packages/sklearn/svm/_base.py:299: ConvergenceWarning: Solver terminated early (max_iter=10).  Consider pre-processing your data with StandardScaler or MinMaxScaler.\n",
            "  warnings.warn(\n",
            "/usr/local/lib/python3.9/dist-packages/sklearn/utils/validation.py:1143: DataConversionWarning: A column-vector y was passed when a 1d array was expected. Please change the shape of y to (n_samples, ), for example using ravel().\n",
            "  y = column_or_1d(y, warn=True)\n",
            "/usr/local/lib/python3.9/dist-packages/sklearn/svm/_base.py:299: ConvergenceWarning: Solver terminated early (max_iter=50).  Consider pre-processing your data with StandardScaler or MinMaxScaler.\n",
            "  warnings.warn(\n",
            "/usr/local/lib/python3.9/dist-packages/sklearn/utils/validation.py:1143: DataConversionWarning: A column-vector y was passed when a 1d array was expected. Please change the shape of y to (n_samples, ), for example using ravel().\n",
            "  y = column_or_1d(y, warn=True)\n",
            "/usr/local/lib/python3.9/dist-packages/sklearn/svm/_base.py:299: ConvergenceWarning: Solver terminated early (max_iter=50).  Consider pre-processing your data with StandardScaler or MinMaxScaler.\n",
            "  warnings.warn(\n",
            "/usr/local/lib/python3.9/dist-packages/sklearn/utils/validation.py:1143: DataConversionWarning: A column-vector y was passed when a 1d array was expected. Please change the shape of y to (n_samples, ), for example using ravel().\n",
            "  y = column_or_1d(y, warn=True)\n",
            "/usr/local/lib/python3.9/dist-packages/sklearn/svm/_base.py:299: ConvergenceWarning: Solver terminated early (max_iter=50).  Consider pre-processing your data with StandardScaler or MinMaxScaler.\n",
            "  warnings.warn(\n"
          ]
        },
        {
          "output_type": "stream",
          "name": "stdout",
          "text": [
            "[CV] END ....clf__C=5, clf__kernel=sigmoid, clf__max_iter=50; total time=   0.1s\n",
            "[CV] END ....clf__C=5, clf__kernel=sigmoid, clf__max_iter=50; total time=   0.1s\n",
            "[CV] END ....clf__C=5, clf__kernel=sigmoid, clf__max_iter=50; total time=   0.1s\n",
            "[CV] END ....clf__C=5, clf__kernel=sigmoid, clf__max_iter=50; total time=   0.1s\n"
          ]
        },
        {
          "output_type": "stream",
          "name": "stderr",
          "text": [
            "/usr/local/lib/python3.9/dist-packages/sklearn/utils/validation.py:1143: DataConversionWarning: A column-vector y was passed when a 1d array was expected. Please change the shape of y to (n_samples, ), for example using ravel().\n",
            "  y = column_or_1d(y, warn=True)\n",
            "/usr/local/lib/python3.9/dist-packages/sklearn/svm/_base.py:299: ConvergenceWarning: Solver terminated early (max_iter=50).  Consider pre-processing your data with StandardScaler or MinMaxScaler.\n",
            "  warnings.warn(\n",
            "/usr/local/lib/python3.9/dist-packages/sklearn/utils/validation.py:1143: DataConversionWarning: A column-vector y was passed when a 1d array was expected. Please change the shape of y to (n_samples, ), for example using ravel().\n",
            "  y = column_or_1d(y, warn=True)\n",
            "/usr/local/lib/python3.9/dist-packages/sklearn/svm/_base.py:299: ConvergenceWarning: Solver terminated early (max_iter=50).  Consider pre-processing your data with StandardScaler or MinMaxScaler.\n",
            "  warnings.warn(\n",
            "/usr/local/lib/python3.9/dist-packages/sklearn/utils/validation.py:1143: DataConversionWarning: A column-vector y was passed when a 1d array was expected. Please change the shape of y to (n_samples, ), for example using ravel().\n",
            "  y = column_or_1d(y, warn=True)\n",
            "/usr/local/lib/python3.9/dist-packages/sklearn/svm/_base.py:299: ConvergenceWarning: Solver terminated early (max_iter=1).  Consider pre-processing your data with StandardScaler or MinMaxScaler.\n",
            "  warnings.warn(\n",
            "/usr/local/lib/python3.9/dist-packages/sklearn/utils/validation.py:1143: DataConversionWarning: A column-vector y was passed when a 1d array was expected. Please change the shape of y to (n_samples, ), for example using ravel().\n",
            "  y = column_or_1d(y, warn=True)\n",
            "/usr/local/lib/python3.9/dist-packages/sklearn/svm/_base.py:299: ConvergenceWarning: Solver terminated early (max_iter=1).  Consider pre-processing your data with StandardScaler or MinMaxScaler.\n",
            "  warnings.warn(\n",
            "/usr/local/lib/python3.9/dist-packages/sklearn/utils/validation.py:1143: DataConversionWarning: A column-vector y was passed when a 1d array was expected. Please change the shape of y to (n_samples, ), for example using ravel().\n",
            "  y = column_or_1d(y, warn=True)\n",
            "/usr/local/lib/python3.9/dist-packages/sklearn/svm/_base.py:299: ConvergenceWarning: Solver terminated early (max_iter=1).  Consider pre-processing your data with StandardScaler or MinMaxScaler.\n",
            "  warnings.warn(\n",
            "/usr/local/lib/python3.9/dist-packages/sklearn/utils/validation.py:1143: DataConversionWarning: A column-vector y was passed when a 1d array was expected. Please change the shape of y to (n_samples, ), for example using ravel().\n",
            "  y = column_or_1d(y, warn=True)\n",
            "/usr/local/lib/python3.9/dist-packages/sklearn/svm/_base.py:299: ConvergenceWarning: Solver terminated early (max_iter=1).  Consider pre-processing your data with StandardScaler or MinMaxScaler.\n",
            "  warnings.warn(\n"
          ]
        },
        {
          "output_type": "stream",
          "name": "stdout",
          "text": [
            "[CV] END ....clf__C=5, clf__kernel=sigmoid, clf__max_iter=50; total time=   0.1s\n",
            "[CV] END ....clf__C=100, clf__kernel=linear, clf__max_iter=1; total time=   0.0s\n",
            "[CV] END ....clf__C=100, clf__kernel=linear, clf__max_iter=1; total time=   0.0s\n",
            "[CV] END ....clf__C=100, clf__kernel=linear, clf__max_iter=1; total time=   0.0s\n",
            "[CV] END ....clf__C=100, clf__kernel=linear, clf__max_iter=1; total time=   0.0s\n",
            "[CV] END ....clf__C=100, clf__kernel=linear, clf__max_iter=1; total time=   0.0s\n",
            "[CV] END ...clf__C=100, clf__kernel=linear, clf__max_iter=10; total time=   0.0s\n"
          ]
        },
        {
          "output_type": "stream",
          "name": "stderr",
          "text": [
            "/usr/local/lib/python3.9/dist-packages/sklearn/utils/validation.py:1143: DataConversionWarning: A column-vector y was passed when a 1d array was expected. Please change the shape of y to (n_samples, ), for example using ravel().\n",
            "  y = column_or_1d(y, warn=True)\n",
            "/usr/local/lib/python3.9/dist-packages/sklearn/svm/_base.py:299: ConvergenceWarning: Solver terminated early (max_iter=1).  Consider pre-processing your data with StandardScaler or MinMaxScaler.\n",
            "  warnings.warn(\n",
            "/usr/local/lib/python3.9/dist-packages/sklearn/utils/validation.py:1143: DataConversionWarning: A column-vector y was passed when a 1d array was expected. Please change the shape of y to (n_samples, ), for example using ravel().\n",
            "  y = column_or_1d(y, warn=True)\n",
            "/usr/local/lib/python3.9/dist-packages/sklearn/svm/_base.py:299: ConvergenceWarning: Solver terminated early (max_iter=10).  Consider pre-processing your data with StandardScaler or MinMaxScaler.\n",
            "  warnings.warn(\n",
            "/usr/local/lib/python3.9/dist-packages/sklearn/utils/validation.py:1143: DataConversionWarning: A column-vector y was passed when a 1d array was expected. Please change the shape of y to (n_samples, ), for example using ravel().\n",
            "  y = column_or_1d(y, warn=True)\n",
            "/usr/local/lib/python3.9/dist-packages/sklearn/svm/_base.py:299: ConvergenceWarning: Solver terminated early (max_iter=10).  Consider pre-processing your data with StandardScaler or MinMaxScaler.\n",
            "  warnings.warn(\n",
            "/usr/local/lib/python3.9/dist-packages/sklearn/utils/validation.py:1143: DataConversionWarning: A column-vector y was passed when a 1d array was expected. Please change the shape of y to (n_samples, ), for example using ravel().\n",
            "  y = column_or_1d(y, warn=True)\n",
            "/usr/local/lib/python3.9/dist-packages/sklearn/svm/_base.py:299: ConvergenceWarning: Solver terminated early (max_iter=10).  Consider pre-processing your data with StandardScaler or MinMaxScaler.\n",
            "  warnings.warn(\n",
            "/usr/local/lib/python3.9/dist-packages/sklearn/utils/validation.py:1143: DataConversionWarning: A column-vector y was passed when a 1d array was expected. Please change the shape of y to (n_samples, ), for example using ravel().\n",
            "  y = column_or_1d(y, warn=True)\n",
            "/usr/local/lib/python3.9/dist-packages/sklearn/svm/_base.py:299: ConvergenceWarning: Solver terminated early (max_iter=10).  Consider pre-processing your data with StandardScaler or MinMaxScaler.\n",
            "  warnings.warn(\n",
            "/usr/local/lib/python3.9/dist-packages/sklearn/utils/validation.py:1143: DataConversionWarning: A column-vector y was passed when a 1d array was expected. Please change the shape of y to (n_samples, ), for example using ravel().\n",
            "  y = column_or_1d(y, warn=True)\n"
          ]
        },
        {
          "output_type": "stream",
          "name": "stdout",
          "text": [
            "[CV] END ...clf__C=100, clf__kernel=linear, clf__max_iter=10; total time=   0.0s\n",
            "[CV] END ...clf__C=100, clf__kernel=linear, clf__max_iter=10; total time=   0.0s\n",
            "[CV] END ...clf__C=100, clf__kernel=linear, clf__max_iter=10; total time=   0.0s\n",
            "[CV] END ...clf__C=100, clf__kernel=linear, clf__max_iter=10; total time=   0.0s\n",
            "[CV] END ...clf__C=100, clf__kernel=linear, clf__max_iter=50; total time=   0.0s\n",
            "[CV] END ...clf__C=100, clf__kernel=linear, clf__max_iter=50; total time=   0.0s\n"
          ]
        },
        {
          "output_type": "stream",
          "name": "stderr",
          "text": [
            "/usr/local/lib/python3.9/dist-packages/sklearn/svm/_base.py:299: ConvergenceWarning: Solver terminated early (max_iter=10).  Consider pre-processing your data with StandardScaler or MinMaxScaler.\n",
            "  warnings.warn(\n",
            "/usr/local/lib/python3.9/dist-packages/sklearn/utils/validation.py:1143: DataConversionWarning: A column-vector y was passed when a 1d array was expected. Please change the shape of y to (n_samples, ), for example using ravel().\n",
            "  y = column_or_1d(y, warn=True)\n",
            "/usr/local/lib/python3.9/dist-packages/sklearn/svm/_base.py:299: ConvergenceWarning: Solver terminated early (max_iter=50).  Consider pre-processing your data with StandardScaler or MinMaxScaler.\n",
            "  warnings.warn(\n",
            "/usr/local/lib/python3.9/dist-packages/sklearn/utils/validation.py:1143: DataConversionWarning: A column-vector y was passed when a 1d array was expected. Please change the shape of y to (n_samples, ), for example using ravel().\n",
            "  y = column_or_1d(y, warn=True)\n",
            "/usr/local/lib/python3.9/dist-packages/sklearn/svm/_base.py:299: ConvergenceWarning: Solver terminated early (max_iter=50).  Consider pre-processing your data with StandardScaler or MinMaxScaler.\n",
            "  warnings.warn(\n",
            "/usr/local/lib/python3.9/dist-packages/sklearn/utils/validation.py:1143: DataConversionWarning: A column-vector y was passed when a 1d array was expected. Please change the shape of y to (n_samples, ), for example using ravel().\n",
            "  y = column_or_1d(y, warn=True)\n",
            "/usr/local/lib/python3.9/dist-packages/sklearn/svm/_base.py:299: ConvergenceWarning: Solver terminated early (max_iter=50).  Consider pre-processing your data with StandardScaler or MinMaxScaler.\n",
            "  warnings.warn(\n",
            "/usr/local/lib/python3.9/dist-packages/sklearn/utils/validation.py:1143: DataConversionWarning: A column-vector y was passed when a 1d array was expected. Please change the shape of y to (n_samples, ), for example using ravel().\n",
            "  y = column_or_1d(y, warn=True)\n",
            "/usr/local/lib/python3.9/dist-packages/sklearn/svm/_base.py:299: ConvergenceWarning: Solver terminated early (max_iter=50).  Consider pre-processing your data with StandardScaler or MinMaxScaler.\n",
            "  warnings.warn(\n"
          ]
        },
        {
          "output_type": "stream",
          "name": "stdout",
          "text": [
            "[CV] END ...clf__C=100, clf__kernel=linear, clf__max_iter=50; total time=   0.0s\n",
            "[CV] END ...clf__C=100, clf__kernel=linear, clf__max_iter=50; total time=   0.0s\n",
            "[CV] END ...clf__C=100, clf__kernel=linear, clf__max_iter=50; total time=   0.0s\n",
            "[CV] END ...clf__C=100, clf__kernel=sigmoid, clf__max_iter=1; total time=   0.0s\n",
            "[CV] END ...clf__C=100, clf__kernel=sigmoid, clf__max_iter=1; total time=   0.0s\n",
            "[CV] END ...clf__C=100, clf__kernel=sigmoid, clf__max_iter=1; total time=   0.0s\n"
          ]
        },
        {
          "output_type": "stream",
          "name": "stderr",
          "text": [
            "/usr/local/lib/python3.9/dist-packages/sklearn/utils/validation.py:1143: DataConversionWarning: A column-vector y was passed when a 1d array was expected. Please change the shape of y to (n_samples, ), for example using ravel().\n",
            "  y = column_or_1d(y, warn=True)\n",
            "/usr/local/lib/python3.9/dist-packages/sklearn/svm/_base.py:299: ConvergenceWarning: Solver terminated early (max_iter=50).  Consider pre-processing your data with StandardScaler or MinMaxScaler.\n",
            "  warnings.warn(\n",
            "/usr/local/lib/python3.9/dist-packages/sklearn/utils/validation.py:1143: DataConversionWarning: A column-vector y was passed when a 1d array was expected. Please change the shape of y to (n_samples, ), for example using ravel().\n",
            "  y = column_or_1d(y, warn=True)\n",
            "/usr/local/lib/python3.9/dist-packages/sklearn/svm/_base.py:299: ConvergenceWarning: Solver terminated early (max_iter=1).  Consider pre-processing your data with StandardScaler or MinMaxScaler.\n",
            "  warnings.warn(\n",
            "/usr/local/lib/python3.9/dist-packages/sklearn/utils/validation.py:1143: DataConversionWarning: A column-vector y was passed when a 1d array was expected. Please change the shape of y to (n_samples, ), for example using ravel().\n",
            "  y = column_or_1d(y, warn=True)\n",
            "/usr/local/lib/python3.9/dist-packages/sklearn/svm/_base.py:299: ConvergenceWarning: Solver terminated early (max_iter=1).  Consider pre-processing your data with StandardScaler or MinMaxScaler.\n",
            "  warnings.warn(\n",
            "/usr/local/lib/python3.9/dist-packages/sklearn/utils/validation.py:1143: DataConversionWarning: A column-vector y was passed when a 1d array was expected. Please change the shape of y to (n_samples, ), for example using ravel().\n",
            "  y = column_or_1d(y, warn=True)\n",
            "/usr/local/lib/python3.9/dist-packages/sklearn/svm/_base.py:299: ConvergenceWarning: Solver terminated early (max_iter=1).  Consider pre-processing your data with StandardScaler or MinMaxScaler.\n",
            "  warnings.warn(\n",
            "/usr/local/lib/python3.9/dist-packages/sklearn/utils/validation.py:1143: DataConversionWarning: A column-vector y was passed when a 1d array was expected. Please change the shape of y to (n_samples, ), for example using ravel().\n",
            "  y = column_or_1d(y, warn=True)\n",
            "/usr/local/lib/python3.9/dist-packages/sklearn/svm/_base.py:299: ConvergenceWarning: Solver terminated early (max_iter=1).  Consider pre-processing your data with StandardScaler or MinMaxScaler.\n",
            "  warnings.warn(\n",
            "/usr/local/lib/python3.9/dist-packages/sklearn/utils/validation.py:1143: DataConversionWarning: A column-vector y was passed when a 1d array was expected. Please change the shape of y to (n_samples, ), for example using ravel().\n",
            "  y = column_or_1d(y, warn=True)\n",
            "/usr/local/lib/python3.9/dist-packages/sklearn/svm/_base.py:299: ConvergenceWarning: Solver terminated early (max_iter=1).  Consider pre-processing your data with StandardScaler or MinMaxScaler.\n",
            "  warnings.warn(\n",
            "/usr/local/lib/python3.9/dist-packages/sklearn/utils/validation.py:1143: DataConversionWarning: A column-vector y was passed when a 1d array was expected. Please change the shape of y to (n_samples, ), for example using ravel().\n",
            "  y = column_or_1d(y, warn=True)\n"
          ]
        },
        {
          "output_type": "stream",
          "name": "stdout",
          "text": [
            "[CV] END ...clf__C=100, clf__kernel=sigmoid, clf__max_iter=1; total time=   0.0s\n",
            "[CV] END ...clf__C=100, clf__kernel=sigmoid, clf__max_iter=1; total time=   0.0s\n",
            "[CV] END ..clf__C=100, clf__kernel=sigmoid, clf__max_iter=10; total time=   0.0s\n",
            "[CV] END ..clf__C=100, clf__kernel=sigmoid, clf__max_iter=10; total time=   0.0s\n",
            "[CV] END ..clf__C=100, clf__kernel=sigmoid, clf__max_iter=10; total time=   0.0s\n"
          ]
        },
        {
          "output_type": "stream",
          "name": "stderr",
          "text": [
            "/usr/local/lib/python3.9/dist-packages/sklearn/svm/_base.py:299: ConvergenceWarning: Solver terminated early (max_iter=10).  Consider pre-processing your data with StandardScaler or MinMaxScaler.\n",
            "  warnings.warn(\n",
            "/usr/local/lib/python3.9/dist-packages/sklearn/utils/validation.py:1143: DataConversionWarning: A column-vector y was passed when a 1d array was expected. Please change the shape of y to (n_samples, ), for example using ravel().\n",
            "  y = column_or_1d(y, warn=True)\n",
            "/usr/local/lib/python3.9/dist-packages/sklearn/svm/_base.py:299: ConvergenceWarning: Solver terminated early (max_iter=10).  Consider pre-processing your data with StandardScaler or MinMaxScaler.\n",
            "  warnings.warn(\n",
            "/usr/local/lib/python3.9/dist-packages/sklearn/utils/validation.py:1143: DataConversionWarning: A column-vector y was passed when a 1d array was expected. Please change the shape of y to (n_samples, ), for example using ravel().\n",
            "  y = column_or_1d(y, warn=True)\n",
            "/usr/local/lib/python3.9/dist-packages/sklearn/svm/_base.py:299: ConvergenceWarning: Solver terminated early (max_iter=10).  Consider pre-processing your data with StandardScaler or MinMaxScaler.\n",
            "  warnings.warn(\n",
            "/usr/local/lib/python3.9/dist-packages/sklearn/utils/validation.py:1143: DataConversionWarning: A column-vector y was passed when a 1d array was expected. Please change the shape of y to (n_samples, ), for example using ravel().\n",
            "  y = column_or_1d(y, warn=True)\n",
            "/usr/local/lib/python3.9/dist-packages/sklearn/svm/_base.py:299: ConvergenceWarning: Solver terminated early (max_iter=10).  Consider pre-processing your data with StandardScaler or MinMaxScaler.\n",
            "  warnings.warn(\n",
            "/usr/local/lib/python3.9/dist-packages/sklearn/utils/validation.py:1143: DataConversionWarning: A column-vector y was passed when a 1d array was expected. Please change the shape of y to (n_samples, ), for example using ravel().\n",
            "  y = column_or_1d(y, warn=True)\n",
            "/usr/local/lib/python3.9/dist-packages/sklearn/svm/_base.py:299: ConvergenceWarning: Solver terminated early (max_iter=10).  Consider pre-processing your data with StandardScaler or MinMaxScaler.\n",
            "  warnings.warn(\n"
          ]
        },
        {
          "output_type": "stream",
          "name": "stdout",
          "text": [
            "[CV] END ..clf__C=100, clf__kernel=sigmoid, clf__max_iter=10; total time=   0.0s\n",
            "[CV] END ..clf__C=100, clf__kernel=sigmoid, clf__max_iter=10; total time=   0.0s\n",
            "[CV] END ..clf__C=100, clf__kernel=sigmoid, clf__max_iter=50; total time=   0.1s\n",
            "[CV] END ..clf__C=100, clf__kernel=sigmoid, clf__max_iter=50; total time=   0.1s\n"
          ]
        },
        {
          "output_type": "stream",
          "name": "stderr",
          "text": [
            "/usr/local/lib/python3.9/dist-packages/sklearn/utils/validation.py:1143: DataConversionWarning: A column-vector y was passed when a 1d array was expected. Please change the shape of y to (n_samples, ), for example using ravel().\n",
            "  y = column_or_1d(y, warn=True)\n",
            "/usr/local/lib/python3.9/dist-packages/sklearn/svm/_base.py:299: ConvergenceWarning: Solver terminated early (max_iter=50).  Consider pre-processing your data with StandardScaler or MinMaxScaler.\n",
            "  warnings.warn(\n",
            "/usr/local/lib/python3.9/dist-packages/sklearn/utils/validation.py:1143: DataConversionWarning: A column-vector y was passed when a 1d array was expected. Please change the shape of y to (n_samples, ), for example using ravel().\n",
            "  y = column_or_1d(y, warn=True)\n",
            "/usr/local/lib/python3.9/dist-packages/sklearn/svm/_base.py:299: ConvergenceWarning: Solver terminated early (max_iter=50).  Consider pre-processing your data with StandardScaler or MinMaxScaler.\n",
            "  warnings.warn(\n",
            "/usr/local/lib/python3.9/dist-packages/sklearn/utils/validation.py:1143: DataConversionWarning: A column-vector y was passed when a 1d array was expected. Please change the shape of y to (n_samples, ), for example using ravel().\n",
            "  y = column_or_1d(y, warn=True)\n",
            "/usr/local/lib/python3.9/dist-packages/sklearn/svm/_base.py:299: ConvergenceWarning: Solver terminated early (max_iter=50).  Consider pre-processing your data with StandardScaler or MinMaxScaler.\n",
            "  warnings.warn(\n",
            "/usr/local/lib/python3.9/dist-packages/sklearn/utils/validation.py:1143: DataConversionWarning: A column-vector y was passed when a 1d array was expected. Please change the shape of y to (n_samples, ), for example using ravel().\n",
            "  y = column_or_1d(y, warn=True)\n",
            "/usr/local/lib/python3.9/dist-packages/sklearn/svm/_base.py:299: ConvergenceWarning: Solver terminated early (max_iter=50).  Consider pre-processing your data with StandardScaler or MinMaxScaler.\n",
            "  warnings.warn(\n"
          ]
        },
        {
          "output_type": "stream",
          "name": "stdout",
          "text": [
            "[CV] END ..clf__C=100, clf__kernel=sigmoid, clf__max_iter=50; total time=   0.1s\n",
            "[CV] END ..clf__C=100, clf__kernel=sigmoid, clf__max_iter=50; total time=   0.1s\n",
            "[CV] END ..clf__C=100, clf__kernel=sigmoid, clf__max_iter=50; total time=   0.1s\n",
            "Done\n",
            "Training Score: 0.2754698793054401\n",
            "Parameters: {'clf__C': 100, 'clf__kernel': 'linear', 'clf__max_iter': 50}\n",
            "Best Classifier: Pipeline(steps=[('select',\n",
            "                 SelectKBest(k=2,\n",
            "                             score_func=<function chi2 at 0x7f2295ba6310>)),\n",
            "                ('clf', SVC(C=100, kernel='linear', max_iter=50))])\n",
            "\n",
            "Started GridSearchCV\n",
            "-------------------------------------------\n",
            "Fitting 5 folds for each of 147 candidates, totalling 735 fits\n",
            "[CV] END ..........clf__metric=euclidean, clf__n_neighbors=1; total time=   0.0s\n"
          ]
        },
        {
          "output_type": "stream",
          "name": "stderr",
          "text": [
            "/usr/local/lib/python3.9/dist-packages/sklearn/utils/validation.py:1143: DataConversionWarning: A column-vector y was passed when a 1d array was expected. Please change the shape of y to (n_samples, ), for example using ravel().\n",
            "  y = column_or_1d(y, warn=True)\n",
            "/usr/local/lib/python3.9/dist-packages/sklearn/svm/_base.py:299: ConvergenceWarning: Solver terminated early (max_iter=50).  Consider pre-processing your data with StandardScaler or MinMaxScaler.\n",
            "  warnings.warn(\n",
            "/usr/local/lib/python3.9/dist-packages/sklearn/utils/validation.py:1143: DataConversionWarning: A column-vector y was passed when a 1d array was expected. Please change the shape of y to (n_samples, ), for example using ravel().\n",
            "  y = column_or_1d(y, warn=True)\n",
            "/usr/local/lib/python3.9/dist-packages/sklearn/svm/_base.py:299: ConvergenceWarning: Solver terminated early (max_iter=50).  Consider pre-processing your data with StandardScaler or MinMaxScaler.\n",
            "  warnings.warn(\n",
            "/usr/local/lib/python3.9/dist-packages/sklearn/neighbors/_classification.py:215: DataConversionWarning: A column-vector y was passed when a 1d array was expected. Please change the shape of y to (n_samples,), for example using ravel().\n",
            "  return self._fit(X, y)\n",
            "/usr/local/lib/python3.9/dist-packages/sklearn/neighbors/_classification.py:215: DataConversionWarning: A column-vector y was passed when a 1d array was expected. Please change the shape of y to (n_samples,), for example using ravel().\n",
            "  return self._fit(X, y)\n",
            "/usr/local/lib/python3.9/dist-packages/sklearn/neighbors/_classification.py:215: DataConversionWarning: A column-vector y was passed when a 1d array was expected. Please change the shape of y to (n_samples,), for example using ravel().\n",
            "  return self._fit(X, y)\n"
          ]
        },
        {
          "output_type": "stream",
          "name": "stdout",
          "text": [
            "[CV] END ..........clf__metric=euclidean, clf__n_neighbors=1; total time=   0.0s\n",
            "[CV] END ..........clf__metric=euclidean, clf__n_neighbors=1; total time=   0.0s\n",
            "[CV] END ..........clf__metric=euclidean, clf__n_neighbors=1; total time=   0.0s\n",
            "[CV] END ..........clf__metric=euclidean, clf__n_neighbors=1; total time=   0.0s\n",
            "[CV] END ..........clf__metric=euclidean, clf__n_neighbors=2; total time=   0.0s\n",
            "[CV] END ..........clf__metric=euclidean, clf__n_neighbors=2; total time=   0.0s\n"
          ]
        },
        {
          "output_type": "stream",
          "name": "stderr",
          "text": [
            "/usr/local/lib/python3.9/dist-packages/sklearn/neighbors/_classification.py:215: DataConversionWarning: A column-vector y was passed when a 1d array was expected. Please change the shape of y to (n_samples,), for example using ravel().\n",
            "  return self._fit(X, y)\n",
            "/usr/local/lib/python3.9/dist-packages/sklearn/neighbors/_classification.py:215: DataConversionWarning: A column-vector y was passed when a 1d array was expected. Please change the shape of y to (n_samples,), for example using ravel().\n",
            "  return self._fit(X, y)\n",
            "/usr/local/lib/python3.9/dist-packages/sklearn/neighbors/_classification.py:215: DataConversionWarning: A column-vector y was passed when a 1d array was expected. Please change the shape of y to (n_samples,), for example using ravel().\n",
            "  return self._fit(X, y)\n",
            "/usr/local/lib/python3.9/dist-packages/sklearn/neighbors/_classification.py:215: DataConversionWarning: A column-vector y was passed when a 1d array was expected. Please change the shape of y to (n_samples,), for example using ravel().\n",
            "  return self._fit(X, y)\n",
            "/usr/local/lib/python3.9/dist-packages/sklearn/neighbors/_classification.py:215: DataConversionWarning: A column-vector y was passed when a 1d array was expected. Please change the shape of y to (n_samples,), for example using ravel().\n",
            "  return self._fit(X, y)\n",
            "/usr/local/lib/python3.9/dist-packages/sklearn/neighbors/_classification.py:215: DataConversionWarning: A column-vector y was passed when a 1d array was expected. Please change the shape of y to (n_samples,), for example using ravel().\n",
            "  return self._fit(X, y)\n",
            "/usr/local/lib/python3.9/dist-packages/sklearn/neighbors/_classification.py:215: DataConversionWarning: A column-vector y was passed when a 1d array was expected. Please change the shape of y to (n_samples,), for example using ravel().\n",
            "  return self._fit(X, y)\n"
          ]
        },
        {
          "output_type": "stream",
          "name": "stdout",
          "text": [
            "[CV] END ..........clf__metric=euclidean, clf__n_neighbors=2; total time=   0.0s\n",
            "[CV] END ..........clf__metric=euclidean, clf__n_neighbors=2; total time=   0.0s\n",
            "[CV] END ..........clf__metric=euclidean, clf__n_neighbors=2; total time=   0.0s\n",
            "[CV] END ..........clf__metric=euclidean, clf__n_neighbors=3; total time=   0.0s\n",
            "[CV] END ..........clf__metric=euclidean, clf__n_neighbors=3; total time=   0.0s\n",
            "[CV] END ..........clf__metric=euclidean, clf__n_neighbors=3; total time=   0.0s\n"
          ]
        },
        {
          "output_type": "stream",
          "name": "stderr",
          "text": [
            "/usr/local/lib/python3.9/dist-packages/sklearn/neighbors/_classification.py:215: DataConversionWarning: A column-vector y was passed when a 1d array was expected. Please change the shape of y to (n_samples,), for example using ravel().\n",
            "  return self._fit(X, y)\n",
            "/usr/local/lib/python3.9/dist-packages/sklearn/neighbors/_classification.py:215: DataConversionWarning: A column-vector y was passed when a 1d array was expected. Please change the shape of y to (n_samples,), for example using ravel().\n",
            "  return self._fit(X, y)\n",
            "/usr/local/lib/python3.9/dist-packages/sklearn/neighbors/_classification.py:215: DataConversionWarning: A column-vector y was passed when a 1d array was expected. Please change the shape of y to (n_samples,), for example using ravel().\n",
            "  return self._fit(X, y)\n",
            "/usr/local/lib/python3.9/dist-packages/sklearn/neighbors/_classification.py:215: DataConversionWarning: A column-vector y was passed when a 1d array was expected. Please change the shape of y to (n_samples,), for example using ravel().\n",
            "  return self._fit(X, y)\n",
            "/usr/local/lib/python3.9/dist-packages/sklearn/neighbors/_classification.py:215: DataConversionWarning: A column-vector y was passed when a 1d array was expected. Please change the shape of y to (n_samples,), for example using ravel().\n",
            "  return self._fit(X, y)\n",
            "/usr/local/lib/python3.9/dist-packages/sklearn/neighbors/_classification.py:215: DataConversionWarning: A column-vector y was passed when a 1d array was expected. Please change the shape of y to (n_samples,), for example using ravel().\n",
            "  return self._fit(X, y)\n"
          ]
        },
        {
          "output_type": "stream",
          "name": "stdout",
          "text": [
            "[CV] END ..........clf__metric=euclidean, clf__n_neighbors=3; total time=   0.0s\n",
            "[CV] END ..........clf__metric=euclidean, clf__n_neighbors=3; total time=   0.0s\n",
            "[CV] END ..........clf__metric=euclidean, clf__n_neighbors=4; total time=   0.0s\n",
            "[CV] END ..........clf__metric=euclidean, clf__n_neighbors=4; total time=   0.0s\n",
            "[CV] END ..........clf__metric=euclidean, clf__n_neighbors=4; total time=   0.0s\n",
            "[CV] END ..........clf__metric=euclidean, clf__n_neighbors=4; total time=   0.0s\n",
            "[CV] END ..........clf__metric=euclidean, clf__n_neighbors=4; total time=   0.0s\n"
          ]
        },
        {
          "output_type": "stream",
          "name": "stderr",
          "text": [
            "/usr/local/lib/python3.9/dist-packages/sklearn/neighbors/_classification.py:215: DataConversionWarning: A column-vector y was passed when a 1d array was expected. Please change the shape of y to (n_samples,), for example using ravel().\n",
            "  return self._fit(X, y)\n",
            "/usr/local/lib/python3.9/dist-packages/sklearn/neighbors/_classification.py:215: DataConversionWarning: A column-vector y was passed when a 1d array was expected. Please change the shape of y to (n_samples,), for example using ravel().\n",
            "  return self._fit(X, y)\n",
            "/usr/local/lib/python3.9/dist-packages/sklearn/neighbors/_classification.py:215: DataConversionWarning: A column-vector y was passed when a 1d array was expected. Please change the shape of y to (n_samples,), for example using ravel().\n",
            "  return self._fit(X, y)\n",
            "/usr/local/lib/python3.9/dist-packages/sklearn/neighbors/_classification.py:215: DataConversionWarning: A column-vector y was passed when a 1d array was expected. Please change the shape of y to (n_samples,), for example using ravel().\n",
            "  return self._fit(X, y)\n",
            "/usr/local/lib/python3.9/dist-packages/sklearn/neighbors/_classification.py:215: DataConversionWarning: A column-vector y was passed when a 1d array was expected. Please change the shape of y to (n_samples,), for example using ravel().\n",
            "  return self._fit(X, y)\n",
            "/usr/local/lib/python3.9/dist-packages/sklearn/neighbors/_classification.py:215: DataConversionWarning: A column-vector y was passed when a 1d array was expected. Please change the shape of y to (n_samples,), for example using ravel().\n",
            "  return self._fit(X, y)\n",
            "/usr/local/lib/python3.9/dist-packages/sklearn/neighbors/_classification.py:215: DataConversionWarning: A column-vector y was passed when a 1d array was expected. Please change the shape of y to (n_samples,), for example using ravel().\n",
            "  return self._fit(X, y)\n",
            "/usr/local/lib/python3.9/dist-packages/sklearn/neighbors/_classification.py:215: DataConversionWarning: A column-vector y was passed when a 1d array was expected. Please change the shape of y to (n_samples,), for example using ravel().\n",
            "  return self._fit(X, y)\n"
          ]
        },
        {
          "output_type": "stream",
          "name": "stdout",
          "text": [
            "[CV] END ..........clf__metric=euclidean, clf__n_neighbors=5; total time=   0.0s\n",
            "[CV] END ..........clf__metric=euclidean, clf__n_neighbors=5; total time=   0.0s\n",
            "[CV] END ..........clf__metric=euclidean, clf__n_neighbors=5; total time=   0.0s\n",
            "[CV] END ..........clf__metric=euclidean, clf__n_neighbors=5; total time=   0.0s\n",
            "[CV] END ..........clf__metric=euclidean, clf__n_neighbors=5; total time=   0.0s\n",
            "[CV] END ..........clf__metric=euclidean, clf__n_neighbors=6; total time=   0.0s\n",
            "[CV] END ..........clf__metric=euclidean, clf__n_neighbors=6; total time=   0.0s\n",
            "[CV] END ..........clf__metric=euclidean, clf__n_neighbors=6; total time=   0.0s\n",
            "[CV] END ..........clf__metric=euclidean, clf__n_neighbors=6; total time=   0.0s\n"
          ]
        },
        {
          "output_type": "stream",
          "name": "stderr",
          "text": [
            "/usr/local/lib/python3.9/dist-packages/sklearn/neighbors/_classification.py:215: DataConversionWarning: A column-vector y was passed when a 1d array was expected. Please change the shape of y to (n_samples,), for example using ravel().\n",
            "  return self._fit(X, y)\n",
            "/usr/local/lib/python3.9/dist-packages/sklearn/neighbors/_classification.py:215: DataConversionWarning: A column-vector y was passed when a 1d array was expected. Please change the shape of y to (n_samples,), for example using ravel().\n",
            "  return self._fit(X, y)\n",
            "/usr/local/lib/python3.9/dist-packages/sklearn/neighbors/_classification.py:215: DataConversionWarning: A column-vector y was passed when a 1d array was expected. Please change the shape of y to (n_samples,), for example using ravel().\n",
            "  return self._fit(X, y)\n",
            "/usr/local/lib/python3.9/dist-packages/sklearn/neighbors/_classification.py:215: DataConversionWarning: A column-vector y was passed when a 1d array was expected. Please change the shape of y to (n_samples,), for example using ravel().\n",
            "  return self._fit(X, y)\n",
            "/usr/local/lib/python3.9/dist-packages/sklearn/neighbors/_classification.py:215: DataConversionWarning: A column-vector y was passed when a 1d array was expected. Please change the shape of y to (n_samples,), for example using ravel().\n",
            "  return self._fit(X, y)\n",
            "/usr/local/lib/python3.9/dist-packages/sklearn/neighbors/_classification.py:215: DataConversionWarning: A column-vector y was passed when a 1d array was expected. Please change the shape of y to (n_samples,), for example using ravel().\n",
            "  return self._fit(X, y)\n",
            "/usr/local/lib/python3.9/dist-packages/sklearn/neighbors/_classification.py:215: DataConversionWarning: A column-vector y was passed when a 1d array was expected. Please change the shape of y to (n_samples,), for example using ravel().\n",
            "  return self._fit(X, y)\n",
            "/usr/local/lib/python3.9/dist-packages/sklearn/neighbors/_classification.py:215: DataConversionWarning: A column-vector y was passed when a 1d array was expected. Please change the shape of y to (n_samples,), for example using ravel().\n",
            "  return self._fit(X, y)\n",
            "/usr/local/lib/python3.9/dist-packages/sklearn/neighbors/_classification.py:215: DataConversionWarning: A column-vector y was passed when a 1d array was expected. Please change the shape of y to (n_samples,), for example using ravel().\n",
            "  return self._fit(X, y)\n"
          ]
        },
        {
          "output_type": "stream",
          "name": "stdout",
          "text": [
            "[CV] END ..........clf__metric=euclidean, clf__n_neighbors=6; total time=   0.0s\n",
            "[CV] END ..........clf__metric=euclidean, clf__n_neighbors=7; total time=   0.0s\n",
            "[CV] END ..........clf__metric=euclidean, clf__n_neighbors=7; total time=   0.0s\n",
            "[CV] END ..........clf__metric=euclidean, clf__n_neighbors=7; total time=   0.0s\n",
            "[CV] END ..........clf__metric=euclidean, clf__n_neighbors=7; total time=   0.0s\n",
            "[CV] END ..........clf__metric=euclidean, clf__n_neighbors=7; total time=   0.0s\n",
            "[CV] END ..........clf__metric=euclidean, clf__n_neighbors=8; total time=   0.0s\n",
            "[CV] END ..........clf__metric=euclidean, clf__n_neighbors=8; total time=   0.0s\n",
            "[CV] END ..........clf__metric=euclidean, clf__n_neighbors=8; total time=   0.0s\n",
            "[CV] END ..........clf__metric=euclidean, clf__n_neighbors=8; total time=   0.0s\n"
          ]
        },
        {
          "output_type": "stream",
          "name": "stderr",
          "text": [
            "/usr/local/lib/python3.9/dist-packages/sklearn/neighbors/_classification.py:215: DataConversionWarning: A column-vector y was passed when a 1d array was expected. Please change the shape of y to (n_samples,), for example using ravel().\n",
            "  return self._fit(X, y)\n",
            "/usr/local/lib/python3.9/dist-packages/sklearn/neighbors/_classification.py:215: DataConversionWarning: A column-vector y was passed when a 1d array was expected. Please change the shape of y to (n_samples,), for example using ravel().\n",
            "  return self._fit(X, y)\n",
            "/usr/local/lib/python3.9/dist-packages/sklearn/neighbors/_classification.py:215: DataConversionWarning: A column-vector y was passed when a 1d array was expected. Please change the shape of y to (n_samples,), for example using ravel().\n",
            "  return self._fit(X, y)\n",
            "/usr/local/lib/python3.9/dist-packages/sklearn/neighbors/_classification.py:215: DataConversionWarning: A column-vector y was passed when a 1d array was expected. Please change the shape of y to (n_samples,), for example using ravel().\n",
            "  return self._fit(X, y)\n",
            "/usr/local/lib/python3.9/dist-packages/sklearn/neighbors/_classification.py:215: DataConversionWarning: A column-vector y was passed when a 1d array was expected. Please change the shape of y to (n_samples,), for example using ravel().\n",
            "  return self._fit(X, y)\n",
            "/usr/local/lib/python3.9/dist-packages/sklearn/neighbors/_classification.py:215: DataConversionWarning: A column-vector y was passed when a 1d array was expected. Please change the shape of y to (n_samples,), for example using ravel().\n",
            "  return self._fit(X, y)\n",
            "/usr/local/lib/python3.9/dist-packages/sklearn/neighbors/_classification.py:215: DataConversionWarning: A column-vector y was passed when a 1d array was expected. Please change the shape of y to (n_samples,), for example using ravel().\n",
            "  return self._fit(X, y)\n",
            "/usr/local/lib/python3.9/dist-packages/sklearn/neighbors/_classification.py:215: DataConversionWarning: A column-vector y was passed when a 1d array was expected. Please change the shape of y to (n_samples,), for example using ravel().\n",
            "  return self._fit(X, y)\n",
            "/usr/local/lib/python3.9/dist-packages/sklearn/neighbors/_classification.py:215: DataConversionWarning: A column-vector y was passed when a 1d array was expected. Please change the shape of y to (n_samples,), for example using ravel().\n",
            "  return self._fit(X, y)\n"
          ]
        },
        {
          "output_type": "stream",
          "name": "stdout",
          "text": [
            "[CV] END ..........clf__metric=euclidean, clf__n_neighbors=8; total time=   0.0s\n",
            "[CV] END ..........clf__metric=euclidean, clf__n_neighbors=9; total time=   0.0s\n",
            "[CV] END ..........clf__metric=euclidean, clf__n_neighbors=9; total time=   0.0s\n",
            "[CV] END ..........clf__metric=euclidean, clf__n_neighbors=9; total time=   0.0s\n",
            "[CV] END ..........clf__metric=euclidean, clf__n_neighbors=9; total time=   0.0s\n",
            "[CV] END ..........clf__metric=euclidean, clf__n_neighbors=9; total time=   0.0s\n",
            "[CV] END .........clf__metric=euclidean, clf__n_neighbors=10; total time=   0.0s\n",
            "[CV] END .........clf__metric=euclidean, clf__n_neighbors=10; total time=   0.0s\n",
            "[CV] END .........clf__metric=euclidean, clf__n_neighbors=10; total time=   0.0s\n"
          ]
        },
        {
          "output_type": "stream",
          "name": "stderr",
          "text": [
            "/usr/local/lib/python3.9/dist-packages/sklearn/neighbors/_classification.py:215: DataConversionWarning: A column-vector y was passed when a 1d array was expected. Please change the shape of y to (n_samples,), for example using ravel().\n",
            "  return self._fit(X, y)\n",
            "/usr/local/lib/python3.9/dist-packages/sklearn/neighbors/_classification.py:215: DataConversionWarning: A column-vector y was passed when a 1d array was expected. Please change the shape of y to (n_samples,), for example using ravel().\n",
            "  return self._fit(X, y)\n",
            "/usr/local/lib/python3.9/dist-packages/sklearn/neighbors/_classification.py:215: DataConversionWarning: A column-vector y was passed when a 1d array was expected. Please change the shape of y to (n_samples,), for example using ravel().\n",
            "  return self._fit(X, y)\n",
            "/usr/local/lib/python3.9/dist-packages/sklearn/neighbors/_classification.py:215: DataConversionWarning: A column-vector y was passed when a 1d array was expected. Please change the shape of y to (n_samples,), for example using ravel().\n",
            "  return self._fit(X, y)\n",
            "/usr/local/lib/python3.9/dist-packages/sklearn/neighbors/_classification.py:215: DataConversionWarning: A column-vector y was passed when a 1d array was expected. Please change the shape of y to (n_samples,), for example using ravel().\n",
            "  return self._fit(X, y)\n",
            "/usr/local/lib/python3.9/dist-packages/sklearn/neighbors/_classification.py:215: DataConversionWarning: A column-vector y was passed when a 1d array was expected. Please change the shape of y to (n_samples,), for example using ravel().\n",
            "  return self._fit(X, y)\n",
            "/usr/local/lib/python3.9/dist-packages/sklearn/neighbors/_classification.py:215: DataConversionWarning: A column-vector y was passed when a 1d array was expected. Please change the shape of y to (n_samples,), for example using ravel().\n",
            "  return self._fit(X, y)\n",
            "/usr/local/lib/python3.9/dist-packages/sklearn/neighbors/_classification.py:215: DataConversionWarning: A column-vector y was passed when a 1d array was expected. Please change the shape of y to (n_samples,), for example using ravel().\n",
            "  return self._fit(X, y)\n",
            "/usr/local/lib/python3.9/dist-packages/sklearn/neighbors/_classification.py:215: DataConversionWarning: A column-vector y was passed when a 1d array was expected. Please change the shape of y to (n_samples,), for example using ravel().\n",
            "  return self._fit(X, y)\n"
          ]
        },
        {
          "output_type": "stream",
          "name": "stdout",
          "text": [
            "[CV] END .........clf__metric=euclidean, clf__n_neighbors=10; total time=   0.0s\n",
            "[CV] END .........clf__metric=euclidean, clf__n_neighbors=10; total time=   0.0s\n",
            "[CV] END .........clf__metric=euclidean, clf__n_neighbors=11; total time=   0.0s\n",
            "[CV] END .........clf__metric=euclidean, clf__n_neighbors=11; total time=   0.0s\n",
            "[CV] END .........clf__metric=euclidean, clf__n_neighbors=11; total time=   0.0s\n",
            "[CV] END .........clf__metric=euclidean, clf__n_neighbors=11; total time=   0.0s\n",
            "[CV] END .........clf__metric=euclidean, clf__n_neighbors=11; total time=   0.0s\n",
            "[CV] END .........clf__metric=euclidean, clf__n_neighbors=12; total time=   0.0s\n",
            "[CV] END .........clf__metric=euclidean, clf__n_neighbors=12; total time=   0.0s\n"
          ]
        },
        {
          "output_type": "stream",
          "name": "stderr",
          "text": [
            "/usr/local/lib/python3.9/dist-packages/sklearn/neighbors/_classification.py:215: DataConversionWarning: A column-vector y was passed when a 1d array was expected. Please change the shape of y to (n_samples,), for example using ravel().\n",
            "  return self._fit(X, y)\n",
            "/usr/local/lib/python3.9/dist-packages/sklearn/neighbors/_classification.py:215: DataConversionWarning: A column-vector y was passed when a 1d array was expected. Please change the shape of y to (n_samples,), for example using ravel().\n",
            "  return self._fit(X, y)\n",
            "/usr/local/lib/python3.9/dist-packages/sklearn/neighbors/_classification.py:215: DataConversionWarning: A column-vector y was passed when a 1d array was expected. Please change the shape of y to (n_samples,), for example using ravel().\n",
            "  return self._fit(X, y)\n",
            "/usr/local/lib/python3.9/dist-packages/sklearn/neighbors/_classification.py:215: DataConversionWarning: A column-vector y was passed when a 1d array was expected. Please change the shape of y to (n_samples,), for example using ravel().\n",
            "  return self._fit(X, y)\n",
            "/usr/local/lib/python3.9/dist-packages/sklearn/neighbors/_classification.py:215: DataConversionWarning: A column-vector y was passed when a 1d array was expected. Please change the shape of y to (n_samples,), for example using ravel().\n",
            "  return self._fit(X, y)\n",
            "/usr/local/lib/python3.9/dist-packages/sklearn/neighbors/_classification.py:215: DataConversionWarning: A column-vector y was passed when a 1d array was expected. Please change the shape of y to (n_samples,), for example using ravel().\n",
            "  return self._fit(X, y)\n",
            "/usr/local/lib/python3.9/dist-packages/sklearn/neighbors/_classification.py:215: DataConversionWarning: A column-vector y was passed when a 1d array was expected. Please change the shape of y to (n_samples,), for example using ravel().\n",
            "  return self._fit(X, y)\n",
            "/usr/local/lib/python3.9/dist-packages/sklearn/neighbors/_classification.py:215: DataConversionWarning: A column-vector y was passed when a 1d array was expected. Please change the shape of y to (n_samples,), for example using ravel().\n",
            "  return self._fit(X, y)\n",
            "/usr/local/lib/python3.9/dist-packages/sklearn/neighbors/_classification.py:215: DataConversionWarning: A column-vector y was passed when a 1d array was expected. Please change the shape of y to (n_samples,), for example using ravel().\n",
            "  return self._fit(X, y)\n"
          ]
        },
        {
          "output_type": "stream",
          "name": "stdout",
          "text": [
            "[CV] END .........clf__metric=euclidean, clf__n_neighbors=12; total time=   0.0s\n",
            "[CV] END .........clf__metric=euclidean, clf__n_neighbors=12; total time=   0.0s\n",
            "[CV] END .........clf__metric=euclidean, clf__n_neighbors=12; total time=   0.0s\n",
            "[CV] END .........clf__metric=euclidean, clf__n_neighbors=13; total time=   0.0s\n",
            "[CV] END .........clf__metric=euclidean, clf__n_neighbors=13; total time=   0.0s\n",
            "[CV] END .........clf__metric=euclidean, clf__n_neighbors=13; total time=   0.0s\n",
            "[CV] END .........clf__metric=euclidean, clf__n_neighbors=13; total time=   0.0s\n",
            "[CV] END .........clf__metric=euclidean, clf__n_neighbors=13; total time=   0.0s\n",
            "[CV] END .........clf__metric=euclidean, clf__n_neighbors=14; total time=   0.0s\n"
          ]
        },
        {
          "output_type": "stream",
          "name": "stderr",
          "text": [
            "/usr/local/lib/python3.9/dist-packages/sklearn/neighbors/_classification.py:215: DataConversionWarning: A column-vector y was passed when a 1d array was expected. Please change the shape of y to (n_samples,), for example using ravel().\n",
            "  return self._fit(X, y)\n",
            "/usr/local/lib/python3.9/dist-packages/sklearn/neighbors/_classification.py:215: DataConversionWarning: A column-vector y was passed when a 1d array was expected. Please change the shape of y to (n_samples,), for example using ravel().\n",
            "  return self._fit(X, y)\n",
            "/usr/local/lib/python3.9/dist-packages/sklearn/neighbors/_classification.py:215: DataConversionWarning: A column-vector y was passed when a 1d array was expected. Please change the shape of y to (n_samples,), for example using ravel().\n",
            "  return self._fit(X, y)\n",
            "/usr/local/lib/python3.9/dist-packages/sklearn/neighbors/_classification.py:215: DataConversionWarning: A column-vector y was passed when a 1d array was expected. Please change the shape of y to (n_samples,), for example using ravel().\n",
            "  return self._fit(X, y)\n",
            "/usr/local/lib/python3.9/dist-packages/sklearn/neighbors/_classification.py:215: DataConversionWarning: A column-vector y was passed when a 1d array was expected. Please change the shape of y to (n_samples,), for example using ravel().\n",
            "  return self._fit(X, y)\n",
            "/usr/local/lib/python3.9/dist-packages/sklearn/neighbors/_classification.py:215: DataConversionWarning: A column-vector y was passed when a 1d array was expected. Please change the shape of y to (n_samples,), for example using ravel().\n",
            "  return self._fit(X, y)\n",
            "/usr/local/lib/python3.9/dist-packages/sklearn/neighbors/_classification.py:215: DataConversionWarning: A column-vector y was passed when a 1d array was expected. Please change the shape of y to (n_samples,), for example using ravel().\n",
            "  return self._fit(X, y)\n",
            "/usr/local/lib/python3.9/dist-packages/sklearn/neighbors/_classification.py:215: DataConversionWarning: A column-vector y was passed when a 1d array was expected. Please change the shape of y to (n_samples,), for example using ravel().\n",
            "  return self._fit(X, y)\n",
            "/usr/local/lib/python3.9/dist-packages/sklearn/neighbors/_classification.py:215: DataConversionWarning: A column-vector y was passed when a 1d array was expected. Please change the shape of y to (n_samples,), for example using ravel().\n",
            "  return self._fit(X, y)\n"
          ]
        },
        {
          "output_type": "stream",
          "name": "stdout",
          "text": [
            "[CV] END .........clf__metric=euclidean, clf__n_neighbors=14; total time=   0.0s\n",
            "[CV] END .........clf__metric=euclidean, clf__n_neighbors=14; total time=   0.0s\n",
            "[CV] END .........clf__metric=euclidean, clf__n_neighbors=14; total time=   0.0s\n",
            "[CV] END .........clf__metric=euclidean, clf__n_neighbors=14; total time=   0.0s\n",
            "[CV] END .........clf__metric=euclidean, clf__n_neighbors=15; total time=   0.0s\n",
            "[CV] END .........clf__metric=euclidean, clf__n_neighbors=15; total time=   0.0s\n",
            "[CV] END .........clf__metric=euclidean, clf__n_neighbors=15; total time=   0.0s\n",
            "[CV] END .........clf__metric=euclidean, clf__n_neighbors=15; total time=   0.0s\n",
            "[CV] END .........clf__metric=euclidean, clf__n_neighbors=15; total time=   0.0s\n"
          ]
        },
        {
          "output_type": "stream",
          "name": "stderr",
          "text": [
            "/usr/local/lib/python3.9/dist-packages/sklearn/neighbors/_classification.py:215: DataConversionWarning: A column-vector y was passed when a 1d array was expected. Please change the shape of y to (n_samples,), for example using ravel().\n",
            "  return self._fit(X, y)\n",
            "/usr/local/lib/python3.9/dist-packages/sklearn/neighbors/_classification.py:215: DataConversionWarning: A column-vector y was passed when a 1d array was expected. Please change the shape of y to (n_samples,), for example using ravel().\n",
            "  return self._fit(X, y)\n",
            "/usr/local/lib/python3.9/dist-packages/sklearn/neighbors/_classification.py:215: DataConversionWarning: A column-vector y was passed when a 1d array was expected. Please change the shape of y to (n_samples,), for example using ravel().\n",
            "  return self._fit(X, y)\n",
            "/usr/local/lib/python3.9/dist-packages/sklearn/neighbors/_classification.py:215: DataConversionWarning: A column-vector y was passed when a 1d array was expected. Please change the shape of y to (n_samples,), for example using ravel().\n",
            "  return self._fit(X, y)\n",
            "/usr/local/lib/python3.9/dist-packages/sklearn/neighbors/_classification.py:215: DataConversionWarning: A column-vector y was passed when a 1d array was expected. Please change the shape of y to (n_samples,), for example using ravel().\n",
            "  return self._fit(X, y)\n",
            "/usr/local/lib/python3.9/dist-packages/sklearn/neighbors/_classification.py:215: DataConversionWarning: A column-vector y was passed when a 1d array was expected. Please change the shape of y to (n_samples,), for example using ravel().\n",
            "  return self._fit(X, y)\n",
            "/usr/local/lib/python3.9/dist-packages/sklearn/neighbors/_classification.py:215: DataConversionWarning: A column-vector y was passed when a 1d array was expected. Please change the shape of y to (n_samples,), for example using ravel().\n",
            "  return self._fit(X, y)\n",
            "/usr/local/lib/python3.9/dist-packages/sklearn/neighbors/_classification.py:215: DataConversionWarning: A column-vector y was passed when a 1d array was expected. Please change the shape of y to (n_samples,), for example using ravel().\n",
            "  return self._fit(X, y)\n"
          ]
        },
        {
          "output_type": "stream",
          "name": "stdout",
          "text": [
            "[CV] END .........clf__metric=euclidean, clf__n_neighbors=16; total time=   0.0s\n",
            "[CV] END .........clf__metric=euclidean, clf__n_neighbors=16; total time=   0.0s\n",
            "[CV] END .........clf__metric=euclidean, clf__n_neighbors=16; total time=   0.0s\n",
            "[CV] END .........clf__metric=euclidean, clf__n_neighbors=16; total time=   0.0s\n",
            "[CV] END .........clf__metric=euclidean, clf__n_neighbors=16; total time=   0.0s\n",
            "[CV] END .........clf__metric=euclidean, clf__n_neighbors=17; total time=   0.0s\n",
            "[CV] END .........clf__metric=euclidean, clf__n_neighbors=17; total time=   0.0s\n",
            "[CV] END .........clf__metric=euclidean, clf__n_neighbors=17; total time=   0.0s\n"
          ]
        },
        {
          "output_type": "stream",
          "name": "stderr",
          "text": [
            "/usr/local/lib/python3.9/dist-packages/sklearn/neighbors/_classification.py:215: DataConversionWarning: A column-vector y was passed when a 1d array was expected. Please change the shape of y to (n_samples,), for example using ravel().\n",
            "  return self._fit(X, y)\n",
            "/usr/local/lib/python3.9/dist-packages/sklearn/neighbors/_classification.py:215: DataConversionWarning: A column-vector y was passed when a 1d array was expected. Please change the shape of y to (n_samples,), for example using ravel().\n",
            "  return self._fit(X, y)\n",
            "/usr/local/lib/python3.9/dist-packages/sklearn/neighbors/_classification.py:215: DataConversionWarning: A column-vector y was passed when a 1d array was expected. Please change the shape of y to (n_samples,), for example using ravel().\n",
            "  return self._fit(X, y)\n",
            "/usr/local/lib/python3.9/dist-packages/sklearn/neighbors/_classification.py:215: DataConversionWarning: A column-vector y was passed when a 1d array was expected. Please change the shape of y to (n_samples,), for example using ravel().\n",
            "  return self._fit(X, y)\n",
            "/usr/local/lib/python3.9/dist-packages/sklearn/neighbors/_classification.py:215: DataConversionWarning: A column-vector y was passed when a 1d array was expected. Please change the shape of y to (n_samples,), for example using ravel().\n",
            "  return self._fit(X, y)\n",
            "/usr/local/lib/python3.9/dist-packages/sklearn/neighbors/_classification.py:215: DataConversionWarning: A column-vector y was passed when a 1d array was expected. Please change the shape of y to (n_samples,), for example using ravel().\n",
            "  return self._fit(X, y)\n",
            "/usr/local/lib/python3.9/dist-packages/sklearn/neighbors/_classification.py:215: DataConversionWarning: A column-vector y was passed when a 1d array was expected. Please change the shape of y to (n_samples,), for example using ravel().\n",
            "  return self._fit(X, y)\n",
            "/usr/local/lib/python3.9/dist-packages/sklearn/neighbors/_classification.py:215: DataConversionWarning: A column-vector y was passed when a 1d array was expected. Please change the shape of y to (n_samples,), for example using ravel().\n",
            "  return self._fit(X, y)\n",
            "/usr/local/lib/python3.9/dist-packages/sklearn/neighbors/_classification.py:215: DataConversionWarning: A column-vector y was passed when a 1d array was expected. Please change the shape of y to (n_samples,), for example using ravel().\n",
            "  return self._fit(X, y)\n"
          ]
        },
        {
          "output_type": "stream",
          "name": "stdout",
          "text": [
            "[CV] END .........clf__metric=euclidean, clf__n_neighbors=17; total time=   0.0s\n",
            "[CV] END .........clf__metric=euclidean, clf__n_neighbors=17; total time=   0.0s\n",
            "[CV] END .........clf__metric=euclidean, clf__n_neighbors=18; total time=   0.0s\n",
            "[CV] END .........clf__metric=euclidean, clf__n_neighbors=18; total time=   0.0s\n",
            "[CV] END .........clf__metric=euclidean, clf__n_neighbors=18; total time=   0.0s\n",
            "[CV] END .........clf__metric=euclidean, clf__n_neighbors=18; total time=   0.0s\n",
            "[CV] END .........clf__metric=euclidean, clf__n_neighbors=18; total time=   0.0s\n",
            "[CV] END .........clf__metric=euclidean, clf__n_neighbors=19; total time=   0.0s\n",
            "[CV] END .........clf__metric=euclidean, clf__n_neighbors=19; total time=   0.0s\n"
          ]
        },
        {
          "output_type": "stream",
          "name": "stderr",
          "text": [
            "/usr/local/lib/python3.9/dist-packages/sklearn/neighbors/_classification.py:215: DataConversionWarning: A column-vector y was passed when a 1d array was expected. Please change the shape of y to (n_samples,), for example using ravel().\n",
            "  return self._fit(X, y)\n",
            "/usr/local/lib/python3.9/dist-packages/sklearn/neighbors/_classification.py:215: DataConversionWarning: A column-vector y was passed when a 1d array was expected. Please change the shape of y to (n_samples,), for example using ravel().\n",
            "  return self._fit(X, y)\n",
            "/usr/local/lib/python3.9/dist-packages/sklearn/neighbors/_classification.py:215: DataConversionWarning: A column-vector y was passed when a 1d array was expected. Please change the shape of y to (n_samples,), for example using ravel().\n",
            "  return self._fit(X, y)\n",
            "/usr/local/lib/python3.9/dist-packages/sklearn/neighbors/_classification.py:215: DataConversionWarning: A column-vector y was passed when a 1d array was expected. Please change the shape of y to (n_samples,), for example using ravel().\n",
            "  return self._fit(X, y)\n",
            "/usr/local/lib/python3.9/dist-packages/sklearn/neighbors/_classification.py:215: DataConversionWarning: A column-vector y was passed when a 1d array was expected. Please change the shape of y to (n_samples,), for example using ravel().\n",
            "  return self._fit(X, y)\n",
            "/usr/local/lib/python3.9/dist-packages/sklearn/neighbors/_classification.py:215: DataConversionWarning: A column-vector y was passed when a 1d array was expected. Please change the shape of y to (n_samples,), for example using ravel().\n",
            "  return self._fit(X, y)\n",
            "/usr/local/lib/python3.9/dist-packages/sklearn/neighbors/_classification.py:215: DataConversionWarning: A column-vector y was passed when a 1d array was expected. Please change the shape of y to (n_samples,), for example using ravel().\n",
            "  return self._fit(X, y)\n",
            "/usr/local/lib/python3.9/dist-packages/sklearn/neighbors/_classification.py:215: DataConversionWarning: A column-vector y was passed when a 1d array was expected. Please change the shape of y to (n_samples,), for example using ravel().\n",
            "  return self._fit(X, y)\n",
            "/usr/local/lib/python3.9/dist-packages/sklearn/neighbors/_classification.py:215: DataConversionWarning: A column-vector y was passed when a 1d array was expected. Please change the shape of y to (n_samples,), for example using ravel().\n",
            "  return self._fit(X, y)\n"
          ]
        },
        {
          "output_type": "stream",
          "name": "stdout",
          "text": [
            "[CV] END .........clf__metric=euclidean, clf__n_neighbors=19; total time=   0.0s\n",
            "[CV] END .........clf__metric=euclidean, clf__n_neighbors=19; total time=   0.0s\n",
            "[CV] END .........clf__metric=euclidean, clf__n_neighbors=19; total time=   0.0s\n",
            "[CV] END .........clf__metric=euclidean, clf__n_neighbors=20; total time=   0.0s\n",
            "[CV] END .........clf__metric=euclidean, clf__n_neighbors=20; total time=   0.0s\n",
            "[CV] END .........clf__metric=euclidean, clf__n_neighbors=20; total time=   0.0s\n",
            "[CV] END .........clf__metric=euclidean, clf__n_neighbors=20; total time=   0.0s\n",
            "[CV] END .........clf__metric=euclidean, clf__n_neighbors=20; total time=   0.0s\n",
            "[CV] END .........clf__metric=euclidean, clf__n_neighbors=21; total time=   0.0s\n"
          ]
        },
        {
          "output_type": "stream",
          "name": "stderr",
          "text": [
            "/usr/local/lib/python3.9/dist-packages/sklearn/neighbors/_classification.py:215: DataConversionWarning: A column-vector y was passed when a 1d array was expected. Please change the shape of y to (n_samples,), for example using ravel().\n",
            "  return self._fit(X, y)\n",
            "/usr/local/lib/python3.9/dist-packages/sklearn/neighbors/_classification.py:215: DataConversionWarning: A column-vector y was passed when a 1d array was expected. Please change the shape of y to (n_samples,), for example using ravel().\n",
            "  return self._fit(X, y)\n",
            "/usr/local/lib/python3.9/dist-packages/sklearn/neighbors/_classification.py:215: DataConversionWarning: A column-vector y was passed when a 1d array was expected. Please change the shape of y to (n_samples,), for example using ravel().\n",
            "  return self._fit(X, y)\n",
            "/usr/local/lib/python3.9/dist-packages/sklearn/neighbors/_classification.py:215: DataConversionWarning: A column-vector y was passed when a 1d array was expected. Please change the shape of y to (n_samples,), for example using ravel().\n",
            "  return self._fit(X, y)\n",
            "/usr/local/lib/python3.9/dist-packages/sklearn/neighbors/_classification.py:215: DataConversionWarning: A column-vector y was passed when a 1d array was expected. Please change the shape of y to (n_samples,), for example using ravel().\n",
            "  return self._fit(X, y)\n",
            "/usr/local/lib/python3.9/dist-packages/sklearn/neighbors/_classification.py:215: DataConversionWarning: A column-vector y was passed when a 1d array was expected. Please change the shape of y to (n_samples,), for example using ravel().\n",
            "  return self._fit(X, y)\n",
            "/usr/local/lib/python3.9/dist-packages/sklearn/neighbors/_classification.py:215: DataConversionWarning: A column-vector y was passed when a 1d array was expected. Please change the shape of y to (n_samples,), for example using ravel().\n",
            "  return self._fit(X, y)\n",
            "/usr/local/lib/python3.9/dist-packages/sklearn/neighbors/_classification.py:215: DataConversionWarning: A column-vector y was passed when a 1d array was expected. Please change the shape of y to (n_samples,), for example using ravel().\n",
            "  return self._fit(X, y)\n",
            "/usr/local/lib/python3.9/dist-packages/sklearn/neighbors/_classification.py:215: DataConversionWarning: A column-vector y was passed when a 1d array was expected. Please change the shape of y to (n_samples,), for example using ravel().\n",
            "  return self._fit(X, y)\n"
          ]
        },
        {
          "output_type": "stream",
          "name": "stdout",
          "text": [
            "[CV] END .........clf__metric=euclidean, clf__n_neighbors=21; total time=   0.0s\n",
            "[CV] END .........clf__metric=euclidean, clf__n_neighbors=21; total time=   0.0s\n",
            "[CV] END .........clf__metric=euclidean, clf__n_neighbors=21; total time=   0.0s\n",
            "[CV] END .........clf__metric=euclidean, clf__n_neighbors=21; total time=   0.0s\n",
            "[CV] END .........clf__metric=euclidean, clf__n_neighbors=22; total time=   0.0s\n",
            "[CV] END .........clf__metric=euclidean, clf__n_neighbors=22; total time=   0.0s\n",
            "[CV] END .........clf__metric=euclidean, clf__n_neighbors=22; total time=   0.0s\n",
            "[CV] END .........clf__metric=euclidean, clf__n_neighbors=22; total time=   0.0s\n",
            "[CV] END .........clf__metric=euclidean, clf__n_neighbors=22; total time=   0.0s\n"
          ]
        },
        {
          "output_type": "stream",
          "name": "stderr",
          "text": [
            "/usr/local/lib/python3.9/dist-packages/sklearn/neighbors/_classification.py:215: DataConversionWarning: A column-vector y was passed when a 1d array was expected. Please change the shape of y to (n_samples,), for example using ravel().\n",
            "  return self._fit(X, y)\n",
            "/usr/local/lib/python3.9/dist-packages/sklearn/neighbors/_classification.py:215: DataConversionWarning: A column-vector y was passed when a 1d array was expected. Please change the shape of y to (n_samples,), for example using ravel().\n",
            "  return self._fit(X, y)\n",
            "/usr/local/lib/python3.9/dist-packages/sklearn/neighbors/_classification.py:215: DataConversionWarning: A column-vector y was passed when a 1d array was expected. Please change the shape of y to (n_samples,), for example using ravel().\n",
            "  return self._fit(X, y)\n",
            "/usr/local/lib/python3.9/dist-packages/sklearn/neighbors/_classification.py:215: DataConversionWarning: A column-vector y was passed when a 1d array was expected. Please change the shape of y to (n_samples,), for example using ravel().\n",
            "  return self._fit(X, y)\n",
            "/usr/local/lib/python3.9/dist-packages/sklearn/neighbors/_classification.py:215: DataConversionWarning: A column-vector y was passed when a 1d array was expected. Please change the shape of y to (n_samples,), for example using ravel().\n",
            "  return self._fit(X, y)\n",
            "/usr/local/lib/python3.9/dist-packages/sklearn/neighbors/_classification.py:215: DataConversionWarning: A column-vector y was passed when a 1d array was expected. Please change the shape of y to (n_samples,), for example using ravel().\n",
            "  return self._fit(X, y)\n",
            "/usr/local/lib/python3.9/dist-packages/sklearn/neighbors/_classification.py:215: DataConversionWarning: A column-vector y was passed when a 1d array was expected. Please change the shape of y to (n_samples,), for example using ravel().\n",
            "  return self._fit(X, y)\n",
            "/usr/local/lib/python3.9/dist-packages/sklearn/neighbors/_classification.py:215: DataConversionWarning: A column-vector y was passed when a 1d array was expected. Please change the shape of y to (n_samples,), for example using ravel().\n",
            "  return self._fit(X, y)\n",
            "/usr/local/lib/python3.9/dist-packages/sklearn/neighbors/_classification.py:215: DataConversionWarning: A column-vector y was passed when a 1d array was expected. Please change the shape of y to (n_samples,), for example using ravel().\n",
            "  return self._fit(X, y)\n"
          ]
        },
        {
          "output_type": "stream",
          "name": "stdout",
          "text": [
            "[CV] END .........clf__metric=euclidean, clf__n_neighbors=23; total time=   0.0s\n",
            "[CV] END .........clf__metric=euclidean, clf__n_neighbors=23; total time=   0.0s\n",
            "[CV] END .........clf__metric=euclidean, clf__n_neighbors=23; total time=   0.0s\n",
            "[CV] END .........clf__metric=euclidean, clf__n_neighbors=23; total time=   0.0s\n",
            "[CV] END .........clf__metric=euclidean, clf__n_neighbors=23; total time=   0.0s\n",
            "[CV] END .........clf__metric=euclidean, clf__n_neighbors=24; total time=   0.0s\n",
            "[CV] END .........clf__metric=euclidean, clf__n_neighbors=24; total time=   0.0s\n",
            "[CV] END .........clf__metric=euclidean, clf__n_neighbors=24; total time=   0.0s\n",
            "[CV] END .........clf__metric=euclidean, clf__n_neighbors=24; total time=   0.0s\n"
          ]
        },
        {
          "output_type": "stream",
          "name": "stderr",
          "text": [
            "/usr/local/lib/python3.9/dist-packages/sklearn/neighbors/_classification.py:215: DataConversionWarning: A column-vector y was passed when a 1d array was expected. Please change the shape of y to (n_samples,), for example using ravel().\n",
            "  return self._fit(X, y)\n",
            "/usr/local/lib/python3.9/dist-packages/sklearn/neighbors/_classification.py:215: DataConversionWarning: A column-vector y was passed when a 1d array was expected. Please change the shape of y to (n_samples,), for example using ravel().\n",
            "  return self._fit(X, y)\n",
            "/usr/local/lib/python3.9/dist-packages/sklearn/neighbors/_classification.py:215: DataConversionWarning: A column-vector y was passed when a 1d array was expected. Please change the shape of y to (n_samples,), for example using ravel().\n",
            "  return self._fit(X, y)\n",
            "/usr/local/lib/python3.9/dist-packages/sklearn/neighbors/_classification.py:215: DataConversionWarning: A column-vector y was passed when a 1d array was expected. Please change the shape of y to (n_samples,), for example using ravel().\n",
            "  return self._fit(X, y)\n",
            "/usr/local/lib/python3.9/dist-packages/sklearn/neighbors/_classification.py:215: DataConversionWarning: A column-vector y was passed when a 1d array was expected. Please change the shape of y to (n_samples,), for example using ravel().\n",
            "  return self._fit(X, y)\n",
            "/usr/local/lib/python3.9/dist-packages/sklearn/neighbors/_classification.py:215: DataConversionWarning: A column-vector y was passed when a 1d array was expected. Please change the shape of y to (n_samples,), for example using ravel().\n",
            "  return self._fit(X, y)\n",
            "/usr/local/lib/python3.9/dist-packages/sklearn/neighbors/_classification.py:215: DataConversionWarning: A column-vector y was passed when a 1d array was expected. Please change the shape of y to (n_samples,), for example using ravel().\n",
            "  return self._fit(X, y)\n",
            "/usr/local/lib/python3.9/dist-packages/sklearn/neighbors/_classification.py:215: DataConversionWarning: A column-vector y was passed when a 1d array was expected. Please change the shape of y to (n_samples,), for example using ravel().\n",
            "  return self._fit(X, y)\n"
          ]
        },
        {
          "output_type": "stream",
          "name": "stdout",
          "text": [
            "[CV] END .........clf__metric=euclidean, clf__n_neighbors=24; total time=   0.0s\n",
            "[CV] END .........clf__metric=euclidean, clf__n_neighbors=25; total time=   0.0s\n",
            "[CV] END .........clf__metric=euclidean, clf__n_neighbors=25; total time=   0.0s\n",
            "[CV] END .........clf__metric=euclidean, clf__n_neighbors=25; total time=   0.0s\n",
            "[CV] END .........clf__metric=euclidean, clf__n_neighbors=25; total time=   0.0s\n",
            "[CV] END .........clf__metric=euclidean, clf__n_neighbors=25; total time=   0.0s\n",
            "[CV] END .........clf__metric=euclidean, clf__n_neighbors=26; total time=   0.0s\n",
            "[CV] END .........clf__metric=euclidean, clf__n_neighbors=26; total time=   0.0s\n",
            "[CV] END .........clf__metric=euclidean, clf__n_neighbors=26; total time=   0.0s\n"
          ]
        },
        {
          "output_type": "stream",
          "name": "stderr",
          "text": [
            "/usr/local/lib/python3.9/dist-packages/sklearn/neighbors/_classification.py:215: DataConversionWarning: A column-vector y was passed when a 1d array was expected. Please change the shape of y to (n_samples,), for example using ravel().\n",
            "  return self._fit(X, y)\n",
            "/usr/local/lib/python3.9/dist-packages/sklearn/neighbors/_classification.py:215: DataConversionWarning: A column-vector y was passed when a 1d array was expected. Please change the shape of y to (n_samples,), for example using ravel().\n",
            "  return self._fit(X, y)\n",
            "/usr/local/lib/python3.9/dist-packages/sklearn/neighbors/_classification.py:215: DataConversionWarning: A column-vector y was passed when a 1d array was expected. Please change the shape of y to (n_samples,), for example using ravel().\n",
            "  return self._fit(X, y)\n",
            "/usr/local/lib/python3.9/dist-packages/sklearn/neighbors/_classification.py:215: DataConversionWarning: A column-vector y was passed when a 1d array was expected. Please change the shape of y to (n_samples,), for example using ravel().\n",
            "  return self._fit(X, y)\n",
            "/usr/local/lib/python3.9/dist-packages/sklearn/neighbors/_classification.py:215: DataConversionWarning: A column-vector y was passed when a 1d array was expected. Please change the shape of y to (n_samples,), for example using ravel().\n",
            "  return self._fit(X, y)\n",
            "/usr/local/lib/python3.9/dist-packages/sklearn/neighbors/_classification.py:215: DataConversionWarning: A column-vector y was passed when a 1d array was expected. Please change the shape of y to (n_samples,), for example using ravel().\n",
            "  return self._fit(X, y)\n",
            "/usr/local/lib/python3.9/dist-packages/sklearn/neighbors/_classification.py:215: DataConversionWarning: A column-vector y was passed when a 1d array was expected. Please change the shape of y to (n_samples,), for example using ravel().\n",
            "  return self._fit(X, y)\n",
            "/usr/local/lib/python3.9/dist-packages/sklearn/neighbors/_classification.py:215: DataConversionWarning: A column-vector y was passed when a 1d array was expected. Please change the shape of y to (n_samples,), for example using ravel().\n",
            "  return self._fit(X, y)\n",
            "/usr/local/lib/python3.9/dist-packages/sklearn/neighbors/_classification.py:215: DataConversionWarning: A column-vector y was passed when a 1d array was expected. Please change the shape of y to (n_samples,), for example using ravel().\n",
            "  return self._fit(X, y)\n"
          ]
        },
        {
          "output_type": "stream",
          "name": "stdout",
          "text": [
            "[CV] END .........clf__metric=euclidean, clf__n_neighbors=26; total time=   0.0s\n",
            "[CV] END .........clf__metric=euclidean, clf__n_neighbors=26; total time=   0.0s\n",
            "[CV] END .........clf__metric=euclidean, clf__n_neighbors=27; total time=   0.0s\n",
            "[CV] END .........clf__metric=euclidean, clf__n_neighbors=27; total time=   0.0s\n",
            "[CV] END .........clf__metric=euclidean, clf__n_neighbors=27; total time=   0.0s\n",
            "[CV] END .........clf__metric=euclidean, clf__n_neighbors=27; total time=   0.0s\n",
            "[CV] END .........clf__metric=euclidean, clf__n_neighbors=27; total time=   0.0s\n",
            "[CV] END .........clf__metric=euclidean, clf__n_neighbors=28; total time=   0.0s\n",
            "[CV] END .........clf__metric=euclidean, clf__n_neighbors=28; total time=   0.0s\n"
          ]
        },
        {
          "output_type": "stream",
          "name": "stderr",
          "text": [
            "/usr/local/lib/python3.9/dist-packages/sklearn/neighbors/_classification.py:215: DataConversionWarning: A column-vector y was passed when a 1d array was expected. Please change the shape of y to (n_samples,), for example using ravel().\n",
            "  return self._fit(X, y)\n",
            "/usr/local/lib/python3.9/dist-packages/sklearn/neighbors/_classification.py:215: DataConversionWarning: A column-vector y was passed when a 1d array was expected. Please change the shape of y to (n_samples,), for example using ravel().\n",
            "  return self._fit(X, y)\n",
            "/usr/local/lib/python3.9/dist-packages/sklearn/neighbors/_classification.py:215: DataConversionWarning: A column-vector y was passed when a 1d array was expected. Please change the shape of y to (n_samples,), for example using ravel().\n",
            "  return self._fit(X, y)\n",
            "/usr/local/lib/python3.9/dist-packages/sklearn/neighbors/_classification.py:215: DataConversionWarning: A column-vector y was passed when a 1d array was expected. Please change the shape of y to (n_samples,), for example using ravel().\n",
            "  return self._fit(X, y)\n",
            "/usr/local/lib/python3.9/dist-packages/sklearn/neighbors/_classification.py:215: DataConversionWarning: A column-vector y was passed when a 1d array was expected. Please change the shape of y to (n_samples,), for example using ravel().\n",
            "  return self._fit(X, y)\n",
            "/usr/local/lib/python3.9/dist-packages/sklearn/neighbors/_classification.py:215: DataConversionWarning: A column-vector y was passed when a 1d array was expected. Please change the shape of y to (n_samples,), for example using ravel().\n",
            "  return self._fit(X, y)\n",
            "/usr/local/lib/python3.9/dist-packages/sklearn/neighbors/_classification.py:215: DataConversionWarning: A column-vector y was passed when a 1d array was expected. Please change the shape of y to (n_samples,), for example using ravel().\n",
            "  return self._fit(X, y)\n",
            "/usr/local/lib/python3.9/dist-packages/sklearn/neighbors/_classification.py:215: DataConversionWarning: A column-vector y was passed when a 1d array was expected. Please change the shape of y to (n_samples,), for example using ravel().\n",
            "  return self._fit(X, y)\n",
            "/usr/local/lib/python3.9/dist-packages/sklearn/neighbors/_classification.py:215: DataConversionWarning: A column-vector y was passed when a 1d array was expected. Please change the shape of y to (n_samples,), for example using ravel().\n",
            "  return self._fit(X, y)\n"
          ]
        },
        {
          "output_type": "stream",
          "name": "stdout",
          "text": [
            "[CV] END .........clf__metric=euclidean, clf__n_neighbors=28; total time=   0.0s\n",
            "[CV] END .........clf__metric=euclidean, clf__n_neighbors=28; total time=   0.0s\n",
            "[CV] END .........clf__metric=euclidean, clf__n_neighbors=28; total time=   0.0s\n",
            "[CV] END .........clf__metric=euclidean, clf__n_neighbors=29; total time=   0.0s\n",
            "[CV] END .........clf__metric=euclidean, clf__n_neighbors=29; total time=   0.0s\n",
            "[CV] END .........clf__metric=euclidean, clf__n_neighbors=29; total time=   0.0s\n",
            "[CV] END .........clf__metric=euclidean, clf__n_neighbors=29; total time=   0.0s\n",
            "[CV] END .........clf__metric=euclidean, clf__n_neighbors=29; total time=   0.0s\n",
            "[CV] END .........clf__metric=euclidean, clf__n_neighbors=30; total time=   0.0s\n"
          ]
        },
        {
          "output_type": "stream",
          "name": "stderr",
          "text": [
            "/usr/local/lib/python3.9/dist-packages/sklearn/neighbors/_classification.py:215: DataConversionWarning: A column-vector y was passed when a 1d array was expected. Please change the shape of y to (n_samples,), for example using ravel().\n",
            "  return self._fit(X, y)\n",
            "/usr/local/lib/python3.9/dist-packages/sklearn/neighbors/_classification.py:215: DataConversionWarning: A column-vector y was passed when a 1d array was expected. Please change the shape of y to (n_samples,), for example using ravel().\n",
            "  return self._fit(X, y)\n",
            "/usr/local/lib/python3.9/dist-packages/sklearn/neighbors/_classification.py:215: DataConversionWarning: A column-vector y was passed when a 1d array was expected. Please change the shape of y to (n_samples,), for example using ravel().\n",
            "  return self._fit(X, y)\n",
            "/usr/local/lib/python3.9/dist-packages/sklearn/neighbors/_classification.py:215: DataConversionWarning: A column-vector y was passed when a 1d array was expected. Please change the shape of y to (n_samples,), for example using ravel().\n",
            "  return self._fit(X, y)\n",
            "/usr/local/lib/python3.9/dist-packages/sklearn/neighbors/_classification.py:215: DataConversionWarning: A column-vector y was passed when a 1d array was expected. Please change the shape of y to (n_samples,), for example using ravel().\n",
            "  return self._fit(X, y)\n",
            "/usr/local/lib/python3.9/dist-packages/sklearn/neighbors/_classification.py:215: DataConversionWarning: A column-vector y was passed when a 1d array was expected. Please change the shape of y to (n_samples,), for example using ravel().\n",
            "  return self._fit(X, y)\n",
            "/usr/local/lib/python3.9/dist-packages/sklearn/neighbors/_classification.py:215: DataConversionWarning: A column-vector y was passed when a 1d array was expected. Please change the shape of y to (n_samples,), for example using ravel().\n",
            "  return self._fit(X, y)\n",
            "/usr/local/lib/python3.9/dist-packages/sklearn/neighbors/_classification.py:215: DataConversionWarning: A column-vector y was passed when a 1d array was expected. Please change the shape of y to (n_samples,), for example using ravel().\n",
            "  return self._fit(X, y)\n",
            "/usr/local/lib/python3.9/dist-packages/sklearn/neighbors/_classification.py:215: DataConversionWarning: A column-vector y was passed when a 1d array was expected. Please change the shape of y to (n_samples,), for example using ravel().\n",
            "  return self._fit(X, y)\n"
          ]
        },
        {
          "output_type": "stream",
          "name": "stdout",
          "text": [
            "[CV] END .........clf__metric=euclidean, clf__n_neighbors=30; total time=   0.0s\n",
            "[CV] END .........clf__metric=euclidean, clf__n_neighbors=30; total time=   0.0s\n",
            "[CV] END .........clf__metric=euclidean, clf__n_neighbors=30; total time=   0.0s\n",
            "[CV] END .........clf__metric=euclidean, clf__n_neighbors=30; total time=   0.0s\n",
            "[CV] END .........clf__metric=euclidean, clf__n_neighbors=31; total time=   0.0s\n",
            "[CV] END .........clf__metric=euclidean, clf__n_neighbors=31; total time=   0.0s\n",
            "[CV] END .........clf__metric=euclidean, clf__n_neighbors=31; total time=   0.0s\n",
            "[CV] END .........clf__metric=euclidean, clf__n_neighbors=31; total time=   0.0s\n",
            "[CV] END .........clf__metric=euclidean, clf__n_neighbors=31; total time=   0.0s\n"
          ]
        },
        {
          "output_type": "stream",
          "name": "stderr",
          "text": [
            "/usr/local/lib/python3.9/dist-packages/sklearn/neighbors/_classification.py:215: DataConversionWarning: A column-vector y was passed when a 1d array was expected. Please change the shape of y to (n_samples,), for example using ravel().\n",
            "  return self._fit(X, y)\n",
            "/usr/local/lib/python3.9/dist-packages/sklearn/neighbors/_classification.py:215: DataConversionWarning: A column-vector y was passed when a 1d array was expected. Please change the shape of y to (n_samples,), for example using ravel().\n",
            "  return self._fit(X, y)\n",
            "/usr/local/lib/python3.9/dist-packages/sklearn/neighbors/_classification.py:215: DataConversionWarning: A column-vector y was passed when a 1d array was expected. Please change the shape of y to (n_samples,), for example using ravel().\n",
            "  return self._fit(X, y)\n",
            "/usr/local/lib/python3.9/dist-packages/sklearn/neighbors/_classification.py:215: DataConversionWarning: A column-vector y was passed when a 1d array was expected. Please change the shape of y to (n_samples,), for example using ravel().\n",
            "  return self._fit(X, y)\n",
            "/usr/local/lib/python3.9/dist-packages/sklearn/neighbors/_classification.py:215: DataConversionWarning: A column-vector y was passed when a 1d array was expected. Please change the shape of y to (n_samples,), for example using ravel().\n",
            "  return self._fit(X, y)\n",
            "/usr/local/lib/python3.9/dist-packages/sklearn/neighbors/_classification.py:215: DataConversionWarning: A column-vector y was passed when a 1d array was expected. Please change the shape of y to (n_samples,), for example using ravel().\n",
            "  return self._fit(X, y)\n",
            "/usr/local/lib/python3.9/dist-packages/sklearn/neighbors/_classification.py:215: DataConversionWarning: A column-vector y was passed when a 1d array was expected. Please change the shape of y to (n_samples,), for example using ravel().\n",
            "  return self._fit(X, y)\n",
            "/usr/local/lib/python3.9/dist-packages/sklearn/neighbors/_classification.py:215: DataConversionWarning: A column-vector y was passed when a 1d array was expected. Please change the shape of y to (n_samples,), for example using ravel().\n",
            "  return self._fit(X, y)\n",
            "/usr/local/lib/python3.9/dist-packages/sklearn/neighbors/_classification.py:215: DataConversionWarning: A column-vector y was passed when a 1d array was expected. Please change the shape of y to (n_samples,), for example using ravel().\n",
            "  return self._fit(X, y)\n"
          ]
        },
        {
          "output_type": "stream",
          "name": "stdout",
          "text": [
            "[CV] END .........clf__metric=euclidean, clf__n_neighbors=32; total time=   0.0s\n",
            "[CV] END .........clf__metric=euclidean, clf__n_neighbors=32; total time=   0.0s\n",
            "[CV] END .........clf__metric=euclidean, clf__n_neighbors=32; total time=   0.0s\n",
            "[CV] END .........clf__metric=euclidean, clf__n_neighbors=32; total time=   0.0s\n",
            "[CV] END .........clf__metric=euclidean, clf__n_neighbors=32; total time=   0.0s\n",
            "[CV] END .........clf__metric=euclidean, clf__n_neighbors=33; total time=   0.0s\n",
            "[CV] END .........clf__metric=euclidean, clf__n_neighbors=33; total time=   0.0s\n",
            "[CV] END .........clf__metric=euclidean, clf__n_neighbors=33; total time=   0.0s\n"
          ]
        },
        {
          "output_type": "stream",
          "name": "stderr",
          "text": [
            "/usr/local/lib/python3.9/dist-packages/sklearn/neighbors/_classification.py:215: DataConversionWarning: A column-vector y was passed when a 1d array was expected. Please change the shape of y to (n_samples,), for example using ravel().\n",
            "  return self._fit(X, y)\n",
            "/usr/local/lib/python3.9/dist-packages/sklearn/neighbors/_classification.py:215: DataConversionWarning: A column-vector y was passed when a 1d array was expected. Please change the shape of y to (n_samples,), for example using ravel().\n",
            "  return self._fit(X, y)\n",
            "/usr/local/lib/python3.9/dist-packages/sklearn/neighbors/_classification.py:215: DataConversionWarning: A column-vector y was passed when a 1d array was expected. Please change the shape of y to (n_samples,), for example using ravel().\n",
            "  return self._fit(X, y)\n",
            "/usr/local/lib/python3.9/dist-packages/sklearn/neighbors/_classification.py:215: DataConversionWarning: A column-vector y was passed when a 1d array was expected. Please change the shape of y to (n_samples,), for example using ravel().\n",
            "  return self._fit(X, y)\n",
            "/usr/local/lib/python3.9/dist-packages/sklearn/neighbors/_classification.py:215: DataConversionWarning: A column-vector y was passed when a 1d array was expected. Please change the shape of y to (n_samples,), for example using ravel().\n",
            "  return self._fit(X, y)\n",
            "/usr/local/lib/python3.9/dist-packages/sklearn/neighbors/_classification.py:215: DataConversionWarning: A column-vector y was passed when a 1d array was expected. Please change the shape of y to (n_samples,), for example using ravel().\n",
            "  return self._fit(X, y)\n",
            "/usr/local/lib/python3.9/dist-packages/sklearn/neighbors/_classification.py:215: DataConversionWarning: A column-vector y was passed when a 1d array was expected. Please change the shape of y to (n_samples,), for example using ravel().\n",
            "  return self._fit(X, y)\n",
            "/usr/local/lib/python3.9/dist-packages/sklearn/neighbors/_classification.py:215: DataConversionWarning: A column-vector y was passed when a 1d array was expected. Please change the shape of y to (n_samples,), for example using ravel().\n",
            "  return self._fit(X, y)\n"
          ]
        },
        {
          "output_type": "stream",
          "name": "stdout",
          "text": [
            "[CV] END .........clf__metric=euclidean, clf__n_neighbors=33; total time=   0.0s\n",
            "[CV] END .........clf__metric=euclidean, clf__n_neighbors=33; total time=   0.0s\n",
            "[CV] END .........clf__metric=euclidean, clf__n_neighbors=34; total time=   0.0s\n",
            "[CV] END .........clf__metric=euclidean, clf__n_neighbors=34; total time=   0.0s\n",
            "[CV] END .........clf__metric=euclidean, clf__n_neighbors=34; total time=   0.0s\n",
            "[CV] END .........clf__metric=euclidean, clf__n_neighbors=34; total time=   0.0s\n",
            "[CV] END .........clf__metric=euclidean, clf__n_neighbors=34; total time=   0.0s\n",
            "[CV] END .........clf__metric=euclidean, clf__n_neighbors=35; total time=   0.0s\n"
          ]
        },
        {
          "output_type": "stream",
          "name": "stderr",
          "text": [
            "/usr/local/lib/python3.9/dist-packages/sklearn/neighbors/_classification.py:215: DataConversionWarning: A column-vector y was passed when a 1d array was expected. Please change the shape of y to (n_samples,), for example using ravel().\n",
            "  return self._fit(X, y)\n",
            "/usr/local/lib/python3.9/dist-packages/sklearn/neighbors/_classification.py:215: DataConversionWarning: A column-vector y was passed when a 1d array was expected. Please change the shape of y to (n_samples,), for example using ravel().\n",
            "  return self._fit(X, y)\n",
            "/usr/local/lib/python3.9/dist-packages/sklearn/neighbors/_classification.py:215: DataConversionWarning: A column-vector y was passed when a 1d array was expected. Please change the shape of y to (n_samples,), for example using ravel().\n",
            "  return self._fit(X, y)\n",
            "/usr/local/lib/python3.9/dist-packages/sklearn/neighbors/_classification.py:215: DataConversionWarning: A column-vector y was passed when a 1d array was expected. Please change the shape of y to (n_samples,), for example using ravel().\n",
            "  return self._fit(X, y)\n",
            "/usr/local/lib/python3.9/dist-packages/sklearn/neighbors/_classification.py:215: DataConversionWarning: A column-vector y was passed when a 1d array was expected. Please change the shape of y to (n_samples,), for example using ravel().\n",
            "  return self._fit(X, y)\n",
            "/usr/local/lib/python3.9/dist-packages/sklearn/neighbors/_classification.py:215: DataConversionWarning: A column-vector y was passed when a 1d array was expected. Please change the shape of y to (n_samples,), for example using ravel().\n",
            "  return self._fit(X, y)\n",
            "/usr/local/lib/python3.9/dist-packages/sklearn/neighbors/_classification.py:215: DataConversionWarning: A column-vector y was passed when a 1d array was expected. Please change the shape of y to (n_samples,), for example using ravel().\n",
            "  return self._fit(X, y)\n",
            "/usr/local/lib/python3.9/dist-packages/sklearn/neighbors/_classification.py:215: DataConversionWarning: A column-vector y was passed when a 1d array was expected. Please change the shape of y to (n_samples,), for example using ravel().\n",
            "  return self._fit(X, y)\n"
          ]
        },
        {
          "output_type": "stream",
          "name": "stdout",
          "text": [
            "[CV] END .........clf__metric=euclidean, clf__n_neighbors=35; total time=   0.0s\n",
            "[CV] END .........clf__metric=euclidean, clf__n_neighbors=35; total time=   0.0s\n",
            "[CV] END .........clf__metric=euclidean, clf__n_neighbors=35; total time=   0.0s\n",
            "[CV] END .........clf__metric=euclidean, clf__n_neighbors=35; total time=   0.0s\n",
            "[CV] END .........clf__metric=euclidean, clf__n_neighbors=36; total time=   0.0s\n",
            "[CV] END .........clf__metric=euclidean, clf__n_neighbors=36; total time=   0.0s\n",
            "[CV] END .........clf__metric=euclidean, clf__n_neighbors=36; total time=   0.0s\n",
            "[CV] END .........clf__metric=euclidean, clf__n_neighbors=36; total time=   0.0s\n",
            "[CV] END .........clf__metric=euclidean, clf__n_neighbors=36; total time=   0.0s\n"
          ]
        },
        {
          "output_type": "stream",
          "name": "stderr",
          "text": [
            "/usr/local/lib/python3.9/dist-packages/sklearn/neighbors/_classification.py:215: DataConversionWarning: A column-vector y was passed when a 1d array was expected. Please change the shape of y to (n_samples,), for example using ravel().\n",
            "  return self._fit(X, y)\n",
            "/usr/local/lib/python3.9/dist-packages/sklearn/neighbors/_classification.py:215: DataConversionWarning: A column-vector y was passed when a 1d array was expected. Please change the shape of y to (n_samples,), for example using ravel().\n",
            "  return self._fit(X, y)\n",
            "/usr/local/lib/python3.9/dist-packages/sklearn/neighbors/_classification.py:215: DataConversionWarning: A column-vector y was passed when a 1d array was expected. Please change the shape of y to (n_samples,), for example using ravel().\n",
            "  return self._fit(X, y)\n",
            "/usr/local/lib/python3.9/dist-packages/sklearn/neighbors/_classification.py:215: DataConversionWarning: A column-vector y was passed when a 1d array was expected. Please change the shape of y to (n_samples,), for example using ravel().\n",
            "  return self._fit(X, y)\n",
            "/usr/local/lib/python3.9/dist-packages/sklearn/neighbors/_classification.py:215: DataConversionWarning: A column-vector y was passed when a 1d array was expected. Please change the shape of y to (n_samples,), for example using ravel().\n",
            "  return self._fit(X, y)\n",
            "/usr/local/lib/python3.9/dist-packages/sklearn/neighbors/_classification.py:215: DataConversionWarning: A column-vector y was passed when a 1d array was expected. Please change the shape of y to (n_samples,), for example using ravel().\n",
            "  return self._fit(X, y)\n",
            "/usr/local/lib/python3.9/dist-packages/sklearn/neighbors/_classification.py:215: DataConversionWarning: A column-vector y was passed when a 1d array was expected. Please change the shape of y to (n_samples,), for example using ravel().\n",
            "  return self._fit(X, y)\n",
            "/usr/local/lib/python3.9/dist-packages/sklearn/neighbors/_classification.py:215: DataConversionWarning: A column-vector y was passed when a 1d array was expected. Please change the shape of y to (n_samples,), for example using ravel().\n",
            "  return self._fit(X, y)\n",
            "/usr/local/lib/python3.9/dist-packages/sklearn/neighbors/_classification.py:215: DataConversionWarning: A column-vector y was passed when a 1d array was expected. Please change the shape of y to (n_samples,), for example using ravel().\n",
            "  return self._fit(X, y)\n"
          ]
        },
        {
          "output_type": "stream",
          "name": "stdout",
          "text": [
            "[CV] END .........clf__metric=euclidean, clf__n_neighbors=37; total time=   0.0s\n",
            "[CV] END .........clf__metric=euclidean, clf__n_neighbors=37; total time=   0.0s\n",
            "[CV] END .........clf__metric=euclidean, clf__n_neighbors=37; total time=   0.0s\n",
            "[CV] END .........clf__metric=euclidean, clf__n_neighbors=37; total time=   0.0s\n",
            "[CV] END .........clf__metric=euclidean, clf__n_neighbors=37; total time=   0.0s\n",
            "[CV] END .........clf__metric=euclidean, clf__n_neighbors=38; total time=   0.0s\n",
            "[CV] END .........clf__metric=euclidean, clf__n_neighbors=38; total time=   0.0s\n",
            "[CV] END .........clf__metric=euclidean, clf__n_neighbors=38; total time=   0.0s\n",
            "[CV] END .........clf__metric=euclidean, clf__n_neighbors=38; total time=   0.0s\n"
          ]
        },
        {
          "output_type": "stream",
          "name": "stderr",
          "text": [
            "/usr/local/lib/python3.9/dist-packages/sklearn/neighbors/_classification.py:215: DataConversionWarning: A column-vector y was passed when a 1d array was expected. Please change the shape of y to (n_samples,), for example using ravel().\n",
            "  return self._fit(X, y)\n",
            "/usr/local/lib/python3.9/dist-packages/sklearn/neighbors/_classification.py:215: DataConversionWarning: A column-vector y was passed when a 1d array was expected. Please change the shape of y to (n_samples,), for example using ravel().\n",
            "  return self._fit(X, y)\n",
            "/usr/local/lib/python3.9/dist-packages/sklearn/neighbors/_classification.py:215: DataConversionWarning: A column-vector y was passed when a 1d array was expected. Please change the shape of y to (n_samples,), for example using ravel().\n",
            "  return self._fit(X, y)\n",
            "/usr/local/lib/python3.9/dist-packages/sklearn/neighbors/_classification.py:215: DataConversionWarning: A column-vector y was passed when a 1d array was expected. Please change the shape of y to (n_samples,), for example using ravel().\n",
            "  return self._fit(X, y)\n",
            "/usr/local/lib/python3.9/dist-packages/sklearn/neighbors/_classification.py:215: DataConversionWarning: A column-vector y was passed when a 1d array was expected. Please change the shape of y to (n_samples,), for example using ravel().\n",
            "  return self._fit(X, y)\n",
            "/usr/local/lib/python3.9/dist-packages/sklearn/neighbors/_classification.py:215: DataConversionWarning: A column-vector y was passed when a 1d array was expected. Please change the shape of y to (n_samples,), for example using ravel().\n",
            "  return self._fit(X, y)\n",
            "/usr/local/lib/python3.9/dist-packages/sklearn/neighbors/_classification.py:215: DataConversionWarning: A column-vector y was passed when a 1d array was expected. Please change the shape of y to (n_samples,), for example using ravel().\n",
            "  return self._fit(X, y)\n",
            "/usr/local/lib/python3.9/dist-packages/sklearn/neighbors/_classification.py:215: DataConversionWarning: A column-vector y was passed when a 1d array was expected. Please change the shape of y to (n_samples,), for example using ravel().\n",
            "  return self._fit(X, y)\n",
            "/usr/local/lib/python3.9/dist-packages/sklearn/neighbors/_classification.py:215: DataConversionWarning: A column-vector y was passed when a 1d array was expected. Please change the shape of y to (n_samples,), for example using ravel().\n",
            "  return self._fit(X, y)\n"
          ]
        },
        {
          "output_type": "stream",
          "name": "stdout",
          "text": [
            "[CV] END .........clf__metric=euclidean, clf__n_neighbors=38; total time=   0.0s\n",
            "[CV] END .........clf__metric=euclidean, clf__n_neighbors=39; total time=   0.0s\n",
            "[CV] END .........clf__metric=euclidean, clf__n_neighbors=39; total time=   0.0s\n",
            "[CV] END .........clf__metric=euclidean, clf__n_neighbors=39; total time=   0.0s\n",
            "[CV] END .........clf__metric=euclidean, clf__n_neighbors=39; total time=   0.0s\n",
            "[CV] END .........clf__metric=euclidean, clf__n_neighbors=39; total time=   0.0s\n",
            "[CV] END .........clf__metric=euclidean, clf__n_neighbors=40; total time=   0.0s\n",
            "[CV] END .........clf__metric=euclidean, clf__n_neighbors=40; total time=   0.0s\n",
            "[CV] END .........clf__metric=euclidean, clf__n_neighbors=40; total time=   0.0s\n"
          ]
        },
        {
          "output_type": "stream",
          "name": "stderr",
          "text": [
            "/usr/local/lib/python3.9/dist-packages/sklearn/neighbors/_classification.py:215: DataConversionWarning: A column-vector y was passed when a 1d array was expected. Please change the shape of y to (n_samples,), for example using ravel().\n",
            "  return self._fit(X, y)\n",
            "/usr/local/lib/python3.9/dist-packages/sklearn/neighbors/_classification.py:215: DataConversionWarning: A column-vector y was passed when a 1d array was expected. Please change the shape of y to (n_samples,), for example using ravel().\n",
            "  return self._fit(X, y)\n",
            "/usr/local/lib/python3.9/dist-packages/sklearn/neighbors/_classification.py:215: DataConversionWarning: A column-vector y was passed when a 1d array was expected. Please change the shape of y to (n_samples,), for example using ravel().\n",
            "  return self._fit(X, y)\n",
            "/usr/local/lib/python3.9/dist-packages/sklearn/neighbors/_classification.py:215: DataConversionWarning: A column-vector y was passed when a 1d array was expected. Please change the shape of y to (n_samples,), for example using ravel().\n",
            "  return self._fit(X, y)\n",
            "/usr/local/lib/python3.9/dist-packages/sklearn/neighbors/_classification.py:215: DataConversionWarning: A column-vector y was passed when a 1d array was expected. Please change the shape of y to (n_samples,), for example using ravel().\n",
            "  return self._fit(X, y)\n",
            "/usr/local/lib/python3.9/dist-packages/sklearn/neighbors/_classification.py:215: DataConversionWarning: A column-vector y was passed when a 1d array was expected. Please change the shape of y to (n_samples,), for example using ravel().\n",
            "  return self._fit(X, y)\n",
            "/usr/local/lib/python3.9/dist-packages/sklearn/neighbors/_classification.py:215: DataConversionWarning: A column-vector y was passed when a 1d array was expected. Please change the shape of y to (n_samples,), for example using ravel().\n",
            "  return self._fit(X, y)\n",
            "/usr/local/lib/python3.9/dist-packages/sklearn/neighbors/_classification.py:215: DataConversionWarning: A column-vector y was passed when a 1d array was expected. Please change the shape of y to (n_samples,), for example using ravel().\n",
            "  return self._fit(X, y)\n",
            "/usr/local/lib/python3.9/dist-packages/sklearn/neighbors/_classification.py:215: DataConversionWarning: A column-vector y was passed when a 1d array was expected. Please change the shape of y to (n_samples,), for example using ravel().\n",
            "  return self._fit(X, y)\n"
          ]
        },
        {
          "output_type": "stream",
          "name": "stdout",
          "text": [
            "[CV] END .........clf__metric=euclidean, clf__n_neighbors=40; total time=   0.0s\n",
            "[CV] END .........clf__metric=euclidean, clf__n_neighbors=40; total time=   0.0s\n",
            "[CV] END .........clf__metric=euclidean, clf__n_neighbors=41; total time=   0.0s\n",
            "[CV] END .........clf__metric=euclidean, clf__n_neighbors=41; total time=   0.0s\n",
            "[CV] END .........clf__metric=euclidean, clf__n_neighbors=41; total time=   0.0s\n",
            "[CV] END .........clf__metric=euclidean, clf__n_neighbors=41; total time=   0.0s\n",
            "[CV] END .........clf__metric=euclidean, clf__n_neighbors=41; total time=   0.0s\n",
            "[CV] END .........clf__metric=euclidean, clf__n_neighbors=42; total time=   0.0s\n",
            "[CV] END .........clf__metric=euclidean, clf__n_neighbors=42; total time=   0.0s\n"
          ]
        },
        {
          "output_type": "stream",
          "name": "stderr",
          "text": [
            "/usr/local/lib/python3.9/dist-packages/sklearn/neighbors/_classification.py:215: DataConversionWarning: A column-vector y was passed when a 1d array was expected. Please change the shape of y to (n_samples,), for example using ravel().\n",
            "  return self._fit(X, y)\n",
            "/usr/local/lib/python3.9/dist-packages/sklearn/neighbors/_classification.py:215: DataConversionWarning: A column-vector y was passed when a 1d array was expected. Please change the shape of y to (n_samples,), for example using ravel().\n",
            "  return self._fit(X, y)\n",
            "/usr/local/lib/python3.9/dist-packages/sklearn/neighbors/_classification.py:215: DataConversionWarning: A column-vector y was passed when a 1d array was expected. Please change the shape of y to (n_samples,), for example using ravel().\n",
            "  return self._fit(X, y)\n",
            "/usr/local/lib/python3.9/dist-packages/sklearn/neighbors/_classification.py:215: DataConversionWarning: A column-vector y was passed when a 1d array was expected. Please change the shape of y to (n_samples,), for example using ravel().\n",
            "  return self._fit(X, y)\n",
            "/usr/local/lib/python3.9/dist-packages/sklearn/neighbors/_classification.py:215: DataConversionWarning: A column-vector y was passed when a 1d array was expected. Please change the shape of y to (n_samples,), for example using ravel().\n",
            "  return self._fit(X, y)\n",
            "/usr/local/lib/python3.9/dist-packages/sklearn/neighbors/_classification.py:215: DataConversionWarning: A column-vector y was passed when a 1d array was expected. Please change the shape of y to (n_samples,), for example using ravel().\n",
            "  return self._fit(X, y)\n",
            "/usr/local/lib/python3.9/dist-packages/sklearn/neighbors/_classification.py:215: DataConversionWarning: A column-vector y was passed when a 1d array was expected. Please change the shape of y to (n_samples,), for example using ravel().\n",
            "  return self._fit(X, y)\n",
            "/usr/local/lib/python3.9/dist-packages/sklearn/neighbors/_classification.py:215: DataConversionWarning: A column-vector y was passed when a 1d array was expected. Please change the shape of y to (n_samples,), for example using ravel().\n",
            "  return self._fit(X, y)\n",
            "/usr/local/lib/python3.9/dist-packages/sklearn/neighbors/_classification.py:215: DataConversionWarning: A column-vector y was passed when a 1d array was expected. Please change the shape of y to (n_samples,), for example using ravel().\n",
            "  return self._fit(X, y)\n"
          ]
        },
        {
          "output_type": "stream",
          "name": "stdout",
          "text": [
            "[CV] END .........clf__metric=euclidean, clf__n_neighbors=42; total time=   0.0s\n",
            "[CV] END .........clf__metric=euclidean, clf__n_neighbors=42; total time=   0.0s\n",
            "[CV] END .........clf__metric=euclidean, clf__n_neighbors=42; total time=   0.0s\n",
            "[CV] END .........clf__metric=euclidean, clf__n_neighbors=43; total time=   0.0s\n",
            "[CV] END .........clf__metric=euclidean, clf__n_neighbors=43; total time=   0.0s\n",
            "[CV] END .........clf__metric=euclidean, clf__n_neighbors=43; total time=   0.0s\n",
            "[CV] END .........clf__metric=euclidean, clf__n_neighbors=43; total time=   0.0s\n",
            "[CV] END .........clf__metric=euclidean, clf__n_neighbors=43; total time=   0.0s\n",
            "[CV] END .........clf__metric=euclidean, clf__n_neighbors=44; total time=   0.0s\n"
          ]
        },
        {
          "output_type": "stream",
          "name": "stderr",
          "text": [
            "/usr/local/lib/python3.9/dist-packages/sklearn/neighbors/_classification.py:215: DataConversionWarning: A column-vector y was passed when a 1d array was expected. Please change the shape of y to (n_samples,), for example using ravel().\n",
            "  return self._fit(X, y)\n",
            "/usr/local/lib/python3.9/dist-packages/sklearn/neighbors/_classification.py:215: DataConversionWarning: A column-vector y was passed when a 1d array was expected. Please change the shape of y to (n_samples,), for example using ravel().\n",
            "  return self._fit(X, y)\n",
            "/usr/local/lib/python3.9/dist-packages/sklearn/neighbors/_classification.py:215: DataConversionWarning: A column-vector y was passed when a 1d array was expected. Please change the shape of y to (n_samples,), for example using ravel().\n",
            "  return self._fit(X, y)\n",
            "/usr/local/lib/python3.9/dist-packages/sklearn/neighbors/_classification.py:215: DataConversionWarning: A column-vector y was passed when a 1d array was expected. Please change the shape of y to (n_samples,), for example using ravel().\n",
            "  return self._fit(X, y)\n",
            "/usr/local/lib/python3.9/dist-packages/sklearn/neighbors/_classification.py:215: DataConversionWarning: A column-vector y was passed when a 1d array was expected. Please change the shape of y to (n_samples,), for example using ravel().\n",
            "  return self._fit(X, y)\n",
            "/usr/local/lib/python3.9/dist-packages/sklearn/neighbors/_classification.py:215: DataConversionWarning: A column-vector y was passed when a 1d array was expected. Please change the shape of y to (n_samples,), for example using ravel().\n",
            "  return self._fit(X, y)\n",
            "/usr/local/lib/python3.9/dist-packages/sklearn/neighbors/_classification.py:215: DataConversionWarning: A column-vector y was passed when a 1d array was expected. Please change the shape of y to (n_samples,), for example using ravel().\n",
            "  return self._fit(X, y)\n",
            "/usr/local/lib/python3.9/dist-packages/sklearn/neighbors/_classification.py:215: DataConversionWarning: A column-vector y was passed when a 1d array was expected. Please change the shape of y to (n_samples,), for example using ravel().\n",
            "  return self._fit(X, y)\n",
            "/usr/local/lib/python3.9/dist-packages/sklearn/neighbors/_classification.py:215: DataConversionWarning: A column-vector y was passed when a 1d array was expected. Please change the shape of y to (n_samples,), for example using ravel().\n",
            "  return self._fit(X, y)\n"
          ]
        },
        {
          "output_type": "stream",
          "name": "stdout",
          "text": [
            "[CV] END .........clf__metric=euclidean, clf__n_neighbors=44; total time=   0.0s\n",
            "[CV] END .........clf__metric=euclidean, clf__n_neighbors=44; total time=   0.0s\n",
            "[CV] END .........clf__metric=euclidean, clf__n_neighbors=44; total time=   0.0s\n",
            "[CV] END .........clf__metric=euclidean, clf__n_neighbors=44; total time=   0.0s\n",
            "[CV] END .........clf__metric=euclidean, clf__n_neighbors=45; total time=   0.0s\n",
            "[CV] END .........clf__metric=euclidean, clf__n_neighbors=45; total time=   0.0s\n",
            "[CV] END .........clf__metric=euclidean, clf__n_neighbors=45; total time=   0.0s\n",
            "[CV] END .........clf__metric=euclidean, clf__n_neighbors=45; total time=   0.0s\n",
            "[CV] END .........clf__metric=euclidean, clf__n_neighbors=45; total time=   0.0s\n"
          ]
        },
        {
          "output_type": "stream",
          "name": "stderr",
          "text": [
            "/usr/local/lib/python3.9/dist-packages/sklearn/neighbors/_classification.py:215: DataConversionWarning: A column-vector y was passed when a 1d array was expected. Please change the shape of y to (n_samples,), for example using ravel().\n",
            "  return self._fit(X, y)\n",
            "/usr/local/lib/python3.9/dist-packages/sklearn/neighbors/_classification.py:215: DataConversionWarning: A column-vector y was passed when a 1d array was expected. Please change the shape of y to (n_samples,), for example using ravel().\n",
            "  return self._fit(X, y)\n",
            "/usr/local/lib/python3.9/dist-packages/sklearn/neighbors/_classification.py:215: DataConversionWarning: A column-vector y was passed when a 1d array was expected. Please change the shape of y to (n_samples,), for example using ravel().\n",
            "  return self._fit(X, y)\n",
            "/usr/local/lib/python3.9/dist-packages/sklearn/neighbors/_classification.py:215: DataConversionWarning: A column-vector y was passed when a 1d array was expected. Please change the shape of y to (n_samples,), for example using ravel().\n",
            "  return self._fit(X, y)\n",
            "/usr/local/lib/python3.9/dist-packages/sklearn/neighbors/_classification.py:215: DataConversionWarning: A column-vector y was passed when a 1d array was expected. Please change the shape of y to (n_samples,), for example using ravel().\n",
            "  return self._fit(X, y)\n",
            "/usr/local/lib/python3.9/dist-packages/sklearn/neighbors/_classification.py:215: DataConversionWarning: A column-vector y was passed when a 1d array was expected. Please change the shape of y to (n_samples,), for example using ravel().\n",
            "  return self._fit(X, y)\n",
            "/usr/local/lib/python3.9/dist-packages/sklearn/neighbors/_classification.py:215: DataConversionWarning: A column-vector y was passed when a 1d array was expected. Please change the shape of y to (n_samples,), for example using ravel().\n",
            "  return self._fit(X, y)\n",
            "/usr/local/lib/python3.9/dist-packages/sklearn/neighbors/_classification.py:215: DataConversionWarning: A column-vector y was passed when a 1d array was expected. Please change the shape of y to (n_samples,), for example using ravel().\n",
            "  return self._fit(X, y)\n",
            "/usr/local/lib/python3.9/dist-packages/sklearn/neighbors/_classification.py:215: DataConversionWarning: A column-vector y was passed when a 1d array was expected. Please change the shape of y to (n_samples,), for example using ravel().\n",
            "  return self._fit(X, y)\n"
          ]
        },
        {
          "output_type": "stream",
          "name": "stdout",
          "text": [
            "[CV] END .........clf__metric=euclidean, clf__n_neighbors=46; total time=   0.0s\n",
            "[CV] END .........clf__metric=euclidean, clf__n_neighbors=46; total time=   0.0s\n",
            "[CV] END .........clf__metric=euclidean, clf__n_neighbors=46; total time=   0.0s\n",
            "[CV] END .........clf__metric=euclidean, clf__n_neighbors=46; total time=   0.0s\n",
            "[CV] END .........clf__metric=euclidean, clf__n_neighbors=46; total time=   0.0s\n",
            "[CV] END .........clf__metric=euclidean, clf__n_neighbors=47; total time=   0.0s\n",
            "[CV] END .........clf__metric=euclidean, clf__n_neighbors=47; total time=   0.0s\n",
            "[CV] END .........clf__metric=euclidean, clf__n_neighbors=47; total time=   0.0s\n",
            "[CV] END .........clf__metric=euclidean, clf__n_neighbors=47; total time=   0.0s\n"
          ]
        },
        {
          "output_type": "stream",
          "name": "stderr",
          "text": [
            "/usr/local/lib/python3.9/dist-packages/sklearn/neighbors/_classification.py:215: DataConversionWarning: A column-vector y was passed when a 1d array was expected. Please change the shape of y to (n_samples,), for example using ravel().\n",
            "  return self._fit(X, y)\n",
            "/usr/local/lib/python3.9/dist-packages/sklearn/neighbors/_classification.py:215: DataConversionWarning: A column-vector y was passed when a 1d array was expected. Please change the shape of y to (n_samples,), for example using ravel().\n",
            "  return self._fit(X, y)\n",
            "/usr/local/lib/python3.9/dist-packages/sklearn/neighbors/_classification.py:215: DataConversionWarning: A column-vector y was passed when a 1d array was expected. Please change the shape of y to (n_samples,), for example using ravel().\n",
            "  return self._fit(X, y)\n",
            "/usr/local/lib/python3.9/dist-packages/sklearn/neighbors/_classification.py:215: DataConversionWarning: A column-vector y was passed when a 1d array was expected. Please change the shape of y to (n_samples,), for example using ravel().\n",
            "  return self._fit(X, y)\n",
            "/usr/local/lib/python3.9/dist-packages/sklearn/neighbors/_classification.py:215: DataConversionWarning: A column-vector y was passed when a 1d array was expected. Please change the shape of y to (n_samples,), for example using ravel().\n",
            "  return self._fit(X, y)\n",
            "/usr/local/lib/python3.9/dist-packages/sklearn/neighbors/_classification.py:215: DataConversionWarning: A column-vector y was passed when a 1d array was expected. Please change the shape of y to (n_samples,), for example using ravel().\n",
            "  return self._fit(X, y)\n",
            "/usr/local/lib/python3.9/dist-packages/sklearn/neighbors/_classification.py:215: DataConversionWarning: A column-vector y was passed when a 1d array was expected. Please change the shape of y to (n_samples,), for example using ravel().\n",
            "  return self._fit(X, y)\n",
            "/usr/local/lib/python3.9/dist-packages/sklearn/neighbors/_classification.py:215: DataConversionWarning: A column-vector y was passed when a 1d array was expected. Please change the shape of y to (n_samples,), for example using ravel().\n",
            "  return self._fit(X, y)\n",
            "/usr/local/lib/python3.9/dist-packages/sklearn/neighbors/_classification.py:215: DataConversionWarning: A column-vector y was passed when a 1d array was expected. Please change the shape of y to (n_samples,), for example using ravel().\n",
            "  return self._fit(X, y)\n"
          ]
        },
        {
          "output_type": "stream",
          "name": "stdout",
          "text": [
            "[CV] END .........clf__metric=euclidean, clf__n_neighbors=47; total time=   0.0s\n",
            "[CV] END .........clf__metric=euclidean, clf__n_neighbors=48; total time=   0.0s\n",
            "[CV] END .........clf__metric=euclidean, clf__n_neighbors=48; total time=   0.0s\n",
            "[CV] END .........clf__metric=euclidean, clf__n_neighbors=48; total time=   0.0s\n",
            "[CV] END .........clf__metric=euclidean, clf__n_neighbors=48; total time=   0.0s\n",
            "[CV] END .........clf__metric=euclidean, clf__n_neighbors=48; total time=   0.0s\n",
            "[CV] END .........clf__metric=euclidean, clf__n_neighbors=49; total time=   0.0s\n",
            "[CV] END .........clf__metric=euclidean, clf__n_neighbors=49; total time=   0.0s\n",
            "[CV] END .........clf__metric=euclidean, clf__n_neighbors=49; total time=   0.0s\n"
          ]
        },
        {
          "output_type": "stream",
          "name": "stderr",
          "text": [
            "/usr/local/lib/python3.9/dist-packages/sklearn/neighbors/_classification.py:215: DataConversionWarning: A column-vector y was passed when a 1d array was expected. Please change the shape of y to (n_samples,), for example using ravel().\n",
            "  return self._fit(X, y)\n",
            "/usr/local/lib/python3.9/dist-packages/sklearn/neighbors/_classification.py:215: DataConversionWarning: A column-vector y was passed when a 1d array was expected. Please change the shape of y to (n_samples,), for example using ravel().\n",
            "  return self._fit(X, y)\n",
            "/usr/local/lib/python3.9/dist-packages/sklearn/neighbors/_classification.py:215: DataConversionWarning: A column-vector y was passed when a 1d array was expected. Please change the shape of y to (n_samples,), for example using ravel().\n",
            "  return self._fit(X, y)\n",
            "/usr/local/lib/python3.9/dist-packages/sklearn/neighbors/_classification.py:215: DataConversionWarning: A column-vector y was passed when a 1d array was expected. Please change the shape of y to (n_samples,), for example using ravel().\n",
            "  return self._fit(X, y)\n",
            "/usr/local/lib/python3.9/dist-packages/sklearn/neighbors/_classification.py:215: DataConversionWarning: A column-vector y was passed when a 1d array was expected. Please change the shape of y to (n_samples,), for example using ravel().\n",
            "  return self._fit(X, y)\n",
            "/usr/local/lib/python3.9/dist-packages/sklearn/neighbors/_classification.py:215: DataConversionWarning: A column-vector y was passed when a 1d array was expected. Please change the shape of y to (n_samples,), for example using ravel().\n",
            "  return self._fit(X, y)\n",
            "/usr/local/lib/python3.9/dist-packages/sklearn/neighbors/_classification.py:215: DataConversionWarning: A column-vector y was passed when a 1d array was expected. Please change the shape of y to (n_samples,), for example using ravel().\n",
            "  return self._fit(X, y)\n",
            "/usr/local/lib/python3.9/dist-packages/sklearn/neighbors/_classification.py:215: DataConversionWarning: A column-vector y was passed when a 1d array was expected. Please change the shape of y to (n_samples,), for example using ravel().\n",
            "  return self._fit(X, y)\n",
            "/usr/local/lib/python3.9/dist-packages/sklearn/neighbors/_classification.py:215: DataConversionWarning: A column-vector y was passed when a 1d array was expected. Please change the shape of y to (n_samples,), for example using ravel().\n",
            "  return self._fit(X, y)\n"
          ]
        },
        {
          "output_type": "stream",
          "name": "stdout",
          "text": [
            "[CV] END .........clf__metric=euclidean, clf__n_neighbors=49; total time=   0.0s\n",
            "[CV] END .........clf__metric=euclidean, clf__n_neighbors=49; total time=   0.0s\n",
            "[CV] END ..........clf__metric=manhattan, clf__n_neighbors=1; total time=   0.0s\n",
            "[CV] END ..........clf__metric=manhattan, clf__n_neighbors=1; total time=   0.0s\n",
            "[CV] END ..........clf__metric=manhattan, clf__n_neighbors=1; total time=   0.0s\n",
            "[CV] END ..........clf__metric=manhattan, clf__n_neighbors=1; total time=   0.0s\n",
            "[CV] END ..........clf__metric=manhattan, clf__n_neighbors=1; total time=   0.0s\n",
            "[CV] END ..........clf__metric=manhattan, clf__n_neighbors=2; total time=   0.0s\n",
            "[CV] END ..........clf__metric=manhattan, clf__n_neighbors=2; total time=   0.0s\n"
          ]
        },
        {
          "output_type": "stream",
          "name": "stderr",
          "text": [
            "/usr/local/lib/python3.9/dist-packages/sklearn/neighbors/_classification.py:215: DataConversionWarning: A column-vector y was passed when a 1d array was expected. Please change the shape of y to (n_samples,), for example using ravel().\n",
            "  return self._fit(X, y)\n",
            "/usr/local/lib/python3.9/dist-packages/sklearn/neighbors/_classification.py:215: DataConversionWarning: A column-vector y was passed when a 1d array was expected. Please change the shape of y to (n_samples,), for example using ravel().\n",
            "  return self._fit(X, y)\n",
            "/usr/local/lib/python3.9/dist-packages/sklearn/neighbors/_classification.py:215: DataConversionWarning: A column-vector y was passed when a 1d array was expected. Please change the shape of y to (n_samples,), for example using ravel().\n",
            "  return self._fit(X, y)\n",
            "/usr/local/lib/python3.9/dist-packages/sklearn/neighbors/_classification.py:215: DataConversionWarning: A column-vector y was passed when a 1d array was expected. Please change the shape of y to (n_samples,), for example using ravel().\n",
            "  return self._fit(X, y)\n",
            "/usr/local/lib/python3.9/dist-packages/sklearn/neighbors/_classification.py:215: DataConversionWarning: A column-vector y was passed when a 1d array was expected. Please change the shape of y to (n_samples,), for example using ravel().\n",
            "  return self._fit(X, y)\n",
            "/usr/local/lib/python3.9/dist-packages/sklearn/neighbors/_classification.py:215: DataConversionWarning: A column-vector y was passed when a 1d array was expected. Please change the shape of y to (n_samples,), for example using ravel().\n",
            "  return self._fit(X, y)\n",
            "/usr/local/lib/python3.9/dist-packages/sklearn/neighbors/_classification.py:215: DataConversionWarning: A column-vector y was passed when a 1d array was expected. Please change the shape of y to (n_samples,), for example using ravel().\n",
            "  return self._fit(X, y)\n",
            "/usr/local/lib/python3.9/dist-packages/sklearn/neighbors/_classification.py:215: DataConversionWarning: A column-vector y was passed when a 1d array was expected. Please change the shape of y to (n_samples,), for example using ravel().\n",
            "  return self._fit(X, y)\n",
            "/usr/local/lib/python3.9/dist-packages/sklearn/neighbors/_classification.py:215: DataConversionWarning: A column-vector y was passed when a 1d array was expected. Please change the shape of y to (n_samples,), for example using ravel().\n",
            "  return self._fit(X, y)\n"
          ]
        },
        {
          "output_type": "stream",
          "name": "stdout",
          "text": [
            "[CV] END ..........clf__metric=manhattan, clf__n_neighbors=2; total time=   0.0s\n",
            "[CV] END ..........clf__metric=manhattan, clf__n_neighbors=2; total time=   0.0s\n",
            "[CV] END ..........clf__metric=manhattan, clf__n_neighbors=2; total time=   0.0s\n",
            "[CV] END ..........clf__metric=manhattan, clf__n_neighbors=3; total time=   0.0s\n",
            "[CV] END ..........clf__metric=manhattan, clf__n_neighbors=3; total time=   0.0s\n",
            "[CV] END ..........clf__metric=manhattan, clf__n_neighbors=3; total time=   0.0s\n",
            "[CV] END ..........clf__metric=manhattan, clf__n_neighbors=3; total time=   0.0s\n",
            "[CV] END ..........clf__metric=manhattan, clf__n_neighbors=3; total time=   0.0s\n",
            "[CV] END ..........clf__metric=manhattan, clf__n_neighbors=4; total time=   0.0s\n"
          ]
        },
        {
          "output_type": "stream",
          "name": "stderr",
          "text": [
            "/usr/local/lib/python3.9/dist-packages/sklearn/neighbors/_classification.py:215: DataConversionWarning: A column-vector y was passed when a 1d array was expected. Please change the shape of y to (n_samples,), for example using ravel().\n",
            "  return self._fit(X, y)\n",
            "/usr/local/lib/python3.9/dist-packages/sklearn/neighbors/_classification.py:215: DataConversionWarning: A column-vector y was passed when a 1d array was expected. Please change the shape of y to (n_samples,), for example using ravel().\n",
            "  return self._fit(X, y)\n",
            "/usr/local/lib/python3.9/dist-packages/sklearn/neighbors/_classification.py:215: DataConversionWarning: A column-vector y was passed when a 1d array was expected. Please change the shape of y to (n_samples,), for example using ravel().\n",
            "  return self._fit(X, y)\n",
            "/usr/local/lib/python3.9/dist-packages/sklearn/neighbors/_classification.py:215: DataConversionWarning: A column-vector y was passed when a 1d array was expected. Please change the shape of y to (n_samples,), for example using ravel().\n",
            "  return self._fit(X, y)\n",
            "/usr/local/lib/python3.9/dist-packages/sklearn/neighbors/_classification.py:215: DataConversionWarning: A column-vector y was passed when a 1d array was expected. Please change the shape of y to (n_samples,), for example using ravel().\n",
            "  return self._fit(X, y)\n",
            "/usr/local/lib/python3.9/dist-packages/sklearn/neighbors/_classification.py:215: DataConversionWarning: A column-vector y was passed when a 1d array was expected. Please change the shape of y to (n_samples,), for example using ravel().\n",
            "  return self._fit(X, y)\n",
            "/usr/local/lib/python3.9/dist-packages/sklearn/neighbors/_classification.py:215: DataConversionWarning: A column-vector y was passed when a 1d array was expected. Please change the shape of y to (n_samples,), for example using ravel().\n",
            "  return self._fit(X, y)\n",
            "/usr/local/lib/python3.9/dist-packages/sklearn/neighbors/_classification.py:215: DataConversionWarning: A column-vector y was passed when a 1d array was expected. Please change the shape of y to (n_samples,), for example using ravel().\n",
            "  return self._fit(X, y)\n",
            "/usr/local/lib/python3.9/dist-packages/sklearn/neighbors/_classification.py:215: DataConversionWarning: A column-vector y was passed when a 1d array was expected. Please change the shape of y to (n_samples,), for example using ravel().\n",
            "  return self._fit(X, y)\n"
          ]
        },
        {
          "output_type": "stream",
          "name": "stdout",
          "text": [
            "[CV] END ..........clf__metric=manhattan, clf__n_neighbors=4; total time=   0.0s\n",
            "[CV] END ..........clf__metric=manhattan, clf__n_neighbors=4; total time=   0.0s\n",
            "[CV] END ..........clf__metric=manhattan, clf__n_neighbors=4; total time=   0.0s\n",
            "[CV] END ..........clf__metric=manhattan, clf__n_neighbors=4; total time=   0.0s\n",
            "[CV] END ..........clf__metric=manhattan, clf__n_neighbors=5; total time=   0.0s\n",
            "[CV] END ..........clf__metric=manhattan, clf__n_neighbors=5; total time=   0.0s\n",
            "[CV] END ..........clf__metric=manhattan, clf__n_neighbors=5; total time=   0.0s\n",
            "[CV] END ..........clf__metric=manhattan, clf__n_neighbors=5; total time=   0.0s\n",
            "[CV] END ..........clf__metric=manhattan, clf__n_neighbors=5; total time=   0.0s\n"
          ]
        },
        {
          "output_type": "stream",
          "name": "stderr",
          "text": [
            "/usr/local/lib/python3.9/dist-packages/sklearn/neighbors/_classification.py:215: DataConversionWarning: A column-vector y was passed when a 1d array was expected. Please change the shape of y to (n_samples,), for example using ravel().\n",
            "  return self._fit(X, y)\n",
            "/usr/local/lib/python3.9/dist-packages/sklearn/neighbors/_classification.py:215: DataConversionWarning: A column-vector y was passed when a 1d array was expected. Please change the shape of y to (n_samples,), for example using ravel().\n",
            "  return self._fit(X, y)\n",
            "/usr/local/lib/python3.9/dist-packages/sklearn/neighbors/_classification.py:215: DataConversionWarning: A column-vector y was passed when a 1d array was expected. Please change the shape of y to (n_samples,), for example using ravel().\n",
            "  return self._fit(X, y)\n",
            "/usr/local/lib/python3.9/dist-packages/sklearn/neighbors/_classification.py:215: DataConversionWarning: A column-vector y was passed when a 1d array was expected. Please change the shape of y to (n_samples,), for example using ravel().\n",
            "  return self._fit(X, y)\n",
            "/usr/local/lib/python3.9/dist-packages/sklearn/neighbors/_classification.py:215: DataConversionWarning: A column-vector y was passed when a 1d array was expected. Please change the shape of y to (n_samples,), for example using ravel().\n",
            "  return self._fit(X, y)\n",
            "/usr/local/lib/python3.9/dist-packages/sklearn/neighbors/_classification.py:215: DataConversionWarning: A column-vector y was passed when a 1d array was expected. Please change the shape of y to (n_samples,), for example using ravel().\n",
            "  return self._fit(X, y)\n",
            "/usr/local/lib/python3.9/dist-packages/sklearn/neighbors/_classification.py:215: DataConversionWarning: A column-vector y was passed when a 1d array was expected. Please change the shape of y to (n_samples,), for example using ravel().\n",
            "  return self._fit(X, y)\n",
            "/usr/local/lib/python3.9/dist-packages/sklearn/neighbors/_classification.py:215: DataConversionWarning: A column-vector y was passed when a 1d array was expected. Please change the shape of y to (n_samples,), for example using ravel().\n",
            "  return self._fit(X, y)\n"
          ]
        },
        {
          "output_type": "stream",
          "name": "stdout",
          "text": [
            "[CV] END ..........clf__metric=manhattan, clf__n_neighbors=6; total time=   0.0s\n",
            "[CV] END ..........clf__metric=manhattan, clf__n_neighbors=6; total time=   0.0s\n",
            "[CV] END ..........clf__metric=manhattan, clf__n_neighbors=6; total time=   0.0s\n",
            "[CV] END ..........clf__metric=manhattan, clf__n_neighbors=6; total time=   0.0s\n",
            "[CV] END ..........clf__metric=manhattan, clf__n_neighbors=6; total time=   0.0s\n",
            "[CV] END ..........clf__metric=manhattan, clf__n_neighbors=7; total time=   0.0s\n",
            "[CV] END ..........clf__metric=manhattan, clf__n_neighbors=7; total time=   0.0s\n",
            "[CV] END ..........clf__metric=manhattan, clf__n_neighbors=7; total time=   0.0s\n",
            "[CV] END ..........clf__metric=manhattan, clf__n_neighbors=7; total time=   0.0s\n"
          ]
        },
        {
          "output_type": "stream",
          "name": "stderr",
          "text": [
            "/usr/local/lib/python3.9/dist-packages/sklearn/neighbors/_classification.py:215: DataConversionWarning: A column-vector y was passed when a 1d array was expected. Please change the shape of y to (n_samples,), for example using ravel().\n",
            "  return self._fit(X, y)\n",
            "/usr/local/lib/python3.9/dist-packages/sklearn/neighbors/_classification.py:215: DataConversionWarning: A column-vector y was passed when a 1d array was expected. Please change the shape of y to (n_samples,), for example using ravel().\n",
            "  return self._fit(X, y)\n",
            "/usr/local/lib/python3.9/dist-packages/sklearn/neighbors/_classification.py:215: DataConversionWarning: A column-vector y was passed when a 1d array was expected. Please change the shape of y to (n_samples,), for example using ravel().\n",
            "  return self._fit(X, y)\n",
            "/usr/local/lib/python3.9/dist-packages/sklearn/neighbors/_classification.py:215: DataConversionWarning: A column-vector y was passed when a 1d array was expected. Please change the shape of y to (n_samples,), for example using ravel().\n",
            "  return self._fit(X, y)\n",
            "/usr/local/lib/python3.9/dist-packages/sklearn/neighbors/_classification.py:215: DataConversionWarning: A column-vector y was passed when a 1d array was expected. Please change the shape of y to (n_samples,), for example using ravel().\n",
            "  return self._fit(X, y)\n",
            "/usr/local/lib/python3.9/dist-packages/sklearn/neighbors/_classification.py:215: DataConversionWarning: A column-vector y was passed when a 1d array was expected. Please change the shape of y to (n_samples,), for example using ravel().\n",
            "  return self._fit(X, y)\n",
            "/usr/local/lib/python3.9/dist-packages/sklearn/neighbors/_classification.py:215: DataConversionWarning: A column-vector y was passed when a 1d array was expected. Please change the shape of y to (n_samples,), for example using ravel().\n",
            "  return self._fit(X, y)\n",
            "/usr/local/lib/python3.9/dist-packages/sklearn/neighbors/_classification.py:215: DataConversionWarning: A column-vector y was passed when a 1d array was expected. Please change the shape of y to (n_samples,), for example using ravel().\n",
            "  return self._fit(X, y)\n",
            "/usr/local/lib/python3.9/dist-packages/sklearn/neighbors/_classification.py:215: DataConversionWarning: A column-vector y was passed when a 1d array was expected. Please change the shape of y to (n_samples,), for example using ravel().\n",
            "  return self._fit(X, y)\n"
          ]
        },
        {
          "output_type": "stream",
          "name": "stdout",
          "text": [
            "[CV] END ..........clf__metric=manhattan, clf__n_neighbors=7; total time=   0.0s\n",
            "[CV] END ..........clf__metric=manhattan, clf__n_neighbors=8; total time=   0.0s\n",
            "[CV] END ..........clf__metric=manhattan, clf__n_neighbors=8; total time=   0.0s\n",
            "[CV] END ..........clf__metric=manhattan, clf__n_neighbors=8; total time=   0.0s\n",
            "[CV] END ..........clf__metric=manhattan, clf__n_neighbors=8; total time=   0.0s\n",
            "[CV] END ..........clf__metric=manhattan, clf__n_neighbors=8; total time=   0.0s\n",
            "[CV] END ..........clf__metric=manhattan, clf__n_neighbors=9; total time=   0.0s\n",
            "[CV] END ..........clf__metric=manhattan, clf__n_neighbors=9; total time=   0.0s\n",
            "[CV] END ..........clf__metric=manhattan, clf__n_neighbors=9; total time=   0.0s\n"
          ]
        },
        {
          "output_type": "stream",
          "name": "stderr",
          "text": [
            "/usr/local/lib/python3.9/dist-packages/sklearn/neighbors/_classification.py:215: DataConversionWarning: A column-vector y was passed when a 1d array was expected. Please change the shape of y to (n_samples,), for example using ravel().\n",
            "  return self._fit(X, y)\n",
            "/usr/local/lib/python3.9/dist-packages/sklearn/neighbors/_classification.py:215: DataConversionWarning: A column-vector y was passed when a 1d array was expected. Please change the shape of y to (n_samples,), for example using ravel().\n",
            "  return self._fit(X, y)\n",
            "/usr/local/lib/python3.9/dist-packages/sklearn/neighbors/_classification.py:215: DataConversionWarning: A column-vector y was passed when a 1d array was expected. Please change the shape of y to (n_samples,), for example using ravel().\n",
            "  return self._fit(X, y)\n",
            "/usr/local/lib/python3.9/dist-packages/sklearn/neighbors/_classification.py:215: DataConversionWarning: A column-vector y was passed when a 1d array was expected. Please change the shape of y to (n_samples,), for example using ravel().\n",
            "  return self._fit(X, y)\n",
            "/usr/local/lib/python3.9/dist-packages/sklearn/neighbors/_classification.py:215: DataConversionWarning: A column-vector y was passed when a 1d array was expected. Please change the shape of y to (n_samples,), for example using ravel().\n",
            "  return self._fit(X, y)\n",
            "/usr/local/lib/python3.9/dist-packages/sklearn/neighbors/_classification.py:215: DataConversionWarning: A column-vector y was passed when a 1d array was expected. Please change the shape of y to (n_samples,), for example using ravel().\n",
            "  return self._fit(X, y)\n",
            "/usr/local/lib/python3.9/dist-packages/sklearn/neighbors/_classification.py:215: DataConversionWarning: A column-vector y was passed when a 1d array was expected. Please change the shape of y to (n_samples,), for example using ravel().\n",
            "  return self._fit(X, y)\n",
            "/usr/local/lib/python3.9/dist-packages/sklearn/neighbors/_classification.py:215: DataConversionWarning: A column-vector y was passed when a 1d array was expected. Please change the shape of y to (n_samples,), for example using ravel().\n",
            "  return self._fit(X, y)\n",
            "/usr/local/lib/python3.9/dist-packages/sklearn/neighbors/_classification.py:215: DataConversionWarning: A column-vector y was passed when a 1d array was expected. Please change the shape of y to (n_samples,), for example using ravel().\n",
            "  return self._fit(X, y)\n"
          ]
        },
        {
          "output_type": "stream",
          "name": "stdout",
          "text": [
            "[CV] END ..........clf__metric=manhattan, clf__n_neighbors=9; total time=   0.0s\n",
            "[CV] END ..........clf__metric=manhattan, clf__n_neighbors=9; total time=   0.0s\n",
            "[CV] END .........clf__metric=manhattan, clf__n_neighbors=10; total time=   0.0s\n",
            "[CV] END .........clf__metric=manhattan, clf__n_neighbors=10; total time=   0.0s\n",
            "[CV] END .........clf__metric=manhattan, clf__n_neighbors=10; total time=   0.0s\n",
            "[CV] END .........clf__metric=manhattan, clf__n_neighbors=10; total time=   0.0s\n",
            "[CV] END .........clf__metric=manhattan, clf__n_neighbors=10; total time=   0.0s\n",
            "[CV] END .........clf__metric=manhattan, clf__n_neighbors=11; total time=   0.0s\n",
            "[CV] END .........clf__metric=manhattan, clf__n_neighbors=11; total time=   0.0s\n"
          ]
        },
        {
          "output_type": "stream",
          "name": "stderr",
          "text": [
            "/usr/local/lib/python3.9/dist-packages/sklearn/neighbors/_classification.py:215: DataConversionWarning: A column-vector y was passed when a 1d array was expected. Please change the shape of y to (n_samples,), for example using ravel().\n",
            "  return self._fit(X, y)\n",
            "/usr/local/lib/python3.9/dist-packages/sklearn/neighbors/_classification.py:215: DataConversionWarning: A column-vector y was passed when a 1d array was expected. Please change the shape of y to (n_samples,), for example using ravel().\n",
            "  return self._fit(X, y)\n",
            "/usr/local/lib/python3.9/dist-packages/sklearn/neighbors/_classification.py:215: DataConversionWarning: A column-vector y was passed when a 1d array was expected. Please change the shape of y to (n_samples,), for example using ravel().\n",
            "  return self._fit(X, y)\n",
            "/usr/local/lib/python3.9/dist-packages/sklearn/neighbors/_classification.py:215: DataConversionWarning: A column-vector y was passed when a 1d array was expected. Please change the shape of y to (n_samples,), for example using ravel().\n",
            "  return self._fit(X, y)\n",
            "/usr/local/lib/python3.9/dist-packages/sklearn/neighbors/_classification.py:215: DataConversionWarning: A column-vector y was passed when a 1d array was expected. Please change the shape of y to (n_samples,), for example using ravel().\n",
            "  return self._fit(X, y)\n",
            "/usr/local/lib/python3.9/dist-packages/sklearn/neighbors/_classification.py:215: DataConversionWarning: A column-vector y was passed when a 1d array was expected. Please change the shape of y to (n_samples,), for example using ravel().\n",
            "  return self._fit(X, y)\n",
            "/usr/local/lib/python3.9/dist-packages/sklearn/neighbors/_classification.py:215: DataConversionWarning: A column-vector y was passed when a 1d array was expected. Please change the shape of y to (n_samples,), for example using ravel().\n",
            "  return self._fit(X, y)\n",
            "/usr/local/lib/python3.9/dist-packages/sklearn/neighbors/_classification.py:215: DataConversionWarning: A column-vector y was passed when a 1d array was expected. Please change the shape of y to (n_samples,), for example using ravel().\n",
            "  return self._fit(X, y)\n",
            "/usr/local/lib/python3.9/dist-packages/sklearn/neighbors/_classification.py:215: DataConversionWarning: A column-vector y was passed when a 1d array was expected. Please change the shape of y to (n_samples,), for example using ravel().\n",
            "  return self._fit(X, y)\n"
          ]
        },
        {
          "output_type": "stream",
          "name": "stdout",
          "text": [
            "[CV] END .........clf__metric=manhattan, clf__n_neighbors=11; total time=   0.0s\n",
            "[CV] END .........clf__metric=manhattan, clf__n_neighbors=11; total time=   0.0s\n",
            "[CV] END .........clf__metric=manhattan, clf__n_neighbors=11; total time=   0.0s\n",
            "[CV] END .........clf__metric=manhattan, clf__n_neighbors=12; total time=   0.0s\n",
            "[CV] END .........clf__metric=manhattan, clf__n_neighbors=12; total time=   0.0s\n",
            "[CV] END .........clf__metric=manhattan, clf__n_neighbors=12; total time=   0.0s\n",
            "[CV] END .........clf__metric=manhattan, clf__n_neighbors=12; total time=   0.0s\n",
            "[CV] END .........clf__metric=manhattan, clf__n_neighbors=12; total time=   0.0s\n",
            "[CV] END .........clf__metric=manhattan, clf__n_neighbors=13; total time=   0.0s\n"
          ]
        },
        {
          "output_type": "stream",
          "name": "stderr",
          "text": [
            "/usr/local/lib/python3.9/dist-packages/sklearn/neighbors/_classification.py:215: DataConversionWarning: A column-vector y was passed when a 1d array was expected. Please change the shape of y to (n_samples,), for example using ravel().\n",
            "  return self._fit(X, y)\n",
            "/usr/local/lib/python3.9/dist-packages/sklearn/neighbors/_classification.py:215: DataConversionWarning: A column-vector y was passed when a 1d array was expected. Please change the shape of y to (n_samples,), for example using ravel().\n",
            "  return self._fit(X, y)\n",
            "/usr/local/lib/python3.9/dist-packages/sklearn/neighbors/_classification.py:215: DataConversionWarning: A column-vector y was passed when a 1d array was expected. Please change the shape of y to (n_samples,), for example using ravel().\n",
            "  return self._fit(X, y)\n",
            "/usr/local/lib/python3.9/dist-packages/sklearn/neighbors/_classification.py:215: DataConversionWarning: A column-vector y was passed when a 1d array was expected. Please change the shape of y to (n_samples,), for example using ravel().\n",
            "  return self._fit(X, y)\n",
            "/usr/local/lib/python3.9/dist-packages/sklearn/neighbors/_classification.py:215: DataConversionWarning: A column-vector y was passed when a 1d array was expected. Please change the shape of y to (n_samples,), for example using ravel().\n",
            "  return self._fit(X, y)\n",
            "/usr/local/lib/python3.9/dist-packages/sklearn/neighbors/_classification.py:215: DataConversionWarning: A column-vector y was passed when a 1d array was expected. Please change the shape of y to (n_samples,), for example using ravel().\n",
            "  return self._fit(X, y)\n",
            "/usr/local/lib/python3.9/dist-packages/sklearn/neighbors/_classification.py:215: DataConversionWarning: A column-vector y was passed when a 1d array was expected. Please change the shape of y to (n_samples,), for example using ravel().\n",
            "  return self._fit(X, y)\n",
            "/usr/local/lib/python3.9/dist-packages/sklearn/neighbors/_classification.py:215: DataConversionWarning: A column-vector y was passed when a 1d array was expected. Please change the shape of y to (n_samples,), for example using ravel().\n",
            "  return self._fit(X, y)\n",
            "/usr/local/lib/python3.9/dist-packages/sklearn/neighbors/_classification.py:215: DataConversionWarning: A column-vector y was passed when a 1d array was expected. Please change the shape of y to (n_samples,), for example using ravel().\n",
            "  return self._fit(X, y)\n"
          ]
        },
        {
          "output_type": "stream",
          "name": "stdout",
          "text": [
            "[CV] END .........clf__metric=manhattan, clf__n_neighbors=13; total time=   0.0s\n",
            "[CV] END .........clf__metric=manhattan, clf__n_neighbors=13; total time=   0.0s\n",
            "[CV] END .........clf__metric=manhattan, clf__n_neighbors=13; total time=   0.0s\n",
            "[CV] END .........clf__metric=manhattan, clf__n_neighbors=13; total time=   0.0s\n",
            "[CV] END .........clf__metric=manhattan, clf__n_neighbors=14; total time=   0.0s\n",
            "[CV] END .........clf__metric=manhattan, clf__n_neighbors=14; total time=   0.0s\n",
            "[CV] END .........clf__metric=manhattan, clf__n_neighbors=14; total time=   0.0s\n",
            "[CV] END .........clf__metric=manhattan, clf__n_neighbors=14; total time=   0.0s\n",
            "[CV] END .........clf__metric=manhattan, clf__n_neighbors=14; total time=   0.0s\n",
            "[CV] END .........clf__metric=manhattan, clf__n_neighbors=15; total time=   0.0s\n"
          ]
        },
        {
          "output_type": "stream",
          "name": "stderr",
          "text": [
            "/usr/local/lib/python3.9/dist-packages/sklearn/neighbors/_classification.py:215: DataConversionWarning: A column-vector y was passed when a 1d array was expected. Please change the shape of y to (n_samples,), for example using ravel().\n",
            "  return self._fit(X, y)\n",
            "/usr/local/lib/python3.9/dist-packages/sklearn/neighbors/_classification.py:215: DataConversionWarning: A column-vector y was passed when a 1d array was expected. Please change the shape of y to (n_samples,), for example using ravel().\n",
            "  return self._fit(X, y)\n",
            "/usr/local/lib/python3.9/dist-packages/sklearn/neighbors/_classification.py:215: DataConversionWarning: A column-vector y was passed when a 1d array was expected. Please change the shape of y to (n_samples,), for example using ravel().\n",
            "  return self._fit(X, y)\n",
            "/usr/local/lib/python3.9/dist-packages/sklearn/neighbors/_classification.py:215: DataConversionWarning: A column-vector y was passed when a 1d array was expected. Please change the shape of y to (n_samples,), for example using ravel().\n",
            "  return self._fit(X, y)\n",
            "/usr/local/lib/python3.9/dist-packages/sklearn/neighbors/_classification.py:215: DataConversionWarning: A column-vector y was passed when a 1d array was expected. Please change the shape of y to (n_samples,), for example using ravel().\n",
            "  return self._fit(X, y)\n",
            "/usr/local/lib/python3.9/dist-packages/sklearn/neighbors/_classification.py:215: DataConversionWarning: A column-vector y was passed when a 1d array was expected. Please change the shape of y to (n_samples,), for example using ravel().\n",
            "  return self._fit(X, y)\n",
            "/usr/local/lib/python3.9/dist-packages/sklearn/neighbors/_classification.py:215: DataConversionWarning: A column-vector y was passed when a 1d array was expected. Please change the shape of y to (n_samples,), for example using ravel().\n",
            "  return self._fit(X, y)\n",
            "/usr/local/lib/python3.9/dist-packages/sklearn/neighbors/_classification.py:215: DataConversionWarning: A column-vector y was passed when a 1d array was expected. Please change the shape of y to (n_samples,), for example using ravel().\n",
            "  return self._fit(X, y)\n",
            "/usr/local/lib/python3.9/dist-packages/sklearn/neighbors/_classification.py:215: DataConversionWarning: A column-vector y was passed when a 1d array was expected. Please change the shape of y to (n_samples,), for example using ravel().\n",
            "  return self._fit(X, y)\n",
            "/usr/local/lib/python3.9/dist-packages/sklearn/neighbors/_classification.py:215: DataConversionWarning: A column-vector y was passed when a 1d array was expected. Please change the shape of y to (n_samples,), for example using ravel().\n",
            "  return self._fit(X, y)\n"
          ]
        },
        {
          "output_type": "stream",
          "name": "stdout",
          "text": [
            "[CV] END .........clf__metric=manhattan, clf__n_neighbors=15; total time=   0.0s\n",
            "[CV] END .........clf__metric=manhattan, clf__n_neighbors=15; total time=   0.0s\n",
            "[CV] END .........clf__metric=manhattan, clf__n_neighbors=15; total time=   0.0s\n",
            "[CV] END .........clf__metric=manhattan, clf__n_neighbors=15; total time=   0.0s\n",
            "[CV] END .........clf__metric=manhattan, clf__n_neighbors=16; total time=   0.0s\n",
            "[CV] END .........clf__metric=manhattan, clf__n_neighbors=16; total time=   0.0s\n",
            "[CV] END .........clf__metric=manhattan, clf__n_neighbors=16; total time=   0.0s\n",
            "[CV] END .........clf__metric=manhattan, clf__n_neighbors=16; total time=   0.0s\n",
            "[CV] END .........clf__metric=manhattan, clf__n_neighbors=16; total time=   0.0s\n"
          ]
        },
        {
          "output_type": "stream",
          "name": "stderr",
          "text": [
            "/usr/local/lib/python3.9/dist-packages/sklearn/neighbors/_classification.py:215: DataConversionWarning: A column-vector y was passed when a 1d array was expected. Please change the shape of y to (n_samples,), for example using ravel().\n",
            "  return self._fit(X, y)\n",
            "/usr/local/lib/python3.9/dist-packages/sklearn/neighbors/_classification.py:215: DataConversionWarning: A column-vector y was passed when a 1d array was expected. Please change the shape of y to (n_samples,), for example using ravel().\n",
            "  return self._fit(X, y)\n",
            "/usr/local/lib/python3.9/dist-packages/sklearn/neighbors/_classification.py:215: DataConversionWarning: A column-vector y was passed when a 1d array was expected. Please change the shape of y to (n_samples,), for example using ravel().\n",
            "  return self._fit(X, y)\n",
            "/usr/local/lib/python3.9/dist-packages/sklearn/neighbors/_classification.py:215: DataConversionWarning: A column-vector y was passed when a 1d array was expected. Please change the shape of y to (n_samples,), for example using ravel().\n",
            "  return self._fit(X, y)\n",
            "/usr/local/lib/python3.9/dist-packages/sklearn/neighbors/_classification.py:215: DataConversionWarning: A column-vector y was passed when a 1d array was expected. Please change the shape of y to (n_samples,), for example using ravel().\n",
            "  return self._fit(X, y)\n",
            "/usr/local/lib/python3.9/dist-packages/sklearn/neighbors/_classification.py:215: DataConversionWarning: A column-vector y was passed when a 1d array was expected. Please change the shape of y to (n_samples,), for example using ravel().\n",
            "  return self._fit(X, y)\n",
            "/usr/local/lib/python3.9/dist-packages/sklearn/neighbors/_classification.py:215: DataConversionWarning: A column-vector y was passed when a 1d array was expected. Please change the shape of y to (n_samples,), for example using ravel().\n",
            "  return self._fit(X, y)\n",
            "/usr/local/lib/python3.9/dist-packages/sklearn/neighbors/_classification.py:215: DataConversionWarning: A column-vector y was passed when a 1d array was expected. Please change the shape of y to (n_samples,), for example using ravel().\n",
            "  return self._fit(X, y)\n",
            "/usr/local/lib/python3.9/dist-packages/sklearn/neighbors/_classification.py:215: DataConversionWarning: A column-vector y was passed when a 1d array was expected. Please change the shape of y to (n_samples,), for example using ravel().\n",
            "  return self._fit(X, y)\n"
          ]
        },
        {
          "output_type": "stream",
          "name": "stdout",
          "text": [
            "[CV] END .........clf__metric=manhattan, clf__n_neighbors=17; total time=   0.0s\n",
            "[CV] END .........clf__metric=manhattan, clf__n_neighbors=17; total time=   0.0s\n",
            "[CV] END .........clf__metric=manhattan, clf__n_neighbors=17; total time=   0.0s\n",
            "[CV] END .........clf__metric=manhattan, clf__n_neighbors=17; total time=   0.0s\n",
            "[CV] END .........clf__metric=manhattan, clf__n_neighbors=17; total time=   0.0s\n",
            "[CV] END .........clf__metric=manhattan, clf__n_neighbors=18; total time=   0.0s\n",
            "[CV] END .........clf__metric=manhattan, clf__n_neighbors=18; total time=   0.0s\n",
            "[CV] END .........clf__metric=manhattan, clf__n_neighbors=18; total time=   0.0s\n",
            "[CV] END .........clf__metric=manhattan, clf__n_neighbors=18; total time=   0.0s\n"
          ]
        },
        {
          "output_type": "stream",
          "name": "stderr",
          "text": [
            "/usr/local/lib/python3.9/dist-packages/sklearn/neighbors/_classification.py:215: DataConversionWarning: A column-vector y was passed when a 1d array was expected. Please change the shape of y to (n_samples,), for example using ravel().\n",
            "  return self._fit(X, y)\n",
            "/usr/local/lib/python3.9/dist-packages/sklearn/neighbors/_classification.py:215: DataConversionWarning: A column-vector y was passed when a 1d array was expected. Please change the shape of y to (n_samples,), for example using ravel().\n",
            "  return self._fit(X, y)\n",
            "/usr/local/lib/python3.9/dist-packages/sklearn/neighbors/_classification.py:215: DataConversionWarning: A column-vector y was passed when a 1d array was expected. Please change the shape of y to (n_samples,), for example using ravel().\n",
            "  return self._fit(X, y)\n",
            "/usr/local/lib/python3.9/dist-packages/sklearn/neighbors/_classification.py:215: DataConversionWarning: A column-vector y was passed when a 1d array was expected. Please change the shape of y to (n_samples,), for example using ravel().\n",
            "  return self._fit(X, y)\n",
            "/usr/local/lib/python3.9/dist-packages/sklearn/neighbors/_classification.py:215: DataConversionWarning: A column-vector y was passed when a 1d array was expected. Please change the shape of y to (n_samples,), for example using ravel().\n",
            "  return self._fit(X, y)\n",
            "/usr/local/lib/python3.9/dist-packages/sklearn/neighbors/_classification.py:215: DataConversionWarning: A column-vector y was passed when a 1d array was expected. Please change the shape of y to (n_samples,), for example using ravel().\n",
            "  return self._fit(X, y)\n",
            "/usr/local/lib/python3.9/dist-packages/sklearn/neighbors/_classification.py:215: DataConversionWarning: A column-vector y was passed when a 1d array was expected. Please change the shape of y to (n_samples,), for example using ravel().\n",
            "  return self._fit(X, y)\n",
            "/usr/local/lib/python3.9/dist-packages/sklearn/neighbors/_classification.py:215: DataConversionWarning: A column-vector y was passed when a 1d array was expected. Please change the shape of y to (n_samples,), for example using ravel().\n",
            "  return self._fit(X, y)\n",
            "/usr/local/lib/python3.9/dist-packages/sklearn/neighbors/_classification.py:215: DataConversionWarning: A column-vector y was passed when a 1d array was expected. Please change the shape of y to (n_samples,), for example using ravel().\n",
            "  return self._fit(X, y)\n"
          ]
        },
        {
          "output_type": "stream",
          "name": "stdout",
          "text": [
            "[CV] END .........clf__metric=manhattan, clf__n_neighbors=18; total time=   0.0s\n",
            "[CV] END .........clf__metric=manhattan, clf__n_neighbors=19; total time=   0.0s\n",
            "[CV] END .........clf__metric=manhattan, clf__n_neighbors=19; total time=   0.0s\n",
            "[CV] END .........clf__metric=manhattan, clf__n_neighbors=19; total time=   0.0s\n",
            "[CV] END .........clf__metric=manhattan, clf__n_neighbors=19; total time=   0.0s\n",
            "[CV] END .........clf__metric=manhattan, clf__n_neighbors=19; total time=   0.0s\n",
            "[CV] END .........clf__metric=manhattan, clf__n_neighbors=20; total time=   0.0s\n",
            "[CV] END .........clf__metric=manhattan, clf__n_neighbors=20; total time=   0.0s\n",
            "[CV] END .........clf__metric=manhattan, clf__n_neighbors=20; total time=   0.0s\n"
          ]
        },
        {
          "output_type": "stream",
          "name": "stderr",
          "text": [
            "/usr/local/lib/python3.9/dist-packages/sklearn/neighbors/_classification.py:215: DataConversionWarning: A column-vector y was passed when a 1d array was expected. Please change the shape of y to (n_samples,), for example using ravel().\n",
            "  return self._fit(X, y)\n",
            "/usr/local/lib/python3.9/dist-packages/sklearn/neighbors/_classification.py:215: DataConversionWarning: A column-vector y was passed when a 1d array was expected. Please change the shape of y to (n_samples,), for example using ravel().\n",
            "  return self._fit(X, y)\n",
            "/usr/local/lib/python3.9/dist-packages/sklearn/neighbors/_classification.py:215: DataConversionWarning: A column-vector y was passed when a 1d array was expected. Please change the shape of y to (n_samples,), for example using ravel().\n",
            "  return self._fit(X, y)\n",
            "/usr/local/lib/python3.9/dist-packages/sklearn/neighbors/_classification.py:215: DataConversionWarning: A column-vector y was passed when a 1d array was expected. Please change the shape of y to (n_samples,), for example using ravel().\n",
            "  return self._fit(X, y)\n",
            "/usr/local/lib/python3.9/dist-packages/sklearn/neighbors/_classification.py:215: DataConversionWarning: A column-vector y was passed when a 1d array was expected. Please change the shape of y to (n_samples,), for example using ravel().\n",
            "  return self._fit(X, y)\n",
            "/usr/local/lib/python3.9/dist-packages/sklearn/neighbors/_classification.py:215: DataConversionWarning: A column-vector y was passed when a 1d array was expected. Please change the shape of y to (n_samples,), for example using ravel().\n",
            "  return self._fit(X, y)\n",
            "/usr/local/lib/python3.9/dist-packages/sklearn/neighbors/_classification.py:215: DataConversionWarning: A column-vector y was passed when a 1d array was expected. Please change the shape of y to (n_samples,), for example using ravel().\n",
            "  return self._fit(X, y)\n",
            "/usr/local/lib/python3.9/dist-packages/sklearn/neighbors/_classification.py:215: DataConversionWarning: A column-vector y was passed when a 1d array was expected. Please change the shape of y to (n_samples,), for example using ravel().\n",
            "  return self._fit(X, y)\n",
            "/usr/local/lib/python3.9/dist-packages/sklearn/neighbors/_classification.py:215: DataConversionWarning: A column-vector y was passed when a 1d array was expected. Please change the shape of y to (n_samples,), for example using ravel().\n",
            "  return self._fit(X, y)\n"
          ]
        },
        {
          "output_type": "stream",
          "name": "stdout",
          "text": [
            "[CV] END .........clf__metric=manhattan, clf__n_neighbors=20; total time=   0.0s\n",
            "[CV] END .........clf__metric=manhattan, clf__n_neighbors=20; total time=   0.0s\n",
            "[CV] END .........clf__metric=manhattan, clf__n_neighbors=21; total time=   0.0s\n",
            "[CV] END .........clf__metric=manhattan, clf__n_neighbors=21; total time=   0.0s\n",
            "[CV] END .........clf__metric=manhattan, clf__n_neighbors=21; total time=   0.0s\n",
            "[CV] END .........clf__metric=manhattan, clf__n_neighbors=21; total time=   0.0s\n",
            "[CV] END .........clf__metric=manhattan, clf__n_neighbors=21; total time=   0.0s\n",
            "[CV] END .........clf__metric=manhattan, clf__n_neighbors=22; total time=   0.0s\n",
            "[CV] END .........clf__metric=manhattan, clf__n_neighbors=22; total time=   0.0s\n"
          ]
        },
        {
          "output_type": "stream",
          "name": "stderr",
          "text": [
            "/usr/local/lib/python3.9/dist-packages/sklearn/neighbors/_classification.py:215: DataConversionWarning: A column-vector y was passed when a 1d array was expected. Please change the shape of y to (n_samples,), for example using ravel().\n",
            "  return self._fit(X, y)\n",
            "/usr/local/lib/python3.9/dist-packages/sklearn/neighbors/_classification.py:215: DataConversionWarning: A column-vector y was passed when a 1d array was expected. Please change the shape of y to (n_samples,), for example using ravel().\n",
            "  return self._fit(X, y)\n",
            "/usr/local/lib/python3.9/dist-packages/sklearn/neighbors/_classification.py:215: DataConversionWarning: A column-vector y was passed when a 1d array was expected. Please change the shape of y to (n_samples,), for example using ravel().\n",
            "  return self._fit(X, y)\n",
            "/usr/local/lib/python3.9/dist-packages/sklearn/neighbors/_classification.py:215: DataConversionWarning: A column-vector y was passed when a 1d array was expected. Please change the shape of y to (n_samples,), for example using ravel().\n",
            "  return self._fit(X, y)\n",
            "/usr/local/lib/python3.9/dist-packages/sklearn/neighbors/_classification.py:215: DataConversionWarning: A column-vector y was passed when a 1d array was expected. Please change the shape of y to (n_samples,), for example using ravel().\n",
            "  return self._fit(X, y)\n",
            "/usr/local/lib/python3.9/dist-packages/sklearn/neighbors/_classification.py:215: DataConversionWarning: A column-vector y was passed when a 1d array was expected. Please change the shape of y to (n_samples,), for example using ravel().\n",
            "  return self._fit(X, y)\n",
            "/usr/local/lib/python3.9/dist-packages/sklearn/neighbors/_classification.py:215: DataConversionWarning: A column-vector y was passed when a 1d array was expected. Please change the shape of y to (n_samples,), for example using ravel().\n",
            "  return self._fit(X, y)\n",
            "/usr/local/lib/python3.9/dist-packages/sklearn/neighbors/_classification.py:215: DataConversionWarning: A column-vector y was passed when a 1d array was expected. Please change the shape of y to (n_samples,), for example using ravel().\n",
            "  return self._fit(X, y)\n",
            "/usr/local/lib/python3.9/dist-packages/sklearn/neighbors/_classification.py:215: DataConversionWarning: A column-vector y was passed when a 1d array was expected. Please change the shape of y to (n_samples,), for example using ravel().\n",
            "  return self._fit(X, y)\n"
          ]
        },
        {
          "output_type": "stream",
          "name": "stdout",
          "text": [
            "[CV] END .........clf__metric=manhattan, clf__n_neighbors=22; total time=   0.0s\n",
            "[CV] END .........clf__metric=manhattan, clf__n_neighbors=22; total time=   0.0s\n",
            "[CV] END .........clf__metric=manhattan, clf__n_neighbors=22; total time=   0.0s\n",
            "[CV] END .........clf__metric=manhattan, clf__n_neighbors=23; total time=   0.0s\n",
            "[CV] END .........clf__metric=manhattan, clf__n_neighbors=23; total time=   0.0s\n",
            "[CV] END .........clf__metric=manhattan, clf__n_neighbors=23; total time=   0.0s\n",
            "[CV] END .........clf__metric=manhattan, clf__n_neighbors=23; total time=   0.0s\n",
            "[CV] END .........clf__metric=manhattan, clf__n_neighbors=23; total time=   0.0s\n",
            "[CV] END .........clf__metric=manhattan, clf__n_neighbors=24; total time=   0.0s\n",
            "[CV] END .........clf__metric=manhattan, clf__n_neighbors=24; total time=   0.0s\n"
          ]
        },
        {
          "output_type": "stream",
          "name": "stderr",
          "text": [
            "/usr/local/lib/python3.9/dist-packages/sklearn/neighbors/_classification.py:215: DataConversionWarning: A column-vector y was passed when a 1d array was expected. Please change the shape of y to (n_samples,), for example using ravel().\n",
            "  return self._fit(X, y)\n",
            "/usr/local/lib/python3.9/dist-packages/sklearn/neighbors/_classification.py:215: DataConversionWarning: A column-vector y was passed when a 1d array was expected. Please change the shape of y to (n_samples,), for example using ravel().\n",
            "  return self._fit(X, y)\n",
            "/usr/local/lib/python3.9/dist-packages/sklearn/neighbors/_classification.py:215: DataConversionWarning: A column-vector y was passed when a 1d array was expected. Please change the shape of y to (n_samples,), for example using ravel().\n",
            "  return self._fit(X, y)\n",
            "/usr/local/lib/python3.9/dist-packages/sklearn/neighbors/_classification.py:215: DataConversionWarning: A column-vector y was passed when a 1d array was expected. Please change the shape of y to (n_samples,), for example using ravel().\n",
            "  return self._fit(X, y)\n",
            "/usr/local/lib/python3.9/dist-packages/sklearn/neighbors/_classification.py:215: DataConversionWarning: A column-vector y was passed when a 1d array was expected. Please change the shape of y to (n_samples,), for example using ravel().\n",
            "  return self._fit(X, y)\n",
            "/usr/local/lib/python3.9/dist-packages/sklearn/neighbors/_classification.py:215: DataConversionWarning: A column-vector y was passed when a 1d array was expected. Please change the shape of y to (n_samples,), for example using ravel().\n",
            "  return self._fit(X, y)\n",
            "/usr/local/lib/python3.9/dist-packages/sklearn/neighbors/_classification.py:215: DataConversionWarning: A column-vector y was passed when a 1d array was expected. Please change the shape of y to (n_samples,), for example using ravel().\n",
            "  return self._fit(X, y)\n",
            "/usr/local/lib/python3.9/dist-packages/sklearn/neighbors/_classification.py:215: DataConversionWarning: A column-vector y was passed when a 1d array was expected. Please change the shape of y to (n_samples,), for example using ravel().\n",
            "  return self._fit(X, y)\n",
            "/usr/local/lib/python3.9/dist-packages/sklearn/neighbors/_classification.py:215: DataConversionWarning: A column-vector y was passed when a 1d array was expected. Please change the shape of y to (n_samples,), for example using ravel().\n",
            "  return self._fit(X, y)\n",
            "/usr/local/lib/python3.9/dist-packages/sklearn/neighbors/_classification.py:215: DataConversionWarning: A column-vector y was passed when a 1d array was expected. Please change the shape of y to (n_samples,), for example using ravel().\n",
            "  return self._fit(X, y)\n"
          ]
        },
        {
          "output_type": "stream",
          "name": "stdout",
          "text": [
            "[CV] END .........clf__metric=manhattan, clf__n_neighbors=24; total time=   0.0s\n",
            "[CV] END .........clf__metric=manhattan, clf__n_neighbors=24; total time=   0.0s\n",
            "[CV] END .........clf__metric=manhattan, clf__n_neighbors=24; total time=   0.0s\n",
            "[CV] END .........clf__metric=manhattan, clf__n_neighbors=25; total time=   0.0s\n",
            "[CV] END .........clf__metric=manhattan, clf__n_neighbors=25; total time=   0.0s\n",
            "[CV] END .........clf__metric=manhattan, clf__n_neighbors=25; total time=   0.0s\n",
            "[CV] END .........clf__metric=manhattan, clf__n_neighbors=25; total time=   0.0s\n",
            "[CV] END .........clf__metric=manhattan, clf__n_neighbors=25; total time=   0.0s\n",
            "[CV] END .........clf__metric=manhattan, clf__n_neighbors=26; total time=   0.0s\n"
          ]
        },
        {
          "output_type": "stream",
          "name": "stderr",
          "text": [
            "/usr/local/lib/python3.9/dist-packages/sklearn/neighbors/_classification.py:215: DataConversionWarning: A column-vector y was passed when a 1d array was expected. Please change the shape of y to (n_samples,), for example using ravel().\n",
            "  return self._fit(X, y)\n",
            "/usr/local/lib/python3.9/dist-packages/sklearn/neighbors/_classification.py:215: DataConversionWarning: A column-vector y was passed when a 1d array was expected. Please change the shape of y to (n_samples,), for example using ravel().\n",
            "  return self._fit(X, y)\n",
            "/usr/local/lib/python3.9/dist-packages/sklearn/neighbors/_classification.py:215: DataConversionWarning: A column-vector y was passed when a 1d array was expected. Please change the shape of y to (n_samples,), for example using ravel().\n",
            "  return self._fit(X, y)\n",
            "/usr/local/lib/python3.9/dist-packages/sklearn/neighbors/_classification.py:215: DataConversionWarning: A column-vector y was passed when a 1d array was expected. Please change the shape of y to (n_samples,), for example using ravel().\n",
            "  return self._fit(X, y)\n",
            "/usr/local/lib/python3.9/dist-packages/sklearn/neighbors/_classification.py:215: DataConversionWarning: A column-vector y was passed when a 1d array was expected. Please change the shape of y to (n_samples,), for example using ravel().\n",
            "  return self._fit(X, y)\n",
            "/usr/local/lib/python3.9/dist-packages/sklearn/neighbors/_classification.py:215: DataConversionWarning: A column-vector y was passed when a 1d array was expected. Please change the shape of y to (n_samples,), for example using ravel().\n",
            "  return self._fit(X, y)\n",
            "/usr/local/lib/python3.9/dist-packages/sklearn/neighbors/_classification.py:215: DataConversionWarning: A column-vector y was passed when a 1d array was expected. Please change the shape of y to (n_samples,), for example using ravel().\n",
            "  return self._fit(X, y)\n",
            "/usr/local/lib/python3.9/dist-packages/sklearn/neighbors/_classification.py:215: DataConversionWarning: A column-vector y was passed when a 1d array was expected. Please change the shape of y to (n_samples,), for example using ravel().\n",
            "  return self._fit(X, y)\n",
            "/usr/local/lib/python3.9/dist-packages/sklearn/neighbors/_classification.py:215: DataConversionWarning: A column-vector y was passed when a 1d array was expected. Please change the shape of y to (n_samples,), for example using ravel().\n",
            "  return self._fit(X, y)\n"
          ]
        },
        {
          "output_type": "stream",
          "name": "stdout",
          "text": [
            "[CV] END .........clf__metric=manhattan, clf__n_neighbors=26; total time=   0.0s\n",
            "[CV] END .........clf__metric=manhattan, clf__n_neighbors=26; total time=   0.0s\n",
            "[CV] END .........clf__metric=manhattan, clf__n_neighbors=26; total time=   0.0s\n",
            "[CV] END .........clf__metric=manhattan, clf__n_neighbors=26; total time=   0.0s\n",
            "[CV] END .........clf__metric=manhattan, clf__n_neighbors=27; total time=   0.0s\n",
            "[CV] END .........clf__metric=manhattan, clf__n_neighbors=27; total time=   0.0s\n",
            "[CV] END .........clf__metric=manhattan, clf__n_neighbors=27; total time=   0.0s\n",
            "[CV] END .........clf__metric=manhattan, clf__n_neighbors=27; total time=   0.0s\n",
            "[CV] END .........clf__metric=manhattan, clf__n_neighbors=27; total time=   0.0s\n"
          ]
        },
        {
          "output_type": "stream",
          "name": "stderr",
          "text": [
            "/usr/local/lib/python3.9/dist-packages/sklearn/neighbors/_classification.py:215: DataConversionWarning: A column-vector y was passed when a 1d array was expected. Please change the shape of y to (n_samples,), for example using ravel().\n",
            "  return self._fit(X, y)\n",
            "/usr/local/lib/python3.9/dist-packages/sklearn/neighbors/_classification.py:215: DataConversionWarning: A column-vector y was passed when a 1d array was expected. Please change the shape of y to (n_samples,), for example using ravel().\n",
            "  return self._fit(X, y)\n",
            "/usr/local/lib/python3.9/dist-packages/sklearn/neighbors/_classification.py:215: DataConversionWarning: A column-vector y was passed when a 1d array was expected. Please change the shape of y to (n_samples,), for example using ravel().\n",
            "  return self._fit(X, y)\n",
            "/usr/local/lib/python3.9/dist-packages/sklearn/neighbors/_classification.py:215: DataConversionWarning: A column-vector y was passed when a 1d array was expected. Please change the shape of y to (n_samples,), for example using ravel().\n",
            "  return self._fit(X, y)\n",
            "/usr/local/lib/python3.9/dist-packages/sklearn/neighbors/_classification.py:215: DataConversionWarning: A column-vector y was passed when a 1d array was expected. Please change the shape of y to (n_samples,), for example using ravel().\n",
            "  return self._fit(X, y)\n",
            "/usr/local/lib/python3.9/dist-packages/sklearn/neighbors/_classification.py:215: DataConversionWarning: A column-vector y was passed when a 1d array was expected. Please change the shape of y to (n_samples,), for example using ravel().\n",
            "  return self._fit(X, y)\n",
            "/usr/local/lib/python3.9/dist-packages/sklearn/neighbors/_classification.py:215: DataConversionWarning: A column-vector y was passed when a 1d array was expected. Please change the shape of y to (n_samples,), for example using ravel().\n",
            "  return self._fit(X, y)\n",
            "/usr/local/lib/python3.9/dist-packages/sklearn/neighbors/_classification.py:215: DataConversionWarning: A column-vector y was passed when a 1d array was expected. Please change the shape of y to (n_samples,), for example using ravel().\n",
            "  return self._fit(X, y)\n",
            "/usr/local/lib/python3.9/dist-packages/sklearn/neighbors/_classification.py:215: DataConversionWarning: A column-vector y was passed when a 1d array was expected. Please change the shape of y to (n_samples,), for example using ravel().\n",
            "  return self._fit(X, y)\n"
          ]
        },
        {
          "output_type": "stream",
          "name": "stdout",
          "text": [
            "[CV] END .........clf__metric=manhattan, clf__n_neighbors=28; total time=   0.0s\n",
            "[CV] END .........clf__metric=manhattan, clf__n_neighbors=28; total time=   0.0s\n",
            "[CV] END .........clf__metric=manhattan, clf__n_neighbors=28; total time=   0.0s\n",
            "[CV] END .........clf__metric=manhattan, clf__n_neighbors=28; total time=   0.0s\n",
            "[CV] END .........clf__metric=manhattan, clf__n_neighbors=28; total time=   0.0s\n",
            "[CV] END .........clf__metric=manhattan, clf__n_neighbors=29; total time=   0.0s\n",
            "[CV] END .........clf__metric=manhattan, clf__n_neighbors=29; total time=   0.0s\n",
            "[CV] END .........clf__metric=manhattan, clf__n_neighbors=29; total time=   0.0s\n",
            "[CV] END .........clf__metric=manhattan, clf__n_neighbors=29; total time=   0.0s\n"
          ]
        },
        {
          "output_type": "stream",
          "name": "stderr",
          "text": [
            "/usr/local/lib/python3.9/dist-packages/sklearn/neighbors/_classification.py:215: DataConversionWarning: A column-vector y was passed when a 1d array was expected. Please change the shape of y to (n_samples,), for example using ravel().\n",
            "  return self._fit(X, y)\n",
            "/usr/local/lib/python3.9/dist-packages/sklearn/neighbors/_classification.py:215: DataConversionWarning: A column-vector y was passed when a 1d array was expected. Please change the shape of y to (n_samples,), for example using ravel().\n",
            "  return self._fit(X, y)\n",
            "/usr/local/lib/python3.9/dist-packages/sklearn/neighbors/_classification.py:215: DataConversionWarning: A column-vector y was passed when a 1d array was expected. Please change the shape of y to (n_samples,), for example using ravel().\n",
            "  return self._fit(X, y)\n",
            "/usr/local/lib/python3.9/dist-packages/sklearn/neighbors/_classification.py:215: DataConversionWarning: A column-vector y was passed when a 1d array was expected. Please change the shape of y to (n_samples,), for example using ravel().\n",
            "  return self._fit(X, y)\n",
            "/usr/local/lib/python3.9/dist-packages/sklearn/neighbors/_classification.py:215: DataConversionWarning: A column-vector y was passed when a 1d array was expected. Please change the shape of y to (n_samples,), for example using ravel().\n",
            "  return self._fit(X, y)\n",
            "/usr/local/lib/python3.9/dist-packages/sklearn/neighbors/_classification.py:215: DataConversionWarning: A column-vector y was passed when a 1d array was expected. Please change the shape of y to (n_samples,), for example using ravel().\n",
            "  return self._fit(X, y)\n",
            "/usr/local/lib/python3.9/dist-packages/sklearn/neighbors/_classification.py:215: DataConversionWarning: A column-vector y was passed when a 1d array was expected. Please change the shape of y to (n_samples,), for example using ravel().\n",
            "  return self._fit(X, y)\n",
            "/usr/local/lib/python3.9/dist-packages/sklearn/neighbors/_classification.py:215: DataConversionWarning: A column-vector y was passed when a 1d array was expected. Please change the shape of y to (n_samples,), for example using ravel().\n",
            "  return self._fit(X, y)\n",
            "/usr/local/lib/python3.9/dist-packages/sklearn/neighbors/_classification.py:215: DataConversionWarning: A column-vector y was passed when a 1d array was expected. Please change the shape of y to (n_samples,), for example using ravel().\n",
            "  return self._fit(X, y)\n"
          ]
        },
        {
          "output_type": "stream",
          "name": "stdout",
          "text": [
            "[CV] END .........clf__metric=manhattan, clf__n_neighbors=29; total time=   0.0s\n",
            "[CV] END .........clf__metric=manhattan, clf__n_neighbors=30; total time=   0.0s\n",
            "[CV] END .........clf__metric=manhattan, clf__n_neighbors=30; total time=   0.0s\n",
            "[CV] END .........clf__metric=manhattan, clf__n_neighbors=30; total time=   0.0s\n",
            "[CV] END .........clf__metric=manhattan, clf__n_neighbors=30; total time=   0.0s\n",
            "[CV] END .........clf__metric=manhattan, clf__n_neighbors=30; total time=   0.0s\n",
            "[CV] END .........clf__metric=manhattan, clf__n_neighbors=31; total time=   0.0s\n",
            "[CV] END .........clf__metric=manhattan, clf__n_neighbors=31; total time=   0.0s\n"
          ]
        },
        {
          "output_type": "stream",
          "name": "stderr",
          "text": [
            "/usr/local/lib/python3.9/dist-packages/sklearn/neighbors/_classification.py:215: DataConversionWarning: A column-vector y was passed when a 1d array was expected. Please change the shape of y to (n_samples,), for example using ravel().\n",
            "  return self._fit(X, y)\n",
            "/usr/local/lib/python3.9/dist-packages/sklearn/neighbors/_classification.py:215: DataConversionWarning: A column-vector y was passed when a 1d array was expected. Please change the shape of y to (n_samples,), for example using ravel().\n",
            "  return self._fit(X, y)\n",
            "/usr/local/lib/python3.9/dist-packages/sklearn/neighbors/_classification.py:215: DataConversionWarning: A column-vector y was passed when a 1d array was expected. Please change the shape of y to (n_samples,), for example using ravel().\n",
            "  return self._fit(X, y)\n",
            "/usr/local/lib/python3.9/dist-packages/sklearn/neighbors/_classification.py:215: DataConversionWarning: A column-vector y was passed when a 1d array was expected. Please change the shape of y to (n_samples,), for example using ravel().\n",
            "  return self._fit(X, y)\n",
            "/usr/local/lib/python3.9/dist-packages/sklearn/neighbors/_classification.py:215: DataConversionWarning: A column-vector y was passed when a 1d array was expected. Please change the shape of y to (n_samples,), for example using ravel().\n",
            "  return self._fit(X, y)\n",
            "/usr/local/lib/python3.9/dist-packages/sklearn/neighbors/_classification.py:215: DataConversionWarning: A column-vector y was passed when a 1d array was expected. Please change the shape of y to (n_samples,), for example using ravel().\n",
            "  return self._fit(X, y)\n",
            "/usr/local/lib/python3.9/dist-packages/sklearn/neighbors/_classification.py:215: DataConversionWarning: A column-vector y was passed when a 1d array was expected. Please change the shape of y to (n_samples,), for example using ravel().\n",
            "  return self._fit(X, y)\n",
            "/usr/local/lib/python3.9/dist-packages/sklearn/neighbors/_classification.py:215: DataConversionWarning: A column-vector y was passed when a 1d array was expected. Please change the shape of y to (n_samples,), for example using ravel().\n",
            "  return self._fit(X, y)\n"
          ]
        },
        {
          "output_type": "stream",
          "name": "stdout",
          "text": [
            "[CV] END .........clf__metric=manhattan, clf__n_neighbors=31; total time=   0.0s\n",
            "[CV] END .........clf__metric=manhattan, clf__n_neighbors=31; total time=   0.0s\n",
            "[CV] END .........clf__metric=manhattan, clf__n_neighbors=31; total time=   0.0s\n",
            "[CV] END .........clf__metric=manhattan, clf__n_neighbors=32; total time=   0.0s\n",
            "[CV] END .........clf__metric=manhattan, clf__n_neighbors=32; total time=   0.0s\n",
            "[CV] END .........clf__metric=manhattan, clf__n_neighbors=32; total time=   0.0s\n",
            "[CV] END .........clf__metric=manhattan, clf__n_neighbors=32; total time=   0.0s\n",
            "[CV] END .........clf__metric=manhattan, clf__n_neighbors=32; total time=   0.0s\n",
            "[CV] END .........clf__metric=manhattan, clf__n_neighbors=33; total time=   0.0s\n"
          ]
        },
        {
          "output_type": "stream",
          "name": "stderr",
          "text": [
            "/usr/local/lib/python3.9/dist-packages/sklearn/neighbors/_classification.py:215: DataConversionWarning: A column-vector y was passed when a 1d array was expected. Please change the shape of y to (n_samples,), for example using ravel().\n",
            "  return self._fit(X, y)\n",
            "/usr/local/lib/python3.9/dist-packages/sklearn/neighbors/_classification.py:215: DataConversionWarning: A column-vector y was passed when a 1d array was expected. Please change the shape of y to (n_samples,), for example using ravel().\n",
            "  return self._fit(X, y)\n",
            "/usr/local/lib/python3.9/dist-packages/sklearn/neighbors/_classification.py:215: DataConversionWarning: A column-vector y was passed when a 1d array was expected. Please change the shape of y to (n_samples,), for example using ravel().\n",
            "  return self._fit(X, y)\n",
            "/usr/local/lib/python3.9/dist-packages/sklearn/neighbors/_classification.py:215: DataConversionWarning: A column-vector y was passed when a 1d array was expected. Please change the shape of y to (n_samples,), for example using ravel().\n",
            "  return self._fit(X, y)\n",
            "/usr/local/lib/python3.9/dist-packages/sklearn/neighbors/_classification.py:215: DataConversionWarning: A column-vector y was passed when a 1d array was expected. Please change the shape of y to (n_samples,), for example using ravel().\n",
            "  return self._fit(X, y)\n",
            "/usr/local/lib/python3.9/dist-packages/sklearn/neighbors/_classification.py:215: DataConversionWarning: A column-vector y was passed when a 1d array was expected. Please change the shape of y to (n_samples,), for example using ravel().\n",
            "  return self._fit(X, y)\n",
            "/usr/local/lib/python3.9/dist-packages/sklearn/neighbors/_classification.py:215: DataConversionWarning: A column-vector y was passed when a 1d array was expected. Please change the shape of y to (n_samples,), for example using ravel().\n",
            "  return self._fit(X, y)\n",
            "/usr/local/lib/python3.9/dist-packages/sklearn/neighbors/_classification.py:215: DataConversionWarning: A column-vector y was passed when a 1d array was expected. Please change the shape of y to (n_samples,), for example using ravel().\n",
            "  return self._fit(X, y)\n",
            "/usr/local/lib/python3.9/dist-packages/sklearn/neighbors/_classification.py:215: DataConversionWarning: A column-vector y was passed when a 1d array was expected. Please change the shape of y to (n_samples,), for example using ravel().\n",
            "  return self._fit(X, y)\n"
          ]
        },
        {
          "output_type": "stream",
          "name": "stdout",
          "text": [
            "[CV] END .........clf__metric=manhattan, clf__n_neighbors=33; total time=   0.0s\n",
            "[CV] END .........clf__metric=manhattan, clf__n_neighbors=33; total time=   0.0s\n",
            "[CV] END .........clf__metric=manhattan, clf__n_neighbors=33; total time=   0.0s\n",
            "[CV] END .........clf__metric=manhattan, clf__n_neighbors=33; total time=   0.0s\n",
            "[CV] END .........clf__metric=manhattan, clf__n_neighbors=34; total time=   0.0s\n",
            "[CV] END .........clf__metric=manhattan, clf__n_neighbors=34; total time=   0.0s\n",
            "[CV] END .........clf__metric=manhattan, clf__n_neighbors=34; total time=   0.0s\n",
            "[CV] END .........clf__metric=manhattan, clf__n_neighbors=34; total time=   0.0s\n",
            "[CV] END .........clf__metric=manhattan, clf__n_neighbors=34; total time=   0.0s\n"
          ]
        },
        {
          "output_type": "stream",
          "name": "stderr",
          "text": [
            "/usr/local/lib/python3.9/dist-packages/sklearn/neighbors/_classification.py:215: DataConversionWarning: A column-vector y was passed when a 1d array was expected. Please change the shape of y to (n_samples,), for example using ravel().\n",
            "  return self._fit(X, y)\n",
            "/usr/local/lib/python3.9/dist-packages/sklearn/neighbors/_classification.py:215: DataConversionWarning: A column-vector y was passed when a 1d array was expected. Please change the shape of y to (n_samples,), for example using ravel().\n",
            "  return self._fit(X, y)\n",
            "/usr/local/lib/python3.9/dist-packages/sklearn/neighbors/_classification.py:215: DataConversionWarning: A column-vector y was passed when a 1d array was expected. Please change the shape of y to (n_samples,), for example using ravel().\n",
            "  return self._fit(X, y)\n",
            "/usr/local/lib/python3.9/dist-packages/sklearn/neighbors/_classification.py:215: DataConversionWarning: A column-vector y was passed when a 1d array was expected. Please change the shape of y to (n_samples,), for example using ravel().\n",
            "  return self._fit(X, y)\n",
            "/usr/local/lib/python3.9/dist-packages/sklearn/neighbors/_classification.py:215: DataConversionWarning: A column-vector y was passed when a 1d array was expected. Please change the shape of y to (n_samples,), for example using ravel().\n",
            "  return self._fit(X, y)\n",
            "/usr/local/lib/python3.9/dist-packages/sklearn/neighbors/_classification.py:215: DataConversionWarning: A column-vector y was passed when a 1d array was expected. Please change the shape of y to (n_samples,), for example using ravel().\n",
            "  return self._fit(X, y)\n",
            "/usr/local/lib/python3.9/dist-packages/sklearn/neighbors/_classification.py:215: DataConversionWarning: A column-vector y was passed when a 1d array was expected. Please change the shape of y to (n_samples,), for example using ravel().\n",
            "  return self._fit(X, y)\n",
            "/usr/local/lib/python3.9/dist-packages/sklearn/neighbors/_classification.py:215: DataConversionWarning: A column-vector y was passed when a 1d array was expected. Please change the shape of y to (n_samples,), for example using ravel().\n",
            "  return self._fit(X, y)\n",
            "/usr/local/lib/python3.9/dist-packages/sklearn/neighbors/_classification.py:215: DataConversionWarning: A column-vector y was passed when a 1d array was expected. Please change the shape of y to (n_samples,), for example using ravel().\n",
            "  return self._fit(X, y)\n"
          ]
        },
        {
          "output_type": "stream",
          "name": "stdout",
          "text": [
            "[CV] END .........clf__metric=manhattan, clf__n_neighbors=35; total time=   0.0s\n",
            "[CV] END .........clf__metric=manhattan, clf__n_neighbors=35; total time=   0.0s\n",
            "[CV] END .........clf__metric=manhattan, clf__n_neighbors=35; total time=   0.0s\n",
            "[CV] END .........clf__metric=manhattan, clf__n_neighbors=35; total time=   0.0s\n",
            "[CV] END .........clf__metric=manhattan, clf__n_neighbors=35; total time=   0.0s\n",
            "[CV] END .........clf__metric=manhattan, clf__n_neighbors=36; total time=   0.0s\n",
            "[CV] END .........clf__metric=manhattan, clf__n_neighbors=36; total time=   0.0s\n",
            "[CV] END .........clf__metric=manhattan, clf__n_neighbors=36; total time=   0.0s\n",
            "[CV] END .........clf__metric=manhattan, clf__n_neighbors=36; total time=   0.0s\n"
          ]
        },
        {
          "output_type": "stream",
          "name": "stderr",
          "text": [
            "/usr/local/lib/python3.9/dist-packages/sklearn/neighbors/_classification.py:215: DataConversionWarning: A column-vector y was passed when a 1d array was expected. Please change the shape of y to (n_samples,), for example using ravel().\n",
            "  return self._fit(X, y)\n",
            "/usr/local/lib/python3.9/dist-packages/sklearn/neighbors/_classification.py:215: DataConversionWarning: A column-vector y was passed when a 1d array was expected. Please change the shape of y to (n_samples,), for example using ravel().\n",
            "  return self._fit(X, y)\n",
            "/usr/local/lib/python3.9/dist-packages/sklearn/neighbors/_classification.py:215: DataConversionWarning: A column-vector y was passed when a 1d array was expected. Please change the shape of y to (n_samples,), for example using ravel().\n",
            "  return self._fit(X, y)\n",
            "/usr/local/lib/python3.9/dist-packages/sklearn/neighbors/_classification.py:215: DataConversionWarning: A column-vector y was passed when a 1d array was expected. Please change the shape of y to (n_samples,), for example using ravel().\n",
            "  return self._fit(X, y)\n",
            "/usr/local/lib/python3.9/dist-packages/sklearn/neighbors/_classification.py:215: DataConversionWarning: A column-vector y was passed when a 1d array was expected. Please change the shape of y to (n_samples,), for example using ravel().\n",
            "  return self._fit(X, y)\n",
            "/usr/local/lib/python3.9/dist-packages/sklearn/neighbors/_classification.py:215: DataConversionWarning: A column-vector y was passed when a 1d array was expected. Please change the shape of y to (n_samples,), for example using ravel().\n",
            "  return self._fit(X, y)\n",
            "/usr/local/lib/python3.9/dist-packages/sklearn/neighbors/_classification.py:215: DataConversionWarning: A column-vector y was passed when a 1d array was expected. Please change the shape of y to (n_samples,), for example using ravel().\n",
            "  return self._fit(X, y)\n",
            "/usr/local/lib/python3.9/dist-packages/sklearn/neighbors/_classification.py:215: DataConversionWarning: A column-vector y was passed when a 1d array was expected. Please change the shape of y to (n_samples,), for example using ravel().\n",
            "  return self._fit(X, y)\n",
            "/usr/local/lib/python3.9/dist-packages/sklearn/neighbors/_classification.py:215: DataConversionWarning: A column-vector y was passed when a 1d array was expected. Please change the shape of y to (n_samples,), for example using ravel().\n",
            "  return self._fit(X, y)\n"
          ]
        },
        {
          "output_type": "stream",
          "name": "stdout",
          "text": [
            "[CV] END .........clf__metric=manhattan, clf__n_neighbors=36; total time=   0.0s\n",
            "[CV] END .........clf__metric=manhattan, clf__n_neighbors=37; total time=   0.0s\n",
            "[CV] END .........clf__metric=manhattan, clf__n_neighbors=37; total time=   0.0s\n",
            "[CV] END .........clf__metric=manhattan, clf__n_neighbors=37; total time=   0.0s\n",
            "[CV] END .........clf__metric=manhattan, clf__n_neighbors=37; total time=   0.0s\n",
            "[CV] END .........clf__metric=manhattan, clf__n_neighbors=37; total time=   0.0s\n"
          ]
        },
        {
          "output_type": "stream",
          "name": "stderr",
          "text": [
            "/usr/local/lib/python3.9/dist-packages/sklearn/neighbors/_classification.py:215: DataConversionWarning: A column-vector y was passed when a 1d array was expected. Please change the shape of y to (n_samples,), for example using ravel().\n",
            "  return self._fit(X, y)\n",
            "/usr/local/lib/python3.9/dist-packages/sklearn/neighbors/_classification.py:215: DataConversionWarning: A column-vector y was passed when a 1d array was expected. Please change the shape of y to (n_samples,), for example using ravel().\n",
            "  return self._fit(X, y)\n",
            "/usr/local/lib/python3.9/dist-packages/sklearn/neighbors/_classification.py:215: DataConversionWarning: A column-vector y was passed when a 1d array was expected. Please change the shape of y to (n_samples,), for example using ravel().\n",
            "  return self._fit(X, y)\n",
            "/usr/local/lib/python3.9/dist-packages/sklearn/neighbors/_classification.py:215: DataConversionWarning: A column-vector y was passed when a 1d array was expected. Please change the shape of y to (n_samples,), for example using ravel().\n",
            "  return self._fit(X, y)\n",
            "/usr/local/lib/python3.9/dist-packages/sklearn/neighbors/_classification.py:215: DataConversionWarning: A column-vector y was passed when a 1d array was expected. Please change the shape of y to (n_samples,), for example using ravel().\n",
            "  return self._fit(X, y)\n",
            "/usr/local/lib/python3.9/dist-packages/sklearn/neighbors/_classification.py:215: DataConversionWarning: A column-vector y was passed when a 1d array was expected. Please change the shape of y to (n_samples,), for example using ravel().\n",
            "  return self._fit(X, y)\n"
          ]
        },
        {
          "output_type": "stream",
          "name": "stdout",
          "text": [
            "[CV] END .........clf__metric=manhattan, clf__n_neighbors=38; total time=   0.0s\n",
            "[CV] END .........clf__metric=manhattan, clf__n_neighbors=38; total time=   0.0s\n",
            "[CV] END .........clf__metric=manhattan, clf__n_neighbors=38; total time=   0.0s\n",
            "[CV] END .........clf__metric=manhattan, clf__n_neighbors=38; total time=   0.0s\n",
            "[CV] END .........clf__metric=manhattan, clf__n_neighbors=38; total time=   0.0s\n",
            "[CV] END .........clf__metric=manhattan, clf__n_neighbors=39; total time=   0.0s\n"
          ]
        },
        {
          "output_type": "stream",
          "name": "stderr",
          "text": [
            "/usr/local/lib/python3.9/dist-packages/sklearn/neighbors/_classification.py:215: DataConversionWarning: A column-vector y was passed when a 1d array was expected. Please change the shape of y to (n_samples,), for example using ravel().\n",
            "  return self._fit(X, y)\n",
            "/usr/local/lib/python3.9/dist-packages/sklearn/neighbors/_classification.py:215: DataConversionWarning: A column-vector y was passed when a 1d array was expected. Please change the shape of y to (n_samples,), for example using ravel().\n",
            "  return self._fit(X, y)\n",
            "/usr/local/lib/python3.9/dist-packages/sklearn/neighbors/_classification.py:215: DataConversionWarning: A column-vector y was passed when a 1d array was expected. Please change the shape of y to (n_samples,), for example using ravel().\n",
            "  return self._fit(X, y)\n",
            "/usr/local/lib/python3.9/dist-packages/sklearn/neighbors/_classification.py:215: DataConversionWarning: A column-vector y was passed when a 1d array was expected. Please change the shape of y to (n_samples,), for example using ravel().\n",
            "  return self._fit(X, y)\n",
            "/usr/local/lib/python3.9/dist-packages/sklearn/neighbors/_classification.py:215: DataConversionWarning: A column-vector y was passed when a 1d array was expected. Please change the shape of y to (n_samples,), for example using ravel().\n",
            "  return self._fit(X, y)\n",
            "/usr/local/lib/python3.9/dist-packages/sklearn/neighbors/_classification.py:215: DataConversionWarning: A column-vector y was passed when a 1d array was expected. Please change the shape of y to (n_samples,), for example using ravel().\n",
            "  return self._fit(X, y)\n"
          ]
        },
        {
          "output_type": "stream",
          "name": "stdout",
          "text": [
            "[CV] END .........clf__metric=manhattan, clf__n_neighbors=39; total time=   0.0s\n",
            "[CV] END .........clf__metric=manhattan, clf__n_neighbors=39; total time=   0.0s\n",
            "[CV] END .........clf__metric=manhattan, clf__n_neighbors=39; total time=   0.0s\n",
            "[CV] END .........clf__metric=manhattan, clf__n_neighbors=39; total time=   0.0s\n",
            "[CV] END .........clf__metric=manhattan, clf__n_neighbors=40; total time=   0.0s\n",
            "[CV] END .........clf__metric=manhattan, clf__n_neighbors=40; total time=   0.0s\n",
            "[CV] END .........clf__metric=manhattan, clf__n_neighbors=40; total time=   0.0s"
          ]
        },
        {
          "output_type": "stream",
          "name": "stderr",
          "text": [
            "/usr/local/lib/python3.9/dist-packages/sklearn/neighbors/_classification.py:215: DataConversionWarning: A column-vector y was passed when a 1d array was expected. Please change the shape of y to (n_samples,), for example using ravel().\n",
            "  return self._fit(X, y)\n",
            "/usr/local/lib/python3.9/dist-packages/sklearn/neighbors/_classification.py:215: DataConversionWarning: A column-vector y was passed when a 1d array was expected. Please change the shape of y to (n_samples,), for example using ravel().\n",
            "  return self._fit(X, y)\n",
            "/usr/local/lib/python3.9/dist-packages/sklearn/neighbors/_classification.py:215: DataConversionWarning: A column-vector y was passed when a 1d array was expected. Please change the shape of y to (n_samples,), for example using ravel().\n",
            "  return self._fit(X, y)\n",
            "/usr/local/lib/python3.9/dist-packages/sklearn/neighbors/_classification.py:215: DataConversionWarning: A column-vector y was passed when a 1d array was expected. Please change the shape of y to (n_samples,), for example using ravel().\n",
            "  return self._fit(X, y)\n",
            "/usr/local/lib/python3.9/dist-packages/sklearn/neighbors/_classification.py:215: DataConversionWarning: A column-vector y was passed when a 1d array was expected. Please change the shape of y to (n_samples,), for example using ravel().\n",
            "  return self._fit(X, y)\n",
            "/usr/local/lib/python3.9/dist-packages/sklearn/neighbors/_classification.py:215: DataConversionWarning: A column-vector y was passed when a 1d array was expected. Please change the shape of y to (n_samples,), for example using ravel().\n",
            "  return self._fit(X, y)\n",
            "/usr/local/lib/python3.9/dist-packages/sklearn/neighbors/_classification.py:215: DataConversionWarning: A column-vector y was passed when a 1d array was expected. Please change the shape of y to (n_samples,), for example using ravel().\n",
            "  return self._fit(X, y)\n"
          ]
        },
        {
          "output_type": "stream",
          "name": "stdout",
          "text": [
            "\n",
            "[CV] END .........clf__metric=manhattan, clf__n_neighbors=40; total time=   0.0s\n",
            "[CV] END .........clf__metric=manhattan, clf__n_neighbors=40; total time=   0.0s\n",
            "[CV] END .........clf__metric=manhattan, clf__n_neighbors=41; total time=   0.0s\n",
            "[CV] END .........clf__metric=manhattan, clf__n_neighbors=41; total time=   0.0s\n",
            "[CV] END .........clf__metric=manhattan, clf__n_neighbors=41; total time=   0.0s\n"
          ]
        },
        {
          "output_type": "stream",
          "name": "stderr",
          "text": [
            "/usr/local/lib/python3.9/dist-packages/sklearn/neighbors/_classification.py:215: DataConversionWarning: A column-vector y was passed when a 1d array was expected. Please change the shape of y to (n_samples,), for example using ravel().\n",
            "  return self._fit(X, y)\n",
            "/usr/local/lib/python3.9/dist-packages/sklearn/neighbors/_classification.py:215: DataConversionWarning: A column-vector y was passed when a 1d array was expected. Please change the shape of y to (n_samples,), for example using ravel().\n",
            "  return self._fit(X, y)\n",
            "/usr/local/lib/python3.9/dist-packages/sklearn/neighbors/_classification.py:215: DataConversionWarning: A column-vector y was passed when a 1d array was expected. Please change the shape of y to (n_samples,), for example using ravel().\n",
            "  return self._fit(X, y)\n",
            "/usr/local/lib/python3.9/dist-packages/sklearn/neighbors/_classification.py:215: DataConversionWarning: A column-vector y was passed when a 1d array was expected. Please change the shape of y to (n_samples,), for example using ravel().\n",
            "  return self._fit(X, y)\n",
            "/usr/local/lib/python3.9/dist-packages/sklearn/neighbors/_classification.py:215: DataConversionWarning: A column-vector y was passed when a 1d array was expected. Please change the shape of y to (n_samples,), for example using ravel().\n",
            "  return self._fit(X, y)\n",
            "/usr/local/lib/python3.9/dist-packages/sklearn/neighbors/_classification.py:215: DataConversionWarning: A column-vector y was passed when a 1d array was expected. Please change the shape of y to (n_samples,), for example using ravel().\n",
            "  return self._fit(X, y)\n"
          ]
        },
        {
          "output_type": "stream",
          "name": "stdout",
          "text": [
            "[CV] END .........clf__metric=manhattan, clf__n_neighbors=41; total time=   0.0s\n",
            "[CV] END .........clf__metric=manhattan, clf__n_neighbors=41; total time=   0.0s\n",
            "[CV] END .........clf__metric=manhattan, clf__n_neighbors=42; total time=   0.0s\n",
            "[CV] END .........clf__metric=manhattan, clf__n_neighbors=42; total time=   0.0s\n",
            "[CV] END .........clf__metric=manhattan, clf__n_neighbors=42; total time=   0.0s\n",
            "[CV] END .........clf__metric=manhattan, clf__n_neighbors=42; total time=   0.0s\n"
          ]
        },
        {
          "output_type": "stream",
          "name": "stderr",
          "text": [
            "/usr/local/lib/python3.9/dist-packages/sklearn/neighbors/_classification.py:215: DataConversionWarning: A column-vector y was passed when a 1d array was expected. Please change the shape of y to (n_samples,), for example using ravel().\n",
            "  return self._fit(X, y)\n",
            "/usr/local/lib/python3.9/dist-packages/sklearn/neighbors/_classification.py:215: DataConversionWarning: A column-vector y was passed when a 1d array was expected. Please change the shape of y to (n_samples,), for example using ravel().\n",
            "  return self._fit(X, y)\n",
            "/usr/local/lib/python3.9/dist-packages/sklearn/neighbors/_classification.py:215: DataConversionWarning: A column-vector y was passed when a 1d array was expected. Please change the shape of y to (n_samples,), for example using ravel().\n",
            "  return self._fit(X, y)\n",
            "/usr/local/lib/python3.9/dist-packages/sklearn/neighbors/_classification.py:215: DataConversionWarning: A column-vector y was passed when a 1d array was expected. Please change the shape of y to (n_samples,), for example using ravel().\n",
            "  return self._fit(X, y)\n",
            "/usr/local/lib/python3.9/dist-packages/sklearn/neighbors/_classification.py:215: DataConversionWarning: A column-vector y was passed when a 1d array was expected. Please change the shape of y to (n_samples,), for example using ravel().\n",
            "  return self._fit(X, y)\n",
            "/usr/local/lib/python3.9/dist-packages/sklearn/neighbors/_classification.py:215: DataConversionWarning: A column-vector y was passed when a 1d array was expected. Please change the shape of y to (n_samples,), for example using ravel().\n",
            "  return self._fit(X, y)\n"
          ]
        },
        {
          "output_type": "stream",
          "name": "stdout",
          "text": [
            "[CV] END .........clf__metric=manhattan, clf__n_neighbors=42; total time=   0.0s\n",
            "[CV] END .........clf__metric=manhattan, clf__n_neighbors=43; total time=   0.0s\n",
            "[CV] END .........clf__metric=manhattan, clf__n_neighbors=43; total time=   0.0s\n",
            "[CV] END .........clf__metric=manhattan, clf__n_neighbors=43; total time=   0.0s\n",
            "[CV] END .........clf__metric=manhattan, clf__n_neighbors=43; total time=   0.0s\n",
            "[CV] END .........clf__metric=manhattan, clf__n_neighbors=43; total time=   0.0s\n"
          ]
        },
        {
          "output_type": "stream",
          "name": "stderr",
          "text": [
            "/usr/local/lib/python3.9/dist-packages/sklearn/neighbors/_classification.py:215: DataConversionWarning: A column-vector y was passed when a 1d array was expected. Please change the shape of y to (n_samples,), for example using ravel().\n",
            "  return self._fit(X, y)\n",
            "/usr/local/lib/python3.9/dist-packages/sklearn/neighbors/_classification.py:215: DataConversionWarning: A column-vector y was passed when a 1d array was expected. Please change the shape of y to (n_samples,), for example using ravel().\n",
            "  return self._fit(X, y)\n",
            "/usr/local/lib/python3.9/dist-packages/sklearn/neighbors/_classification.py:215: DataConversionWarning: A column-vector y was passed when a 1d array was expected. Please change the shape of y to (n_samples,), for example using ravel().\n",
            "  return self._fit(X, y)\n",
            "/usr/local/lib/python3.9/dist-packages/sklearn/neighbors/_classification.py:215: DataConversionWarning: A column-vector y was passed when a 1d array was expected. Please change the shape of y to (n_samples,), for example using ravel().\n",
            "  return self._fit(X, y)\n",
            "/usr/local/lib/python3.9/dist-packages/sklearn/neighbors/_classification.py:215: DataConversionWarning: A column-vector y was passed when a 1d array was expected. Please change the shape of y to (n_samples,), for example using ravel().\n",
            "  return self._fit(X, y)\n",
            "/usr/local/lib/python3.9/dist-packages/sklearn/neighbors/_classification.py:215: DataConversionWarning: A column-vector y was passed when a 1d array was expected. Please change the shape of y to (n_samples,), for example using ravel().\n",
            "  return self._fit(X, y)\n"
          ]
        },
        {
          "output_type": "stream",
          "name": "stdout",
          "text": [
            "[CV] END .........clf__metric=manhattan, clf__n_neighbors=44; total time=   0.0s\n",
            "[CV] END .........clf__metric=manhattan, clf__n_neighbors=44; total time=   0.0s\n",
            "[CV] END .........clf__metric=manhattan, clf__n_neighbors=44; total time=   0.0s\n",
            "[CV] END .........clf__metric=manhattan, clf__n_neighbors=44; total time=   0.0s\n",
            "[CV] END .........clf__metric=manhattan, clf__n_neighbors=44; total time=   0.0s\n",
            "[CV] END .........clf__metric=manhattan, clf__n_neighbors=45; total time=   0.0s\n"
          ]
        },
        {
          "output_type": "stream",
          "name": "stderr",
          "text": [
            "/usr/local/lib/python3.9/dist-packages/sklearn/neighbors/_classification.py:215: DataConversionWarning: A column-vector y was passed when a 1d array was expected. Please change the shape of y to (n_samples,), for example using ravel().\n",
            "  return self._fit(X, y)\n",
            "/usr/local/lib/python3.9/dist-packages/sklearn/neighbors/_classification.py:215: DataConversionWarning: A column-vector y was passed when a 1d array was expected. Please change the shape of y to (n_samples,), for example using ravel().\n",
            "  return self._fit(X, y)\n",
            "/usr/local/lib/python3.9/dist-packages/sklearn/neighbors/_classification.py:215: DataConversionWarning: A column-vector y was passed when a 1d array was expected. Please change the shape of y to (n_samples,), for example using ravel().\n",
            "  return self._fit(X, y)\n",
            "/usr/local/lib/python3.9/dist-packages/sklearn/neighbors/_classification.py:215: DataConversionWarning: A column-vector y was passed when a 1d array was expected. Please change the shape of y to (n_samples,), for example using ravel().\n",
            "  return self._fit(X, y)\n",
            "/usr/local/lib/python3.9/dist-packages/sklearn/neighbors/_classification.py:215: DataConversionWarning: A column-vector y was passed when a 1d array was expected. Please change the shape of y to (n_samples,), for example using ravel().\n",
            "  return self._fit(X, y)\n",
            "/usr/local/lib/python3.9/dist-packages/sklearn/neighbors/_classification.py:215: DataConversionWarning: A column-vector y was passed when a 1d array was expected. Please change the shape of y to (n_samples,), for example using ravel().\n",
            "  return self._fit(X, y)\n"
          ]
        },
        {
          "output_type": "stream",
          "name": "stdout",
          "text": [
            "[CV] END .........clf__metric=manhattan, clf__n_neighbors=45; total time=   0.0s\n",
            "[CV] END .........clf__metric=manhattan, clf__n_neighbors=45; total time=   0.0s\n",
            "[CV] END .........clf__metric=manhattan, clf__n_neighbors=45; total time=   0.0s\n",
            "[CV] END .........clf__metric=manhattan, clf__n_neighbors=45; total time=   0.0s\n",
            "[CV] END .........clf__metric=manhattan, clf__n_neighbors=46; total time=   0.0s\n",
            "[CV] END .........clf__metric=manhattan, clf__n_neighbors=46; total time=   0.0s\n"
          ]
        },
        {
          "output_type": "stream",
          "name": "stderr",
          "text": [
            "/usr/local/lib/python3.9/dist-packages/sklearn/neighbors/_classification.py:215: DataConversionWarning: A column-vector y was passed when a 1d array was expected. Please change the shape of y to (n_samples,), for example using ravel().\n",
            "  return self._fit(X, y)\n",
            "/usr/local/lib/python3.9/dist-packages/sklearn/neighbors/_classification.py:215: DataConversionWarning: A column-vector y was passed when a 1d array was expected. Please change the shape of y to (n_samples,), for example using ravel().\n",
            "  return self._fit(X, y)\n",
            "/usr/local/lib/python3.9/dist-packages/sklearn/neighbors/_classification.py:215: DataConversionWarning: A column-vector y was passed when a 1d array was expected. Please change the shape of y to (n_samples,), for example using ravel().\n",
            "  return self._fit(X, y)\n",
            "/usr/local/lib/python3.9/dist-packages/sklearn/neighbors/_classification.py:215: DataConversionWarning: A column-vector y was passed when a 1d array was expected. Please change the shape of y to (n_samples,), for example using ravel().\n",
            "  return self._fit(X, y)\n",
            "/usr/local/lib/python3.9/dist-packages/sklearn/neighbors/_classification.py:215: DataConversionWarning: A column-vector y was passed when a 1d array was expected. Please change the shape of y to (n_samples,), for example using ravel().\n",
            "  return self._fit(X, y)\n",
            "/usr/local/lib/python3.9/dist-packages/sklearn/neighbors/_classification.py:215: DataConversionWarning: A column-vector y was passed when a 1d array was expected. Please change the shape of y to (n_samples,), for example using ravel().\n",
            "  return self._fit(X, y)\n"
          ]
        },
        {
          "output_type": "stream",
          "name": "stdout",
          "text": [
            "[CV] END .........clf__metric=manhattan, clf__n_neighbors=46; total time=   0.0s\n",
            "[CV] END .........clf__metric=manhattan, clf__n_neighbors=46; total time=   0.0s\n",
            "[CV] END .........clf__metric=manhattan, clf__n_neighbors=46; total time=   0.0s\n",
            "[CV] END .........clf__metric=manhattan, clf__n_neighbors=47; total time=   0.0s\n",
            "[CV] END .........clf__metric=manhattan, clf__n_neighbors=47; total time=   0.0s\n",
            "[CV] END .........clf__metric=manhattan, clf__n_neighbors=47; total time=   0.0s\n"
          ]
        },
        {
          "output_type": "stream",
          "name": "stderr",
          "text": [
            "/usr/local/lib/python3.9/dist-packages/sklearn/neighbors/_classification.py:215: DataConversionWarning: A column-vector y was passed when a 1d array was expected. Please change the shape of y to (n_samples,), for example using ravel().\n",
            "  return self._fit(X, y)\n",
            "/usr/local/lib/python3.9/dist-packages/sklearn/neighbors/_classification.py:215: DataConversionWarning: A column-vector y was passed when a 1d array was expected. Please change the shape of y to (n_samples,), for example using ravel().\n",
            "  return self._fit(X, y)\n",
            "/usr/local/lib/python3.9/dist-packages/sklearn/neighbors/_classification.py:215: DataConversionWarning: A column-vector y was passed when a 1d array was expected. Please change the shape of y to (n_samples,), for example using ravel().\n",
            "  return self._fit(X, y)\n",
            "/usr/local/lib/python3.9/dist-packages/sklearn/neighbors/_classification.py:215: DataConversionWarning: A column-vector y was passed when a 1d array was expected. Please change the shape of y to (n_samples,), for example using ravel().\n",
            "  return self._fit(X, y)\n",
            "/usr/local/lib/python3.9/dist-packages/sklearn/neighbors/_classification.py:215: DataConversionWarning: A column-vector y was passed when a 1d array was expected. Please change the shape of y to (n_samples,), for example using ravel().\n",
            "  return self._fit(X, y)\n",
            "/usr/local/lib/python3.9/dist-packages/sklearn/neighbors/_classification.py:215: DataConversionWarning: A column-vector y was passed when a 1d array was expected. Please change the shape of y to (n_samples,), for example using ravel().\n",
            "  return self._fit(X, y)\n"
          ]
        },
        {
          "output_type": "stream",
          "name": "stdout",
          "text": [
            "[CV] END .........clf__metric=manhattan, clf__n_neighbors=47; total time=   0.0s\n",
            "[CV] END .........clf__metric=manhattan, clf__n_neighbors=47; total time=   0.0s\n",
            "[CV] END .........clf__metric=manhattan, clf__n_neighbors=48; total time=   0.0s\n",
            "[CV] END .........clf__metric=manhattan, clf__n_neighbors=48; total time=   0.0s\n",
            "[CV] END .........clf__metric=manhattan, clf__n_neighbors=48; total time=   0.0s\n",
            "[CV] END .........clf__metric=manhattan, clf__n_neighbors=48; total time=   0.0s\n"
          ]
        },
        {
          "output_type": "stream",
          "name": "stderr",
          "text": [
            "/usr/local/lib/python3.9/dist-packages/sklearn/neighbors/_classification.py:215: DataConversionWarning: A column-vector y was passed when a 1d array was expected. Please change the shape of y to (n_samples,), for example using ravel().\n",
            "  return self._fit(X, y)\n",
            "/usr/local/lib/python3.9/dist-packages/sklearn/neighbors/_classification.py:215: DataConversionWarning: A column-vector y was passed when a 1d array was expected. Please change the shape of y to (n_samples,), for example using ravel().\n",
            "  return self._fit(X, y)\n",
            "/usr/local/lib/python3.9/dist-packages/sklearn/neighbors/_classification.py:215: DataConversionWarning: A column-vector y was passed when a 1d array was expected. Please change the shape of y to (n_samples,), for example using ravel().\n",
            "  return self._fit(X, y)\n",
            "/usr/local/lib/python3.9/dist-packages/sklearn/neighbors/_classification.py:215: DataConversionWarning: A column-vector y was passed when a 1d array was expected. Please change the shape of y to (n_samples,), for example using ravel().\n",
            "  return self._fit(X, y)\n",
            "/usr/local/lib/python3.9/dist-packages/sklearn/neighbors/_classification.py:215: DataConversionWarning: A column-vector y was passed when a 1d array was expected. Please change the shape of y to (n_samples,), for example using ravel().\n",
            "  return self._fit(X, y)\n",
            "/usr/local/lib/python3.9/dist-packages/sklearn/neighbors/_classification.py:215: DataConversionWarning: A column-vector y was passed when a 1d array was expected. Please change the shape of y to (n_samples,), for example using ravel().\n",
            "  return self._fit(X, y)\n"
          ]
        },
        {
          "output_type": "stream",
          "name": "stdout",
          "text": [
            "[CV] END .........clf__metric=manhattan, clf__n_neighbors=48; total time=   0.0s\n",
            "[CV] END .........clf__metric=manhattan, clf__n_neighbors=49; total time=   0.0s\n",
            "[CV] END .........clf__metric=manhattan, clf__n_neighbors=49; total time=   0.0s\n",
            "[CV] END .........clf__metric=manhattan, clf__n_neighbors=49; total time=   0.0s\n",
            "[CV] END .........clf__metric=manhattan, clf__n_neighbors=49; total time=   0.0s\n",
            "[CV] END .........clf__metric=manhattan, clf__n_neighbors=49; total time=   0.0s\n"
          ]
        },
        {
          "output_type": "stream",
          "name": "stderr",
          "text": [
            "/usr/local/lib/python3.9/dist-packages/sklearn/neighbors/_classification.py:215: DataConversionWarning: A column-vector y was passed when a 1d array was expected. Please change the shape of y to (n_samples,), for example using ravel().\n",
            "  return self._fit(X, y)\n",
            "/usr/local/lib/python3.9/dist-packages/sklearn/neighbors/_classification.py:215: DataConversionWarning: A column-vector y was passed when a 1d array was expected. Please change the shape of y to (n_samples,), for example using ravel().\n",
            "  return self._fit(X, y)\n",
            "/usr/local/lib/python3.9/dist-packages/sklearn/neighbors/_classification.py:215: DataConversionWarning: A column-vector y was passed when a 1d array was expected. Please change the shape of y to (n_samples,), for example using ravel().\n",
            "  return self._fit(X, y)\n",
            "/usr/local/lib/python3.9/dist-packages/sklearn/neighbors/_classification.py:215: DataConversionWarning: A column-vector y was passed when a 1d array was expected. Please change the shape of y to (n_samples,), for example using ravel().\n",
            "  return self._fit(X, y)\n",
            "/usr/local/lib/python3.9/dist-packages/sklearn/neighbors/_classification.py:215: DataConversionWarning: A column-vector y was passed when a 1d array was expected. Please change the shape of y to (n_samples,), for example using ravel().\n",
            "  return self._fit(X, y)\n",
            "/usr/local/lib/python3.9/dist-packages/sklearn/neighbors/_classification.py:215: DataConversionWarning: A column-vector y was passed when a 1d array was expected. Please change the shape of y to (n_samples,), for example using ravel().\n",
            "  return self._fit(X, y)\n"
          ]
        },
        {
          "output_type": "stream",
          "name": "stdout",
          "text": [
            "[CV] END ..........clf__metric=minkowski, clf__n_neighbors=1; total time=   0.0s\n",
            "[CV] END ..........clf__metric=minkowski, clf__n_neighbors=1; total time=   0.0s\n",
            "[CV] END ..........clf__metric=minkowski, clf__n_neighbors=1; total time=   0.0s\n",
            "[CV] END ..........clf__metric=minkowski, clf__n_neighbors=1; total time=   0.0s\n",
            "[CV] END ..........clf__metric=minkowski, clf__n_neighbors=1; total time=   0.0s\n",
            "[CV] END ..........clf__metric=minkowski, clf__n_neighbors=2; total time=   0.0s\n"
          ]
        },
        {
          "output_type": "stream",
          "name": "stderr",
          "text": [
            "/usr/local/lib/python3.9/dist-packages/sklearn/neighbors/_classification.py:215: DataConversionWarning: A column-vector y was passed when a 1d array was expected. Please change the shape of y to (n_samples,), for example using ravel().\n",
            "  return self._fit(X, y)\n",
            "/usr/local/lib/python3.9/dist-packages/sklearn/neighbors/_classification.py:215: DataConversionWarning: A column-vector y was passed when a 1d array was expected. Please change the shape of y to (n_samples,), for example using ravel().\n",
            "  return self._fit(X, y)\n",
            "/usr/local/lib/python3.9/dist-packages/sklearn/neighbors/_classification.py:215: DataConversionWarning: A column-vector y was passed when a 1d array was expected. Please change the shape of y to (n_samples,), for example using ravel().\n",
            "  return self._fit(X, y)\n",
            "/usr/local/lib/python3.9/dist-packages/sklearn/neighbors/_classification.py:215: DataConversionWarning: A column-vector y was passed when a 1d array was expected. Please change the shape of y to (n_samples,), for example using ravel().\n",
            "  return self._fit(X, y)\n",
            "/usr/local/lib/python3.9/dist-packages/sklearn/neighbors/_classification.py:215: DataConversionWarning: A column-vector y was passed when a 1d array was expected. Please change the shape of y to (n_samples,), for example using ravel().\n",
            "  return self._fit(X, y)\n",
            "/usr/local/lib/python3.9/dist-packages/sklearn/neighbors/_classification.py:215: DataConversionWarning: A column-vector y was passed when a 1d array was expected. Please change the shape of y to (n_samples,), for example using ravel().\n",
            "  return self._fit(X, y)\n",
            "/usr/local/lib/python3.9/dist-packages/sklearn/neighbors/_classification.py:215: DataConversionWarning: A column-vector y was passed when a 1d array was expected. Please change the shape of y to (n_samples,), for example using ravel().\n",
            "  return self._fit(X, y)\n"
          ]
        },
        {
          "output_type": "stream",
          "name": "stdout",
          "text": [
            "[CV] END ..........clf__metric=minkowski, clf__n_neighbors=2; total time=   0.0s\n",
            "[CV] END ..........clf__metric=minkowski, clf__n_neighbors=2; total time=   0.0s\n",
            "[CV] END ..........clf__metric=minkowski, clf__n_neighbors=2; total time=   0.0s\n",
            "[CV] END ..........clf__metric=minkowski, clf__n_neighbors=2; total time=   0.0s\n",
            "[CV] END ..........clf__metric=minkowski, clf__n_neighbors=3; total time=   0.0s\n",
            "[CV] END ..........clf__metric=minkowski, clf__n_neighbors=3; total time=   0.0s\n",
            "[CV] END ..........clf__metric=minkowski, clf__n_neighbors=3; total time=   0.0s\n"
          ]
        },
        {
          "output_type": "stream",
          "name": "stderr",
          "text": [
            "/usr/local/lib/python3.9/dist-packages/sklearn/neighbors/_classification.py:215: DataConversionWarning: A column-vector y was passed when a 1d array was expected. Please change the shape of y to (n_samples,), for example using ravel().\n",
            "  return self._fit(X, y)\n",
            "/usr/local/lib/python3.9/dist-packages/sklearn/neighbors/_classification.py:215: DataConversionWarning: A column-vector y was passed when a 1d array was expected. Please change the shape of y to (n_samples,), for example using ravel().\n",
            "  return self._fit(X, y)\n",
            "/usr/local/lib/python3.9/dist-packages/sklearn/neighbors/_classification.py:215: DataConversionWarning: A column-vector y was passed when a 1d array was expected. Please change the shape of y to (n_samples,), for example using ravel().\n",
            "  return self._fit(X, y)\n",
            "/usr/local/lib/python3.9/dist-packages/sklearn/neighbors/_classification.py:215: DataConversionWarning: A column-vector y was passed when a 1d array was expected. Please change the shape of y to (n_samples,), for example using ravel().\n",
            "  return self._fit(X, y)\n",
            "/usr/local/lib/python3.9/dist-packages/sklearn/neighbors/_classification.py:215: DataConversionWarning: A column-vector y was passed when a 1d array was expected. Please change the shape of y to (n_samples,), for example using ravel().\n",
            "  return self._fit(X, y)\n",
            "/usr/local/lib/python3.9/dist-packages/sklearn/neighbors/_classification.py:215: DataConversionWarning: A column-vector y was passed when a 1d array was expected. Please change the shape of y to (n_samples,), for example using ravel().\n",
            "  return self._fit(X, y)\n"
          ]
        },
        {
          "output_type": "stream",
          "name": "stdout",
          "text": [
            "[CV] END ..........clf__metric=minkowski, clf__n_neighbors=3; total time=   0.0s\n",
            "[CV] END ..........clf__metric=minkowski, clf__n_neighbors=3; total time=   0.0s\n",
            "[CV] END ..........clf__metric=minkowski, clf__n_neighbors=4; total time=   0.1s\n",
            "[CV] END ..........clf__metric=minkowski, clf__n_neighbors=4; total time=   0.0s\n",
            "[CV] END ..........clf__metric=minkowski, clf__n_neighbors=4; total time=   0.0s\n",
            "[CV] END ..........clf__metric=minkowski, clf__n_neighbors=4; total time=   0.0s\n"
          ]
        },
        {
          "output_type": "stream",
          "name": "stderr",
          "text": [
            "/usr/local/lib/python3.9/dist-packages/sklearn/neighbors/_classification.py:215: DataConversionWarning: A column-vector y was passed when a 1d array was expected. Please change the shape of y to (n_samples,), for example using ravel().\n",
            "  return self._fit(X, y)\n",
            "/usr/local/lib/python3.9/dist-packages/sklearn/neighbors/_classification.py:215: DataConversionWarning: A column-vector y was passed when a 1d array was expected. Please change the shape of y to (n_samples,), for example using ravel().\n",
            "  return self._fit(X, y)\n",
            "/usr/local/lib/python3.9/dist-packages/sklearn/neighbors/_classification.py:215: DataConversionWarning: A column-vector y was passed when a 1d array was expected. Please change the shape of y to (n_samples,), for example using ravel().\n",
            "  return self._fit(X, y)\n",
            "/usr/local/lib/python3.9/dist-packages/sklearn/neighbors/_classification.py:215: DataConversionWarning: A column-vector y was passed when a 1d array was expected. Please change the shape of y to (n_samples,), for example using ravel().\n",
            "  return self._fit(X, y)\n",
            "/usr/local/lib/python3.9/dist-packages/sklearn/neighbors/_classification.py:215: DataConversionWarning: A column-vector y was passed when a 1d array was expected. Please change the shape of y to (n_samples,), for example using ravel().\n",
            "  return self._fit(X, y)\n",
            "/usr/local/lib/python3.9/dist-packages/sklearn/neighbors/_classification.py:215: DataConversionWarning: A column-vector y was passed when a 1d array was expected. Please change the shape of y to (n_samples,), for example using ravel().\n",
            "  return self._fit(X, y)\n"
          ]
        },
        {
          "output_type": "stream",
          "name": "stdout",
          "text": [
            "[CV] END ..........clf__metric=minkowski, clf__n_neighbors=4; total time=   0.0s\n",
            "[CV] END ..........clf__metric=minkowski, clf__n_neighbors=5; total time=   0.0s\n",
            "[CV] END ..........clf__metric=minkowski, clf__n_neighbors=5; total time=   0.0s\n",
            "[CV] END ..........clf__metric=minkowski, clf__n_neighbors=5; total time=   0.0s\n",
            "[CV] END ..........clf__metric=minkowski, clf__n_neighbors=5; total time=   0.0s\n",
            "[CV] END ..........clf__metric=minkowski, clf__n_neighbors=5; total time=   0.0s\n"
          ]
        },
        {
          "output_type": "stream",
          "name": "stderr",
          "text": [
            "/usr/local/lib/python3.9/dist-packages/sklearn/neighbors/_classification.py:215: DataConversionWarning: A column-vector y was passed when a 1d array was expected. Please change the shape of y to (n_samples,), for example using ravel().\n",
            "  return self._fit(X, y)\n",
            "/usr/local/lib/python3.9/dist-packages/sklearn/neighbors/_classification.py:215: DataConversionWarning: A column-vector y was passed when a 1d array was expected. Please change the shape of y to (n_samples,), for example using ravel().\n",
            "  return self._fit(X, y)\n",
            "/usr/local/lib/python3.9/dist-packages/sklearn/neighbors/_classification.py:215: DataConversionWarning: A column-vector y was passed when a 1d array was expected. Please change the shape of y to (n_samples,), for example using ravel().\n",
            "  return self._fit(X, y)\n",
            "/usr/local/lib/python3.9/dist-packages/sklearn/neighbors/_classification.py:215: DataConversionWarning: A column-vector y was passed when a 1d array was expected. Please change the shape of y to (n_samples,), for example using ravel().\n",
            "  return self._fit(X, y)\n",
            "/usr/local/lib/python3.9/dist-packages/sklearn/neighbors/_classification.py:215: DataConversionWarning: A column-vector y was passed when a 1d array was expected. Please change the shape of y to (n_samples,), for example using ravel().\n",
            "  return self._fit(X, y)\n",
            "/usr/local/lib/python3.9/dist-packages/sklearn/neighbors/_classification.py:215: DataConversionWarning: A column-vector y was passed when a 1d array was expected. Please change the shape of y to (n_samples,), for example using ravel().\n",
            "  return self._fit(X, y)\n",
            "/usr/local/lib/python3.9/dist-packages/sklearn/neighbors/_classification.py:215: DataConversionWarning: A column-vector y was passed when a 1d array was expected. Please change the shape of y to (n_samples,), for example using ravel().\n",
            "  return self._fit(X, y)\n"
          ]
        },
        {
          "output_type": "stream",
          "name": "stdout",
          "text": [
            "[CV] END ..........clf__metric=minkowski, clf__n_neighbors=6; total time=   0.0s\n",
            "[CV] END ..........clf__metric=minkowski, clf__n_neighbors=6; total time=   0.0s\n",
            "[CV] END ..........clf__metric=minkowski, clf__n_neighbors=6; total time=   0.0s\n",
            "[CV] END ..........clf__metric=minkowski, clf__n_neighbors=6; total time=   0.0s\n",
            "[CV] END ..........clf__metric=minkowski, clf__n_neighbors=6; total time=   0.0s\n",
            "[CV] END ..........clf__metric=minkowski, clf__n_neighbors=7; total time=   0.0s\n"
          ]
        },
        {
          "output_type": "stream",
          "name": "stderr",
          "text": [
            "/usr/local/lib/python3.9/dist-packages/sklearn/neighbors/_classification.py:215: DataConversionWarning: A column-vector y was passed when a 1d array was expected. Please change the shape of y to (n_samples,), for example using ravel().\n",
            "  return self._fit(X, y)\n",
            "/usr/local/lib/python3.9/dist-packages/sklearn/neighbors/_classification.py:215: DataConversionWarning: A column-vector y was passed when a 1d array was expected. Please change the shape of y to (n_samples,), for example using ravel().\n",
            "  return self._fit(X, y)\n",
            "/usr/local/lib/python3.9/dist-packages/sklearn/neighbors/_classification.py:215: DataConversionWarning: A column-vector y was passed when a 1d array was expected. Please change the shape of y to (n_samples,), for example using ravel().\n",
            "  return self._fit(X, y)\n",
            "/usr/local/lib/python3.9/dist-packages/sklearn/neighbors/_classification.py:215: DataConversionWarning: A column-vector y was passed when a 1d array was expected. Please change the shape of y to (n_samples,), for example using ravel().\n",
            "  return self._fit(X, y)\n",
            "/usr/local/lib/python3.9/dist-packages/sklearn/neighbors/_classification.py:215: DataConversionWarning: A column-vector y was passed when a 1d array was expected. Please change the shape of y to (n_samples,), for example using ravel().\n",
            "  return self._fit(X, y)\n",
            "/usr/local/lib/python3.9/dist-packages/sklearn/neighbors/_classification.py:215: DataConversionWarning: A column-vector y was passed when a 1d array was expected. Please change the shape of y to (n_samples,), for example using ravel().\n",
            "  return self._fit(X, y)\n"
          ]
        },
        {
          "output_type": "stream",
          "name": "stdout",
          "text": [
            "[CV] END ..........clf__metric=minkowski, clf__n_neighbors=7; total time=   0.0s\n",
            "[CV] END ..........clf__metric=minkowski, clf__n_neighbors=7; total time=   0.0s\n",
            "[CV] END ..........clf__metric=minkowski, clf__n_neighbors=7; total time=   0.0s\n",
            "[CV] END ..........clf__metric=minkowski, clf__n_neighbors=7; total time=   0.0s\n",
            "[CV] END ..........clf__metric=minkowski, clf__n_neighbors=8; total time=   0.0s\n",
            "[CV] END ..........clf__metric=minkowski, clf__n_neighbors=8; total time=   0.0s\n",
            "[CV] END ..........clf__metric=minkowski, clf__n_neighbors=8; total time=   0.0s"
          ]
        },
        {
          "output_type": "stream",
          "name": "stderr",
          "text": [
            "/usr/local/lib/python3.9/dist-packages/sklearn/neighbors/_classification.py:215: DataConversionWarning: A column-vector y was passed when a 1d array was expected. Please change the shape of y to (n_samples,), for example using ravel().\n",
            "  return self._fit(X, y)\n",
            "/usr/local/lib/python3.9/dist-packages/sklearn/neighbors/_classification.py:215: DataConversionWarning: A column-vector y was passed when a 1d array was expected. Please change the shape of y to (n_samples,), for example using ravel().\n",
            "  return self._fit(X, y)\n",
            "/usr/local/lib/python3.9/dist-packages/sklearn/neighbors/_classification.py:215: DataConversionWarning: A column-vector y was passed when a 1d array was expected. Please change the shape of y to (n_samples,), for example using ravel().\n",
            "  return self._fit(X, y)\n",
            "/usr/local/lib/python3.9/dist-packages/sklearn/neighbors/_classification.py:215: DataConversionWarning: A column-vector y was passed when a 1d array was expected. Please change the shape of y to (n_samples,), for example using ravel().\n",
            "  return self._fit(X, y)\n",
            "/usr/local/lib/python3.9/dist-packages/sklearn/neighbors/_classification.py:215: DataConversionWarning: A column-vector y was passed when a 1d array was expected. Please change the shape of y to (n_samples,), for example using ravel().\n",
            "  return self._fit(X, y)\n",
            "/usr/local/lib/python3.9/dist-packages/sklearn/neighbors/_classification.py:215: DataConversionWarning: A column-vector y was passed when a 1d array was expected. Please change the shape of y to (n_samples,), for example using ravel().\n",
            "  return self._fit(X, y)\n"
          ]
        },
        {
          "output_type": "stream",
          "name": "stdout",
          "text": [
            "\n",
            "[CV] END ..........clf__metric=minkowski, clf__n_neighbors=8; total time=   0.0s\n",
            "[CV] END ..........clf__metric=minkowski, clf__n_neighbors=8; total time=   0.0s\n",
            "[CV] END ..........clf__metric=minkowski, clf__n_neighbors=9; total time=   0.0s\n",
            "[CV] END ..........clf__metric=minkowski, clf__n_neighbors=9; total time=   0.0s\n",
            "[CV] END ..........clf__metric=minkowski, clf__n_neighbors=9; total time=   0.0s\n"
          ]
        },
        {
          "output_type": "stream",
          "name": "stderr",
          "text": [
            "/usr/local/lib/python3.9/dist-packages/sklearn/neighbors/_classification.py:215: DataConversionWarning: A column-vector y was passed when a 1d array was expected. Please change the shape of y to (n_samples,), for example using ravel().\n",
            "  return self._fit(X, y)\n",
            "/usr/local/lib/python3.9/dist-packages/sklearn/neighbors/_classification.py:215: DataConversionWarning: A column-vector y was passed when a 1d array was expected. Please change the shape of y to (n_samples,), for example using ravel().\n",
            "  return self._fit(X, y)\n",
            "/usr/local/lib/python3.9/dist-packages/sklearn/neighbors/_classification.py:215: DataConversionWarning: A column-vector y was passed when a 1d array was expected. Please change the shape of y to (n_samples,), for example using ravel().\n",
            "  return self._fit(X, y)\n",
            "/usr/local/lib/python3.9/dist-packages/sklearn/neighbors/_classification.py:215: DataConversionWarning: A column-vector y was passed when a 1d array was expected. Please change the shape of y to (n_samples,), for example using ravel().\n",
            "  return self._fit(X, y)\n",
            "/usr/local/lib/python3.9/dist-packages/sklearn/neighbors/_classification.py:215: DataConversionWarning: A column-vector y was passed when a 1d array was expected. Please change the shape of y to (n_samples,), for example using ravel().\n",
            "  return self._fit(X, y)\n",
            "/usr/local/lib/python3.9/dist-packages/sklearn/neighbors/_classification.py:215: DataConversionWarning: A column-vector y was passed when a 1d array was expected. Please change the shape of y to (n_samples,), for example using ravel().\n",
            "  return self._fit(X, y)\n"
          ]
        },
        {
          "output_type": "stream",
          "name": "stdout",
          "text": [
            "[CV] END ..........clf__metric=minkowski, clf__n_neighbors=9; total time=   0.0s\n",
            "[CV] END ..........clf__metric=minkowski, clf__n_neighbors=9; total time=   0.0s\n",
            "[CV] END .........clf__metric=minkowski, clf__n_neighbors=10; total time=   0.0s\n",
            "[CV] END .........clf__metric=minkowski, clf__n_neighbors=10; total time=   0.0s\n",
            "[CV] END .........clf__metric=minkowski, clf__n_neighbors=10; total time=   0.0s\n",
            "[CV] END .........clf__metric=minkowski, clf__n_neighbors=10; total time=   0.0s\n"
          ]
        },
        {
          "output_type": "stream",
          "name": "stderr",
          "text": [
            "/usr/local/lib/python3.9/dist-packages/sklearn/neighbors/_classification.py:215: DataConversionWarning: A column-vector y was passed when a 1d array was expected. Please change the shape of y to (n_samples,), for example using ravel().\n",
            "  return self._fit(X, y)\n",
            "/usr/local/lib/python3.9/dist-packages/sklearn/neighbors/_classification.py:215: DataConversionWarning: A column-vector y was passed when a 1d array was expected. Please change the shape of y to (n_samples,), for example using ravel().\n",
            "  return self._fit(X, y)\n",
            "/usr/local/lib/python3.9/dist-packages/sklearn/neighbors/_classification.py:215: DataConversionWarning: A column-vector y was passed when a 1d array was expected. Please change the shape of y to (n_samples,), for example using ravel().\n",
            "  return self._fit(X, y)\n",
            "/usr/local/lib/python3.9/dist-packages/sklearn/neighbors/_classification.py:215: DataConversionWarning: A column-vector y was passed when a 1d array was expected. Please change the shape of y to (n_samples,), for example using ravel().\n",
            "  return self._fit(X, y)\n",
            "/usr/local/lib/python3.9/dist-packages/sklearn/neighbors/_classification.py:215: DataConversionWarning: A column-vector y was passed when a 1d array was expected. Please change the shape of y to (n_samples,), for example using ravel().\n",
            "  return self._fit(X, y)\n",
            "/usr/local/lib/python3.9/dist-packages/sklearn/neighbors/_classification.py:215: DataConversionWarning: A column-vector y was passed when a 1d array was expected. Please change the shape of y to (n_samples,), for example using ravel().\n",
            "  return self._fit(X, y)\n"
          ]
        },
        {
          "output_type": "stream",
          "name": "stdout",
          "text": [
            "[CV] END .........clf__metric=minkowski, clf__n_neighbors=10; total time=   0.0s\n",
            "[CV] END .........clf__metric=minkowski, clf__n_neighbors=11; total time=   0.0s\n",
            "[CV] END .........clf__metric=minkowski, clf__n_neighbors=11; total time=   0.0s\n",
            "[CV] END .........clf__metric=minkowski, clf__n_neighbors=11; total time=   0.0s\n",
            "[CV] END .........clf__metric=minkowski, clf__n_neighbors=11; total time=   0.0s\n",
            "[CV] END .........clf__metric=minkowski, clf__n_neighbors=11; total time=   0.0s\n",
            "[CV] END .........clf__metric=minkowski, clf__n_neighbors=12; total time=   0.0s\n"
          ]
        },
        {
          "output_type": "stream",
          "name": "stderr",
          "text": [
            "/usr/local/lib/python3.9/dist-packages/sklearn/neighbors/_classification.py:215: DataConversionWarning: A column-vector y was passed when a 1d array was expected. Please change the shape of y to (n_samples,), for example using ravel().\n",
            "  return self._fit(X, y)\n",
            "/usr/local/lib/python3.9/dist-packages/sklearn/neighbors/_classification.py:215: DataConversionWarning: A column-vector y was passed when a 1d array was expected. Please change the shape of y to (n_samples,), for example using ravel().\n",
            "  return self._fit(X, y)\n",
            "/usr/local/lib/python3.9/dist-packages/sklearn/neighbors/_classification.py:215: DataConversionWarning: A column-vector y was passed when a 1d array was expected. Please change the shape of y to (n_samples,), for example using ravel().\n",
            "  return self._fit(X, y)\n",
            "/usr/local/lib/python3.9/dist-packages/sklearn/neighbors/_classification.py:215: DataConversionWarning: A column-vector y was passed when a 1d array was expected. Please change the shape of y to (n_samples,), for example using ravel().\n",
            "  return self._fit(X, y)\n",
            "/usr/local/lib/python3.9/dist-packages/sklearn/neighbors/_classification.py:215: DataConversionWarning: A column-vector y was passed when a 1d array was expected. Please change the shape of y to (n_samples,), for example using ravel().\n",
            "  return self._fit(X, y)\n",
            "/usr/local/lib/python3.9/dist-packages/sklearn/neighbors/_classification.py:215: DataConversionWarning: A column-vector y was passed when a 1d array was expected. Please change the shape of y to (n_samples,), for example using ravel().\n",
            "  return self._fit(X, y)\n"
          ]
        },
        {
          "output_type": "stream",
          "name": "stdout",
          "text": [
            "[CV] END .........clf__metric=minkowski, clf__n_neighbors=12; total time=   0.0s\n",
            "[CV] END .........clf__metric=minkowski, clf__n_neighbors=12; total time=   0.0s\n",
            "[CV] END .........clf__metric=minkowski, clf__n_neighbors=12; total time=   0.0s\n",
            "[CV] END .........clf__metric=minkowski, clf__n_neighbors=12; total time=   0.0s\n",
            "[CV] END .........clf__metric=minkowski, clf__n_neighbors=13; total time=   0.0s\n",
            "[CV] END .........clf__metric=minkowski, clf__n_neighbors=13; total time=   0.0s\n"
          ]
        },
        {
          "output_type": "stream",
          "name": "stderr",
          "text": [
            "/usr/local/lib/python3.9/dist-packages/sklearn/neighbors/_classification.py:215: DataConversionWarning: A column-vector y was passed when a 1d array was expected. Please change the shape of y to (n_samples,), for example using ravel().\n",
            "  return self._fit(X, y)\n",
            "/usr/local/lib/python3.9/dist-packages/sklearn/neighbors/_classification.py:215: DataConversionWarning: A column-vector y was passed when a 1d array was expected. Please change the shape of y to (n_samples,), for example using ravel().\n",
            "  return self._fit(X, y)\n",
            "/usr/local/lib/python3.9/dist-packages/sklearn/neighbors/_classification.py:215: DataConversionWarning: A column-vector y was passed when a 1d array was expected. Please change the shape of y to (n_samples,), for example using ravel().\n",
            "  return self._fit(X, y)\n",
            "/usr/local/lib/python3.9/dist-packages/sklearn/neighbors/_classification.py:215: DataConversionWarning: A column-vector y was passed when a 1d array was expected. Please change the shape of y to (n_samples,), for example using ravel().\n",
            "  return self._fit(X, y)\n",
            "/usr/local/lib/python3.9/dist-packages/sklearn/neighbors/_classification.py:215: DataConversionWarning: A column-vector y was passed when a 1d array was expected. Please change the shape of y to (n_samples,), for example using ravel().\n",
            "  return self._fit(X, y)\n",
            "/usr/local/lib/python3.9/dist-packages/sklearn/neighbors/_classification.py:215: DataConversionWarning: A column-vector y was passed when a 1d array was expected. Please change the shape of y to (n_samples,), for example using ravel().\n",
            "  return self._fit(X, y)\n",
            "/usr/local/lib/python3.9/dist-packages/sklearn/neighbors/_classification.py:215: DataConversionWarning: A column-vector y was passed when a 1d array was expected. Please change the shape of y to (n_samples,), for example using ravel().\n",
            "  return self._fit(X, y)\n"
          ]
        },
        {
          "output_type": "stream",
          "name": "stdout",
          "text": [
            "[CV] END .........clf__metric=minkowski, clf__n_neighbors=13; total time=   0.0s\n",
            "[CV] END .........clf__metric=minkowski, clf__n_neighbors=13; total time=   0.0s\n",
            "[CV] END .........clf__metric=minkowski, clf__n_neighbors=13; total time=   0.0s\n",
            "[CV] END .........clf__metric=minkowski, clf__n_neighbors=14; total time=   0.0s\n",
            "[CV] END .........clf__metric=minkowski, clf__n_neighbors=14; total time=   0.0s\n",
            "[CV] END .........clf__metric=minkowski, clf__n_neighbors=14; total time=   0.0s\n",
            "[CV] END .........clf__metric=minkowski, clf__n_neighbors=14; total time=   0.0s\n",
            "[CV] END .........clf__metric=minkowski, clf__n_neighbors=14; total time=   0.0s\n",
            "[CV] END .........clf__metric=minkowski, clf__n_neighbors=15; total time=   0.0s\n",
            "[CV] END .........clf__metric=minkowski, clf__n_neighbors=15; total time=   0.0s\n"
          ]
        },
        {
          "output_type": "stream",
          "name": "stderr",
          "text": [
            "/usr/local/lib/python3.9/dist-packages/sklearn/neighbors/_classification.py:215: DataConversionWarning: A column-vector y was passed when a 1d array was expected. Please change the shape of y to (n_samples,), for example using ravel().\n",
            "  return self._fit(X, y)\n",
            "/usr/local/lib/python3.9/dist-packages/sklearn/neighbors/_classification.py:215: DataConversionWarning: A column-vector y was passed when a 1d array was expected. Please change the shape of y to (n_samples,), for example using ravel().\n",
            "  return self._fit(X, y)\n",
            "/usr/local/lib/python3.9/dist-packages/sklearn/neighbors/_classification.py:215: DataConversionWarning: A column-vector y was passed when a 1d array was expected. Please change the shape of y to (n_samples,), for example using ravel().\n",
            "  return self._fit(X, y)\n",
            "/usr/local/lib/python3.9/dist-packages/sklearn/neighbors/_classification.py:215: DataConversionWarning: A column-vector y was passed when a 1d array was expected. Please change the shape of y to (n_samples,), for example using ravel().\n",
            "  return self._fit(X, y)\n",
            "/usr/local/lib/python3.9/dist-packages/sklearn/neighbors/_classification.py:215: DataConversionWarning: A column-vector y was passed when a 1d array was expected. Please change the shape of y to (n_samples,), for example using ravel().\n",
            "  return self._fit(X, y)\n",
            "/usr/local/lib/python3.9/dist-packages/sklearn/neighbors/_classification.py:215: DataConversionWarning: A column-vector y was passed when a 1d array was expected. Please change the shape of y to (n_samples,), for example using ravel().\n",
            "  return self._fit(X, y)\n",
            "/usr/local/lib/python3.9/dist-packages/sklearn/neighbors/_classification.py:215: DataConversionWarning: A column-vector y was passed when a 1d array was expected. Please change the shape of y to (n_samples,), for example using ravel().\n",
            "  return self._fit(X, y)\n",
            "/usr/local/lib/python3.9/dist-packages/sklearn/neighbors/_classification.py:215: DataConversionWarning: A column-vector y was passed when a 1d array was expected. Please change the shape of y to (n_samples,), for example using ravel().\n",
            "  return self._fit(X, y)\n",
            "/usr/local/lib/python3.9/dist-packages/sklearn/neighbors/_classification.py:215: DataConversionWarning: A column-vector y was passed when a 1d array was expected. Please change the shape of y to (n_samples,), for example using ravel().\n",
            "  return self._fit(X, y)\n"
          ]
        },
        {
          "output_type": "stream",
          "name": "stdout",
          "text": [
            "[CV] END .........clf__metric=minkowski, clf__n_neighbors=15; total time=   0.0s\n",
            "[CV] END .........clf__metric=minkowski, clf__n_neighbors=15; total time=   0.0s\n",
            "[CV] END .........clf__metric=minkowski, clf__n_neighbors=15; total time=   0.0s\n",
            "[CV] END .........clf__metric=minkowski, clf__n_neighbors=16; total time=   0.0s\n",
            "[CV] END .........clf__metric=minkowski, clf__n_neighbors=16; total time=   0.0s\n",
            "[CV] END .........clf__metric=minkowski, clf__n_neighbors=16; total time=   0.0s\n",
            "[CV] END .........clf__metric=minkowski, clf__n_neighbors=16; total time=   0.0s\n",
            "[CV] END .........clf__metric=minkowski, clf__n_neighbors=16; total time=   0.0s\n"
          ]
        },
        {
          "output_type": "stream",
          "name": "stderr",
          "text": [
            "/usr/local/lib/python3.9/dist-packages/sklearn/neighbors/_classification.py:215: DataConversionWarning: A column-vector y was passed when a 1d array was expected. Please change the shape of y to (n_samples,), for example using ravel().\n",
            "  return self._fit(X, y)\n",
            "/usr/local/lib/python3.9/dist-packages/sklearn/neighbors/_classification.py:215: DataConversionWarning: A column-vector y was passed when a 1d array was expected. Please change the shape of y to (n_samples,), for example using ravel().\n",
            "  return self._fit(X, y)\n",
            "/usr/local/lib/python3.9/dist-packages/sklearn/neighbors/_classification.py:215: DataConversionWarning: A column-vector y was passed when a 1d array was expected. Please change the shape of y to (n_samples,), for example using ravel().\n",
            "  return self._fit(X, y)\n",
            "/usr/local/lib/python3.9/dist-packages/sklearn/neighbors/_classification.py:215: DataConversionWarning: A column-vector y was passed when a 1d array was expected. Please change the shape of y to (n_samples,), for example using ravel().\n",
            "  return self._fit(X, y)\n",
            "/usr/local/lib/python3.9/dist-packages/sklearn/neighbors/_classification.py:215: DataConversionWarning: A column-vector y was passed when a 1d array was expected. Please change the shape of y to (n_samples,), for example using ravel().\n",
            "  return self._fit(X, y)\n",
            "/usr/local/lib/python3.9/dist-packages/sklearn/neighbors/_classification.py:215: DataConversionWarning: A column-vector y was passed when a 1d array was expected. Please change the shape of y to (n_samples,), for example using ravel().\n",
            "  return self._fit(X, y)\n",
            "/usr/local/lib/python3.9/dist-packages/sklearn/neighbors/_classification.py:215: DataConversionWarning: A column-vector y was passed when a 1d array was expected. Please change the shape of y to (n_samples,), for example using ravel().\n",
            "  return self._fit(X, y)\n",
            "/usr/local/lib/python3.9/dist-packages/sklearn/neighbors/_classification.py:215: DataConversionWarning: A column-vector y was passed when a 1d array was expected. Please change the shape of y to (n_samples,), for example using ravel().\n",
            "  return self._fit(X, y)\n"
          ]
        },
        {
          "output_type": "stream",
          "name": "stdout",
          "text": [
            "[CV] END .........clf__metric=minkowski, clf__n_neighbors=17; total time=   0.0s\n",
            "[CV] END .........clf__metric=minkowski, clf__n_neighbors=17; total time=   0.0s\n",
            "[CV] END .........clf__metric=minkowski, clf__n_neighbors=17; total time=   0.0s\n",
            "[CV] END .........clf__metric=minkowski, clf__n_neighbors=17; total time=   0.0s\n",
            "[CV] END .........clf__metric=minkowski, clf__n_neighbors=17; total time=   0.0s\n",
            "[CV] END .........clf__metric=minkowski, clf__n_neighbors=18; total time=   0.0s\n",
            "[CV] END .........clf__metric=minkowski, clf__n_neighbors=18; total time=   0.0s\n",
            "[CV] END .........clf__metric=minkowski, clf__n_neighbors=18; total time=   0.0s\n",
            "[CV] END .........clf__metric=minkowski, clf__n_neighbors=18; total time=   0.0s\n"
          ]
        },
        {
          "output_type": "stream",
          "name": "stderr",
          "text": [
            "/usr/local/lib/python3.9/dist-packages/sklearn/neighbors/_classification.py:215: DataConversionWarning: A column-vector y was passed when a 1d array was expected. Please change the shape of y to (n_samples,), for example using ravel().\n",
            "  return self._fit(X, y)\n",
            "/usr/local/lib/python3.9/dist-packages/sklearn/neighbors/_classification.py:215: DataConversionWarning: A column-vector y was passed when a 1d array was expected. Please change the shape of y to (n_samples,), for example using ravel().\n",
            "  return self._fit(X, y)\n",
            "/usr/local/lib/python3.9/dist-packages/sklearn/neighbors/_classification.py:215: DataConversionWarning: A column-vector y was passed when a 1d array was expected. Please change the shape of y to (n_samples,), for example using ravel().\n",
            "  return self._fit(X, y)\n",
            "/usr/local/lib/python3.9/dist-packages/sklearn/neighbors/_classification.py:215: DataConversionWarning: A column-vector y was passed when a 1d array was expected. Please change the shape of y to (n_samples,), for example using ravel().\n",
            "  return self._fit(X, y)\n",
            "/usr/local/lib/python3.9/dist-packages/sklearn/neighbors/_classification.py:215: DataConversionWarning: A column-vector y was passed when a 1d array was expected. Please change the shape of y to (n_samples,), for example using ravel().\n",
            "  return self._fit(X, y)\n",
            "/usr/local/lib/python3.9/dist-packages/sklearn/neighbors/_classification.py:215: DataConversionWarning: A column-vector y was passed when a 1d array was expected. Please change the shape of y to (n_samples,), for example using ravel().\n",
            "  return self._fit(X, y)\n",
            "/usr/local/lib/python3.9/dist-packages/sklearn/neighbors/_classification.py:215: DataConversionWarning: A column-vector y was passed when a 1d array was expected. Please change the shape of y to (n_samples,), for example using ravel().\n",
            "  return self._fit(X, y)\n",
            "/usr/local/lib/python3.9/dist-packages/sklearn/neighbors/_classification.py:215: DataConversionWarning: A column-vector y was passed when a 1d array was expected. Please change the shape of y to (n_samples,), for example using ravel().\n",
            "  return self._fit(X, y)\n",
            "/usr/local/lib/python3.9/dist-packages/sklearn/neighbors/_classification.py:215: DataConversionWarning: A column-vector y was passed when a 1d array was expected. Please change the shape of y to (n_samples,), for example using ravel().\n",
            "  return self._fit(X, y)\n",
            "/usr/local/lib/python3.9/dist-packages/sklearn/neighbors/_classification.py:215: DataConversionWarning: A column-vector y was passed when a 1d array was expected. Please change the shape of y to (n_samples,), for example using ravel().\n",
            "  return self._fit(X, y)\n"
          ]
        },
        {
          "output_type": "stream",
          "name": "stdout",
          "text": [
            "[CV] END .........clf__metric=minkowski, clf__n_neighbors=18; total time=   0.0s\n",
            "[CV] END .........clf__metric=minkowski, clf__n_neighbors=19; total time=   0.0s\n",
            "[CV] END .........clf__metric=minkowski, clf__n_neighbors=19; total time=   0.0s\n",
            "[CV] END .........clf__metric=minkowski, clf__n_neighbors=19; total time=   0.0s\n",
            "[CV] END .........clf__metric=minkowski, clf__n_neighbors=19; total time=   0.0s\n",
            "[CV] END .........clf__metric=minkowski, clf__n_neighbors=19; total time=   0.0s\n",
            "[CV] END .........clf__metric=minkowski, clf__n_neighbors=20; total time=   0.0s\n",
            "[CV] END .........clf__metric=minkowski, clf__n_neighbors=20; total time=   0.0s\n",
            "[CV] END .........clf__metric=minkowski, clf__n_neighbors=20; total time=   0.0s\n"
          ]
        },
        {
          "output_type": "stream",
          "name": "stderr",
          "text": [
            "/usr/local/lib/python3.9/dist-packages/sklearn/neighbors/_classification.py:215: DataConversionWarning: A column-vector y was passed when a 1d array was expected. Please change the shape of y to (n_samples,), for example using ravel().\n",
            "  return self._fit(X, y)\n",
            "/usr/local/lib/python3.9/dist-packages/sklearn/neighbors/_classification.py:215: DataConversionWarning: A column-vector y was passed when a 1d array was expected. Please change the shape of y to (n_samples,), for example using ravel().\n",
            "  return self._fit(X, y)\n",
            "/usr/local/lib/python3.9/dist-packages/sklearn/neighbors/_classification.py:215: DataConversionWarning: A column-vector y was passed when a 1d array was expected. Please change the shape of y to (n_samples,), for example using ravel().\n",
            "  return self._fit(X, y)\n",
            "/usr/local/lib/python3.9/dist-packages/sklearn/neighbors/_classification.py:215: DataConversionWarning: A column-vector y was passed when a 1d array was expected. Please change the shape of y to (n_samples,), for example using ravel().\n",
            "  return self._fit(X, y)\n",
            "/usr/local/lib/python3.9/dist-packages/sklearn/neighbors/_classification.py:215: DataConversionWarning: A column-vector y was passed when a 1d array was expected. Please change the shape of y to (n_samples,), for example using ravel().\n",
            "  return self._fit(X, y)\n",
            "/usr/local/lib/python3.9/dist-packages/sklearn/neighbors/_classification.py:215: DataConversionWarning: A column-vector y was passed when a 1d array was expected. Please change the shape of y to (n_samples,), for example using ravel().\n",
            "  return self._fit(X, y)\n",
            "/usr/local/lib/python3.9/dist-packages/sklearn/neighbors/_classification.py:215: DataConversionWarning: A column-vector y was passed when a 1d array was expected. Please change the shape of y to (n_samples,), for example using ravel().\n",
            "  return self._fit(X, y)\n",
            "/usr/local/lib/python3.9/dist-packages/sklearn/neighbors/_classification.py:215: DataConversionWarning: A column-vector y was passed when a 1d array was expected. Please change the shape of y to (n_samples,), for example using ravel().\n",
            "  return self._fit(X, y)\n",
            "/usr/local/lib/python3.9/dist-packages/sklearn/neighbors/_classification.py:215: DataConversionWarning: A column-vector y was passed when a 1d array was expected. Please change the shape of y to (n_samples,), for example using ravel().\n",
            "  return self._fit(X, y)\n"
          ]
        },
        {
          "output_type": "stream",
          "name": "stdout",
          "text": [
            "[CV] END .........clf__metric=minkowski, clf__n_neighbors=20; total time=   0.0s\n",
            "[CV] END .........clf__metric=minkowski, clf__n_neighbors=20; total time=   0.0s\n",
            "[CV] END .........clf__metric=minkowski, clf__n_neighbors=21; total time=   0.0s\n",
            "[CV] END .........clf__metric=minkowski, clf__n_neighbors=21; total time=   0.0s\n",
            "[CV] END .........clf__metric=minkowski, clf__n_neighbors=21; total time=   0.0s\n",
            "[CV] END .........clf__metric=minkowski, clf__n_neighbors=21; total time=   0.0s\n",
            "[CV] END .........clf__metric=minkowski, clf__n_neighbors=21; total time=   0.0s\n",
            "[CV] END .........clf__metric=minkowski, clf__n_neighbors=22; total time=   0.0s\n",
            "[CV] END .........clf__metric=minkowski, clf__n_neighbors=22; total time=   0.0s\n"
          ]
        },
        {
          "output_type": "stream",
          "name": "stderr",
          "text": [
            "/usr/local/lib/python3.9/dist-packages/sklearn/neighbors/_classification.py:215: DataConversionWarning: A column-vector y was passed when a 1d array was expected. Please change the shape of y to (n_samples,), for example using ravel().\n",
            "  return self._fit(X, y)\n",
            "/usr/local/lib/python3.9/dist-packages/sklearn/neighbors/_classification.py:215: DataConversionWarning: A column-vector y was passed when a 1d array was expected. Please change the shape of y to (n_samples,), for example using ravel().\n",
            "  return self._fit(X, y)\n",
            "/usr/local/lib/python3.9/dist-packages/sklearn/neighbors/_classification.py:215: DataConversionWarning: A column-vector y was passed when a 1d array was expected. Please change the shape of y to (n_samples,), for example using ravel().\n",
            "  return self._fit(X, y)\n",
            "/usr/local/lib/python3.9/dist-packages/sklearn/neighbors/_classification.py:215: DataConversionWarning: A column-vector y was passed when a 1d array was expected. Please change the shape of y to (n_samples,), for example using ravel().\n",
            "  return self._fit(X, y)\n",
            "/usr/local/lib/python3.9/dist-packages/sklearn/neighbors/_classification.py:215: DataConversionWarning: A column-vector y was passed when a 1d array was expected. Please change the shape of y to (n_samples,), for example using ravel().\n",
            "  return self._fit(X, y)\n",
            "/usr/local/lib/python3.9/dist-packages/sklearn/neighbors/_classification.py:215: DataConversionWarning: A column-vector y was passed when a 1d array was expected. Please change the shape of y to (n_samples,), for example using ravel().\n",
            "  return self._fit(X, y)\n",
            "/usr/local/lib/python3.9/dist-packages/sklearn/neighbors/_classification.py:215: DataConversionWarning: A column-vector y was passed when a 1d array was expected. Please change the shape of y to (n_samples,), for example using ravel().\n",
            "  return self._fit(X, y)\n",
            "/usr/local/lib/python3.9/dist-packages/sklearn/neighbors/_classification.py:215: DataConversionWarning: A column-vector y was passed when a 1d array was expected. Please change the shape of y to (n_samples,), for example using ravel().\n",
            "  return self._fit(X, y)\n",
            "/usr/local/lib/python3.9/dist-packages/sklearn/neighbors/_classification.py:215: DataConversionWarning: A column-vector y was passed when a 1d array was expected. Please change the shape of y to (n_samples,), for example using ravel().\n",
            "  return self._fit(X, y)\n"
          ]
        },
        {
          "output_type": "stream",
          "name": "stdout",
          "text": [
            "[CV] END .........clf__metric=minkowski, clf__n_neighbors=22; total time=   0.0s\n",
            "[CV] END .........clf__metric=minkowski, clf__n_neighbors=22; total time=   0.0s\n",
            "[CV] END .........clf__metric=minkowski, clf__n_neighbors=22; total time=   0.0s\n",
            "[CV] END .........clf__metric=minkowski, clf__n_neighbors=23; total time=   0.0s\n",
            "[CV] END .........clf__metric=minkowski, clf__n_neighbors=23; total time=   0.0s\n",
            "[CV] END .........clf__metric=minkowski, clf__n_neighbors=23; total time=   0.0s\n",
            "[CV] END .........clf__metric=minkowski, clf__n_neighbors=23; total time=   0.0s\n",
            "[CV] END .........clf__metric=minkowski, clf__n_neighbors=23; total time=   0.0s\n",
            "[CV] END .........clf__metric=minkowski, clf__n_neighbors=24; total time=   0.0s\n"
          ]
        },
        {
          "output_type": "stream",
          "name": "stderr",
          "text": [
            "/usr/local/lib/python3.9/dist-packages/sklearn/neighbors/_classification.py:215: DataConversionWarning: A column-vector y was passed when a 1d array was expected. Please change the shape of y to (n_samples,), for example using ravel().\n",
            "  return self._fit(X, y)\n",
            "/usr/local/lib/python3.9/dist-packages/sklearn/neighbors/_classification.py:215: DataConversionWarning: A column-vector y was passed when a 1d array was expected. Please change the shape of y to (n_samples,), for example using ravel().\n",
            "  return self._fit(X, y)\n",
            "/usr/local/lib/python3.9/dist-packages/sklearn/neighbors/_classification.py:215: DataConversionWarning: A column-vector y was passed when a 1d array was expected. Please change the shape of y to (n_samples,), for example using ravel().\n",
            "  return self._fit(X, y)\n",
            "/usr/local/lib/python3.9/dist-packages/sklearn/neighbors/_classification.py:215: DataConversionWarning: A column-vector y was passed when a 1d array was expected. Please change the shape of y to (n_samples,), for example using ravel().\n",
            "  return self._fit(X, y)\n",
            "/usr/local/lib/python3.9/dist-packages/sklearn/neighbors/_classification.py:215: DataConversionWarning: A column-vector y was passed when a 1d array was expected. Please change the shape of y to (n_samples,), for example using ravel().\n",
            "  return self._fit(X, y)\n",
            "/usr/local/lib/python3.9/dist-packages/sklearn/neighbors/_classification.py:215: DataConversionWarning: A column-vector y was passed when a 1d array was expected. Please change the shape of y to (n_samples,), for example using ravel().\n",
            "  return self._fit(X, y)\n",
            "/usr/local/lib/python3.9/dist-packages/sklearn/neighbors/_classification.py:215: DataConversionWarning: A column-vector y was passed when a 1d array was expected. Please change the shape of y to (n_samples,), for example using ravel().\n",
            "  return self._fit(X, y)\n",
            "/usr/local/lib/python3.9/dist-packages/sklearn/neighbors/_classification.py:215: DataConversionWarning: A column-vector y was passed when a 1d array was expected. Please change the shape of y to (n_samples,), for example using ravel().\n",
            "  return self._fit(X, y)\n",
            "/usr/local/lib/python3.9/dist-packages/sklearn/neighbors/_classification.py:215: DataConversionWarning: A column-vector y was passed when a 1d array was expected. Please change the shape of y to (n_samples,), for example using ravel().\n",
            "  return self._fit(X, y)\n"
          ]
        },
        {
          "output_type": "stream",
          "name": "stdout",
          "text": [
            "[CV] END .........clf__metric=minkowski, clf__n_neighbors=24; total time=   0.0s\n",
            "[CV] END .........clf__metric=minkowski, clf__n_neighbors=24; total time=   0.0s\n",
            "[CV] END .........clf__metric=minkowski, clf__n_neighbors=24; total time=   0.0s\n",
            "[CV] END .........clf__metric=minkowski, clf__n_neighbors=24; total time=   0.0s\n",
            "[CV] END .........clf__metric=minkowski, clf__n_neighbors=25; total time=   0.0s\n",
            "[CV] END .........clf__metric=minkowski, clf__n_neighbors=25; total time=   0.0s\n",
            "[CV] END .........clf__metric=minkowski, clf__n_neighbors=25; total time=   0.0s\n",
            "[CV] END .........clf__metric=minkowski, clf__n_neighbors=25; total time=   0.0s\n",
            "[CV] END .........clf__metric=minkowski, clf__n_neighbors=25; total time=   0.0s\n"
          ]
        },
        {
          "output_type": "stream",
          "name": "stderr",
          "text": [
            "/usr/local/lib/python3.9/dist-packages/sklearn/neighbors/_classification.py:215: DataConversionWarning: A column-vector y was passed when a 1d array was expected. Please change the shape of y to (n_samples,), for example using ravel().\n",
            "  return self._fit(X, y)\n",
            "/usr/local/lib/python3.9/dist-packages/sklearn/neighbors/_classification.py:215: DataConversionWarning: A column-vector y was passed when a 1d array was expected. Please change the shape of y to (n_samples,), for example using ravel().\n",
            "  return self._fit(X, y)\n",
            "/usr/local/lib/python3.9/dist-packages/sklearn/neighbors/_classification.py:215: DataConversionWarning: A column-vector y was passed when a 1d array was expected. Please change the shape of y to (n_samples,), for example using ravel().\n",
            "  return self._fit(X, y)\n",
            "/usr/local/lib/python3.9/dist-packages/sklearn/neighbors/_classification.py:215: DataConversionWarning: A column-vector y was passed when a 1d array was expected. Please change the shape of y to (n_samples,), for example using ravel().\n",
            "  return self._fit(X, y)\n",
            "/usr/local/lib/python3.9/dist-packages/sklearn/neighbors/_classification.py:215: DataConversionWarning: A column-vector y was passed when a 1d array was expected. Please change the shape of y to (n_samples,), for example using ravel().\n",
            "  return self._fit(X, y)\n",
            "/usr/local/lib/python3.9/dist-packages/sklearn/neighbors/_classification.py:215: DataConversionWarning: A column-vector y was passed when a 1d array was expected. Please change the shape of y to (n_samples,), for example using ravel().\n",
            "  return self._fit(X, y)\n",
            "/usr/local/lib/python3.9/dist-packages/sklearn/neighbors/_classification.py:215: DataConversionWarning: A column-vector y was passed when a 1d array was expected. Please change the shape of y to (n_samples,), for example using ravel().\n",
            "  return self._fit(X, y)\n",
            "/usr/local/lib/python3.9/dist-packages/sklearn/neighbors/_classification.py:215: DataConversionWarning: A column-vector y was passed when a 1d array was expected. Please change the shape of y to (n_samples,), for example using ravel().\n",
            "  return self._fit(X, y)\n",
            "/usr/local/lib/python3.9/dist-packages/sklearn/neighbors/_classification.py:215: DataConversionWarning: A column-vector y was passed when a 1d array was expected. Please change the shape of y to (n_samples,), for example using ravel().\n",
            "  return self._fit(X, y)\n"
          ]
        },
        {
          "output_type": "stream",
          "name": "stdout",
          "text": [
            "[CV] END .........clf__metric=minkowski, clf__n_neighbors=26; total time=   0.0s\n",
            "[CV] END .........clf__metric=minkowski, clf__n_neighbors=26; total time=   0.0s\n",
            "[CV] END .........clf__metric=minkowski, clf__n_neighbors=26; total time=   0.0s\n",
            "[CV] END .........clf__metric=minkowski, clf__n_neighbors=26; total time=   0.0s\n",
            "[CV] END .........clf__metric=minkowski, clf__n_neighbors=26; total time=   0.0s\n",
            "[CV] END .........clf__metric=minkowski, clf__n_neighbors=27; total time=   0.0s\n",
            "[CV] END .........clf__metric=minkowski, clf__n_neighbors=27; total time=   0.0s\n",
            "[CV] END .........clf__metric=minkowski, clf__n_neighbors=27; total time=   0.0s\n",
            "[CV] END .........clf__metric=minkowski, clf__n_neighbors=27; total time=   0.0s\n"
          ]
        },
        {
          "output_type": "stream",
          "name": "stderr",
          "text": [
            "/usr/local/lib/python3.9/dist-packages/sklearn/neighbors/_classification.py:215: DataConversionWarning: A column-vector y was passed when a 1d array was expected. Please change the shape of y to (n_samples,), for example using ravel().\n",
            "  return self._fit(X, y)\n",
            "/usr/local/lib/python3.9/dist-packages/sklearn/neighbors/_classification.py:215: DataConversionWarning: A column-vector y was passed when a 1d array was expected. Please change the shape of y to (n_samples,), for example using ravel().\n",
            "  return self._fit(X, y)\n",
            "/usr/local/lib/python3.9/dist-packages/sklearn/neighbors/_classification.py:215: DataConversionWarning: A column-vector y was passed when a 1d array was expected. Please change the shape of y to (n_samples,), for example using ravel().\n",
            "  return self._fit(X, y)\n",
            "/usr/local/lib/python3.9/dist-packages/sklearn/neighbors/_classification.py:215: DataConversionWarning: A column-vector y was passed when a 1d array was expected. Please change the shape of y to (n_samples,), for example using ravel().\n",
            "  return self._fit(X, y)\n",
            "/usr/local/lib/python3.9/dist-packages/sklearn/neighbors/_classification.py:215: DataConversionWarning: A column-vector y was passed when a 1d array was expected. Please change the shape of y to (n_samples,), for example using ravel().\n",
            "  return self._fit(X, y)\n",
            "/usr/local/lib/python3.9/dist-packages/sklearn/neighbors/_classification.py:215: DataConversionWarning: A column-vector y was passed when a 1d array was expected. Please change the shape of y to (n_samples,), for example using ravel().\n",
            "  return self._fit(X, y)\n",
            "/usr/local/lib/python3.9/dist-packages/sklearn/neighbors/_classification.py:215: DataConversionWarning: A column-vector y was passed when a 1d array was expected. Please change the shape of y to (n_samples,), for example using ravel().\n",
            "  return self._fit(X, y)\n",
            "/usr/local/lib/python3.9/dist-packages/sklearn/neighbors/_classification.py:215: DataConversionWarning: A column-vector y was passed when a 1d array was expected. Please change the shape of y to (n_samples,), for example using ravel().\n",
            "  return self._fit(X, y)\n",
            "/usr/local/lib/python3.9/dist-packages/sklearn/neighbors/_classification.py:215: DataConversionWarning: A column-vector y was passed when a 1d array was expected. Please change the shape of y to (n_samples,), for example using ravel().\n",
            "  return self._fit(X, y)\n"
          ]
        },
        {
          "output_type": "stream",
          "name": "stdout",
          "text": [
            "[CV] END .........clf__metric=minkowski, clf__n_neighbors=27; total time=   0.0s\n",
            "[CV] END .........clf__metric=minkowski, clf__n_neighbors=28; total time=   0.0s\n",
            "[CV] END .........clf__metric=minkowski, clf__n_neighbors=28; total time=   0.0s\n",
            "[CV] END .........clf__metric=minkowski, clf__n_neighbors=28; total time=   0.0s\n",
            "[CV] END .........clf__metric=minkowski, clf__n_neighbors=28; total time=   0.0s\n",
            "[CV] END .........clf__metric=minkowski, clf__n_neighbors=28; total time=   0.0s\n",
            "[CV] END .........clf__metric=minkowski, clf__n_neighbors=29; total time=   0.0s\n",
            "[CV] END .........clf__metric=minkowski, clf__n_neighbors=29; total time=   0.0s\n",
            "[CV] END .........clf__metric=minkowski, clf__n_neighbors=29; total time=   0.0s\n"
          ]
        },
        {
          "output_type": "stream",
          "name": "stderr",
          "text": [
            "/usr/local/lib/python3.9/dist-packages/sklearn/neighbors/_classification.py:215: DataConversionWarning: A column-vector y was passed when a 1d array was expected. Please change the shape of y to (n_samples,), for example using ravel().\n",
            "  return self._fit(X, y)\n",
            "/usr/local/lib/python3.9/dist-packages/sklearn/neighbors/_classification.py:215: DataConversionWarning: A column-vector y was passed when a 1d array was expected. Please change the shape of y to (n_samples,), for example using ravel().\n",
            "  return self._fit(X, y)\n",
            "/usr/local/lib/python3.9/dist-packages/sklearn/neighbors/_classification.py:215: DataConversionWarning: A column-vector y was passed when a 1d array was expected. Please change the shape of y to (n_samples,), for example using ravel().\n",
            "  return self._fit(X, y)\n",
            "/usr/local/lib/python3.9/dist-packages/sklearn/neighbors/_classification.py:215: DataConversionWarning: A column-vector y was passed when a 1d array was expected. Please change the shape of y to (n_samples,), for example using ravel().\n",
            "  return self._fit(X, y)\n",
            "/usr/local/lib/python3.9/dist-packages/sklearn/neighbors/_classification.py:215: DataConversionWarning: A column-vector y was passed when a 1d array was expected. Please change the shape of y to (n_samples,), for example using ravel().\n",
            "  return self._fit(X, y)\n",
            "/usr/local/lib/python3.9/dist-packages/sklearn/neighbors/_classification.py:215: DataConversionWarning: A column-vector y was passed when a 1d array was expected. Please change the shape of y to (n_samples,), for example using ravel().\n",
            "  return self._fit(X, y)\n",
            "/usr/local/lib/python3.9/dist-packages/sklearn/neighbors/_classification.py:215: DataConversionWarning: A column-vector y was passed when a 1d array was expected. Please change the shape of y to (n_samples,), for example using ravel().\n",
            "  return self._fit(X, y)\n",
            "/usr/local/lib/python3.9/dist-packages/sklearn/neighbors/_classification.py:215: DataConversionWarning: A column-vector y was passed when a 1d array was expected. Please change the shape of y to (n_samples,), for example using ravel().\n",
            "  return self._fit(X, y)\n",
            "/usr/local/lib/python3.9/dist-packages/sklearn/neighbors/_classification.py:215: DataConversionWarning: A column-vector y was passed when a 1d array was expected. Please change the shape of y to (n_samples,), for example using ravel().\n",
            "  return self._fit(X, y)\n"
          ]
        },
        {
          "output_type": "stream",
          "name": "stdout",
          "text": [
            "[CV] END .........clf__metric=minkowski, clf__n_neighbors=29; total time=   0.0s\n",
            "[CV] END .........clf__metric=minkowski, clf__n_neighbors=29; total time=   0.0s\n",
            "[CV] END .........clf__metric=minkowski, clf__n_neighbors=30; total time=   0.0s\n",
            "[CV] END .........clf__metric=minkowski, clf__n_neighbors=30; total time=   0.0s\n",
            "[CV] END .........clf__metric=minkowski, clf__n_neighbors=30; total time=   0.0s\n",
            "[CV] END .........clf__metric=minkowski, clf__n_neighbors=30; total time=   0.0s\n",
            "[CV] END .........clf__metric=minkowski, clf__n_neighbors=30; total time=   0.0s\n",
            "[CV] END .........clf__metric=minkowski, clf__n_neighbors=31; total time=   0.0s\n",
            "[CV] END .........clf__metric=minkowski, clf__n_neighbors=31; total time=   0.0s\n"
          ]
        },
        {
          "output_type": "stream",
          "name": "stderr",
          "text": [
            "/usr/local/lib/python3.9/dist-packages/sklearn/neighbors/_classification.py:215: DataConversionWarning: A column-vector y was passed when a 1d array was expected. Please change the shape of y to (n_samples,), for example using ravel().\n",
            "  return self._fit(X, y)\n",
            "/usr/local/lib/python3.9/dist-packages/sklearn/neighbors/_classification.py:215: DataConversionWarning: A column-vector y was passed when a 1d array was expected. Please change the shape of y to (n_samples,), for example using ravel().\n",
            "  return self._fit(X, y)\n",
            "/usr/local/lib/python3.9/dist-packages/sklearn/neighbors/_classification.py:215: DataConversionWarning: A column-vector y was passed when a 1d array was expected. Please change the shape of y to (n_samples,), for example using ravel().\n",
            "  return self._fit(X, y)\n",
            "/usr/local/lib/python3.9/dist-packages/sklearn/neighbors/_classification.py:215: DataConversionWarning: A column-vector y was passed when a 1d array was expected. Please change the shape of y to (n_samples,), for example using ravel().\n",
            "  return self._fit(X, y)\n",
            "/usr/local/lib/python3.9/dist-packages/sklearn/neighbors/_classification.py:215: DataConversionWarning: A column-vector y was passed when a 1d array was expected. Please change the shape of y to (n_samples,), for example using ravel().\n",
            "  return self._fit(X, y)\n",
            "/usr/local/lib/python3.9/dist-packages/sklearn/neighbors/_classification.py:215: DataConversionWarning: A column-vector y was passed when a 1d array was expected. Please change the shape of y to (n_samples,), for example using ravel().\n",
            "  return self._fit(X, y)\n",
            "/usr/local/lib/python3.9/dist-packages/sklearn/neighbors/_classification.py:215: DataConversionWarning: A column-vector y was passed when a 1d array was expected. Please change the shape of y to (n_samples,), for example using ravel().\n",
            "  return self._fit(X, y)\n",
            "/usr/local/lib/python3.9/dist-packages/sklearn/neighbors/_classification.py:215: DataConversionWarning: A column-vector y was passed when a 1d array was expected. Please change the shape of y to (n_samples,), for example using ravel().\n",
            "  return self._fit(X, y)\n",
            "/usr/local/lib/python3.9/dist-packages/sklearn/neighbors/_classification.py:215: DataConversionWarning: A column-vector y was passed when a 1d array was expected. Please change the shape of y to (n_samples,), for example using ravel().\n",
            "  return self._fit(X, y)\n"
          ]
        },
        {
          "output_type": "stream",
          "name": "stdout",
          "text": [
            "[CV] END .........clf__metric=minkowski, clf__n_neighbors=31; total time=   0.0s\n",
            "[CV] END .........clf__metric=minkowski, clf__n_neighbors=31; total time=   0.0s\n",
            "[CV] END .........clf__metric=minkowski, clf__n_neighbors=31; total time=   0.0s\n",
            "[CV] END .........clf__metric=minkowski, clf__n_neighbors=32; total time=   0.0s\n",
            "[CV] END .........clf__metric=minkowski, clf__n_neighbors=32; total time=   0.0s\n",
            "[CV] END .........clf__metric=minkowski, clf__n_neighbors=32; total time=   0.0s\n",
            "[CV] END .........clf__metric=minkowski, clf__n_neighbors=32; total time=   0.0s\n",
            "[CV] END .........clf__metric=minkowski, clf__n_neighbors=32; total time=   0.0s\n",
            "[CV] END .........clf__metric=minkowski, clf__n_neighbors=33; total time=   0.0s\n"
          ]
        },
        {
          "output_type": "stream",
          "name": "stderr",
          "text": [
            "/usr/local/lib/python3.9/dist-packages/sklearn/neighbors/_classification.py:215: DataConversionWarning: A column-vector y was passed when a 1d array was expected. Please change the shape of y to (n_samples,), for example using ravel().\n",
            "  return self._fit(X, y)\n",
            "/usr/local/lib/python3.9/dist-packages/sklearn/neighbors/_classification.py:215: DataConversionWarning: A column-vector y was passed when a 1d array was expected. Please change the shape of y to (n_samples,), for example using ravel().\n",
            "  return self._fit(X, y)\n",
            "/usr/local/lib/python3.9/dist-packages/sklearn/neighbors/_classification.py:215: DataConversionWarning: A column-vector y was passed when a 1d array was expected. Please change the shape of y to (n_samples,), for example using ravel().\n",
            "  return self._fit(X, y)\n",
            "/usr/local/lib/python3.9/dist-packages/sklearn/neighbors/_classification.py:215: DataConversionWarning: A column-vector y was passed when a 1d array was expected. Please change the shape of y to (n_samples,), for example using ravel().\n",
            "  return self._fit(X, y)\n",
            "/usr/local/lib/python3.9/dist-packages/sklearn/neighbors/_classification.py:215: DataConversionWarning: A column-vector y was passed when a 1d array was expected. Please change the shape of y to (n_samples,), for example using ravel().\n",
            "  return self._fit(X, y)\n",
            "/usr/local/lib/python3.9/dist-packages/sklearn/neighbors/_classification.py:215: DataConversionWarning: A column-vector y was passed when a 1d array was expected. Please change the shape of y to (n_samples,), for example using ravel().\n",
            "  return self._fit(X, y)\n",
            "/usr/local/lib/python3.9/dist-packages/sklearn/neighbors/_classification.py:215: DataConversionWarning: A column-vector y was passed when a 1d array was expected. Please change the shape of y to (n_samples,), for example using ravel().\n",
            "  return self._fit(X, y)\n",
            "/usr/local/lib/python3.9/dist-packages/sklearn/neighbors/_classification.py:215: DataConversionWarning: A column-vector y was passed when a 1d array was expected. Please change the shape of y to (n_samples,), for example using ravel().\n",
            "  return self._fit(X, y)\n"
          ]
        },
        {
          "output_type": "stream",
          "name": "stdout",
          "text": [
            "[CV] END .........clf__metric=minkowski, clf__n_neighbors=33; total time=   0.0s\n",
            "[CV] END .........clf__metric=minkowski, clf__n_neighbors=33; total time=   0.0s\n",
            "[CV] END .........clf__metric=minkowski, clf__n_neighbors=33; total time=   0.0s\n",
            "[CV] END .........clf__metric=minkowski, clf__n_neighbors=33; total time=   0.0s\n",
            "[CV] END .........clf__metric=minkowski, clf__n_neighbors=34; total time=   0.0s\n",
            "[CV] END .........clf__metric=minkowski, clf__n_neighbors=34; total time=   0.0s\n",
            "[CV] END .........clf__metric=minkowski, clf__n_neighbors=34; total time=   0.0s\n",
            "[CV] END .........clf__metric=minkowski, clf__n_neighbors=34; total time=   0.0s\n",
            "[CV] END .........clf__metric=minkowski, clf__n_neighbors=34; total time=   0.0s\n"
          ]
        },
        {
          "output_type": "stream",
          "name": "stderr",
          "text": [
            "/usr/local/lib/python3.9/dist-packages/sklearn/neighbors/_classification.py:215: DataConversionWarning: A column-vector y was passed when a 1d array was expected. Please change the shape of y to (n_samples,), for example using ravel().\n",
            "  return self._fit(X, y)\n",
            "/usr/local/lib/python3.9/dist-packages/sklearn/neighbors/_classification.py:215: DataConversionWarning: A column-vector y was passed when a 1d array was expected. Please change the shape of y to (n_samples,), for example using ravel().\n",
            "  return self._fit(X, y)\n",
            "/usr/local/lib/python3.9/dist-packages/sklearn/neighbors/_classification.py:215: DataConversionWarning: A column-vector y was passed when a 1d array was expected. Please change the shape of y to (n_samples,), for example using ravel().\n",
            "  return self._fit(X, y)\n",
            "/usr/local/lib/python3.9/dist-packages/sklearn/neighbors/_classification.py:215: DataConversionWarning: A column-vector y was passed when a 1d array was expected. Please change the shape of y to (n_samples,), for example using ravel().\n",
            "  return self._fit(X, y)\n",
            "/usr/local/lib/python3.9/dist-packages/sklearn/neighbors/_classification.py:215: DataConversionWarning: A column-vector y was passed when a 1d array was expected. Please change the shape of y to (n_samples,), for example using ravel().\n",
            "  return self._fit(X, y)\n",
            "/usr/local/lib/python3.9/dist-packages/sklearn/neighbors/_classification.py:215: DataConversionWarning: A column-vector y was passed when a 1d array was expected. Please change the shape of y to (n_samples,), for example using ravel().\n",
            "  return self._fit(X, y)\n",
            "/usr/local/lib/python3.9/dist-packages/sklearn/neighbors/_classification.py:215: DataConversionWarning: A column-vector y was passed when a 1d array was expected. Please change the shape of y to (n_samples,), for example using ravel().\n",
            "  return self._fit(X, y)\n",
            "/usr/local/lib/python3.9/dist-packages/sklearn/neighbors/_classification.py:215: DataConversionWarning: A column-vector y was passed when a 1d array was expected. Please change the shape of y to (n_samples,), for example using ravel().\n",
            "  return self._fit(X, y)\n"
          ]
        },
        {
          "output_type": "stream",
          "name": "stdout",
          "text": [
            "[CV] END .........clf__metric=minkowski, clf__n_neighbors=35; total time=   0.0s\n",
            "[CV] END .........clf__metric=minkowski, clf__n_neighbors=35; total time=   0.0s\n",
            "[CV] END .........clf__metric=minkowski, clf__n_neighbors=35; total time=   0.0s\n",
            "[CV] END .........clf__metric=minkowski, clf__n_neighbors=35; total time=   0.0s\n",
            "[CV] END .........clf__metric=minkowski, clf__n_neighbors=35; total time=   0.0s\n",
            "[CV] END .........clf__metric=minkowski, clf__n_neighbors=36; total time=   0.0s\n",
            "[CV] END .........clf__metric=minkowski, clf__n_neighbors=36; total time=   0.0s\n",
            "[CV] END .........clf__metric=minkowski, clf__n_neighbors=36; total time=   0.0s\n",
            "[CV] END .........clf__metric=minkowski, clf__n_neighbors=36; total time=   0.0s\n"
          ]
        },
        {
          "output_type": "stream",
          "name": "stderr",
          "text": [
            "/usr/local/lib/python3.9/dist-packages/sklearn/neighbors/_classification.py:215: DataConversionWarning: A column-vector y was passed when a 1d array was expected. Please change the shape of y to (n_samples,), for example using ravel().\n",
            "  return self._fit(X, y)\n",
            "/usr/local/lib/python3.9/dist-packages/sklearn/neighbors/_classification.py:215: DataConversionWarning: A column-vector y was passed when a 1d array was expected. Please change the shape of y to (n_samples,), for example using ravel().\n",
            "  return self._fit(X, y)\n",
            "/usr/local/lib/python3.9/dist-packages/sklearn/neighbors/_classification.py:215: DataConversionWarning: A column-vector y was passed when a 1d array was expected. Please change the shape of y to (n_samples,), for example using ravel().\n",
            "  return self._fit(X, y)\n",
            "/usr/local/lib/python3.9/dist-packages/sklearn/neighbors/_classification.py:215: DataConversionWarning: A column-vector y was passed when a 1d array was expected. Please change the shape of y to (n_samples,), for example using ravel().\n",
            "  return self._fit(X, y)\n",
            "/usr/local/lib/python3.9/dist-packages/sklearn/neighbors/_classification.py:215: DataConversionWarning: A column-vector y was passed when a 1d array was expected. Please change the shape of y to (n_samples,), for example using ravel().\n",
            "  return self._fit(X, y)\n",
            "/usr/local/lib/python3.9/dist-packages/sklearn/neighbors/_classification.py:215: DataConversionWarning: A column-vector y was passed when a 1d array was expected. Please change the shape of y to (n_samples,), for example using ravel().\n",
            "  return self._fit(X, y)\n",
            "/usr/local/lib/python3.9/dist-packages/sklearn/neighbors/_classification.py:215: DataConversionWarning: A column-vector y was passed when a 1d array was expected. Please change the shape of y to (n_samples,), for example using ravel().\n",
            "  return self._fit(X, y)\n",
            "/usr/local/lib/python3.9/dist-packages/sklearn/neighbors/_classification.py:215: DataConversionWarning: A column-vector y was passed when a 1d array was expected. Please change the shape of y to (n_samples,), for example using ravel().\n",
            "  return self._fit(X, y)\n",
            "/usr/local/lib/python3.9/dist-packages/sklearn/neighbors/_classification.py:215: DataConversionWarning: A column-vector y was passed when a 1d array was expected. Please change the shape of y to (n_samples,), for example using ravel().\n",
            "  return self._fit(X, y)\n"
          ]
        },
        {
          "output_type": "stream",
          "name": "stdout",
          "text": [
            "[CV] END .........clf__metric=minkowski, clf__n_neighbors=36; total time=   0.0s\n",
            "[CV] END .........clf__metric=minkowski, clf__n_neighbors=37; total time=   0.0s\n",
            "[CV] END .........clf__metric=minkowski, clf__n_neighbors=37; total time=   0.0s\n",
            "[CV] END .........clf__metric=minkowski, clf__n_neighbors=37; total time=   0.0s\n",
            "[CV] END .........clf__metric=minkowski, clf__n_neighbors=37; total time=   0.0s\n",
            "[CV] END .........clf__metric=minkowski, clf__n_neighbors=37; total time=   0.0s\n",
            "[CV] END .........clf__metric=minkowski, clf__n_neighbors=38; total time=   0.0s\n",
            "[CV] END .........clf__metric=minkowski, clf__n_neighbors=38; total time=   0.0s\n",
            "[CV] END .........clf__metric=minkowski, clf__n_neighbors=38; total time=   0.0s\n"
          ]
        },
        {
          "output_type": "stream",
          "name": "stderr",
          "text": [
            "/usr/local/lib/python3.9/dist-packages/sklearn/neighbors/_classification.py:215: DataConversionWarning: A column-vector y was passed when a 1d array was expected. Please change the shape of y to (n_samples,), for example using ravel().\n",
            "  return self._fit(X, y)\n",
            "/usr/local/lib/python3.9/dist-packages/sklearn/neighbors/_classification.py:215: DataConversionWarning: A column-vector y was passed when a 1d array was expected. Please change the shape of y to (n_samples,), for example using ravel().\n",
            "  return self._fit(X, y)\n",
            "/usr/local/lib/python3.9/dist-packages/sklearn/neighbors/_classification.py:215: DataConversionWarning: A column-vector y was passed when a 1d array was expected. Please change the shape of y to (n_samples,), for example using ravel().\n",
            "  return self._fit(X, y)\n",
            "/usr/local/lib/python3.9/dist-packages/sklearn/neighbors/_classification.py:215: DataConversionWarning: A column-vector y was passed when a 1d array was expected. Please change the shape of y to (n_samples,), for example using ravel().\n",
            "  return self._fit(X, y)\n",
            "/usr/local/lib/python3.9/dist-packages/sklearn/neighbors/_classification.py:215: DataConversionWarning: A column-vector y was passed when a 1d array was expected. Please change the shape of y to (n_samples,), for example using ravel().\n",
            "  return self._fit(X, y)\n",
            "/usr/local/lib/python3.9/dist-packages/sklearn/neighbors/_classification.py:215: DataConversionWarning: A column-vector y was passed when a 1d array was expected. Please change the shape of y to (n_samples,), for example using ravel().\n",
            "  return self._fit(X, y)\n",
            "/usr/local/lib/python3.9/dist-packages/sklearn/neighbors/_classification.py:215: DataConversionWarning: A column-vector y was passed when a 1d array was expected. Please change the shape of y to (n_samples,), for example using ravel().\n",
            "  return self._fit(X, y)\n",
            "/usr/local/lib/python3.9/dist-packages/sklearn/neighbors/_classification.py:215: DataConversionWarning: A column-vector y was passed when a 1d array was expected. Please change the shape of y to (n_samples,), for example using ravel().\n",
            "  return self._fit(X, y)\n",
            "/usr/local/lib/python3.9/dist-packages/sklearn/neighbors/_classification.py:215: DataConversionWarning: A column-vector y was passed when a 1d array was expected. Please change the shape of y to (n_samples,), for example using ravel().\n",
            "  return self._fit(X, y)\n"
          ]
        },
        {
          "output_type": "stream",
          "name": "stdout",
          "text": [
            "[CV] END .........clf__metric=minkowski, clf__n_neighbors=38; total time=   0.0s\n",
            "[CV] END .........clf__metric=minkowski, clf__n_neighbors=38; total time=   0.0s\n",
            "[CV] END .........clf__metric=minkowski, clf__n_neighbors=39; total time=   0.0s\n",
            "[CV] END .........clf__metric=minkowski, clf__n_neighbors=39; total time=   0.0s\n",
            "[CV] END .........clf__metric=minkowski, clf__n_neighbors=39; total time=   0.0s\n",
            "[CV] END .........clf__metric=minkowski, clf__n_neighbors=39; total time=   0.0s\n",
            "[CV] END .........clf__metric=minkowski, clf__n_neighbors=39; total time=   0.0s\n",
            "[CV] END .........clf__metric=minkowski, clf__n_neighbors=40; total time=   0.0s\n",
            "[CV] END .........clf__metric=minkowski, clf__n_neighbors=40; total time=   0.0s\n"
          ]
        },
        {
          "output_type": "stream",
          "name": "stderr",
          "text": [
            "/usr/local/lib/python3.9/dist-packages/sklearn/neighbors/_classification.py:215: DataConversionWarning: A column-vector y was passed when a 1d array was expected. Please change the shape of y to (n_samples,), for example using ravel().\n",
            "  return self._fit(X, y)\n",
            "/usr/local/lib/python3.9/dist-packages/sklearn/neighbors/_classification.py:215: DataConversionWarning: A column-vector y was passed when a 1d array was expected. Please change the shape of y to (n_samples,), for example using ravel().\n",
            "  return self._fit(X, y)\n",
            "/usr/local/lib/python3.9/dist-packages/sklearn/neighbors/_classification.py:215: DataConversionWarning: A column-vector y was passed when a 1d array was expected. Please change the shape of y to (n_samples,), for example using ravel().\n",
            "  return self._fit(X, y)\n",
            "/usr/local/lib/python3.9/dist-packages/sklearn/neighbors/_classification.py:215: DataConversionWarning: A column-vector y was passed when a 1d array was expected. Please change the shape of y to (n_samples,), for example using ravel().\n",
            "  return self._fit(X, y)\n",
            "/usr/local/lib/python3.9/dist-packages/sklearn/neighbors/_classification.py:215: DataConversionWarning: A column-vector y was passed when a 1d array was expected. Please change the shape of y to (n_samples,), for example using ravel().\n",
            "  return self._fit(X, y)\n",
            "/usr/local/lib/python3.9/dist-packages/sklearn/neighbors/_classification.py:215: DataConversionWarning: A column-vector y was passed when a 1d array was expected. Please change the shape of y to (n_samples,), for example using ravel().\n",
            "  return self._fit(X, y)\n",
            "/usr/local/lib/python3.9/dist-packages/sklearn/neighbors/_classification.py:215: DataConversionWarning: A column-vector y was passed when a 1d array was expected. Please change the shape of y to (n_samples,), for example using ravel().\n",
            "  return self._fit(X, y)\n",
            "/usr/local/lib/python3.9/dist-packages/sklearn/neighbors/_classification.py:215: DataConversionWarning: A column-vector y was passed when a 1d array was expected. Please change the shape of y to (n_samples,), for example using ravel().\n",
            "  return self._fit(X, y)\n",
            "/usr/local/lib/python3.9/dist-packages/sklearn/neighbors/_classification.py:215: DataConversionWarning: A column-vector y was passed when a 1d array was expected. Please change the shape of y to (n_samples,), for example using ravel().\n",
            "  return self._fit(X, y)\n"
          ]
        },
        {
          "output_type": "stream",
          "name": "stdout",
          "text": [
            "[CV] END .........clf__metric=minkowski, clf__n_neighbors=40; total time=   0.0s\n",
            "[CV] END .........clf__metric=minkowski, clf__n_neighbors=40; total time=   0.0s\n",
            "[CV] END .........clf__metric=minkowski, clf__n_neighbors=40; total time=   0.0s\n",
            "[CV] END .........clf__metric=minkowski, clf__n_neighbors=41; total time=   0.0s\n",
            "[CV] END .........clf__metric=minkowski, clf__n_neighbors=41; total time=   0.0s\n",
            "[CV] END .........clf__metric=minkowski, clf__n_neighbors=41; total time=   0.0s\n",
            "[CV] END .........clf__metric=minkowski, clf__n_neighbors=41; total time=   0.0s\n",
            "[CV] END .........clf__metric=minkowski, clf__n_neighbors=41; total time=   0.0s\n"
          ]
        },
        {
          "output_type": "stream",
          "name": "stderr",
          "text": [
            "/usr/local/lib/python3.9/dist-packages/sklearn/neighbors/_classification.py:215: DataConversionWarning: A column-vector y was passed when a 1d array was expected. Please change the shape of y to (n_samples,), for example using ravel().\n",
            "  return self._fit(X, y)\n",
            "/usr/local/lib/python3.9/dist-packages/sklearn/neighbors/_classification.py:215: DataConversionWarning: A column-vector y was passed when a 1d array was expected. Please change the shape of y to (n_samples,), for example using ravel().\n",
            "  return self._fit(X, y)\n",
            "/usr/local/lib/python3.9/dist-packages/sklearn/neighbors/_classification.py:215: DataConversionWarning: A column-vector y was passed when a 1d array was expected. Please change the shape of y to (n_samples,), for example using ravel().\n",
            "  return self._fit(X, y)\n",
            "/usr/local/lib/python3.9/dist-packages/sklearn/neighbors/_classification.py:215: DataConversionWarning: A column-vector y was passed when a 1d array was expected. Please change the shape of y to (n_samples,), for example using ravel().\n",
            "  return self._fit(X, y)\n",
            "/usr/local/lib/python3.9/dist-packages/sklearn/neighbors/_classification.py:215: DataConversionWarning: A column-vector y was passed when a 1d array was expected. Please change the shape of y to (n_samples,), for example using ravel().\n",
            "  return self._fit(X, y)\n",
            "/usr/local/lib/python3.9/dist-packages/sklearn/neighbors/_classification.py:215: DataConversionWarning: A column-vector y was passed when a 1d array was expected. Please change the shape of y to (n_samples,), for example using ravel().\n",
            "  return self._fit(X, y)\n",
            "/usr/local/lib/python3.9/dist-packages/sklearn/neighbors/_classification.py:215: DataConversionWarning: A column-vector y was passed when a 1d array was expected. Please change the shape of y to (n_samples,), for example using ravel().\n",
            "  return self._fit(X, y)\n",
            "/usr/local/lib/python3.9/dist-packages/sklearn/neighbors/_classification.py:215: DataConversionWarning: A column-vector y was passed when a 1d array was expected. Please change the shape of y to (n_samples,), for example using ravel().\n",
            "  return self._fit(X, y)\n"
          ]
        },
        {
          "output_type": "stream",
          "name": "stdout",
          "text": [
            "[CV] END .........clf__metric=minkowski, clf__n_neighbors=42; total time=   0.0s\n",
            "[CV] END .........clf__metric=minkowski, clf__n_neighbors=42; total time=   0.0s\n",
            "[CV] END .........clf__metric=minkowski, clf__n_neighbors=42; total time=   0.0s\n",
            "[CV] END .........clf__metric=minkowski, clf__n_neighbors=42; total time=   0.0s\n",
            "[CV] END .........clf__metric=minkowski, clf__n_neighbors=42; total time=   0.0s\n",
            "[CV] END .........clf__metric=minkowski, clf__n_neighbors=43; total time=   0.0s\n",
            "[CV] END .........clf__metric=minkowski, clf__n_neighbors=43; total time=   0.0s\n",
            "[CV] END .........clf__metric=minkowski, clf__n_neighbors=43; total time=   0.0s\n",
            "[CV] END .........clf__metric=minkowski, clf__n_neighbors=43; total time=   0.0s\n"
          ]
        },
        {
          "output_type": "stream",
          "name": "stderr",
          "text": [
            "/usr/local/lib/python3.9/dist-packages/sklearn/neighbors/_classification.py:215: DataConversionWarning: A column-vector y was passed when a 1d array was expected. Please change the shape of y to (n_samples,), for example using ravel().\n",
            "  return self._fit(X, y)\n",
            "/usr/local/lib/python3.9/dist-packages/sklearn/neighbors/_classification.py:215: DataConversionWarning: A column-vector y was passed when a 1d array was expected. Please change the shape of y to (n_samples,), for example using ravel().\n",
            "  return self._fit(X, y)\n",
            "/usr/local/lib/python3.9/dist-packages/sklearn/neighbors/_classification.py:215: DataConversionWarning: A column-vector y was passed when a 1d array was expected. Please change the shape of y to (n_samples,), for example using ravel().\n",
            "  return self._fit(X, y)\n",
            "/usr/local/lib/python3.9/dist-packages/sklearn/neighbors/_classification.py:215: DataConversionWarning: A column-vector y was passed when a 1d array was expected. Please change the shape of y to (n_samples,), for example using ravel().\n",
            "  return self._fit(X, y)\n",
            "/usr/local/lib/python3.9/dist-packages/sklearn/neighbors/_classification.py:215: DataConversionWarning: A column-vector y was passed when a 1d array was expected. Please change the shape of y to (n_samples,), for example using ravel().\n",
            "  return self._fit(X, y)\n",
            "/usr/local/lib/python3.9/dist-packages/sklearn/neighbors/_classification.py:215: DataConversionWarning: A column-vector y was passed when a 1d array was expected. Please change the shape of y to (n_samples,), for example using ravel().\n",
            "  return self._fit(X, y)\n",
            "/usr/local/lib/python3.9/dist-packages/sklearn/neighbors/_classification.py:215: DataConversionWarning: A column-vector y was passed when a 1d array was expected. Please change the shape of y to (n_samples,), for example using ravel().\n",
            "  return self._fit(X, y)\n",
            "/usr/local/lib/python3.9/dist-packages/sklearn/neighbors/_classification.py:215: DataConversionWarning: A column-vector y was passed when a 1d array was expected. Please change the shape of y to (n_samples,), for example using ravel().\n",
            "  return self._fit(X, y)\n",
            "/usr/local/lib/python3.9/dist-packages/sklearn/neighbors/_classification.py:215: DataConversionWarning: A column-vector y was passed when a 1d array was expected. Please change the shape of y to (n_samples,), for example using ravel().\n",
            "  return self._fit(X, y)\n"
          ]
        },
        {
          "output_type": "stream",
          "name": "stdout",
          "text": [
            "[CV] END .........clf__metric=minkowski, clf__n_neighbors=43; total time=   0.0s\n",
            "[CV] END .........clf__metric=minkowski, clf__n_neighbors=44; total time=   0.0s\n",
            "[CV] END .........clf__metric=minkowski, clf__n_neighbors=44; total time=   0.0s\n",
            "[CV] END .........clf__metric=minkowski, clf__n_neighbors=44; total time=   0.0s\n",
            "[CV] END .........clf__metric=minkowski, clf__n_neighbors=44; total time=   0.0s\n",
            "[CV] END .........clf__metric=minkowski, clf__n_neighbors=44; total time=   0.0s\n",
            "[CV] END .........clf__metric=minkowski, clf__n_neighbors=45; total time=   0.0s\n",
            "[CV] END .........clf__metric=minkowski, clf__n_neighbors=45; total time=   0.0s\n",
            "[CV] END .........clf__metric=minkowski, clf__n_neighbors=45; total time=   0.0s\n"
          ]
        },
        {
          "output_type": "stream",
          "name": "stderr",
          "text": [
            "/usr/local/lib/python3.9/dist-packages/sklearn/neighbors/_classification.py:215: DataConversionWarning: A column-vector y was passed when a 1d array was expected. Please change the shape of y to (n_samples,), for example using ravel().\n",
            "  return self._fit(X, y)\n",
            "/usr/local/lib/python3.9/dist-packages/sklearn/neighbors/_classification.py:215: DataConversionWarning: A column-vector y was passed when a 1d array was expected. Please change the shape of y to (n_samples,), for example using ravel().\n",
            "  return self._fit(X, y)\n",
            "/usr/local/lib/python3.9/dist-packages/sklearn/neighbors/_classification.py:215: DataConversionWarning: A column-vector y was passed when a 1d array was expected. Please change the shape of y to (n_samples,), for example using ravel().\n",
            "  return self._fit(X, y)\n",
            "/usr/local/lib/python3.9/dist-packages/sklearn/neighbors/_classification.py:215: DataConversionWarning: A column-vector y was passed when a 1d array was expected. Please change the shape of y to (n_samples,), for example using ravel().\n",
            "  return self._fit(X, y)\n",
            "/usr/local/lib/python3.9/dist-packages/sklearn/neighbors/_classification.py:215: DataConversionWarning: A column-vector y was passed when a 1d array was expected. Please change the shape of y to (n_samples,), for example using ravel().\n",
            "  return self._fit(X, y)\n",
            "/usr/local/lib/python3.9/dist-packages/sklearn/neighbors/_classification.py:215: DataConversionWarning: A column-vector y was passed when a 1d array was expected. Please change the shape of y to (n_samples,), for example using ravel().\n",
            "  return self._fit(X, y)\n",
            "/usr/local/lib/python3.9/dist-packages/sklearn/neighbors/_classification.py:215: DataConversionWarning: A column-vector y was passed when a 1d array was expected. Please change the shape of y to (n_samples,), for example using ravel().\n",
            "  return self._fit(X, y)\n",
            "/usr/local/lib/python3.9/dist-packages/sklearn/neighbors/_classification.py:215: DataConversionWarning: A column-vector y was passed when a 1d array was expected. Please change the shape of y to (n_samples,), for example using ravel().\n",
            "  return self._fit(X, y)\n",
            "/usr/local/lib/python3.9/dist-packages/sklearn/neighbors/_classification.py:215: DataConversionWarning: A column-vector y was passed when a 1d array was expected. Please change the shape of y to (n_samples,), for example using ravel().\n",
            "  return self._fit(X, y)\n"
          ]
        },
        {
          "output_type": "stream",
          "name": "stdout",
          "text": [
            "[CV] END .........clf__metric=minkowski, clf__n_neighbors=45; total time=   0.0s\n",
            "[CV] END .........clf__metric=minkowski, clf__n_neighbors=45; total time=   0.0s\n",
            "[CV] END .........clf__metric=minkowski, clf__n_neighbors=46; total time=   0.0s\n",
            "[CV] END .........clf__metric=minkowski, clf__n_neighbors=46; total time=   0.0s\n",
            "[CV] END .........clf__metric=minkowski, clf__n_neighbors=46; total time=   0.0s\n",
            "[CV] END .........clf__metric=minkowski, clf__n_neighbors=46; total time=   0.0s\n",
            "[CV] END .........clf__metric=minkowski, clf__n_neighbors=46; total time=   0.0s\n",
            "[CV] END .........clf__metric=minkowski, clf__n_neighbors=47; total time=   0.0s\n",
            "[CV] END .........clf__metric=minkowski, clf__n_neighbors=47; total time=   0.0s\n"
          ]
        },
        {
          "output_type": "stream",
          "name": "stderr",
          "text": [
            "/usr/local/lib/python3.9/dist-packages/sklearn/neighbors/_classification.py:215: DataConversionWarning: A column-vector y was passed when a 1d array was expected. Please change the shape of y to (n_samples,), for example using ravel().\n",
            "  return self._fit(X, y)\n",
            "/usr/local/lib/python3.9/dist-packages/sklearn/neighbors/_classification.py:215: DataConversionWarning: A column-vector y was passed when a 1d array was expected. Please change the shape of y to (n_samples,), for example using ravel().\n",
            "  return self._fit(X, y)\n",
            "/usr/local/lib/python3.9/dist-packages/sklearn/neighbors/_classification.py:215: DataConversionWarning: A column-vector y was passed when a 1d array was expected. Please change the shape of y to (n_samples,), for example using ravel().\n",
            "  return self._fit(X, y)\n",
            "/usr/local/lib/python3.9/dist-packages/sklearn/neighbors/_classification.py:215: DataConversionWarning: A column-vector y was passed when a 1d array was expected. Please change the shape of y to (n_samples,), for example using ravel().\n",
            "  return self._fit(X, y)\n",
            "/usr/local/lib/python3.9/dist-packages/sklearn/neighbors/_classification.py:215: DataConversionWarning: A column-vector y was passed when a 1d array was expected. Please change the shape of y to (n_samples,), for example using ravel().\n",
            "  return self._fit(X, y)\n",
            "/usr/local/lib/python3.9/dist-packages/sklearn/neighbors/_classification.py:215: DataConversionWarning: A column-vector y was passed when a 1d array was expected. Please change the shape of y to (n_samples,), for example using ravel().\n",
            "  return self._fit(X, y)\n",
            "/usr/local/lib/python3.9/dist-packages/sklearn/neighbors/_classification.py:215: DataConversionWarning: A column-vector y was passed when a 1d array was expected. Please change the shape of y to (n_samples,), for example using ravel().\n",
            "  return self._fit(X, y)\n",
            "/usr/local/lib/python3.9/dist-packages/sklearn/neighbors/_classification.py:215: DataConversionWarning: A column-vector y was passed when a 1d array was expected. Please change the shape of y to (n_samples,), for example using ravel().\n",
            "  return self._fit(X, y)\n",
            "/usr/local/lib/python3.9/dist-packages/sklearn/neighbors/_classification.py:215: DataConversionWarning: A column-vector y was passed when a 1d array was expected. Please change the shape of y to (n_samples,), for example using ravel().\n",
            "  return self._fit(X, y)\n"
          ]
        },
        {
          "output_type": "stream",
          "name": "stdout",
          "text": [
            "[CV] END .........clf__metric=minkowski, clf__n_neighbors=47; total time=   0.0s\n",
            "[CV] END .........clf__metric=minkowski, clf__n_neighbors=47; total time=   0.0s\n",
            "[CV] END .........clf__metric=minkowski, clf__n_neighbors=47; total time=   0.0s\n",
            "[CV] END .........clf__metric=minkowski, clf__n_neighbors=48; total time=   0.0s\n",
            "[CV] END .........clf__metric=minkowski, clf__n_neighbors=48; total time=   0.0s\n",
            "[CV] END .........clf__metric=minkowski, clf__n_neighbors=48; total time=   0.0s\n",
            "[CV] END .........clf__metric=minkowski, clf__n_neighbors=48; total time=   0.0s\n",
            "[CV] END .........clf__metric=minkowski, clf__n_neighbors=48; total time=   0.0s\n"
          ]
        },
        {
          "output_type": "stream",
          "name": "stderr",
          "text": [
            "/usr/local/lib/python3.9/dist-packages/sklearn/neighbors/_classification.py:215: DataConversionWarning: A column-vector y was passed when a 1d array was expected. Please change the shape of y to (n_samples,), for example using ravel().\n",
            "  return self._fit(X, y)\n",
            "/usr/local/lib/python3.9/dist-packages/sklearn/neighbors/_classification.py:215: DataConversionWarning: A column-vector y was passed when a 1d array was expected. Please change the shape of y to (n_samples,), for example using ravel().\n",
            "  return self._fit(X, y)\n",
            "/usr/local/lib/python3.9/dist-packages/sklearn/neighbors/_classification.py:215: DataConversionWarning: A column-vector y was passed when a 1d array was expected. Please change the shape of y to (n_samples,), for example using ravel().\n",
            "  return self._fit(X, y)\n",
            "/usr/local/lib/python3.9/dist-packages/sklearn/neighbors/_classification.py:215: DataConversionWarning: A column-vector y was passed when a 1d array was expected. Please change the shape of y to (n_samples,), for example using ravel().\n",
            "  return self._fit(X, y)\n",
            "/usr/local/lib/python3.9/dist-packages/sklearn/neighbors/_classification.py:215: DataConversionWarning: A column-vector y was passed when a 1d array was expected. Please change the shape of y to (n_samples,), for example using ravel().\n",
            "  return self._fit(X, y)\n",
            "/usr/local/lib/python3.9/dist-packages/sklearn/neighbors/_classification.py:215: DataConversionWarning: A column-vector y was passed when a 1d array was expected. Please change the shape of y to (n_samples,), for example using ravel().\n",
            "  return self._fit(X, y)\n",
            "/usr/local/lib/python3.9/dist-packages/sklearn/neighbors/_classification.py:215: DataConversionWarning: A column-vector y was passed when a 1d array was expected. Please change the shape of y to (n_samples,), for example using ravel().\n",
            "  return self._fit(X, y)\n",
            "/usr/local/lib/python3.9/dist-packages/sklearn/neighbors/_classification.py:215: DataConversionWarning: A column-vector y was passed when a 1d array was expected. Please change the shape of y to (n_samples,), for example using ravel().\n",
            "  return self._fit(X, y)\n"
          ]
        },
        {
          "output_type": "stream",
          "name": "stdout",
          "text": [
            "[CV] END .........clf__metric=minkowski, clf__n_neighbors=49; total time=   0.0s\n",
            "[CV] END .........clf__metric=minkowski, clf__n_neighbors=49; total time=   0.0s\n",
            "[CV] END .........clf__metric=minkowski, clf__n_neighbors=49; total time=   0.0s\n",
            "[CV] END .........clf__metric=minkowski, clf__n_neighbors=49; total time=   0.0s\n",
            "[CV] END .........clf__metric=minkowski, clf__n_neighbors=49; total time=   0.0s\n",
            "Done\n",
            "Training Score: 0.3795779546476214\n",
            "Parameters: {'clf__metric': 'manhattan', 'clf__n_neighbors': 22}\n",
            "Best Classifier: Pipeline(steps=[('select',\n",
            "                 SelectKBest(k=2,\n",
            "                             score_func=<function chi2 at 0x7f2295ba6310>)),\n",
            "                ('clf',\n",
            "                 KNeighborsClassifier(metric='manhattan', n_neighbors=22))])\n",
            "[{'Model': LogisticRegression(), 'Best_Score': 0.29721123960412993, 'Best_Params': {'clf__C': 0.0001, 'clf__multi_class': 'ovr', 'clf__penalty': 'none'}}, {'Model': RandomForestClassifier(), 'Best_Score': 0.36524233463666433, 'Best_Params': {'clf__criterion': 'gini', 'clf__max_depth': 10, 'clf__n_estimators': 200}}, {'Model': SVC(), 'Best_Score': 0.2754698793054401, 'Best_Params': {'clf__C': 100, 'clf__kernel': 'linear', 'clf__max_iter': 50}}, {'Model': KNeighborsClassifier(), 'Best_Score': 0.3795779546476214, 'Best_Params': {'clf__metric': 'manhattan', 'clf__n_neighbors': 22}}]\n"
          ]
        },
        {
          "output_type": "stream",
          "name": "stderr",
          "text": [
            "/usr/local/lib/python3.9/dist-packages/sklearn/neighbors/_classification.py:215: DataConversionWarning: A column-vector y was passed when a 1d array was expected. Please change the shape of y to (n_samples,), for example using ravel().\n",
            "  return self._fit(X, y)\n",
            "/usr/local/lib/python3.9/dist-packages/sklearn/neighbors/_classification.py:215: DataConversionWarning: A column-vector y was passed when a 1d array was expected. Please change the shape of y to (n_samples,), for example using ravel().\n",
            "  return self._fit(X, y)\n",
            "/usr/local/lib/python3.9/dist-packages/sklearn/neighbors/_classification.py:215: DataConversionWarning: A column-vector y was passed when a 1d array was expected. Please change the shape of y to (n_samples,), for example using ravel().\n",
            "  return self._fit(X, y)\n",
            "/usr/local/lib/python3.9/dist-packages/sklearn/neighbors/_classification.py:215: DataConversionWarning: A column-vector y was passed when a 1d array was expected. Please change the shape of y to (n_samples,), for example using ravel().\n",
            "  return self._fit(X, y)\n",
            "/usr/local/lib/python3.9/dist-packages/sklearn/neighbors/_classification.py:215: DataConversionWarning: A column-vector y was passed when a 1d array was expected. Please change the shape of y to (n_samples,), for example using ravel().\n",
            "  return self._fit(X, y)\n"
          ]
        }
      ]
    },
    {
      "cell_type": "code",
      "source": [
        "# Logistic Regression\n",
        "\n",
        "log_reg = LogisticRegression()\n",
        "log_reg.fit(train_data, train_label)\n",
        "log_reg_pred_wo_tune = log_reg.predict(valid_data)\n",
        "print(\"--------Logistic Regression-------\")\n",
        "print('\\nConfusion Matrix:\\n', confusion_matrix(valid_label, log_reg_pred_wo_tune))\n",
        "print('\\nClassification Report:\\n', classification_report(valid_label, log_reg_pred_wo_tune))\n",
        "print('\\nAccuracy Score:\\n', accuracy_score(valid_label, log_reg_pred_wo_tune))\n",
        "print('\\nPresicion Score:\\n', precision_score(valid_label, knn_pred_wo_tune, average= 'macro'))\n",
        "print('\\nRecall Score:\\n', recall_score(valid_label, knn_pred_wo_tune, average= 'macro'))\n",
        "print('\\nF1_Score Score:\\n', f1_score(valid_label, knn_pred_wo_tune, average= 'macro'))"
      ],
      "metadata": {
        "colab": {
          "base_uri": "https://localhost:8080/"
        },
        "id": "Tish-0-r3Cwx",
        "outputId": "caa8c8c6-d20b-4c0e-98a1-965a475d9052"
      },
      "execution_count": 107,
      "outputs": [
        {
          "output_type": "stream",
          "name": "stderr",
          "text": [
            "/usr/local/lib/python3.9/dist-packages/sklearn/utils/validation.py:1143: DataConversionWarning: A column-vector y was passed when a 1d array was expected. Please change the shape of y to (n_samples, ), for example using ravel().\n",
            "  y = column_or_1d(y, warn=True)\n"
          ]
        },
        {
          "output_type": "stream",
          "name": "stdout",
          "text": [
            "--------Logistic Regression-------\n",
            "\n",
            "Confusion Matrix:\n",
            " [[ 4  0  4  0  0  0  5  0  3  1]\n",
            " [ 0 17  1  0  0  0  0  0  0  0]\n",
            " [ 0  1 11  1  0  1  0  1  1  2]\n",
            " [ 0  0  1  8  2  0  2  0  0  5]\n",
            " [ 0  0  0  1  9  0  1  4  2  1]\n",
            " [ 2  1  0  1  0 13  0  0  0  1]\n",
            " [ 0  0  0  2  0  0 14  0  0  2]\n",
            " [ 0  0  1  1  0  0  0 15  0  1]\n",
            " [ 1  1  0  0  2  0  0  2 12  0]\n",
            " [ 1  0  4  1  0  0  1  2  1  9]]\n",
            "\n",
            "Classification Report:\n",
            "               precision    recall  f1-score   support\n",
            "\n",
            "           0       0.50      0.24      0.32        17\n",
            "           1       0.85      0.94      0.89        18\n",
            "           2       0.50      0.61      0.55        18\n",
            "           3       0.53      0.44      0.48        18\n",
            "           4       0.69      0.50      0.58        18\n",
            "           5       0.93      0.72      0.81        18\n",
            "           6       0.61      0.78      0.68        18\n",
            "           7       0.62      0.83      0.71        18\n",
            "           8       0.63      0.67      0.65        18\n",
            "           9       0.41      0.47      0.44        19\n",
            "\n",
            "    accuracy                           0.62       180\n",
            "   macro avg       0.63      0.62      0.61       180\n",
            "weighted avg       0.63      0.62      0.61       180\n",
            "\n",
            "\n",
            "Accuracy Score:\n",
            " 0.6222222222222222\n",
            "\n",
            "Presicion Score:\n",
            " 0.6233595546255393\n",
            "\n",
            "Recall Score:\n",
            " 0.5897488820089439\n",
            "\n",
            "F1_Score Score:\n",
            " 0.5901517396535584\n"
          ]
        },
        {
          "output_type": "stream",
          "name": "stderr",
          "text": [
            "/usr/local/lib/python3.9/dist-packages/sklearn/linear_model/_logistic.py:458: ConvergenceWarning: lbfgs failed to converge (status=1):\n",
            "STOP: TOTAL NO. of ITERATIONS REACHED LIMIT.\n",
            "\n",
            "Increase the number of iterations (max_iter) or scale the data as shown in:\n",
            "    https://scikit-learn.org/stable/modules/preprocessing.html\n",
            "Please also refer to the documentation for alternative solver options:\n",
            "    https://scikit-learn.org/stable/modules/linear_model.html#logistic-regression\n",
            "  n_iter_i = _check_optimize_result(\n"
          ]
        }
      ]
    },
    {
      "cell_type": "code",
      "source": [
        "# Random Forest\n",
        "\n",
        "rf = RandomForestClassifier(criterion = 'entropy', max_depth = 10, n_estimators = 200)\n",
        "rf.fit(train_data, train_label) \n",
        "rf_pred_tune = rf.predict(valid_data)\n",
        "print(\"--------Random Forest-------\")\n",
        "print('\\nConfusion Matrix:\\n', confusion_matrix(valid_label, rf_pred_tune))\n",
        "print('\\nClassification Report:\\n', classification_report(valid_label,rf_pred_tune))\n",
        "print('\\n Accuracy Score:\\n', accuracy_score(valid_label, rf_pred_tune))\n",
        "print('\\n f1_score Score:\\n', f1_score(valid_label, rf_pred_tune, average='weighted'))\n",
        "print('\\nPresicion Score:\\n', precision_score(valid_label, knn_pred_wo_tune, average= 'macro'))\n",
        "print('\\nRecall Score:\\n', recall_score(valid_label, knn_pred_wo_tune, average= 'macro'))"
      ],
      "metadata": {
        "colab": {
          "base_uri": "https://localhost:8080/"
        },
        "id": "9EPf0NWSek56",
        "outputId": "7ab26291-214a-4f63-c172-79fb2de2b3eb"
      },
      "execution_count": 108,
      "outputs": [
        {
          "output_type": "stream",
          "name": "stderr",
          "text": [
            "<ipython-input-108-670c3a1b45a2>:4: DataConversionWarning: A column-vector y was passed when a 1d array was expected. Please change the shape of y to (n_samples,), for example using ravel().\n",
            "  rf.fit(train_data, train_label)\n"
          ]
        },
        {
          "output_type": "stream",
          "name": "stdout",
          "text": [
            "--------Random Forest-------\n",
            "\n",
            "Confusion Matrix:\n",
            " [[ 8  0  3  0  0  1  2  0  2  1]\n",
            " [ 1 15  0  0  0  2  0  0  0  0]\n",
            " [ 2  1 12  0  0  0  0  0  0  3]\n",
            " [ 0  0  0 13  0  0  2  0  1  2]\n",
            " [ 0  0  0  0 12  0  1  1  2  2]\n",
            " [ 0  1  0  0  0 16  0  0  1  0]\n",
            " [ 0  0  0  0  0  0 16  1  0  1]\n",
            " [ 0  0  0  0  0  0  0 17  1  0]\n",
            " [ 0  1  0  0  1  1  0  3 12  0]\n",
            " [ 1  0  5  1  0  1  1  0  1  9]]\n",
            "\n",
            "Classification Report:\n",
            "               precision    recall  f1-score   support\n",
            "\n",
            "           0       0.67      0.47      0.55        17\n",
            "           1       0.83      0.83      0.83        18\n",
            "           2       0.60      0.67      0.63        18\n",
            "           3       0.93      0.72      0.81        18\n",
            "           4       0.92      0.67      0.77        18\n",
            "           5       0.76      0.89      0.82        18\n",
            "           6       0.73      0.89      0.80        18\n",
            "           7       0.77      0.94      0.85        18\n",
            "           8       0.60      0.67      0.63        18\n",
            "           9       0.50      0.47      0.49        19\n",
            "\n",
            "    accuracy                           0.72       180\n",
            "   macro avg       0.73      0.72      0.72       180\n",
            "weighted avg       0.73      0.72      0.72       180\n",
            "\n",
            "\n",
            " Accuracy Score:\n",
            " 0.7222222222222222\n",
            "\n",
            " f1_score Score:\n",
            " 0.7188283907418472\n",
            "\n",
            "Presicion Score:\n",
            " 0.6233595546255393\n",
            "\n",
            "Recall Score:\n",
            " 0.5897488820089439\n"
          ]
        }
      ]
    },
    {
      "cell_type": "code",
      "source": [
        "# KNN\n",
        "\n",
        "knn = KNeighborsClassifier(metric = 'manhattan', n_neighbors = 5)\n",
        "knn.fit(train_data, train_label)\n",
        "knn_pred_tune = knn.predict(valid_data)\n",
        "print(\"--------KNN-------\")\n",
        "print('\\nConfusion Matrix:\\n', confusion_matrix(valid_label, knn_pred_tune))\n",
        "print('\\nClassification Report:\\n', classification_report(valid_label, knn_pred_tune))\n",
        "print('\\nAccuracy Score:\\n', accuracy_score(valid_label, knn_pred_tune))\n",
        "print('\\nPresicion Score:\\n', precision_score(valid_label, knn_pred_wo_tune, average= 'macro'))\n",
        "print('\\nRecall Score:\\n', recall_score(valid_label, knn_pred_wo_tune, average= 'macro'))\n",
        "print('\\nF1_Score Score:\\n', f1_score(valid_label, knn_pred_wo_tune, average= 'macro'))"
      ],
      "metadata": {
        "colab": {
          "base_uri": "https://localhost:8080/"
        },
        "id": "z9W9c4qse3Dr",
        "outputId": "17641f48-a308-4f89-affb-9237d56640ad"
      },
      "execution_count": 109,
      "outputs": [
        {
          "output_type": "stream",
          "name": "stdout",
          "text": [
            "--------KNN-------\n",
            "\n",
            "Confusion Matrix:\n",
            " [[ 7  0  6  0  0  0  1  0  3  0]\n",
            " [ 0 17  0  1  0  0  0  0  0  0]\n",
            " [ 1  1 11  0  0  1  0  1  2  1]\n",
            " [ 0  0  1 10  1  0  1  0  1  4]\n",
            " [ 0  0  2  1  8  0  0  4  1  2]\n",
            " [ 1  3  2  1  0  8  0  1  0  2]\n",
            " [ 0  0  0  1  1  0 14  0  0  2]\n",
            " [ 0  0  2  1  0  0  0 13  1  1]\n",
            " [ 0  1  2  0  1  0  0  3 10  1]\n",
            " [ 1  1  5  3  0  0  1  0  1  7]]\n",
            "\n",
            "Classification Report:\n",
            "               precision    recall  f1-score   support\n",
            "\n",
            "           0       0.70      0.41      0.52        17\n",
            "           1       0.74      0.94      0.83        18\n",
            "           2       0.35      0.61      0.45        18\n",
            "           3       0.56      0.56      0.56        18\n",
            "           4       0.73      0.44      0.55        18\n",
            "           5       0.89      0.44      0.59        18\n",
            "           6       0.82      0.78      0.80        18\n",
            "           7       0.59      0.72      0.65        18\n",
            "           8       0.53      0.56      0.54        18\n",
            "           9       0.35      0.37      0.36        19\n",
            "\n",
            "    accuracy                           0.58       180\n",
            "   macro avg       0.63      0.58      0.58       180\n",
            "weighted avg       0.62      0.58      0.58       180\n",
            "\n",
            "\n",
            "Accuracy Score:\n",
            " 0.5833333333333334\n",
            "\n",
            "Presicion Score:\n",
            " 0.6233595546255393\n",
            "\n",
            "Recall Score:\n",
            " 0.5897488820089439\n",
            "\n",
            "F1_Score Score:\n",
            " 0.5901517396535584\n"
          ]
        },
        {
          "output_type": "stream",
          "name": "stderr",
          "text": [
            "/usr/local/lib/python3.9/dist-packages/sklearn/neighbors/_classification.py:215: DataConversionWarning: A column-vector y was passed when a 1d array was expected. Please change the shape of y to (n_samples,), for example using ravel().\n",
            "  return self._fit(X, y)\n"
          ]
        }
      ]
    },
    {
      "cell_type": "code",
      "source": [
        "# SVM\n",
        "\n",
        "svm = SVC(C= 10, kernel= 'linear', max_iter= 50)\n",
        "svm.fit(train_data, train_label)\n",
        "svm_pred_tune = svm.predict(valid_data)\n",
        "print(\"--------SVM-------\")\n",
        "print('\\nConfusion Matrix:\\n', confusion_matrix(valid_label, svm_pred_tune))\n",
        "print('\\nClassification Report:\\n', classification_report(valid_label, svm_pred_tune))\n",
        "print('\\nAccuracy Score:\\n', accuracy_score(valid_label, svm_pred_tune))\n",
        "print('\\nPresicion Score:\\n', precision_score(valid_label, knn_pred_wo_tune, average= 'macro'))\n",
        "print('\\nRecall Score:\\n', recall_score(valid_label, knn_pred_wo_tune, average= 'macro'))\n",
        "print('\\nF1_Score Score:\\n', f1_score(valid_label, knn_pred_wo_tune, average= 'macro'))"
      ],
      "metadata": {
        "colab": {
          "base_uri": "https://localhost:8080/"
        },
        "id": "Uw-IB1_Ie6TK",
        "outputId": "2577bb74-5d63-4725-d14d-9ca7c67c0cf4"
      },
      "execution_count": 110,
      "outputs": [
        {
          "output_type": "stream",
          "name": "stdout",
          "text": [
            "--------SVM-------\n",
            "\n",
            "Confusion Matrix:\n",
            " [[11  0  2  0  0  0  1  0  2  1]\n",
            " [ 0 16  1  0  0  1  0  0  0  0]\n",
            " [ 0  0 15  1  0  1  0  0  0  1]\n",
            " [ 0  0  1 14  0  0  0  0  0  3]\n",
            " [ 0  0  0  4 12  0  1  0  1  0]\n",
            " [ 2  2  2  0  0 12  0  0  0  0]\n",
            " [ 0  0  0  2  0  0 14  0  0  2]\n",
            " [ 0  0  2  1  0  0  0 14  0  1]\n",
            " [ 2  1  1  1  3  0  0  0 10  0]\n",
            " [ 2  0  1  1  0  0  2  1  0 12]]\n",
            "\n",
            "Classification Report:\n",
            "               precision    recall  f1-score   support\n",
            "\n",
            "           0       0.65      0.65      0.65        17\n",
            "           1       0.84      0.89      0.86        18\n",
            "           2       0.60      0.83      0.70        18\n",
            "           3       0.58      0.78      0.67        18\n",
            "           4       0.80      0.67      0.73        18\n",
            "           5       0.86      0.67      0.75        18\n",
            "           6       0.78      0.78      0.78        18\n",
            "           7       0.93      0.78      0.85        18\n",
            "           8       0.77      0.56      0.65        18\n",
            "           9       0.60      0.63      0.62        19\n",
            "\n",
            "    accuracy                           0.72       180\n",
            "   macro avg       0.74      0.72      0.72       180\n",
            "weighted avg       0.74      0.72      0.72       180\n",
            "\n",
            "\n",
            "Accuracy Score:\n",
            " 0.7222222222222222\n",
            "\n",
            "Presicion Score:\n",
            " 0.6233595546255393\n",
            "\n",
            "Recall Score:\n",
            " 0.5897488820089439\n",
            "\n",
            "F1_Score Score:\n",
            " 0.5901517396535584\n"
          ]
        },
        {
          "output_type": "stream",
          "name": "stderr",
          "text": [
            "/usr/local/lib/python3.9/dist-packages/sklearn/utils/validation.py:1143: DataConversionWarning: A column-vector y was passed when a 1d array was expected. Please change the shape of y to (n_samples, ), for example using ravel().\n",
            "  y = column_or_1d(y, warn=True)\n",
            "/usr/local/lib/python3.9/dist-packages/sklearn/svm/_base.py:299: ConvergenceWarning: Solver terminated early (max_iter=50).  Consider pre-processing your data with StandardScaler or MinMaxScaler.\n",
            "  warnings.warn(\n"
          ]
        }
      ]
    },
    {
      "cell_type": "code",
      "source": [
        "# saving the best model\n",
        "import pickle\n",
        "with open('rf_', 'wb') as picklefile:\n",
        "    pickle.dump(rf, picklefile) "
      ],
      "metadata": {
        "id": "foI3yfPJfAiE"
      },
      "execution_count": 111,
      "outputs": []
    },
    {
      "cell_type": "code",
      "source": [
        "# Preprocessing the data\n",
        "\n",
        "from sklearn import preprocessing\n",
        "label_encoder = preprocessing.LabelEncoder()\n",
        "music_labels['label'] = label_encoder.fit_transform(music_labels['label'])"
      ],
      "metadata": {
        "id": "bJkp8V0VgAmQ"
      },
      "execution_count": 112,
      "outputs": []
    },
    {
      "cell_type": "code",
      "source": [
        "#loading the best model\n",
        "with open('rf_', 'rb') as training_model:\n",
        "    model = pickle.load(training_model)\n",
        " \n",
        "# predicting the target labels of the test dataset    \n",
        "test_predict = model.predict(test_data)\n",
        "print('\\nPredicted Labels:\\n', test_predict)\n",
        "print('Test Lables: ',test_label)\n",
        "# storing the target labels of the test dataset \n",
        "np.savetxt(\"test_labels.csv\", test_predict, delimiter = ',', fmt=\"%s\")\n",
        "\n",
        "print('\\nConfusion Matrix:\\n', confusion_matrix(test_label, test_predict))\n",
        "print('\\nClassification Report:\\n', classification_report(test_label, test_predict))\n",
        "print('\\nAccuracy Score:\\n', accuracy_score(test_label, test_predict))\n",
        "print('\\nPresicion Score:\\n', precision_score(valid_label, knn_pred_wo_tune, average= 'macro'))\n",
        "print('\\nRecall Score:\\n', recall_score(valid_label, knn_pred_wo_tune, average= 'macro'))\n",
        "print('\\nF1_Score Score:\\n', f1_score(valid_label, knn_pred_wo_tune, average= 'macro'))"
      ],
      "metadata": {
        "colab": {
          "base_uri": "https://localhost:8080/"
        },
        "id": "zFGuz3NufDV5",
        "outputId": "11d264ee-e8c2-49cc-b075-e02a1ba72faa"
      },
      "execution_count": 113,
      "outputs": [
        {
          "output_type": "stream",
          "name": "stdout",
          "text": [
            "\n",
            "Predicted Labels:\n",
            " [0 4 8 4 7 6 5 7 7 2 8 7 2 6 6 8 4 0 3 1 9 1 6 1 3 1 3 5 6 2 4 5 3 1 0 5 8\n",
            " 4 0 6 6 9 5 9 9 3 7 5 8 6 9 4 2 1 1 5 4 9 3 0 7 7 5 3 3 5 2 9 7 1 6 8 5 8\n",
            " 8 2 6 4 4 2 5 4 3 4 8 7 3 9 8 9 5 9 6 2 2 4 1 7 8 7 5 7 8 3 1 5 2 2 6 2 5\n",
            " 1 4 5 2 6 6 7 2 4 1 9 7 7 1 8 5 7 1 2 0 0 8 7 7 4 8 5 1 7 6 6 3 6]\n",
            "Test Lables:       label\n",
            "89       0\n",
            "145      4\n",
            "112      8\n",
            "661      4\n",
            "711      7\n",
            "..     ...\n",
            "332      7\n",
            "74       6\n",
            "333      6\n",
            "516      3\n",
            "788      9\n",
            "\n",
            "[144 rows x 1 columns]\n",
            "\n",
            "Confusion Matrix:\n",
            " [[ 7  0  1  0  0  2  0  0  2  2]\n",
            " [ 0 13  0  0  0  1  0  0  0  0]\n",
            " [ 0  1 10  1  0  1  0  0  0  2]\n",
            " [ 0  0  2  6  3  0  2  0  0  1]\n",
            " [ 0  0  0  0 11  0  0  1  1  1]\n",
            " [ 0  1  0  0  0 13  0  0  0  0]\n",
            " [ 0  0  0  2  0  0 13  0  0  0]\n",
            " [ 0  0  0  0  0  0  0 14  0  0]\n",
            " [ 0  0  0  0  0  0  0  4 11  0]\n",
            " [ 0  0  2  3  1  1  2  0  1  5]]\n",
            "\n",
            "Classification Report:\n",
            "               precision    recall  f1-score   support\n",
            "\n",
            "           0       1.00      0.50      0.67        14\n",
            "           1       0.87      0.93      0.90        14\n",
            "           2       0.67      0.67      0.67        15\n",
            "           3       0.50      0.43      0.46        14\n",
            "           4       0.73      0.79      0.76        14\n",
            "           5       0.72      0.93      0.81        14\n",
            "           6       0.76      0.87      0.81        15\n",
            "           7       0.74      1.00      0.85        14\n",
            "           8       0.73      0.73      0.73        15\n",
            "           9       0.45      0.33      0.38        15\n",
            "\n",
            "    accuracy                           0.72       144\n",
            "   macro avg       0.72      0.72      0.70       144\n",
            "weighted avg       0.72      0.72      0.70       144\n",
            "\n",
            "\n",
            "Accuracy Score:\n",
            " 0.7152777777777778\n",
            "\n",
            "Presicion Score:\n",
            " 0.6233595546255393\n",
            "\n",
            "Recall Score:\n",
            " 0.5897488820089439\n",
            "\n",
            "F1_Score Score:\n",
            " 0.5901517396535584\n"
          ]
        }
      ]
    },
    {
      "cell_type": "code",
      "source": [],
      "metadata": {
        "id": "I692e-t3fF7U"
      },
      "execution_count": 113,
      "outputs": []
    }
  ]
}